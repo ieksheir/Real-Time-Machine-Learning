{
 "cells": [
  {
   "cell_type": "code",
   "execution_count": null,
   "metadata": {
    "colab": {
     "base_uri": "https://localhost:8080/"
    },
    "id": "5tdcprEXGKB9",
    "outputId": "1ec7e244-e87d-4223-cee2-691ec262a0e2"
   },
   "outputs": [
    {
     "name": "stdout",
     "output_type": "stream",
     "text": [
      "Looking in indexes: https://pypi.org/simple, https://us-python.pkg.dev/colab-wheels/public/simple/\n",
      "Requirement already satisfied: torchmetrics in /usr/local/lib/python3.8/dist-packages (0.11.1)\n",
      "Requirement already satisfied: packaging in /usr/local/lib/python3.8/dist-packages (from torchmetrics) (23.0)\n",
      "Requirement already satisfied: torch>=1.8.1 in /usr/local/lib/python3.8/dist-packages (from torchmetrics) (1.13.1+cu116)\n",
      "Requirement already satisfied: typing-extensions in /usr/local/lib/python3.8/dist-packages (from torchmetrics) (4.4.0)\n",
      "Requirement already satisfied: numpy>=1.17.2 in /usr/local/lib/python3.8/dist-packages (from torchmetrics) (1.21.6)\n"
     ]
    }
   ],
   "source": [
    "!pip install torchmetrics"
   ]
  },
  {
   "cell_type": "code",
   "execution_count": 1,
   "metadata": {
    "colab": {
     "base_uri": "https://localhost:8080/"
    },
    "id": "wjgO7oCeSG_2",
    "outputId": "febacd03-97a0-4648-9e84-655baad0f0a2"
   },
   "outputs": [
    {
     "name": "stdout",
     "output_type": "stream",
     "text": [
      "True\n",
      "Tesla T4\n",
      "cuda\n"
     ]
    }
   ],
   "source": [
    "import time\n",
    "import torch\n",
    "import torchmetrics\n",
    "import torchvision\n",
    "from torchvision import transforms\n",
    "from torch import nn\n",
    "import torch.optim as optim\n",
    "import torch.nn.functional as F\n",
    "from torch.utils.data import DataLoader, Subset\n",
    "import numpy as np\n",
    "from torch.utils.data import random_split\n",
    "from torch.autograd import Variable\n",
    "from matplotlib import pyplot as plt\n",
    "import pandas as pd\n",
    "\n",
    "\n",
    "\n",
    "\n",
    "#Make sure we are running on the\n",
    "print(torch.cuda.is_available())\n",
    "# Storing ID of current CUDA device\n",
    "cuda_id = torch.cuda.current_device()\n",
    "print(torch.cuda.get_device_name(cuda_id))\n",
    "device = torch.device('cuda' if torch.cuda.is_available() else 'cpu')\n",
    "print(device)"
   ]
  },
  {
   "cell_type": "markdown",
   "metadata": {
    "id": "rtQyYD-Uju6x"
   },
   "source": [
    "# Problem 1"
   ]
  },
  {
   "cell_type": "markdown",
   "metadata": {
    "id": "jk5j2rrYhXG1"
   },
   "source": [
    "## Load FashionMNIST Dataset"
   ]
  },
  {
   "cell_type": "code",
   "execution_count": null,
   "metadata": {
    "colab": {
     "base_uri": "https://localhost:8080/",
     "height": 423,
     "referenced_widgets": [
      "e9b47f7ed16641ecb118014686b5d767",
      "078ad7c099804a3e9fea03f84b50b0af",
      "26750021bdc543fe8d6fdf0d414eb883",
      "5e38b4179ff542569cc21d812c80ca2b",
      "84a25d701dbd41b19b7c697aede841ec",
      "496a1112665e415c86b9dc211e182194",
      "f26cb385928f46aaa650809c334509cb",
      "2f4406914fce49ba8888139b472759fa",
      "411204e856b64b89aa9e46241b1756d0",
      "dca0cab98cce468ea7505f4def376198",
      "a1da42a5fae44bd0a6bf0843a93a1f88",
      "1d085ddaafc74362b6d9ecefa6ad9858",
      "304b3131a2314f9ba691027e2fd82d32",
      "20ed5e5d44a44d8fa63bdea7c74bb885",
      "bc4bee3afe7c4e60908bbe639776ec91",
      "dd3366b9163f497ba0ff7adb7a89a9f1",
      "38104ef0d4274b11817b5449adb7db81",
      "24c92162d05047b88f17877715397634",
      "8e2ef16b7e0d405da3b6b9ccc870ef02",
      "88980c93076942b2b0ec34e6edf23223",
      "dfc971fc398a4ad0b7859f7e04591ac4",
      "1587e1a1949e46d5b5be3c47b40c167c",
      "5538ae5769f74d36826b82cbf201eca7",
      "3a3c5a3b2ffd413e9aa90885b827ce91",
      "d34c530cc8ed4854b420823311b49d07",
      "580faf9330344d3fab52bfb267a0d9b6",
      "7f501548afdf4b94a982bcc0092327fb",
      "4bdb4251a36344b0bac46ac204b9cb51",
      "9811223d3d0e44ad8cbc32997f911686",
      "80cedd676bdd417c8ec5d2fb433b0d61",
      "c91cb921f1044d7293fc44e53b3e9161",
      "c21194ef9ea248f98199c7237ad45c6a",
      "2809c0b8637c49c0bcb6596a472d37dd",
      "5f346aa8aaa744489f23d6aa3bf76edc",
      "c34b5b5baa9a4d869c3a91e4a8194e3a",
      "7b49d0ca36be48c4a0fbac67b815c408",
      "551333badbb74946ba2618c543549ca7",
      "e7df697bfdd24ddda6a7e46f7077b20f",
      "f010fd6d87dc463dae937245537c7fd1",
      "f2e3f112474d4408bd9bee22e0194e35",
      "82ff57c646644db3b6206674306d2618",
      "b487370ddaae40b49202726dc9ccd549",
      "e88378f31b844cd09c800d99179d9b0f",
      "8dc71b8416704f159b3c00e0af589943"
     ]
    },
    "id": "9AR6zbx4PY26",
    "outputId": "bfadf952-a0fb-4d15-9f13-d364e972468b"
   },
   "outputs": [
    {
     "name": "stdout",
     "output_type": "stream",
     "text": [
      "Downloading http://fashion-mnist.s3-website.eu-central-1.amazonaws.com/train-images-idx3-ubyte.gz\n",
      "Downloading http://fashion-mnist.s3-website.eu-central-1.amazonaws.com/train-images-idx3-ubyte.gz to ./data/FashionMNIST/raw/train-images-idx3-ubyte.gz\n"
     ]
    },
    {
     "data": {
      "application/vnd.jupyter.widget-view+json": {
       "model_id": "e9b47f7ed16641ecb118014686b5d767",
       "version_major": 2,
       "version_minor": 0
      },
      "text/plain": [
       "  0%|          | 0/26421880 [00:00<?, ?it/s]"
      ]
     },
     "metadata": {},
     "output_type": "display_data"
    },
    {
     "name": "stdout",
     "output_type": "stream",
     "text": [
      "Extracting ./data/FashionMNIST/raw/train-images-idx3-ubyte.gz to ./data/FashionMNIST/raw\n",
      "\n",
      "Downloading http://fashion-mnist.s3-website.eu-central-1.amazonaws.com/train-labels-idx1-ubyte.gz\n",
      "Downloading http://fashion-mnist.s3-website.eu-central-1.amazonaws.com/train-labels-idx1-ubyte.gz to ./data/FashionMNIST/raw/train-labels-idx1-ubyte.gz\n"
     ]
    },
    {
     "data": {
      "application/vnd.jupyter.widget-view+json": {
       "model_id": "1d085ddaafc74362b6d9ecefa6ad9858",
       "version_major": 2,
       "version_minor": 0
      },
      "text/plain": [
       "  0%|          | 0/29515 [00:00<?, ?it/s]"
      ]
     },
     "metadata": {},
     "output_type": "display_data"
    },
    {
     "name": "stdout",
     "output_type": "stream",
     "text": [
      "Extracting ./data/FashionMNIST/raw/train-labels-idx1-ubyte.gz to ./data/FashionMNIST/raw\n",
      "\n",
      "Downloading http://fashion-mnist.s3-website.eu-central-1.amazonaws.com/t10k-images-idx3-ubyte.gz\n",
      "Downloading http://fashion-mnist.s3-website.eu-central-1.amazonaws.com/t10k-images-idx3-ubyte.gz to ./data/FashionMNIST/raw/t10k-images-idx3-ubyte.gz\n"
     ]
    },
    {
     "data": {
      "application/vnd.jupyter.widget-view+json": {
       "model_id": "5538ae5769f74d36826b82cbf201eca7",
       "version_major": 2,
       "version_minor": 0
      },
      "text/plain": [
       "  0%|          | 0/4422102 [00:00<?, ?it/s]"
      ]
     },
     "metadata": {},
     "output_type": "display_data"
    },
    {
     "name": "stdout",
     "output_type": "stream",
     "text": [
      "Extracting ./data/FashionMNIST/raw/t10k-images-idx3-ubyte.gz to ./data/FashionMNIST/raw\n",
      "\n",
      "Downloading http://fashion-mnist.s3-website.eu-central-1.amazonaws.com/t10k-labels-idx1-ubyte.gz\n",
      "Downloading http://fashion-mnist.s3-website.eu-central-1.amazonaws.com/t10k-labels-idx1-ubyte.gz to ./data/FashionMNIST/raw/t10k-labels-idx1-ubyte.gz\n"
     ]
    },
    {
     "data": {
      "application/vnd.jupyter.widget-view+json": {
       "model_id": "5f346aa8aaa744489f23d6aa3bf76edc",
       "version_major": 2,
       "version_minor": 0
      },
      "text/plain": [
       "  0%|          | 0/5148 [00:00<?, ?it/s]"
      ]
     },
     "metadata": {},
     "output_type": "display_data"
    },
    {
     "name": "stdout",
     "output_type": "stream",
     "text": [
      "Extracting ./data/FashionMNIST/raw/t10k-labels-idx1-ubyte.gz to ./data/FashionMNIST/raw\n",
      "\n"
     ]
    }
   ],
   "source": [
    "trainset = torchvision.datasets.FashionMNIST(root='./data', train=True, download=True, transform= torchvision.transforms.ToTensor())\n",
    "testset = torchvision.datasets.FashionMNIST(root='./data', train=False, download=True, transform= torchvision.transforms.ToTensor())"
   ]
  },
  {
   "cell_type": "code",
   "execution_count": null,
   "metadata": {
    "id": "OJRyPeMCVo5H"
   },
   "outputs": [],
   "source": [
    "batch_size = 64\n",
    "\n",
    "#Split the training to train and val\n",
    "val_split = 0.1\n",
    "dataset_size = int(len(trainset)*val_split)\n",
    "\n",
    "trainset, validationset = random_split(trainset, [len(trainset)-dataset_size, dataset_size])\n",
    "\n",
    "\n",
    "# Create the data loaders\n",
    "train_loader = DataLoader(trainset, batch_size=batch_size, shuffle = True)\n",
    "val_loader = DataLoader(trainset, batch_size=batch_size, shuffle = True)\n",
    "test_loader = DataLoader(testset, batch_size=batch_size, shuffle = False)"
   ]
  },
  {
   "cell_type": "code",
   "execution_count": null,
   "metadata": {
    "colab": {
     "base_uri": "https://localhost:8080/",
     "height": 317
    },
    "id": "HkUgGH1NVwsL",
    "outputId": "f27e70e8-88bc-472d-d9d1-c246c8c472b4"
   },
   "outputs": [
    {
     "data": {
      "image/png": "[encoded data removed]",
      "text/plain": [
       "<Figure size 360x360 with 9 Axes>"
      ]
     },
     "metadata": {
      "needs_background": "light"
     },
     "output_type": "display_data"
    }
   ],
   "source": [
    "import matplotlib.pyplot as plt\n",
    "\n",
    "images, labels = next(iter(train_loader))\n",
    "\n",
    "fig, axs = plt.subplots(3, 3, figsize=(5, 5))\n",
    "for i, ax in enumerate(axs.flat):\n",
    "    ax.imshow(images[i][0])\n",
    "    ax.set_title(labels[i].item(), fontsize=10)\n",
    "    ax.axis('off')\n",
    "\n",
    "plt.show()"
   ]
  },
  {
   "cell_type": "markdown",
   "metadata": {
    "id": "11F2Ot6-hgda"
   },
   "source": [
    "## Define Training Loop"
   ]
  },
  {
   "cell_type": "code",
   "execution_count": null,
   "metadata": {
    "id": "MF7A-_Upym7r"
   },
   "outputs": [],
   "source": [
    "#define training fucntion\n",
    "def train(MLP, train_loader, val_loader, num_epochs, optimizer, criterion):\n",
    "  count = 0\n",
    "  for epoch in range(num_epochs):\n",
    "      for images, labels in train_loader:\n",
    "          MLP.train()\n",
    "\n",
    "          # Convert images and labels to PyTorch variables\n",
    "          #images = images.view(images.size(0), -1)\n",
    "          #images, labels = Variable(images), Variable(labels)\n",
    "\n",
    "          # Forward pass \n",
    "          outputs = MLP(images)\n",
    "          labels = torch.eye(10)[labels]\n",
    "          train_loss = criterion(outputs, labels)\n",
    "\n",
    "          # Initializing a gradient as 0 so there is no mixing of gradient among the batches\n",
    "          optimizer.zero_grad()    \n",
    "          # Propagating the error backward\n",
    "          train_loss.backward()\n",
    "          # Optimizing the parameters\n",
    "          optimizer.step()\n",
    "\n",
    "          # calculate the accuracy\n",
    "          accuracy.update(outputs, labels)\n",
    "          \n",
    "      final_accuracy_train = accuracy.compute()         \n",
    "      train_accuracy_list.append(final_accuracy_train)\n",
    "      train_loss_list.append(train_loss)\n",
    "      # get the final accuracy  \n",
    "      #accuracy.reset()\n",
    "\n",
    "      for images, labels in val_loader:\n",
    "          MLP.eval()\n",
    "          # Convert images and labels to PyTorch variables\n",
    "          #images = images.view(images.size(0), -1)\n",
    "          #images, labels = Variable(images), Variable(labels)\n",
    "          labels = torch.eye(10)[labels]\n",
    "          # Forward pass \n",
    "          with torch.no_grad():\n",
    "            outputs = MLP(images)\n",
    "          loss_val = criterion(outputs, labels)\n",
    "\n",
    "          #calculate the accuracy\n",
    "          accuracy.update(outputs, labels)\n",
    "\n",
    "      final_accuracy_val = accuracy.compute()    \n",
    "      val_accuracy_list.append(final_accuracy_val)\n",
    "      val_loss_list.append(loss_val)\n",
    "      print (f'Epoch [{epoch+1}/{num_epochs}], Loss: {train_loss}, Train Acc: {final_accuracy_train}, ValidationLoss: {loss_val}, Validation Acc: {final_accuracy_val}')     \n",
    "      accuracy.reset()"
   ]
  },
  {
   "cell_type": "markdown",
   "metadata": {
    "id": "HxcJyxI1RmV5"
   },
   "source": [
    "## Problem 1a"
   ]
  },
  {
   "cell_type": "markdown",
   "metadata": {
    "id": "I2stRfB5KSM3"
   },
   "source": [
    "*1.a. train the model from scratch (with randomized parameters) and plot the results(training loss and accuracy, validation accuracy) after 20 epochs. Does your network need more epochs for full training? Do you observe overfitting? Make sure to save the trained parameters and model. *\n",
    "> The Plots of the Accuracies and Loss can be seen in the code below.\n",
    "It does seem like the netwrok needs more epochs for full training as it has not completely converged at the end of the 20 epochs. The model does not seem to be overfitting as the accuracies of the training and the validation increase and are both almost the same.\n",
    "\n"
   ]
  },
  {
   "cell_type": "code",
   "execution_count": null,
   "metadata": {
    "colab": {
     "base_uri": "https://localhost:8080/"
    },
    "id": "vNABYw0OWa5G",
    "outputId": "b38d04fe-d11f-4fc9-e434-67585fcbf8c3"
   },
   "outputs": [
    {
     "name": "stdout",
     "output_type": "stream",
     "text": [
      "Sequential(\n",
      "  (0): Flatten(start_dim=1, end_dim=-1)\n",
      "  (1): Linear(in_features=784, out_features=500, bias=True)\n",
      "  (2): ReLU()\n",
      "  (3): Linear(in_features=500, out_features=300, bias=True)\n",
      "  (4): ReLU()\n",
      "  (5): Linear(in_features=300, out_features=100, bias=True)\n",
      "  (6): ReLU()\n",
      "  (7): Linear(in_features=100, out_features=10, bias=True)\n",
      ")\n"
     ]
    }
   ],
   "source": [
    "#build model\n",
    "MLP = nn.Sequential(\n",
    "    nn.Flatten(),\n",
    "    nn.Linear(28 * 28, 500),\n",
    "    nn.ReLU(),\n",
    "    nn.Linear(500, 300),\n",
    "    nn.ReLU(),\n",
    "    nn.Linear(300, 100),\n",
    "    nn.ReLU(),\n",
    "    nn.Linear(100, 10)\n",
    ")\n",
    "\n",
    "print(MLP)"
   ]
  },
  {
   "cell_type": "code",
   "execution_count": null,
   "metadata": {
    "id": "oF0oR4dlgo7w"
   },
   "outputs": [],
   "source": [
    "#define params\n",
    "num_epochs = 20\n",
    "count = 0\n",
    "\n",
    "#loss\n",
    "criterion = nn.CrossEntropyLoss()\n",
    "optimizer = optim.Adam(MLP.parameters(), lr = 1e-4)\n",
    "# define the accuracy metric\n",
    "accuracy = torchmetrics.Accuracy(task='binary')\n",
    "\n",
    "# Lists for visualization of loss and accuracy \n",
    "train_loss_list = []\n",
    "train_accuracy_list = []\n",
    "val_loss_list = []\n",
    "val_accuracy_list = []"
   ]
  },
  {
   "cell_type": "code",
   "execution_count": null,
   "metadata": {
    "colab": {
     "base_uri": "https://localhost:8080/"
    },
    "id": "CzW_CI4c4a-I",
    "outputId": "be36608d-e88b-4012-c163-ab938feaf77d"
   },
   "outputs": [
    {
     "name": "stdout",
     "output_type": "stream",
     "text": [
      "Epoch [1/20], Loss: 0.46671849489212036, Train Acc: 0.6237151622772217, ValidationLoss: 0.5023583769798279, Validation Acc: 0.6254938244819641\n",
      "Epoch [2/20], Loss: 0.4748041033744812, Train Acc: 0.6331207156181335, ValidationLoss: 0.2776641547679901, Validation Acc: 0.6349805593490601\n",
      "Epoch [3/20], Loss: 0.7614194750785828, Train Acc: 0.647034764289856, ValidationLoss: 0.19997303187847137, Validation Acc: 0.6541860699653625\n",
      "Epoch [4/20], Loss: 0.4078653156757355, Train Acc: 0.6583287715911865, ValidationLoss: 0.41452401876449585, Validation Acc: 0.6611385345458984\n",
      "Epoch [5/20], Loss: 0.23538286983966827, Train Acc: 0.6695358753204346, ValidationLoss: 0.26765453815460205, Validation Acc: 0.6748605370521545\n",
      "Epoch [6/20], Loss: 0.15729926526546478, Train Acc: 0.6804457902908325, ValidationLoss: 0.173629492521286, Validation Acc: 0.6865889430046082\n",
      "Epoch [7/20], Loss: 0.1608595997095108, Train Acc: 0.6901646256446838, ValidationLoss: 0.19541776180267334, Validation Acc: 0.6937620043754578\n",
      "Epoch [8/20], Loss: 0.1870504468679428, Train Acc: 0.7024440169334412, ValidationLoss: 0.23914971947669983, Validation Acc: 0.705395519733429\n",
      "Epoch [9/20], Loss: 0.23744985461235046, Train Acc: 0.7084110379219055, ValidationLoss: 0.33199796080589294, Validation Acc: 0.7150217294692993\n",
      "Epoch [10/20], Loss: 0.3368566036224365, Train Acc: 0.7190831899642944, ValidationLoss: 0.2506850063800812, Validation Acc: 0.7168427109718323\n",
      "Epoch [11/20], Loss: 0.16994313895702362, Train Acc: 0.7262162566184998, ValidationLoss: 0.23285092413425446, Validation Acc: 0.7281778454780579\n",
      "Epoch [12/20], Loss: 0.23226650059223175, Train Acc: 0.7341403961181641, ValidationLoss: 0.4645199179649353, Validation Acc: 0.7340969443321228\n",
      "Epoch [13/20], Loss: 0.17818477749824524, Train Acc: 0.7391358017921448, ValidationLoss: 0.08825478702783585, Validation Acc: 0.7420439124107361\n",
      "Epoch [14/20], Loss: 0.13379094004631042, Train Acc: 0.7458070516586304, ValidationLoss: 0.19386298954486847, Validation Acc: 0.7494295835494995\n",
      "Epoch [15/20], Loss: 0.18989045917987823, Train Acc: 0.7520118951797485, ValidationLoss: 0.21304388344287872, Validation Acc: 0.7522873878479004\n",
      "Epoch [16/20], Loss: 0.363272100687027, Train Acc: 0.7594261765480042, ValidationLoss: 0.08608154952526093, Validation Acc: 0.7591152191162109\n",
      "Epoch [17/20], Loss: 0.23738765716552734, Train Acc: 0.7664449214935303, ValidationLoss: 0.2893460690975189, Validation Acc: 0.7653555274009705\n",
      "Epoch [18/20], Loss: 0.2787947356700897, Train Acc: 0.7716849446296692, ValidationLoss: 0.26226571202278137, Validation Acc: 0.7757658958435059\n",
      "Epoch [19/20], Loss: 0.10516687482595444, Train Acc: 0.7798742651939392, ValidationLoss: 0.19060051441192627, Validation Acc: 0.7819135785102844\n",
      "Epoch [20/20], Loss: 0.0758742019534111, Train Acc: 0.7835711240768433, ValidationLoss: 0.09820358455181122, Validation Acc: 0.7854503989219666\n"
     ]
    }
   ],
   "source": [
    "train(MLP, train_loader, val_loader, num_epochs, optimizer, criterion)"
   ]
  },
  {
   "cell_type": "code",
   "execution_count": null,
   "metadata": {
    "colab": {
     "base_uri": "https://localhost:8080/",
     "height": 295
    },
    "id": "ScJDWnFUOy7O",
    "outputId": "ff19753e-46ad-45c7-ecc7-3a736eb42ebd"
   },
   "outputs": [
    {
     "data": {
      "image/png": "[encoded data removed]",
      "text/plain": [
       "<Figure size 432x288 with 1 Axes>"
      ]
     },
     "metadata": {
      "needs_background": "light"
     },
     "output_type": "display_data"
    }
   ],
   "source": [
    "Trainlosses= [ loss.detach().numpy() for loss in train_loss_list]\n",
    "\n",
    "plt.plot(range(num_epochs), Trainlosses, 'r', label='Training Loss')\n",
    "plt.plot(range(num_epochs), train_accuracy_list, 'b', label='Training Accuracy')\n",
    "plt.plot(range(num_epochs), val_accuracy_list, 'g', label='Validation Accuracy')\n",
    "\n",
    "plt.title('Training and Validation Loss and Accuracy')\n",
    "plt.xlabel('Epochs')\n",
    "plt.ylabel('Loss/Accuracy')\n",
    "plt.legend()\n",
    "\n",
    "plt.show()"
   ]
  },
  {
   "cell_type": "code",
   "execution_count": null,
   "metadata": {
    "id": "6x8tHDB3PzZP"
   },
   "outputs": [],
   "source": [
    "# Save model\n",
    "PATH = \"/content/drive/MyDrive/Real Time ML/model.pt\"\n",
    "torch.save(MLP.state_dict(), PATH)"
   ]
  },
  {
   "cell_type": "markdown",
   "metadata": {
    "id": "uEvDMyKacxeP"
   },
   "source": [
    "## Probelm 1b - Add weight decay to 1a"
   ]
  },
  {
   "cell_type": "markdown",
   "metadata": {
    "id": "wHyyUXGGLZNK"
   },
   "source": [
    "**1.b Report section a; this time add weight penalties (weight decays). Report and plot your training results. how do the training results change compared to the baseline?**\n",
    "> The Plots of the Accuracies and Loss can be seen in the code below. As compared to the base line, an increase in accuracy can be seen although the number of training epochs remained the same.\n",
    "\n"
   ]
  },
  {
   "cell_type": "code",
   "execution_count": null,
   "metadata": {
    "id": "jz_DvQl7ctdw"
   },
   "outputs": [],
   "source": [
    "#define params\n",
    "num_epochs = 20\n",
    "count = 0\n",
    "\n",
    "#loss\n",
    "criterion = nn.CrossEntropyLoss()\n",
    "optimizer = optim.Adam(MLP.parameters(), lr = 1e-4, weight_decay = 0.0001)\n",
    "# define the accuracy metric\n",
    "accuracy = torchmetrics.Accuracy(task='binary')\n",
    "\n",
    "# Lists for visualization of loss and accuracy \n",
    "train_loss_list = []\n",
    "train_accuracy_list = []\n",
    "val_loss_list = []\n",
    "val_accuracy_list = []"
   ]
  },
  {
   "cell_type": "code",
   "execution_count": null,
   "metadata": {
    "colab": {
     "base_uri": "https://localhost:8080/"
    },
    "id": "Nj3FcCQ6f3NE",
    "outputId": "c75ecbef-81dd-406f-8d5e-9f4bdd079735"
   },
   "outputs": [
    {
     "data": {
      "text/plain": [
       "Sequential(\n",
       "  (0): Flatten(start_dim=1, end_dim=-1)\n",
       "  (1): Linear(in_features=784, out_features=500, bias=True)\n",
       "  (2): ReLU()\n",
       "  (3): Linear(in_features=500, out_features=300, bias=True)\n",
       "  (4): ReLU()\n",
       "  (5): Linear(in_features=300, out_features=100, bias=True)\n",
       "  (6): ReLU()\n",
       "  (7): Linear(in_features=100, out_features=10, bias=True)\n",
       ")"
      ]
     },
     "execution_count": 33,
     "metadata": {},
     "output_type": "execute_result"
    }
   ],
   "source": [
    "#reset model\n",
    "# Reset the model's weights\n",
    "def reset_weights(m):\n",
    "    if isinstance(m, torch.nn.Linear):\n",
    "        m.reset_parameters()\n",
    "\n",
    "MLP.apply(reset_weights)"
   ]
  },
  {
   "cell_type": "code",
   "execution_count": null,
   "metadata": {
    "colab": {
     "base_uri": "https://localhost:8080/"
    },
    "id": "FxhovOuleyRL",
    "outputId": "4723747d-b013-4250-a2ff-94f694ab2ce4"
   },
   "outputs": [
    {
     "name": "stdout",
     "output_type": "stream",
     "text": [
      "Epoch [1/20], Loss: 0.3615134358406067, Train Acc: 0.6421513557434082, ValidationLoss: 0.28198862075805664, Validation Acc: 0.6529286503791809\n",
      "Epoch [2/20], Loss: 0.41932573914527893, Train Acc: 0.6575354337692261, ValidationLoss: 0.7177096009254456, Validation Acc: 0.6620004773139954\n",
      "Epoch [3/20], Loss: 0.39067524671554565, Train Acc: 0.6665843725204468, ValidationLoss: 0.6615552306175232, Validation Acc: 0.6755852699279785\n",
      "Epoch [4/20], Loss: 0.30488333106040955, Train Acc: 0.6830612421035767, ValidationLoss: 0.5729907751083374, Validation Acc: 0.6874783039093018\n",
      "Epoch [5/20], Loss: 0.30873140692710876, Train Acc: 0.6956172585487366, ValidationLoss: 0.38087198138237, Validation Acc: 0.6984407901763916\n",
      "Epoch [6/20], Loss: 0.33598995208740234, Train Acc: 0.7080270051956177, ValidationLoss: 0.22018052637577057, Validation Acc: 0.7048171162605286\n",
      "Epoch [7/20], Loss: 0.4345983564853668, Train Acc: 0.7200685739517212, ValidationLoss: 0.1801590919494629, Validation Acc: 0.7205555438995361\n",
      "Epoch [8/20], Loss: 0.342629998922348, Train Acc: 0.7319296002388, ValidationLoss: 0.2943150997161865, Validation Acc: 0.7296684980392456\n",
      "Epoch [9/20], Loss: 0.17843592166900635, Train Acc: 0.7425605654716492, ValidationLoss: 0.3975728452205658, Validation Acc: 0.7423445582389832\n",
      "Epoch [10/20], Loss: 0.36748647689819336, Train Acc: 0.7531755566596985, ValidationLoss: 0.35146012902259827, Validation Acc: 0.7548993825912476\n",
      "Epoch [11/20], Loss: 0.35150715708732605, Train Acc: 0.7640877962112427, ValidationLoss: 0.23262310028076172, Validation Acc: 0.765744149684906\n",
      "Epoch [12/20], Loss: 0.24779129028320312, Train Acc: 0.7718998789787292, ValidationLoss: 0.26610827445983887, Validation Acc: 0.772837221622467\n",
      "Epoch [13/20], Loss: 0.3046986758708954, Train Acc: 0.782873809337616, ValidationLoss: 0.24759437143802643, Validation Acc: 0.7820404767990112\n",
      "Epoch [14/20], Loss: 0.15463639795780182, Train Acc: 0.7919638752937317, ValidationLoss: 0.3815765678882599, Validation Acc: 0.7888271808624268\n",
      "Epoch [15/20], Loss: 0.17741350829601288, Train Acc: 0.7992684245109558, ValidationLoss: 0.44953933358192444, Validation Acc: 0.8046764731407166\n",
      "Epoch [16/20], Loss: 0.24772632122039795, Train Acc: 0.8087837100028992, ValidationLoss: 0.4315929114818573, Validation Acc: 0.8082510232925415\n",
      "Epoch [17/20], Loss: 0.14574599266052246, Train Acc: 0.8154069781303406, ValidationLoss: 0.2576671540737152, Validation Acc: 0.8173559904098511\n",
      "Epoch [18/20], Loss: 0.3887055814266205, Train Acc: 0.8221765160560608, ValidationLoss: 0.19587542116641998, Validation Acc: 0.8242238163948059\n",
      "Epoch [19/20], Loss: 0.37437036633491516, Train Acc: 0.8276314735412598, ValidationLoss: 0.3596760630607605, Validation Acc: 0.832253098487854\n",
      "Epoch [20/20], Loss: 0.28953737020492554, Train Acc: 0.8332441449165344, ValidationLoss: 0.09681199491024017, Validation Acc: 0.8366449475288391\n"
     ]
    }
   ],
   "source": [
    "train(MLP, train_loader, val_loader, num_epochs, optimizer, criterion)"
   ]
  },
  {
   "cell_type": "code",
   "execution_count": null,
   "metadata": {
    "colab": {
     "base_uri": "https://localhost:8080/",
     "height": 295
    },
    "id": "KGx5CY7Me1Y_",
    "outputId": "32ecdb8c-35ac-4041-b5bd-0f671cffd0e5"
   },
   "outputs": [
    {
     "data": {
      "image/png": "[encoded data removed]",
      "text/plain": [
       "<Figure size 432x288 with 1 Axes>"
      ]
     },
     "metadata": {
      "needs_background": "light"
     },
     "output_type": "display_data"
    }
   ],
   "source": [
    "Trainlosses= [ loss.detach().numpy() for loss in train_loss_list]\n",
    "\n",
    "plt.plot(range(num_epochs), Trainlosses, 'r', label='Training Loss')\n",
    "plt.plot(range(num_epochs), train_accuracy_list, 'b', label='Training Accuracy')\n",
    "plt.plot(range(num_epochs), val_accuracy_list, 'g', label='Validation Accuracy')\n",
    "\n",
    "plt.title('Training and Validation Loss and Accuracy')\n",
    "plt.xlabel('Epochs')\n",
    "plt.ylabel('Loss/Accuracy')\n",
    "plt.legend()\n",
    "\n",
    "plt.show()"
   ]
  },
  {
   "cell_type": "markdown",
   "metadata": {
    "id": "5DZAaQN9e6_h"
   },
   "source": [
    "## Problem 1c - Add Dropout to 1a"
   ]
  },
  {
   "cell_type": "markdown",
   "metadata": {
    "id": "MMEkH2FFL2ol"
   },
   "source": [
    "**1.c Report section a; this time add dropout (dropout = 0.3). Report and plot your training results. how do the training results change compared to the baseline? How the training results change compared to the weight penalties.**\n",
    "> The Plots of the Accuracies and Loss can be seen in the code below. As compared to the base line, an increase in accuracy can be seen although the number of training epochs remained the same. As compared to 1b where weight penalties were added, there was also an increase in the accuracy and so dropout performed better.\n",
    "\n",
    "\n"
   ]
  },
  {
   "cell_type": "code",
   "execution_count": null,
   "metadata": {
    "id": "Gnruefphe_0H"
   },
   "outputs": [],
   "source": [
    "#build model\n",
    "MLP = nn.Sequential(\n",
    "    nn.Flatten(),\n",
    "    nn.Linear(28 * 28, 500),\n",
    "    nn.ReLU(),\n",
    "    nn.Dropout(p=0.3),\n",
    "    nn.Linear(500, 300),\n",
    "    nn.ReLU(),\n",
    "    nn.Dropout(p=0.3),\n",
    "    nn.Linear(300, 100),\n",
    "    nn.ReLU(),\n",
    "    nn.Dropout(p=0.3),\n",
    "    nn.Linear(100, 10)\n",
    ")"
   ]
  },
  {
   "cell_type": "code",
   "execution_count": null,
   "metadata": {
    "id": "yMG56GYnhCEg"
   },
   "outputs": [],
   "source": [
    "#define params\n",
    "num_epochs = 20\n",
    "count = 0\n",
    "\n",
    "#loss\n",
    "criterion = nn.CrossEntropyLoss()\n",
    "optimizer = optim.Adam(MLP.parameters(), lr = 1e-4)\n",
    "# define the accuracy metric\n",
    "accuracy = torchmetrics.Accuracy(task='binary')\n",
    "\n",
    "# Lists for visualization of loss and accuracy \n",
    "train_loss_list = []\n",
    "train_accuracy_list = []\n",
    "val_loss_list = []\n",
    "val_accuracy_list = []"
   ]
  },
  {
   "cell_type": "code",
   "execution_count": null,
   "metadata": {
    "colab": {
     "base_uri": "https://localhost:8080/"
    },
    "id": "HiZZQjBOhC_2",
    "outputId": "007ce989-3132-4f37-94ee-b48157db21de"
   },
   "outputs": [
    {
     "data": {
      "text/plain": [
       "Sequential(\n",
       "  (0): Flatten(start_dim=1, end_dim=-1)\n",
       "  (1): Linear(in_features=784, out_features=500, bias=True)\n",
       "  (2): ReLU()\n",
       "  (3): Dropout(p=0.3, inplace=False)\n",
       "  (4): Linear(in_features=500, out_features=300, bias=True)\n",
       "  (5): ReLU()\n",
       "  (6): Dropout(p=0.3, inplace=False)\n",
       "  (7): Linear(in_features=300, out_features=100, bias=True)\n",
       "  (8): ReLU()\n",
       "  (9): Dropout(p=0.3, inplace=False)\n",
       "  (10): Linear(in_features=100, out_features=10, bias=True)\n",
       ")"
      ]
     },
     "execution_count": 38,
     "metadata": {},
     "output_type": "execute_result"
    }
   ],
   "source": [
    "#reset model\n",
    "# Reset the model's weights\n",
    "def reset_weights(m):\n",
    "    if isinstance(m, torch.nn.Linear):\n",
    "        m.reset_parameters()\n",
    "\n",
    "MLP.apply(reset_weights)"
   ]
  },
  {
   "cell_type": "code",
   "execution_count": null,
   "metadata": {
    "colab": {
     "base_uri": "https://localhost:8080/"
    },
    "id": "_cfRCRgUhKEV",
    "outputId": "93c662c5-8797-46fa-bbc4-fe271daa20bb"
   },
   "outputs": [
    {
     "name": "stdout",
     "output_type": "stream",
     "text": [
      "Epoch [1/20], Loss: 0.5236297845840454, Train Acc: 0.6921284794807434, ValidationLoss: 0.32056283950805664, Validation Acc: 0.722432553768158\n",
      "Epoch [2/20], Loss: 0.9185923337936401, Train Acc: 0.7605350017547607, ValidationLoss: 0.5803247690200806, Validation Acc: 0.7716209292411804\n",
      "Epoch [3/20], Loss: 0.6375334858894348, Train Acc: 0.7847805023193359, ValidationLoss: 0.32032036781311035, Validation Acc: 0.7922393679618835\n",
      "Epoch [4/20], Loss: 0.37597131729125977, Train Acc: 0.8010059595108032, ValidationLoss: 0.2791551947593689, Validation Acc: 0.8072153925895691\n",
      "Epoch [5/20], Loss: 0.1323983073234558, Train Acc: 0.8114243149757385, ValidationLoss: 0.2667083144187927, Validation Acc: 0.8156081438064575\n",
      "Epoch [6/20], Loss: 0.5591331124305725, Train Acc: 0.8215820789337158, ValidationLoss: 0.3099946677684784, Validation Acc: 0.8272896409034729\n",
      "Epoch [7/20], Loss: 0.29004502296447754, Train Acc: 0.8295198678970337, ValidationLoss: 0.15431854128837585, Validation Acc: 0.8312219977378845\n",
      "Epoch [8/20], Loss: 0.34741100668907166, Train Acc: 0.8342478275299072, ValidationLoss: 0.2845090329647064, Validation Acc: 0.8390912413597107\n",
      "Epoch [9/20], Loss: 0.2084580808877945, Train Acc: 0.8381275534629822, ValidationLoss: 0.3754133880138397, Validation Acc: 0.8418290019035339\n",
      "Epoch [10/20], Loss: 0.47711238265037537, Train Acc: 0.8418495655059814, ValidationLoss: 0.24838769435882568, Validation Acc: 0.844162106513977\n",
      "Epoch [11/20], Loss: 0.34700605273246765, Train Acc: 0.8458207845687866, ValidationLoss: 0.20548665523529053, Validation Acc: 0.8492124080657959\n",
      "Epoch [12/20], Loss: 0.3174998462200165, Train Acc: 0.8496250510215759, ValidationLoss: 0.23939792811870575, Validation Acc: 0.8534350991249084\n",
      "Epoch [13/20], Loss: 0.33295148611068726, Train Acc: 0.8529675602912903, ValidationLoss: 0.1949005275964737, Validation Acc: 0.8566358089447021\n",
      "Epoch [14/20], Loss: 0.13713358342647552, Train Acc: 0.8561453819274902, ValidationLoss: 0.3316330015659332, Validation Acc: 0.8601645827293396\n",
      "Epoch [15/20], Loss: 0.14739559590816498, Train Acc: 0.8583516478538513, ValidationLoss: 0.21008612215518951, Validation Acc: 0.8622816801071167\n",
      "Epoch [16/20], Loss: 0.2824150025844574, Train Acc: 0.8601806163787842, ValidationLoss: 0.32052895426750183, Validation Acc: 0.8634430766105652\n",
      "Epoch [17/20], Loss: 0.28399592638015747, Train Acc: 0.8644787669181824, ValidationLoss: 0.28120607137680054, Validation Acc: 0.8671604990959167\n",
      "Epoch [18/20], Loss: 0.4614872932434082, Train Acc: 0.8674165606498718, ValidationLoss: 0.2018488198518753, Validation Acc: 0.8726634383201599\n",
      "Epoch [19/20], Loss: 0.27080845832824707, Train Acc: 0.8697324991226196, ValidationLoss: 0.3133769929409027, Validation Acc: 0.8738340139389038\n",
      "Epoch [20/20], Loss: 0.40227487683296204, Train Acc: 0.8714403510093689, ValidationLoss: 0.33732113242149353, Validation Acc: 0.875285804271698\n"
     ]
    }
   ],
   "source": [
    "train(MLP, train_loader, val_loader, num_epochs, optimizer, criterion)"
   ]
  },
  {
   "cell_type": "code",
   "execution_count": null,
   "metadata": {
    "colab": {
     "base_uri": "https://localhost:8080/",
     "height": 295
    },
    "id": "CRPQDbpjvyy_",
    "outputId": "baa06fd3-692e-44c2-d2ef-e64f83551466"
   },
   "outputs": [
    {
     "data": {
      "image/png": "[encoded data removed]",
      "text/plain": [
       "<Figure size 432x288 with 1 Axes>"
      ]
     },
     "metadata": {
      "needs_background": "light"
     },
     "output_type": "display_data"
    }
   ],
   "source": [
    "Trainlosses= [ loss.detach().numpy() for loss in train_loss_list]\n",
    "\n",
    "plt.plot(range(num_epochs), Trainlosses, 'r', label='Training Loss')\n",
    "plt.plot(range(num_epochs), train_accuracy_list, 'b', label='Training Accuracy')\n",
    "plt.plot(range(num_epochs), val_accuracy_list, 'g', label='Validation Accuracy')\n",
    "\n",
    "plt.title('Training and Validation Loss and Accuracy')\n",
    "plt.xlabel('Epochs')\n",
    "plt.ylabel('Loss/Accuracy')\n",
    "plt.legend()\n",
    "\n",
    "plt.show()"
   ]
  },
  {
   "cell_type": "markdown",
   "metadata": {
    "id": "40tx9U7ywWuz"
   },
   "source": [
    "## Problem 1d - Transfer Learning Using 1a Params With Weight Decay"
   ]
  },
  {
   "cell_type": "markdown",
   "metadata": {
    "id": "99HFray6MvY6"
   },
   "source": [
    "**repeat problems 1.b and 1.c; this time, load the pre-trained parameters from the storage. Plot the training results, and compare the training time and number of epochs needed against 1.b and 1.c.**\n",
    "> The Plots of the Accuracies and Loss can be seen in the code below. The training time took less as the parameters were already initialized. There does not seem to be a need for extra trainign epochs as the accuracies converge by the end of the 20 epochs.\n",
    "\n"
   ]
  },
  {
   "cell_type": "code",
   "execution_count": null,
   "metadata": {
    "id": "GqoPZ71IiN0y"
   },
   "outputs": [],
   "source": [
    "#reset model\n",
    "# Reset the model's weights\n",
    "def reset_weights(m):\n",
    "    if isinstance(m, torch.nn.Linear):\n",
    "        m.reset_parameters()\n",
    "\n",
    "MLP.apply(reset_weights)"
   ]
  },
  {
   "cell_type": "code",
   "execution_count": null,
   "metadata": {
    "colab": {
     "base_uri": "https://localhost:8080/"
    },
    "id": "vKEg9z0geDcg",
    "outputId": "5fd4395f-868c-4a7f-96a5-41bfc3e61d55"
   },
   "outputs": [
    {
     "name": "stdout",
     "output_type": "stream",
     "text": [
      "Sequential(\n",
      "  (0): Flatten(start_dim=1, end_dim=-1)\n",
      "  (1): Linear(in_features=784, out_features=500, bias=True)\n",
      "  (2): ReLU()\n",
      "  (3): Linear(in_features=500, out_features=300, bias=True)\n",
      "  (4): ReLU()\n",
      "  (5): Linear(in_features=300, out_features=100, bias=True)\n",
      "  (6): ReLU()\n",
      "  (7): Linear(in_features=100, out_features=10, bias=True)\n",
      ")\n"
     ]
    }
   ],
   "source": [
    "#define model\n",
    "#build model\n",
    "MLP = nn.Sequential(\n",
    "    nn.Flatten(),\n",
    "    nn.Linear(28 * 28, 500),\n",
    "    nn.ReLU(),\n",
    "    nn.Linear(500, 300),\n",
    "    nn.ReLU(),\n",
    "    nn.Linear(300, 100),\n",
    "    nn.ReLU(),\n",
    "    nn.Linear(100, 10)\n",
    ")\n",
    "\n",
    "print(MLP)"
   ]
  },
  {
   "cell_type": "code",
   "execution_count": null,
   "metadata": {
    "colab": {
     "base_uri": "https://localhost:8080/"
    },
    "id": "JXpG8WQ9wcLh",
    "outputId": "d1377eb9-c730-4222-e4da-9d40d2c7926c"
   },
   "outputs": [
    {
     "data": {
      "text/plain": [
       "<All keys matched successfully>"
      ]
     },
     "execution_count": 7,
     "metadata": {},
     "output_type": "execute_result"
    }
   ],
   "source": [
    "# Load pre-trained model parameters\n",
    "state_dict = torch.load('/content/drive/MyDrive/Real Time ML/model.pt')\n",
    "\n",
    "# Load the model parameters\n",
    "MLP.load_state_dict(state_dict)"
   ]
  },
  {
   "cell_type": "code",
   "execution_count": null,
   "metadata": {
    "id": "HzcnN-0CePO9"
   },
   "outputs": [],
   "source": [
    "#define params\n",
    "num_epochs = 20\n",
    "count = 0\n",
    "\n",
    "#loss\n",
    "criterion = nn.CrossEntropyLoss()\n",
    "optimizer = optim.Adam(MLP.parameters(), lr = 1e-4, weight_decay = 0.0001)\n",
    "# define the accuracy metric\n",
    "accuracy = torchmetrics.Accuracy(task='binary')\n",
    "\n",
    "# Lists for visualization of loss and accuracy \n",
    "train_loss_list = []\n",
    "train_accuracy_list = []\n",
    "val_loss_list = []\n",
    "val_accuracy_list = []"
   ]
  },
  {
   "cell_type": "code",
   "execution_count": null,
   "metadata": {
    "colab": {
     "base_uri": "https://localhost:8080/"
    },
    "id": "LZ4EwRPWeWWi",
    "outputId": "ee2b44bb-9b59-48e6-9fe7-70610584ca20"
   },
   "outputs": [
    {
     "name": "stdout",
     "output_type": "stream",
     "text": [
      "Epoch [1/20], Loss: 0.039441291242837906, Train Acc: 0.7850907444953918, ValidationLoss: 0.29564061760902405, Validation Acc: 0.7824286818504333\n",
      "Epoch [2/20], Loss: 0.16231505572795868, Train Acc: 0.7856277823448181, ValidationLoss: 0.17317311465740204, Validation Acc: 0.7864657640457153\n",
      "Epoch [3/20], Loss: 0.24237008392810822, Train Acc: 0.7925592660903931, ValidationLoss: 0.14874933660030365, Validation Acc: 0.7933861017227173\n",
      "Epoch [4/20], Loss: 0.3792783319950104, Train Acc: 0.7961296439170837, ValidationLoss: 0.11995477229356766, Validation Acc: 0.7951546311378479\n",
      "Epoch [5/20], Loss: 0.053625453263521194, Train Acc: 0.8007314801216125, ValidationLoss: 0.1394190639257431, Validation Acc: 0.80063796043396\n",
      "Epoch [6/20], Loss: 0.08291468769311905, Train Acc: 0.8070759177207947, ValidationLoss: 0.3161780536174774, Validation Acc: 0.8050333261489868\n",
      "Epoch [7/20], Loss: 0.27448251843452454, Train Acc: 0.8123907446861267, ValidationLoss: 0.09392756223678589, Validation Acc: 0.8106397986412048\n",
      "Epoch [8/20], Loss: 0.4137413501739502, Train Acc: 0.8159499764442444, ValidationLoss: 0.11548029631376266, Validation Acc: 0.8147092461585999\n",
      "Epoch [9/20], Loss: 0.21737395226955414, Train Acc: 0.8223147988319397, ValidationLoss: 0.16649314761161804, Validation Acc: 0.8223981261253357\n",
      "Epoch [10/20], Loss: 0.15535233914852142, Train Acc: 0.8268851637840271, ValidationLoss: 0.10068485885858536, Validation Acc: 0.8267083168029785\n",
      "Epoch [11/20], Loss: 0.33724626898765564, Train Acc: 0.8305647969245911, ValidationLoss: 0.13298578560352325, Validation Acc: 0.8269657492637634\n",
      "Epoch [12/20], Loss: 0.18494011461734772, Train Acc: 0.8337388634681702, ValidationLoss: 0.09178557991981506, Validation Acc: 0.8376009464263916\n",
      "Epoch [13/20], Loss: 0.05400021746754646, Train Acc: 0.8397740721702576, ValidationLoss: 0.18213529884815216, Validation Acc: 0.8376879692077637\n",
      "Epoch [14/20], Loss: 0.2312975525856018, Train Acc: 0.8426907658576965, ValidationLoss: 0.22887563705444336, Validation Acc: 0.8430740833282471\n",
      "Epoch [15/20], Loss: 0.20356233417987823, Train Acc: 0.8472685217857361, ValidationLoss: 0.17602108418941498, Validation Acc: 0.8506907224655151\n",
      "Epoch [16/20], Loss: 0.20515961945056915, Train Acc: 0.8521407246589661, ValidationLoss: 0.22644217312335968, Validation Acc: 0.8518815040588379\n",
      "Epoch [17/20], Loss: 0.23822957277297974, Train Acc: 0.8556555509567261, ValidationLoss: 0.15374694764614105, Validation Acc: 0.8526360988616943\n",
      "Epoch [18/20], Loss: 0.1221853569149971, Train Acc: 0.8601258993148804, ValidationLoss: 0.12455210834741592, Validation Acc: 0.8603565096855164\n",
      "Epoch [19/20], Loss: 0.10481295734643936, Train Acc: 0.8630814552307129, ValidationLoss: 0.05224122107028961, Validation Acc: 0.8650000095367432\n",
      "Epoch [20/20], Loss: 0.1108793094754219, Train Acc: 0.8677963018417358, ValidationLoss: 0.13952234387397766, Validation Acc: 0.8681990504264832\n"
     ]
    }
   ],
   "source": [
    "train(MLP, train_loader, val_loader, num_epochs, optimizer, criterion)"
   ]
  },
  {
   "cell_type": "code",
   "execution_count": null,
   "metadata": {
    "colab": {
     "base_uri": "https://localhost:8080/",
     "height": 295
    },
    "id": "vKSpEUS3gUQY",
    "outputId": "2e53d9a1-9889-4d27-bebd-356d1fd9685c"
   },
   "outputs": [
    {
     "data": {
      "image/png": "[encoded data removed]",
      "text/plain": [
       "<Figure size 432x288 with 1 Axes>"
      ]
     },
     "metadata": {
      "needs_background": "light"
     },
     "output_type": "display_data"
    }
   ],
   "source": [
    "Trainlosses= [ loss.detach().numpy() for loss in train_loss_list]\n",
    "\n",
    "plt.plot(range(num_epochs), Trainlosses, 'r', label='Training Loss')\n",
    "plt.plot(range(num_epochs), train_accuracy_list, 'b', label='Training Accuracy')\n",
    "plt.plot(range(num_epochs), val_accuracy_list, 'g', label='Validation Accuracy')\n",
    "\n",
    "plt.title('Training and Validation Loss and Accuracy')\n",
    "plt.xlabel('Epochs')\n",
    "plt.ylabel('Loss/Accuracy')\n",
    "plt.legend()\n",
    "\n",
    "plt.show()"
   ]
  },
  {
   "cell_type": "markdown",
   "metadata": {
    "id": "bknNGN_EybzJ"
   },
   "source": [
    "## Problem 1d - Transfer Learning Using 1a Params With Dropout"
   ]
  },
  {
   "cell_type": "code",
   "execution_count": null,
   "metadata": {
    "colab": {
     "base_uri": "https://localhost:8080/"
    },
    "id": "p7K9aKqmg13e",
    "outputId": "1f845fbd-48bb-494a-babf-051c10e2669d"
   },
   "outputs": [
    {
     "data": {
      "text/plain": [
       "Sequential(\n",
       "  (0): Flatten(start_dim=1, end_dim=-1)\n",
       "  (1): Linear(in_features=784, out_features=500, bias=True)\n",
       "  (2): ReLU()\n",
       "  (3): Linear(in_features=500, out_features=300, bias=True)\n",
       "  (4): ReLU()\n",
       "  (5): Linear(in_features=300, out_features=100, bias=True)\n",
       "  (6): ReLU()\n",
       "  (7): Linear(in_features=100, out_features=10, bias=True)\n",
       ")"
      ]
     },
     "execution_count": 13,
     "metadata": {},
     "output_type": "execute_result"
    }
   ],
   "source": [
    "#reset model\n",
    "# Reset the model's weights\n",
    "def reset_weights(m):\n",
    "    if isinstance(m, torch.nn.Linear):\n",
    "        m.reset_parameters()\n",
    "\n",
    "MLP.apply(reset_weights)"
   ]
  },
  {
   "cell_type": "code",
   "execution_count": null,
   "metadata": {
    "colab": {
     "base_uri": "https://localhost:8080/"
    },
    "id": "QYh428Dpg8UM",
    "outputId": "35d1f743-32ce-449c-e9ce-faf7554ba36f"
   },
   "outputs": [
    {
     "data": {
      "text/plain": [
       "<All keys matched successfully>"
      ]
     },
     "execution_count": 14,
     "metadata": {},
     "output_type": "execute_result"
    }
   ],
   "source": [
    "# Load pre-trained model parameters\n",
    "state_dict = torch.load('/content/drive/MyDrive/Real Time ML/model.pt')\n",
    "\n",
    "# Load the model parameters\n",
    "MLP.load_state_dict(state_dict)"
   ]
  },
  {
   "cell_type": "code",
   "execution_count": null,
   "metadata": {
    "colab": {
     "base_uri": "https://localhost:8080/"
    },
    "id": "4glG8uZBJJBj",
    "outputId": "ce80a950-3633-469e-9fbc-250fc7de4748"
   },
   "outputs": [
    {
     "data": {
      "text/plain": [
       "Sequential(\n",
       "  (0): Flatten(start_dim=1, end_dim=-1)\n",
       "  (1): Linear(in_features=784, out_features=500, bias=True)\n",
       "  (2): ReLU()\n",
       "  (3): Linear(in_features=500, out_features=300, bias=True)\n",
       "  (4): Dropout(p=0.3, inplace=False)\n",
       "  (5): ReLU()\n",
       "  (6): Linear(in_features=300, out_features=100, bias=True)\n",
       "  (7): ReLU()\n",
       "  (8): Linear(in_features=100, out_features=10, bias=True)\n",
       ")"
      ]
     },
     "execution_count": 16,
     "metadata": {},
     "output_type": "execute_result"
    }
   ],
   "source": [
    "MLP.insert(4, nn.Dropout(0.3))"
   ]
  },
  {
   "cell_type": "code",
   "execution_count": null,
   "metadata": {
    "id": "CyKF6S6Jg_0k"
   },
   "outputs": [],
   "source": [
    "#define params\n",
    "num_epochs = 20\n",
    "count = 0\n",
    "\n",
    "#loss\n",
    "criterion = nn.CrossEntropyLoss()\n",
    "optimizer = optim.Adam(MLP.parameters(), lr = 1e-4)\n",
    "# define the accuracy metric\n",
    "accuracy = torchmetrics.Accuracy(task='binary')\n",
    "\n",
    "# Lists for visualization of loss and accuracy \n",
    "train_loss_list = []\n",
    "train_accuracy_list = []\n",
    "val_loss_list = []\n",
    "val_accuracy_list = []"
   ]
  },
  {
   "cell_type": "code",
   "execution_count": null,
   "metadata": {
    "colab": {
     "base_uri": "https://localhost:8080/"
    },
    "id": "1U2Hmjw2hB-i",
    "outputId": "958a409c-d471-4aa9-ec4a-c55ed194af08"
   },
   "outputs": [
    {
     "name": "stdout",
     "output_type": "stream",
     "text": [
      "Epoch [1/20], Loss: 0.36882734298706055, Train Acc: 0.795544445514679, ValidationLoss: 0.27196601033210754, Validation Acc: 0.7986462712287903\n",
      "Epoch [2/20], Loss: 0.11069818586111069, Train Acc: 0.806257426738739, ValidationLoss: 0.23657192289829254, Validation Acc: 0.8102953433990479\n",
      "Epoch [3/20], Loss: 0.28307369351387024, Train Acc: 0.8136351704597473, ValidationLoss: 0.3188953697681427, Validation Acc: 0.819337010383606\n",
      "Epoch [4/20], Loss: 0.22845669090747833, Train Acc: 0.8222647905349731, ValidationLoss: 0.2055039256811142, Validation Acc: 0.8236324191093445\n",
      "Epoch [5/20], Loss: 0.266293466091156, Train Acc: 0.8274685144424438, ValidationLoss: 0.13457606732845306, Validation Acc: 0.8282712697982788\n",
      "Epoch [6/20], Loss: 0.20538048446178436, Train Acc: 0.8329185247421265, ValidationLoss: 0.19720937311649323, Validation Acc: 0.8345500230789185\n",
      "Epoch [7/20], Loss: 0.28740963339805603, Train Acc: 0.839379608631134, ValidationLoss: 0.15006762742996216, Validation Acc: 0.8383490443229675\n",
      "Epoch [8/20], Loss: 0.10625257343053818, Train Acc: 0.8435870409011841, ValidationLoss: 0.22112588584423065, Validation Acc: 0.8476203680038452\n",
      "Epoch [9/20], Loss: 0.1326420158147812, Train Acc: 0.849825918674469, ValidationLoss: 0.13908438384532928, Validation Acc: 0.8472295999526978\n",
      "Epoch [10/20], Loss: 0.23444019258022308, Train Acc: 0.8514703512191772, ValidationLoss: 0.20531189441680908, Validation Acc: 0.8521416783332825\n",
      "Epoch [11/20], Loss: 0.13398216664791107, Train Acc: 0.8538426160812378, ValidationLoss: 0.1976134181022644, Validation Acc: 0.8537499904632568\n",
      "Epoch [12/20], Loss: 0.1607917845249176, Train Acc: 0.8589203953742981, ValidationLoss: 0.3918587267398834, Validation Acc: 0.8610055446624756\n",
      "Epoch [13/20], Loss: 0.14037126302719116, Train Acc: 0.8620407581329346, ValidationLoss: 0.19741927087306976, Validation Acc: 0.8626676201820374\n",
      "Epoch [14/20], Loss: 0.3057648837566376, Train Acc: 0.8653722405433655, ValidationLoss: 0.13431908190250397, Validation Acc: 0.8651981353759766\n",
      "Epoch [15/20], Loss: 0.11327869445085526, Train Acc: 0.8693370223045349, ValidationLoss: 0.20507264137268066, Validation Acc: 0.8708129525184631\n",
      "Epoch [16/20], Loss: 0.09914889186620712, Train Acc: 0.8738518357276917, ValidationLoss: 0.09152211993932724, Validation Acc: 0.8756231665611267\n",
      "Epoch [17/20], Loss: 0.10729695111513138, Train Acc: 0.8750407695770264, ValidationLoss: 0.1314573734998703, Validation Acc: 0.8759018778800964\n",
      "Epoch [18/20], Loss: 0.0832587406039238, Train Acc: 0.8789148330688477, ValidationLoss: 0.19478438794612885, Validation Acc: 0.874793529510498\n",
      "Epoch [19/20], Loss: 0.10184270888566971, Train Acc: 0.8807814717292786, ValidationLoss: 0.10968046635389328, Validation Acc: 0.8806435465812683\n",
      "Epoch [20/20], Loss: 0.10423593968153, Train Acc: 0.8835722208023071, ValidationLoss: 0.10401785373687744, Validation Acc: 0.8864055275917053\n"
     ]
    }
   ],
   "source": [
    "train(MLP, train_loader, val_loader, num_epochs, optimizer, criterion)"
   ]
  },
  {
   "cell_type": "code",
   "execution_count": null,
   "metadata": {
    "colab": {
     "base_uri": "https://localhost:8080/",
     "height": 295
    },
    "id": "wMyUT4vIhETp",
    "outputId": "20580ade-172a-4a5f-a505-c3f82227550d"
   },
   "outputs": [
    {
     "data": {
      "image/png": "[encoded data removed]",
      "text/plain": [
       "<Figure size 432x288 with 1 Axes>"
      ]
     },
     "metadata": {
      "needs_background": "light"
     },
     "output_type": "display_data"
    }
   ],
   "source": [
    "Trainlosses= [ loss.detach().numpy() for loss in train_loss_list]\n",
    "\n",
    "plt.plot(range(num_epochs), Trainlosses, 'r', label='Training Loss')\n",
    "plt.plot(range(num_epochs), train_accuracy_list, 'b', label='Training Accuracy')\n",
    "plt.plot(range(num_epochs), val_accuracy_list, 'g', label='Validation Accuracy')\n",
    "\n",
    "plt.title('Training and Validation Loss and Accuracy')\n",
    "plt.xlabel('Epochs')\n",
    "plt.ylabel('Loss/Accuracy')\n",
    "plt.legend()\n",
    "\n",
    "plt.show()"
   ]
  },
  {
   "cell_type": "markdown",
   "metadata": {
    "id": "Xvwl6JqgkEzw"
   },
   "source": [
    "# Problem 2"
   ]
  },
  {
   "cell_type": "markdown",
   "metadata": {
    "id": "LcHjdnmXNTdn"
   },
   "source": [
    "**2.a What happens if we need to standardize the continuous numerical features like what we have done in this section?**\n",
    "> Standarizing the continous numerical values is important when the range of values for the different features is different. When this is the case features with higher numerical values will have a stronger bias on the model and much higher weights. Normalizing the data sets it between -1 and 1 and makes the range equal between the features and thus the bias of each feature is the same\n",
    "\n",
    "\n"
   ]
  },
  {
   "cell_type": "markdown",
   "metadata": {
    "id": "3x_aGsPitT4D"
   },
   "source": [
    "### Define Classes"
   ]
  },
  {
   "cell_type": "code",
   "execution_count": 5,
   "metadata": {
    "id": "dpz1vtjp65Ef"
   },
   "outputs": [],
   "source": [
    "def preprocess():\n",
    "        # Remove the ID and label columns\n",
    "        label = 'SalePrice'\n",
    "        features = pd.concat(\n",
    "            (raw_train.drop(columns=['Id', label]),\n",
    "             raw_val.drop(columns=['Id'])))\n",
    "        # Standardize numerical columns\n",
    "        numeric_features = features.dtypes[features.dtypes != 'object'].index\n",
    "        features[numeric_features] = features[numeric_features].apply(\n",
    "            lambda x: (x - x.mean()) / (x.std()))\n",
    "        # Replace NAN numerical features by 0\n",
    "        features[numeric_features] = features[numeric_features].fillna(0)\n",
    "        # Replace discrete features by one-hot encoding.\n",
    "        features = pd.get_dummies(features, dummy_na=True)\n",
    "        # Save preprocessed features\n",
    "        train = features[:raw_train.shape[0]].copy()\n",
    "        train[label] = raw_train[label]\n",
    "        val = features[raw_train.shape[0]:].copy()"
   ]
  },
  {
   "cell_type": "code",
   "execution_count": 24,
   "metadata": {
    "id": "a2W03r7iczJL"
   },
   "outputs": [],
   "source": [
    "#define training fucntion\n",
    "def train(model, train_loader, val_loader, num_epochs, optimizer, criterion):\n",
    "  count = 0\n",
    "  for epoch in range(num_epochs):\n",
    "      for x, y in train_loader:\n",
    "          model.train()\n",
    "\n",
    "          # Convert tensors to the correct datatype\n",
    "          x = x.float()\n",
    "          y = y.float().view(-1, 1)\n",
    "\n",
    "          # Forward pass \n",
    "          outputs = model(x)\n",
    "          train_loss = criterion(outputs, y)\n",
    "\n",
    "          # Initializing a gradient as 0 so there is no mixing of gradient among the batches\n",
    "          optimizer.zero_grad()    \n",
    "          # Propagating the error backward\n",
    "          train_loss.backward()\n",
    "          # Optimizing the parameters\n",
    "          optimizer.step()\n",
    "\n",
    "      train_loss_list.append(train_loss)\n",
    "\n",
    "      for x, y in val_loader:\n",
    "          model.eval()\n",
    "    \n",
    "          # Convert tensors to the correct datatype\n",
    "          x = x.float()\n",
    "          y = y.float().view(-1, 1)\n",
    "\n",
    "          # Forward pass \n",
    "          with torch.no_grad():\n",
    "            outputs = MLP(x)\n",
    "          loss_val = criterion(outputs, y)\n",
    "\n",
    "      val_loss_list.append(loss_val)\n",
    "      print (f'Epoch [{epoch+1}/{num_epochs}], Loss: {train_loss}, ValidationLoss: {loss_val}')     \n"
   ]
  },
  {
   "cell_type": "code",
   "execution_count": 25,
   "metadata": {
    "id": "TOEz0uQSvazV"
   },
   "outputs": [],
   "source": [
    "#textbook's Linear Regression function with 3 hidden layers instead of three\n",
    "class LinearRegressionModel(nn.Module):\n",
    "    def __init__(self, lr):\n",
    "        super().__init__()\n",
    "        self.lin1 = nn.LazyLinear(1, 256)\n",
    "        self.lin2 = nn.LazyLinear(256, 128)\n",
    "        self.lin3 = nn.LazyLinear(128, 1)\n",
    "        self.lin1.weight.data.normal_(0, 0.01)\n",
    "        self.lin1.bias.data.fill_(0)\n",
    "        self.lin2.weight.data.normal_(0, 0.01)\n",
    "        self.lin2.bias.data.fill_(0)\n",
    "        self.lin3.weight.data.normal_(0, 0.01)\n",
    "        self.lin3.bias.data.fill_(0)\n",
    "\n",
    "    def forward(self, x):\n",
    "        x = x.view(-1, 1)\n",
    "        x = F.relu(self.lin1(x))\n",
    "        x = F.relu(self.lin2(x))\n",
    "        x = self.lin3(x)\n",
    "        return x"
   ]
  },
  {
   "cell_type": "markdown",
   "metadata": {
    "id": "PjSZHUbXtOoI"
   },
   "source": [
    "### Data"
   ]
  },
  {
   "cell_type": "code",
   "execution_count": 16,
   "metadata": {
    "id": "0MSf97M56r6t"
   },
   "outputs": [],
   "source": [
    "class Data:\n",
    "    def __init__(self):\n",
    "        self.raw_train = pd.read_csv('/content/drive/MyDrive/Real Time ML/train.csv')\n",
    "        self.raw_val = pd.read_csv('/content/drive/MyDrive/Real Time ML/test.csv')\n",
    "\n",
    "    def preprocess(self):\n",
    "        # Remove the ID and label columns\n",
    "        label = 'SalePrice'\n",
    "        features = pd.concat(\n",
    "            (self.raw_train.drop(columns=['Id', label]),\n",
    "            self.raw_val.drop(columns=['Id'])))\n",
    "        # Standardize numerical columns\n",
    "        numeric_features = features.dtypes[features.dtypes != 'object'].index\n",
    "        features[numeric_features] = features[numeric_features].apply(\n",
    "            lambda x: (x - x.mean()) / (x.std()))\n",
    "        # Replace NAN numerical features by 0\n",
    "        features[numeric_features] = features[numeric_features].fillna(0)\n",
    "        # Replace discrete features by one-hot encoding.\n",
    "        features = pd.get_dummies(features, dummy_na=True)\n",
    "        # Save preprocessed features\n",
    "        self.train = features[:self.raw_train.shape[0]].copy()\n",
    "        self.train[label] = self.raw_train[label]\n",
    "        self.val = features[self.raw_train.shape[0]:].copy()\n",
    "\n",
    "data = Data()"
   ]
  },
  {
   "cell_type": "code",
   "execution_count": 10,
   "metadata": {
    "colab": {
     "base_uri": "https://localhost:8080/"
    },
    "id": "-MdAT7sjyQmz",
    "outputId": "783d99c5-1157-4669-cc1a-6f0b120a2429"
   },
   "outputs": [
    {
     "name": "stdout",
     "output_type": "stream",
     "text": [
      "   Id  MSSubClass MSZoning  LotFrontage SaleType SaleCondition  SalePrice\n",
      "0   1          60       RL         65.0       WD        Normal     208500\n",
      "1   2          20       RL         80.0       WD        Normal     181500\n",
      "2   3          60       RL         68.0       WD        Normal     223500\n",
      "3   4          70       RL         60.0       WD       Abnorml     140000\n"
     ]
    }
   ],
   "source": [
    "print(data.raw_train.iloc[:4, [0, 1, 2, 3, -3, -2, -1]])"
   ]
  },
  {
   "cell_type": "code",
   "execution_count": 21,
   "metadata": {
    "colab": {
     "base_uri": "https://localhost:8080/"
    },
    "id": "kBMNxSMNfRJB",
    "outputId": "490f1e6c-2eff-4b01-f6aa-cd9794b4fd5a"
   },
   "outputs": [
    {
     "name": "stdout",
     "output_type": "stream",
     "text": [
      "   MSSubClass  LotFrontage   LotArea  OverallQual  SaleCondition_Partial  \\\n",
      "0    0.067320    -0.184443 -0.217841     0.646073                      0   \n",
      "1   -0.873466     0.458096 -0.072032    -0.063174                      0   \n",
      "2    0.067320    -0.055935  0.137173     0.646073                      0   \n",
      "3    0.302516    -0.398622 -0.078371     0.646073                      0   \n",
      "\n",
      "   SaleCondition_nan  SalePrice  \n",
      "0                  0     208500  \n",
      "1                  0     181500  \n",
      "2                  0     223500  \n",
      "3                  0     140000  \n"
     ]
    }
   ],
   "source": [
    "data.preprocess()\n",
    "print(data.train.iloc[:4, [0, 1, 2, 3, -3, -2, -1]])"
   ]
  },
  {
   "cell_type": "code",
   "execution_count": 29,
   "metadata": {
    "id": "1HONNnr5n7fZ"
   },
   "outputs": [],
   "source": [
    "import torch\n",
    "from torch.utils.data import Dataset, DataLoader\n",
    "\n",
    "class KaggleHouseDataset(Dataset):\n",
    "    def __init__(self, data):\n",
    "        self.data = data\n",
    "\n",
    "    def __len__(self):\n",
    "        return len(self.data)\n",
    "\n",
    "train_dataset = KaggleHouseDataset(data.train)\n",
    "val_dataset = KaggleHouseDataset(data.val)\n",
    "\n",
    "train_loader = DataLoader(train_dataset, batch_size=64, shuffle=True)\n",
    "val_loader = DataLoader(val_dataset, batch_size=64, shuffle=False)"
   ]
  },
  {
   "cell_type": "markdown",
   "metadata": {
    "id": "1QZD4t5_t5Qa"
   },
   "source": [
    "### Training"
   ]
  },
  {
   "cell_type": "code",
   "execution_count": 33,
   "metadata": {
    "colab": {
     "base_uri": "https://localhost:8080/"
    },
    "id": "3bCcS_dnrbxA",
    "outputId": "21e3a67a-2a0d-4dab-99e4-6b3df6c9f1bc"
   },
   "outputs": [
    {
     "name": "stderr",
     "output_type": "stream",
     "text": [
      "/usr/local/lib/python3.8/dist-packages/torch/nn/modules/lazy.py:180: UserWarning: Lazy modules are a new feature under heavy development so changes to the API or functionality can happen at any moment.\n",
      "  warnings.warn('Lazy modules are a new feature under heavy development '\n"
     ]
    }
   ],
   "source": [
    "lr = 1e-4\n",
    "\n",
    "#define params\n",
    "num_epochs = 20\n",
    "count = 0\n",
    "\n",
    "#loss\n",
    "model = LinearRegressionModel(lr)\n",
    "loss = nn.MSELoss()\n",
    "optimizer = torch.optim.SGD(model.parameters(), lr=lr)\n",
    "\n",
    "\n",
    "# Lists for visualization of loss and accuracy \n",
    "train_loss_list = []\n",
    "val_loss_list = []"
   ]
  },
  {
   "cell_type": "code",
   "execution_count": 34,
   "metadata": {
    "colab": {
     "base_uri": "https://localhost:8080/",
     "height": 365
    },
    "id": "1mXxxlKfr3-N",
    "outputId": "728fa5f1-18e4-410e-cbea-d79d439b24cf"
   },
   "outputs": [
    {
     "name": "stderr",
     "output_type": "stream",
     "text": [
      "/usr/local/lib/python3.8/dist-packages/torch/nn/modules/loss.py:536: UserWarning: Using a target size (torch.Size([32, 1])) that is different to the input size (torch.Size([10592, 128])). This will likely lead to incorrect results due to broadcasting. Please ensure they have the same size.\n",
      "  return F.mse_loss(input, target, reduction=self.reduction)\n"
     ]
    },
    {
     "ename": "RuntimeError",
     "evalue": "ignored",
     "output_type": "error",
     "traceback": [
      "\u001b[0;31m---------------------------------------------------------------------------\u001b[0m",
      "\u001b[0;31mRuntimeError\u001b[0m                              Traceback (most recent call last)",
      "\u001b[0;32m<ipython-input-34-33a7e45f9962>\u001b[0m in \u001b[0;36m<module>\u001b[0;34m\u001b[0m\n\u001b[0;32m----> 1\u001b[0;31m \u001b[0mtrain\u001b[0m\u001b[0;34m(\u001b[0m\u001b[0mmodel\u001b[0m\u001b[0;34m,\u001b[0m \u001b[0mtrain_loader\u001b[0m\u001b[0;34m,\u001b[0m \u001b[0mval_loader\u001b[0m\u001b[0;34m,\u001b[0m \u001b[0mnum_epochs\u001b[0m\u001b[0;34m,\u001b[0m \u001b[0moptimizer\u001b[0m\u001b[0;34m,\u001b[0m \u001b[0mloss\u001b[0m\u001b[0;34m)\u001b[0m\u001b[0;34m\u001b[0m\u001b[0;34m\u001b[0m\u001b[0m\n\u001b[0m",
      "\u001b[0;32m<ipython-input-24-de1d2a3bf546>\u001b[0m in \u001b[0;36mtrain\u001b[0;34m(model, train_loader, val_loader, num_epochs, optimizer, criterion)\u001b[0m\n\u001b[1;32m     12\u001b[0m           \u001b[0;31m# Forward pass\u001b[0m\u001b[0;34m\u001b[0m\u001b[0;34m\u001b[0m\u001b[0;34m\u001b[0m\u001b[0m\n\u001b[1;32m     13\u001b[0m           \u001b[0moutputs\u001b[0m \u001b[0;34m=\u001b[0m \u001b[0mmodel\u001b[0m\u001b[0;34m(\u001b[0m\u001b[0mx\u001b[0m\u001b[0;34m)\u001b[0m\u001b[0;34m\u001b[0m\u001b[0;34m\u001b[0m\u001b[0m\n\u001b[0;32m---> 14\u001b[0;31m           \u001b[0mtrain_loss\u001b[0m \u001b[0;34m=\u001b[0m \u001b[0mcriterion\u001b[0m\u001b[0;34m(\u001b[0m\u001b[0moutputs\u001b[0m\u001b[0;34m,\u001b[0m \u001b[0my\u001b[0m\u001b[0;34m)\u001b[0m\u001b[0;34m\u001b[0m\u001b[0;34m\u001b[0m\u001b[0m\n\u001b[0m\u001b[1;32m     15\u001b[0m \u001b[0;34m\u001b[0m\u001b[0m\n\u001b[1;32m     16\u001b[0m           \u001b[0;31m# Initializing a gradient as 0 so there is no mixing of gradient among the batches\u001b[0m\u001b[0;34m\u001b[0m\u001b[0;34m\u001b[0m\u001b[0;34m\u001b[0m\u001b[0m\n",
      "\u001b[0;32m/usr/local/lib/python3.8/dist-packages/torch/nn/modules/module.py\u001b[0m in \u001b[0;36m_call_impl\u001b[0;34m(self, *input, **kwargs)\u001b[0m\n\u001b[1;32m   1192\u001b[0m         if not (self._backward_hooks or self._forward_hooks or self._forward_pre_hooks or _global_backward_hooks\n\u001b[1;32m   1193\u001b[0m                 or _global_forward_hooks or _global_forward_pre_hooks):\n\u001b[0;32m-> 1194\u001b[0;31m             \u001b[0;32mreturn\u001b[0m \u001b[0mforward_call\u001b[0m\u001b[0;34m(\u001b[0m\u001b[0;34m*\u001b[0m\u001b[0minput\u001b[0m\u001b[0;34m,\u001b[0m \u001b[0;34m**\u001b[0m\u001b[0mkwargs\u001b[0m\u001b[0;34m)\u001b[0m\u001b[0;34m\u001b[0m\u001b[0;34m\u001b[0m\u001b[0m\n\u001b[0m\u001b[1;32m   1195\u001b[0m         \u001b[0;31m# Do not call functions when jit is used\u001b[0m\u001b[0;34m\u001b[0m\u001b[0;34m\u001b[0m\u001b[0;34m\u001b[0m\u001b[0m\n\u001b[1;32m   1196\u001b[0m         \u001b[0mfull_backward_hooks\u001b[0m\u001b[0;34m,\u001b[0m \u001b[0mnon_full_backward_hooks\u001b[0m \u001b[0;34m=\u001b[0m \u001b[0;34m[\u001b[0m\u001b[0;34m]\u001b[0m\u001b[0;34m,\u001b[0m \u001b[0;34m[\u001b[0m\u001b[0;34m]\u001b[0m\u001b[0;34m\u001b[0m\u001b[0;34m\u001b[0m\u001b[0m\n",
      "\u001b[0;32m/usr/local/lib/python3.8/dist-packages/torch/nn/modules/loss.py\u001b[0m in \u001b[0;36mforward\u001b[0;34m(self, input, target)\u001b[0m\n\u001b[1;32m    534\u001b[0m \u001b[0;34m\u001b[0m\u001b[0m\n\u001b[1;32m    535\u001b[0m     \u001b[0;32mdef\u001b[0m \u001b[0mforward\u001b[0m\u001b[0;34m(\u001b[0m\u001b[0mself\u001b[0m\u001b[0;34m,\u001b[0m \u001b[0minput\u001b[0m\u001b[0;34m:\u001b[0m \u001b[0mTensor\u001b[0m\u001b[0;34m,\u001b[0m \u001b[0mtarget\u001b[0m\u001b[0;34m:\u001b[0m \u001b[0mTensor\u001b[0m\u001b[0;34m)\u001b[0m \u001b[0;34m->\u001b[0m \u001b[0mTensor\u001b[0m\u001b[0;34m:\u001b[0m\u001b[0;34m\u001b[0m\u001b[0;34m\u001b[0m\u001b[0m\n\u001b[0;32m--> 536\u001b[0;31m         \u001b[0;32mreturn\u001b[0m \u001b[0mF\u001b[0m\u001b[0;34m.\u001b[0m\u001b[0mmse_loss\u001b[0m\u001b[0;34m(\u001b[0m\u001b[0minput\u001b[0m\u001b[0;34m,\u001b[0m \u001b[0mtarget\u001b[0m\u001b[0;34m,\u001b[0m \u001b[0mreduction\u001b[0m\u001b[0;34m=\u001b[0m\u001b[0mself\u001b[0m\u001b[0;34m.\u001b[0m\u001b[0mreduction\u001b[0m\u001b[0;34m)\u001b[0m\u001b[0;34m\u001b[0m\u001b[0;34m\u001b[0m\u001b[0m\n\u001b[0m\u001b[1;32m    537\u001b[0m \u001b[0;34m\u001b[0m\u001b[0m\n\u001b[1;32m    538\u001b[0m \u001b[0;34m\u001b[0m\u001b[0m\n",
      "\u001b[0;32m/usr/local/lib/python3.8/dist-packages/torch/nn/functional.py\u001b[0m in \u001b[0;36mmse_loss\u001b[0;34m(input, target, size_average, reduce, reduction)\u001b[0m\n\u001b[1;32m   3289\u001b[0m         \u001b[0mreduction\u001b[0m \u001b[0;34m=\u001b[0m \u001b[0m_Reduction\u001b[0m\u001b[0;34m.\u001b[0m\u001b[0mlegacy_get_string\u001b[0m\u001b[0;34m(\u001b[0m\u001b[0msize_average\u001b[0m\u001b[0;34m,\u001b[0m \u001b[0mreduce\u001b[0m\u001b[0;34m)\u001b[0m\u001b[0;34m\u001b[0m\u001b[0;34m\u001b[0m\u001b[0m\n\u001b[1;32m   3290\u001b[0m \u001b[0;34m\u001b[0m\u001b[0m\n\u001b[0;32m-> 3291\u001b[0;31m     \u001b[0mexpanded_input\u001b[0m\u001b[0;34m,\u001b[0m \u001b[0mexpanded_target\u001b[0m \u001b[0;34m=\u001b[0m \u001b[0mtorch\u001b[0m\u001b[0;34m.\u001b[0m\u001b[0mbroadcast_tensors\u001b[0m\u001b[0;34m(\u001b[0m\u001b[0minput\u001b[0m\u001b[0;34m,\u001b[0m \u001b[0mtarget\u001b[0m\u001b[0;34m)\u001b[0m\u001b[0;34m\u001b[0m\u001b[0;34m\u001b[0m\u001b[0m\n\u001b[0m\u001b[1;32m   3292\u001b[0m     \u001b[0;32mreturn\u001b[0m \u001b[0mtorch\u001b[0m\u001b[0;34m.\u001b[0m\u001b[0m_C\u001b[0m\u001b[0;34m.\u001b[0m\u001b[0m_nn\u001b[0m\u001b[0;34m.\u001b[0m\u001b[0mmse_loss\u001b[0m\u001b[0;34m(\u001b[0m\u001b[0mexpanded_input\u001b[0m\u001b[0;34m,\u001b[0m \u001b[0mexpanded_target\u001b[0m\u001b[0;34m,\u001b[0m \u001b[0m_Reduction\u001b[0m\u001b[0;34m.\u001b[0m\u001b[0mget_enum\u001b[0m\u001b[0;34m(\u001b[0m\u001b[0mreduction\u001b[0m\u001b[0;34m)\u001b[0m\u001b[0;34m)\u001b[0m\u001b[0;34m\u001b[0m\u001b[0;34m\u001b[0m\u001b[0m\n\u001b[1;32m   3293\u001b[0m \u001b[0;34m\u001b[0m\u001b[0m\n",
      "\u001b[0;32m/usr/local/lib/python3.8/dist-packages/torch/functional.py\u001b[0m in \u001b[0;36mbroadcast_tensors\u001b[0;34m(*tensors)\u001b[0m\n\u001b[1;32m     72\u001b[0m     \u001b[0;32mif\u001b[0m \u001b[0mhas_torch_function\u001b[0m\u001b[0;34m(\u001b[0m\u001b[0mtensors\u001b[0m\u001b[0;34m)\u001b[0m\u001b[0;34m:\u001b[0m\u001b[0;34m\u001b[0m\u001b[0;34m\u001b[0m\u001b[0m\n\u001b[1;32m     73\u001b[0m         \u001b[0;32mreturn\u001b[0m \u001b[0mhandle_torch_function\u001b[0m\u001b[0;34m(\u001b[0m\u001b[0mbroadcast_tensors\u001b[0m\u001b[0;34m,\u001b[0m \u001b[0mtensors\u001b[0m\u001b[0;34m,\u001b[0m \u001b[0;34m*\u001b[0m\u001b[0mtensors\u001b[0m\u001b[0;34m)\u001b[0m\u001b[0;34m\u001b[0m\u001b[0;34m\u001b[0m\u001b[0m\n\u001b[0;32m---> 74\u001b[0;31m     \u001b[0;32mreturn\u001b[0m \u001b[0m_VF\u001b[0m\u001b[0;34m.\u001b[0m\u001b[0mbroadcast_tensors\u001b[0m\u001b[0;34m(\u001b[0m\u001b[0mtensors\u001b[0m\u001b[0;34m)\u001b[0m  \u001b[0;31m# type: ignore[attr-defined]\u001b[0m\u001b[0;34m\u001b[0m\u001b[0;34m\u001b[0m\u001b[0m\n\u001b[0m\u001b[1;32m     75\u001b[0m \u001b[0;34m\u001b[0m\u001b[0m\n\u001b[1;32m     76\u001b[0m \u001b[0;34m\u001b[0m\u001b[0m\n",
      "\u001b[0;31mRuntimeError\u001b[0m: The size of tensor a (10592) must match the size of tensor b (32) at non-singleton dimension 0"
     ]
    }
   ],
   "source": [
    "train(model, train_loader, val_loader, num_epochs, optimizer, loss)"
   ]
  }
 ],
 "metadata": {
  "accelerator": "GPU",
  "colab": {
   "collapsed_sections": [
    "rtQyYD-Uju6x",
    "jk5j2rrYhXG1",
    "11F2Ot6-hgda",
    "HxcJyxI1RmV5",
    "uEvDMyKacxeP",
    "5DZAaQN9e6_h",
    "40tx9U7ywWuz",
    "bknNGN_EybzJ"
   ],
   "provenance": []
  },
  "gpuClass": "standard",
  "kernelspec": {
   "display_name": "Python 3 (ipykernel)",
   "language": "python",
   "name": "python3"
  },
  "language_info": {
   "codemirror_mode": {
    "name": "ipython",
    "version": 3
   },
   "file_extension": ".py",
   "mimetype": "text/x-python",
   "name": "python",
   "nbconvert_exporter": "python",
   "pygments_lexer": "ipython3",
   "version": "3.9.15"
  },
  "widgets": {
   "application/vnd.jupyter.widget-state+json": {
    "078ad7c099804a3e9fea03f84b50b0af": {
     "model_module": "@jupyter-widgets/controls",
     "model_module_version": "1.5.0",
     "model_name": "HTMLModel",
     "state": {
      "_dom_classes": [],
      "_model_module": "@jupyter-widgets/controls",
      "_model_module_version": "1.5.0",
      "_model_name": "HTMLModel",
      "_view_count": null,
      "_view_module": "@jupyter-widgets/controls",
      "_view_module_version": "1.5.0",
      "_view_name": "HTMLView",
      "description": "",
      "description_tooltip": null,
      "layout": "IPY_MODEL_496a1112665e415c86b9dc211e182194",
      "placeholder": "​",
      "style": "IPY_MODEL_f26cb385928f46aaa650809c334509cb",
      "value": "100%"
     }
    },
    "1587e1a1949e46d5b5be3c47b40c167c": {
     "model_module": "@jupyter-widgets/controls",
     "model_module_version": "1.5.0",
     "model_name": "DescriptionStyleModel",
     "state": {
      "_model_module": "@jupyter-widgets/controls",
      "_model_module_version": "1.5.0",
      "_model_name": "DescriptionStyleModel",
      "_view_count": null,
      "_view_module": "@jupyter-widgets/base",
      "_view_module_version": "1.2.0",
      "_view_name": "StyleView",
      "description_width": ""
     }
    },
    "1d085ddaafc74362b6d9ecefa6ad9858": {
     "model_module": "@jupyter-widgets/controls",
     "model_module_version": "1.5.0",
     "model_name": "HBoxModel",
     "state": {
      "_dom_classes": [],
      "_model_module": "@jupyter-widgets/controls",
      "_model_module_version": "1.5.0",
      "_model_name": "HBoxModel",
      "_view_count": null,
      "_view_module": "@jupyter-widgets/controls",
      "_view_module_version": "1.5.0",
      "_view_name": "HBoxView",
      "box_style": "",
      "children": [
       "IPY_MODEL_304b3131a2314f9ba691027e2fd82d32",
       "IPY_MODEL_20ed5e5d44a44d8fa63bdea7c74bb885",
       "IPY_MODEL_bc4bee3afe7c4e60908bbe639776ec91"
      ],
      "layout": "IPY_MODEL_dd3366b9163f497ba0ff7adb7a89a9f1"
     }
    },
    "20ed5e5d44a44d8fa63bdea7c74bb885": {
     "model_module": "@jupyter-widgets/controls",
     "model_module_version": "1.5.0",
     "model_name": "FloatProgressModel",
     "state": {
      "_dom_classes": [],
      "_model_module": "@jupyter-widgets/controls",
      "_model_module_version": "1.5.0",
      "_model_name": "FloatProgressModel",
      "_view_count": null,
      "_view_module": "@jupyter-widgets/controls",
      "_view_module_version": "1.5.0",
      "_view_name": "ProgressView",
      "bar_style": "success",
      "description": "",
      "description_tooltip": null,
      "layout": "IPY_MODEL_8e2ef16b7e0d405da3b6b9ccc870ef02",
      "max": 29515,
      "min": 0,
      "orientation": "horizontal",
      "style": "IPY_MODEL_88980c93076942b2b0ec34e6edf23223",
      "value": 29515
     }
    },
    "24c92162d05047b88f17877715397634": {
     "model_module": "@jupyter-widgets/controls",
     "model_module_version": "1.5.0",
     "model_name": "DescriptionStyleModel",
     "state": {
      "_model_module": "@jupyter-widgets/controls",
      "_model_module_version": "1.5.0",
      "_model_name": "DescriptionStyleModel",
      "_view_count": null,
      "_view_module": "@jupyter-widgets/base",
      "_view_module_version": "1.2.0",
      "_view_name": "StyleView",
      "description_width": ""
     }
    },
    "26750021bdc543fe8d6fdf0d414eb883": {
     "model_module": "@jupyter-widgets/controls",
     "model_module_version": "1.5.0",
     "model_name": "FloatProgressModel",
     "state": {
      "_dom_classes": [],
      "_model_module": "@jupyter-widgets/controls",
      "_model_module_version": "1.5.0",
      "_model_name": "FloatProgressModel",
      "_view_count": null,
      "_view_module": "@jupyter-widgets/controls",
      "_view_module_version": "1.5.0",
      "_view_name": "ProgressView",
      "bar_style": "success",
      "description": "",
      "description_tooltip": null,
      "layout": "IPY_MODEL_2f4406914fce49ba8888139b472759fa",
      "max": 26421880,
      "min": 0,
      "orientation": "horizontal",
      "style": "IPY_MODEL_411204e856b64b89aa9e46241b1756d0",
      "value": 26421880
     }
    },
    "2809c0b8637c49c0bcb6596a472d37dd": {
     "model_module": "@jupyter-widgets/controls",
     "model_module_version": "1.5.0",
     "model_name": "DescriptionStyleModel",
     "state": {
      "_model_module": "@jupyter-widgets/controls",
      "_model_module_version": "1.5.0",
      "_model_name": "DescriptionStyleModel",
      "_view_count": null,
      "_view_module": "@jupyter-widgets/base",
      "_view_module_version": "1.2.0",
      "_view_name": "StyleView",
      "description_width": ""
     }
    },
    "2f4406914fce49ba8888139b472759fa": {
     "model_module": "@jupyter-widgets/base",
     "model_module_version": "1.2.0",
     "model_name": "LayoutModel",
     "state": {
      "_model_module": "@jupyter-widgets/base",
      "_model_module_version": "1.2.0",
      "_model_name": "LayoutModel",
      "_view_count": null,
      "_view_module": "@jupyter-widgets/base",
      "_view_module_version": "1.2.0",
      "_view_name": "LayoutView",
      "align_content": null,
      "align_items": null,
      "align_self": null,
      "border": null,
      "bottom": null,
      "display": null,
      "flex": null,
      "flex_flow": null,
      "grid_area": null,
      "grid_auto_columns": null,
      "grid_auto_flow": null,
      "grid_auto_rows": null,
      "grid_column": null,
      "grid_gap": null,
      "grid_row": null,
      "grid_template_areas": null,
      "grid_template_columns": null,
      "grid_template_rows": null,
      "height": null,
      "justify_content": null,
      "justify_items": null,
      "left": null,
      "margin": null,
      "max_height": null,
      "max_width": null,
      "min_height": null,
      "min_width": null,
      "object_fit": null,
      "object_position": null,
      "order": null,
      "overflow": null,
      "overflow_x": null,
      "overflow_y": null,
      "padding": null,
      "right": null,
      "top": null,
      "visibility": null,
      "width": null
     }
    },
    "304b3131a2314f9ba691027e2fd82d32": {
     "model_module": "@jupyter-widgets/controls",
     "model_module_version": "1.5.0",
     "model_name": "HTMLModel",
     "state": {
      "_dom_classes": [],
      "_model_module": "@jupyter-widgets/controls",
      "_model_module_version": "1.5.0",
      "_model_name": "HTMLModel",
      "_view_count": null,
      "_view_module": "@jupyter-widgets/controls",
      "_view_module_version": "1.5.0",
      "_view_name": "HTMLView",
      "description": "",
      "description_tooltip": null,
      "layout": "IPY_MODEL_38104ef0d4274b11817b5449adb7db81",
      "placeholder": "​",
      "style": "IPY_MODEL_24c92162d05047b88f17877715397634",
      "value": "100%"
     }
    },
    "38104ef0d4274b11817b5449adb7db81": {
     "model_module": "@jupyter-widgets/base",
     "model_module_version": "1.2.0",
     "model_name": "LayoutModel",
     "state": {
      "_model_module": "@jupyter-widgets/base",
      "_model_module_version": "1.2.0",
      "_model_name": "LayoutModel",
      "_view_count": null,
      "_view_module": "@jupyter-widgets/base",
      "_view_module_version": "1.2.0",
      "_view_name": "LayoutView",
      "align_content": null,
      "align_items": null,
      "align_self": null,
      "border": null,
      "bottom": null,
      "display": null,
      "flex": null,
      "flex_flow": null,
      "grid_area": null,
      "grid_auto_columns": null,
      "grid_auto_flow": null,
      "grid_auto_rows": null,
      "grid_column": null,
      "grid_gap": null,
      "grid_row": null,
      "grid_template_areas": null,
      "grid_template_columns": null,
      "grid_template_rows": null,
      "height": null,
      "justify_content": null,
      "justify_items": null,
      "left": null,
      "margin": null,
      "max_height": null,
      "max_width": null,
      "min_height": null,
      "min_width": null,
      "object_fit": null,
      "object_position": null,
      "order": null,
      "overflow": null,
      "overflow_x": null,
      "overflow_y": null,
      "padding": null,
      "right": null,
      "top": null,
      "visibility": null,
      "width": null
     }
    },
    "3a3c5a3b2ffd413e9aa90885b827ce91": {
     "model_module": "@jupyter-widgets/controls",
     "model_module_version": "1.5.0",
     "model_name": "HTMLModel",
     "state": {
      "_dom_classes": [],
      "_model_module": "@jupyter-widgets/controls",
      "_model_module_version": "1.5.0",
      "_model_name": "HTMLModel",
      "_view_count": null,
      "_view_module": "@jupyter-widgets/controls",
      "_view_module_version": "1.5.0",
      "_view_name": "HTMLView",
      "description": "",
      "description_tooltip": null,
      "layout": "IPY_MODEL_4bdb4251a36344b0bac46ac204b9cb51",
      "placeholder": "​",
      "style": "IPY_MODEL_9811223d3d0e44ad8cbc32997f911686",
      "value": "100%"
     }
    },
    "411204e856b64b89aa9e46241b1756d0": {
     "model_module": "@jupyter-widgets/controls",
     "model_module_version": "1.5.0",
     "model_name": "ProgressStyleModel",
     "state": {
      "_model_module": "@jupyter-widgets/controls",
      "_model_module_version": "1.5.0",
      "_model_name": "ProgressStyleModel",
      "_view_count": null,
      "_view_module": "@jupyter-widgets/base",
      "_view_module_version": "1.2.0",
      "_view_name": "StyleView",
      "bar_color": null,
      "description_width": ""
     }
    },
    "496a1112665e415c86b9dc211e182194": {
     "model_module": "@jupyter-widgets/base",
     "model_module_version": "1.2.0",
     "model_name": "LayoutModel",
     "state": {
      "_model_module": "@jupyter-widgets/base",
      "_model_module_version": "1.2.0",
      "_model_name": "LayoutModel",
      "_view_count": null,
      "_view_module": "@jupyter-widgets/base",
      "_view_module_version": "1.2.0",
      "_view_name": "LayoutView",
      "align_content": null,
      "align_items": null,
      "align_self": null,
      "border": null,
      "bottom": null,
      "display": null,
      "flex": null,
      "flex_flow": null,
      "grid_area": null,
      "grid_auto_columns": null,
      "grid_auto_flow": null,
      "grid_auto_rows": null,
      "grid_column": null,
      "grid_gap": null,
      "grid_row": null,
      "grid_template_areas": null,
      "grid_template_columns": null,
      "grid_template_rows": null,
      "height": null,
      "justify_content": null,
      "justify_items": null,
      "left": null,
      "margin": null,
      "max_height": null,
      "max_width": null,
      "min_height": null,
      "min_width": null,
      "object_fit": null,
      "object_position": null,
      "order": null,
      "overflow": null,
      "overflow_x": null,
      "overflow_y": null,
      "padding": null,
      "right": null,
      "top": null,
      "visibility": null,
      "width": null
     }
    },
    "4bdb4251a36344b0bac46ac204b9cb51": {
     "model_module": "@jupyter-widgets/base",
     "model_module_version": "1.2.0",
     "model_name": "LayoutModel",
     "state": {
      "_model_module": "@jupyter-widgets/base",
      "_model_module_version": "1.2.0",
      "_model_name": "LayoutModel",
      "_view_count": null,
      "_view_module": "@jupyter-widgets/base",
      "_view_module_version": "1.2.0",
      "_view_name": "LayoutView",
      "align_content": null,
      "align_items": null,
      "align_self": null,
      "border": null,
      "bottom": null,
      "display": null,
      "flex": null,
      "flex_flow": null,
      "grid_area": null,
      "grid_auto_columns": null,
      "grid_auto_flow": null,
      "grid_auto_rows": null,
      "grid_column": null,
      "grid_gap": null,
      "grid_row": null,
      "grid_template_areas": null,
      "grid_template_columns": null,
      "grid_template_rows": null,
      "height": null,
      "justify_content": null,
      "justify_items": null,
      "left": null,
      "margin": null,
      "max_height": null,
      "max_width": null,
      "min_height": null,
      "min_width": null,
      "object_fit": null,
      "object_position": null,
      "order": null,
      "overflow": null,
      "overflow_x": null,
      "overflow_y": null,
      "padding": null,
      "right": null,
      "top": null,
      "visibility": null,
      "width": null
     }
    },
    "551333badbb74946ba2618c543549ca7": {
     "model_module": "@jupyter-widgets/controls",
     "model_module_version": "1.5.0",
     "model_name": "HTMLModel",
     "state": {
      "_dom_classes": [],
      "_model_module": "@jupyter-widgets/controls",
      "_model_module_version": "1.5.0",
      "_model_name": "HTMLModel",
      "_view_count": null,
      "_view_module": "@jupyter-widgets/controls",
      "_view_module_version": "1.5.0",
      "_view_name": "HTMLView",
      "description": "",
      "description_tooltip": null,
      "layout": "IPY_MODEL_e88378f31b844cd09c800d99179d9b0f",
      "placeholder": "​",
      "style": "IPY_MODEL_8dc71b8416704f159b3c00e0af589943",
      "value": " 5148/5148 [00:00&lt;00:00, 400933.56it/s]"
     }
    },
    "5538ae5769f74d36826b82cbf201eca7": {
     "model_module": "@jupyter-widgets/controls",
     "model_module_version": "1.5.0",
     "model_name": "HBoxModel",
     "state": {
      "_dom_classes": [],
      "_model_module": "@jupyter-widgets/controls",
      "_model_module_version": "1.5.0",
      "_model_name": "HBoxModel",
      "_view_count": null,
      "_view_module": "@jupyter-widgets/controls",
      "_view_module_version": "1.5.0",
      "_view_name": "HBoxView",
      "box_style": "",
      "children": [
       "IPY_MODEL_3a3c5a3b2ffd413e9aa90885b827ce91",
       "IPY_MODEL_d34c530cc8ed4854b420823311b49d07",
       "IPY_MODEL_580faf9330344d3fab52bfb267a0d9b6"
      ],
      "layout": "IPY_MODEL_7f501548afdf4b94a982bcc0092327fb"
     }
    },
    "580faf9330344d3fab52bfb267a0d9b6": {
     "model_module": "@jupyter-widgets/controls",
     "model_module_version": "1.5.0",
     "model_name": "HTMLModel",
     "state": {
      "_dom_classes": [],
      "_model_module": "@jupyter-widgets/controls",
      "_model_module_version": "1.5.0",
      "_model_name": "HTMLModel",
      "_view_count": null,
      "_view_module": "@jupyter-widgets/controls",
      "_view_module_version": "1.5.0",
      "_view_name": "HTMLView",
      "description": "",
      "description_tooltip": null,
      "layout": "IPY_MODEL_c21194ef9ea248f98199c7237ad45c6a",
      "placeholder": "​",
      "style": "IPY_MODEL_2809c0b8637c49c0bcb6596a472d37dd",
      "value": " 4422102/4422102 [00:01&lt;00:00, 4454483.34it/s]"
     }
    },
    "5e38b4179ff542569cc21d812c80ca2b": {
     "model_module": "@jupyter-widgets/controls",
     "model_module_version": "1.5.0",
     "model_name": "HTMLModel",
     "state": {
      "_dom_classes": [],
      "_model_module": "@jupyter-widgets/controls",
      "_model_module_version": "1.5.0",
      "_model_name": "HTMLModel",
      "_view_count": null,
      "_view_module": "@jupyter-widgets/controls",
      "_view_module_version": "1.5.0",
      "_view_name": "HTMLView",
      "description": "",
      "description_tooltip": null,
      "layout": "IPY_MODEL_dca0cab98cce468ea7505f4def376198",
      "placeholder": "​",
      "style": "IPY_MODEL_a1da42a5fae44bd0a6bf0843a93a1f88",
      "value": " 26421880/26421880 [00:03&lt;00:00, 14345076.86it/s]"
     }
    },
    "5f346aa8aaa744489f23d6aa3bf76edc": {
     "model_module": "@jupyter-widgets/controls",
     "model_module_version": "1.5.0",
     "model_name": "HBoxModel",
     "state": {
      "_dom_classes": [],
      "_model_module": "@jupyter-widgets/controls",
      "_model_module_version": "1.5.0",
      "_model_name": "HBoxModel",
      "_view_count": null,
      "_view_module": "@jupyter-widgets/controls",
      "_view_module_version": "1.5.0",
      "_view_name": "HBoxView",
      "box_style": "",
      "children": [
       "IPY_MODEL_c34b5b5baa9a4d869c3a91e4a8194e3a",
       "IPY_MODEL_7b49d0ca36be48c4a0fbac67b815c408",
       "IPY_MODEL_551333badbb74946ba2618c543549ca7"
      ],
      "layout": "IPY_MODEL_e7df697bfdd24ddda6a7e46f7077b20f"
     }
    },
    "7b49d0ca36be48c4a0fbac67b815c408": {
     "model_module": "@jupyter-widgets/controls",
     "model_module_version": "1.5.0",
     "model_name": "FloatProgressModel",
     "state": {
      "_dom_classes": [],
      "_model_module": "@jupyter-widgets/controls",
      "_model_module_version": "1.5.0",
      "_model_name": "FloatProgressModel",
      "_view_count": null,
      "_view_module": "@jupyter-widgets/controls",
      "_view_module_version": "1.5.0",
      "_view_name": "ProgressView",
      "bar_style": "success",
      "description": "",
      "description_tooltip": null,
      "layout": "IPY_MODEL_82ff57c646644db3b6206674306d2618",
      "max": 5148,
      "min": 0,
      "orientation": "horizontal",
      "style": "IPY_MODEL_b487370ddaae40b49202726dc9ccd549",
      "value": 5148
     }
    },
    "7f501548afdf4b94a982bcc0092327fb": {
     "model_module": "@jupyter-widgets/base",
     "model_module_version": "1.2.0",
     "model_name": "LayoutModel",
     "state": {
      "_model_module": "@jupyter-widgets/base",
      "_model_module_version": "1.2.0",
      "_model_name": "LayoutModel",
      "_view_count": null,
      "_view_module": "@jupyter-widgets/base",
      "_view_module_version": "1.2.0",
      "_view_name": "LayoutView",
      "align_content": null,
      "align_items": null,
      "align_self": null,
      "border": null,
      "bottom": null,
      "display": null,
      "flex": null,
      "flex_flow": null,
      "grid_area": null,
      "grid_auto_columns": null,
      "grid_auto_flow": null,
      "grid_auto_rows": null,
      "grid_column": null,
      "grid_gap": null,
      "grid_row": null,
      "grid_template_areas": null,
      "grid_template_columns": null,
      "grid_template_rows": null,
      "height": null,
      "justify_content": null,
      "justify_items": null,
      "left": null,
      "margin": null,
      "max_height": null,
      "max_width": null,
      "min_height": null,
      "min_width": null,
      "object_fit": null,
      "object_position": null,
      "order": null,
      "overflow": null,
      "overflow_x": null,
      "overflow_y": null,
      "padding": null,
      "right": null,
      "top": null,
      "visibility": null,
      "width": null
     }
    },
    "80cedd676bdd417c8ec5d2fb433b0d61": {
     "model_module": "@jupyter-widgets/base",
     "model_module_version": "1.2.0",
     "model_name": "LayoutModel",
     "state": {
      "_model_module": "@jupyter-widgets/base",
      "_model_module_version": "1.2.0",
      "_model_name": "LayoutModel",
      "_view_count": null,
      "_view_module": "@jupyter-widgets/base",
      "_view_module_version": "1.2.0",
      "_view_name": "LayoutView",
      "align_content": null,
      "align_items": null,
      "align_self": null,
      "border": null,
      "bottom": null,
      "display": null,
      "flex": null,
      "flex_flow": null,
      "grid_area": null,
      "grid_auto_columns": null,
      "grid_auto_flow": null,
      "grid_auto_rows": null,
      "grid_column": null,
      "grid_gap": null,
      "grid_row": null,
      "grid_template_areas": null,
      "grid_template_columns": null,
      "grid_template_rows": null,
      "height": null,
      "justify_content": null,
      "justify_items": null,
      "left": null,
      "margin": null,
      "max_height": null,
      "max_width": null,
      "min_height": null,
      "min_width": null,
      "object_fit": null,
      "object_position": null,
      "order": null,
      "overflow": null,
      "overflow_x": null,
      "overflow_y": null,
      "padding": null,
      "right": null,
      "top": null,
      "visibility": null,
      "width": null
     }
    },
    "82ff57c646644db3b6206674306d2618": {
     "model_module": "@jupyter-widgets/base",
     "model_module_version": "1.2.0",
     "model_name": "LayoutModel",
     "state": {
      "_model_module": "@jupyter-widgets/base",
      "_model_module_version": "1.2.0",
      "_model_name": "LayoutModel",
      "_view_count": null,
      "_view_module": "@jupyter-widgets/base",
      "_view_module_version": "1.2.0",
      "_view_name": "LayoutView",
      "align_content": null,
      "align_items": null,
      "align_self": null,
      "border": null,
      "bottom": null,
      "display": null,
      "flex": null,
      "flex_flow": null,
      "grid_area": null,
      "grid_auto_columns": null,
      "grid_auto_flow": null,
      "grid_auto_rows": null,
      "grid_column": null,
      "grid_gap": null,
      "grid_row": null,
      "grid_template_areas": null,
      "grid_template_columns": null,
      "grid_template_rows": null,
      "height": null,
      "justify_content": null,
      "justify_items": null,
      "left": null,
      "margin": null,
      "max_height": null,
      "max_width": null,
      "min_height": null,
      "min_width": null,
      "object_fit": null,
      "object_position": null,
      "order": null,
      "overflow": null,
      "overflow_x": null,
      "overflow_y": null,
      "padding": null,
      "right": null,
      "top": null,
      "visibility": null,
      "width": null
     }
    },
    "84a25d701dbd41b19b7c697aede841ec": {
     "model_module": "@jupyter-widgets/base",
     "model_module_version": "1.2.0",
     "model_name": "LayoutModel",
     "state": {
      "_model_module": "@jupyter-widgets/base",
      "_model_module_version": "1.2.0",
      "_model_name": "LayoutModel",
      "_view_count": null,
      "_view_module": "@jupyter-widgets/base",
      "_view_module_version": "1.2.0",
      "_view_name": "LayoutView",
      "align_content": null,
      "align_items": null,
      "align_self": null,
      "border": null,
      "bottom": null,
      "display": null,
      "flex": null,
      "flex_flow": null,
      "grid_area": null,
      "grid_auto_columns": null,
      "grid_auto_flow": null,
      "grid_auto_rows": null,
      "grid_column": null,
      "grid_gap": null,
      "grid_row": null,
      "grid_template_areas": null,
      "grid_template_columns": null,
      "grid_template_rows": null,
      "height": null,
      "justify_content": null,
      "justify_items": null,
      "left": null,
      "margin": null,
      "max_height": null,
      "max_width": null,
      "min_height": null,
      "min_width": null,
      "object_fit": null,
      "object_position": null,
      "order": null,
      "overflow": null,
      "overflow_x": null,
      "overflow_y": null,
      "padding": null,
      "right": null,
      "top": null,
      "visibility": null,
      "width": null
     }
    },
    "88980c93076942b2b0ec34e6edf23223": {
     "model_module": "@jupyter-widgets/controls",
     "model_module_version": "1.5.0",
     "model_name": "ProgressStyleModel",
     "state": {
      "_model_module": "@jupyter-widgets/controls",
      "_model_module_version": "1.5.0",
      "_model_name": "ProgressStyleModel",
      "_view_count": null,
      "_view_module": "@jupyter-widgets/base",
      "_view_module_version": "1.2.0",
      "_view_name": "StyleView",
      "bar_color": null,
      "description_width": ""
     }
    },
    "8dc71b8416704f159b3c00e0af589943": {
     "model_module": "@jupyter-widgets/controls",
     "model_module_version": "1.5.0",
     "model_name": "DescriptionStyleModel",
     "state": {
      "_model_module": "@jupyter-widgets/controls",
      "_model_module_version": "1.5.0",
      "_model_name": "DescriptionStyleModel",
      "_view_count": null,
      "_view_module": "@jupyter-widgets/base",
      "_view_module_version": "1.2.0",
      "_view_name": "StyleView",
      "description_width": ""
     }
    },
    "8e2ef16b7e0d405da3b6b9ccc870ef02": {
     "model_module": "@jupyter-widgets/base",
     "model_module_version": "1.2.0",
     "model_name": "LayoutModel",
     "state": {
      "_model_module": "@jupyter-widgets/base",
      "_model_module_version": "1.2.0",
      "_model_name": "LayoutModel",
      "_view_count": null,
      "_view_module": "@jupyter-widgets/base",
      "_view_module_version": "1.2.0",
      "_view_name": "LayoutView",
      "align_content": null,
      "align_items": null,
      "align_self": null,
      "border": null,
      "bottom": null,
      "display": null,
      "flex": null,
      "flex_flow": null,
      "grid_area": null,
      "grid_auto_columns": null,
      "grid_auto_flow": null,
      "grid_auto_rows": null,
      "grid_column": null,
      "grid_gap": null,
      "grid_row": null,
      "grid_template_areas": null,
      "grid_template_columns": null,
      "grid_template_rows": null,
      "height": null,
      "justify_content": null,
      "justify_items": null,
      "left": null,
      "margin": null,
      "max_height": null,
      "max_width": null,
      "min_height": null,
      "min_width": null,
      "object_fit": null,
      "object_position": null,
      "order": null,
      "overflow": null,
      "overflow_x": null,
      "overflow_y": null,
      "padding": null,
      "right": null,
      "top": null,
      "visibility": null,
      "width": null
     }
    },
    "9811223d3d0e44ad8cbc32997f911686": {
     "model_module": "@jupyter-widgets/controls",
     "model_module_version": "1.5.0",
     "model_name": "DescriptionStyleModel",
     "state": {
      "_model_module": "@jupyter-widgets/controls",
      "_model_module_version": "1.5.0",
      "_model_name": "DescriptionStyleModel",
      "_view_count": null,
      "_view_module": "@jupyter-widgets/base",
      "_view_module_version": "1.2.0",
      "_view_name": "StyleView",
      "description_width": ""
     }
    },
    "a1da42a5fae44bd0a6bf0843a93a1f88": {
     "model_module": "@jupyter-widgets/controls",
     "model_module_version": "1.5.0",
     "model_name": "DescriptionStyleModel",
     "state": {
      "_model_module": "@jupyter-widgets/controls",
      "_model_module_version": "1.5.0",
      "_model_name": "DescriptionStyleModel",
      "_view_count": null,
      "_view_module": "@jupyter-widgets/base",
      "_view_module_version": "1.2.0",
      "_view_name": "StyleView",
      "description_width": ""
     }
    },
    "b487370ddaae40b49202726dc9ccd549": {
     "model_module": "@jupyter-widgets/controls",
     "model_module_version": "1.5.0",
     "model_name": "ProgressStyleModel",
     "state": {
      "_model_module": "@jupyter-widgets/controls",
      "_model_module_version": "1.5.0",
      "_model_name": "ProgressStyleModel",
      "_view_count": null,
      "_view_module": "@jupyter-widgets/base",
      "_view_module_version": "1.2.0",
      "_view_name": "StyleView",
      "bar_color": null,
      "description_width": ""
     }
    },
    "bc4bee3afe7c4e60908bbe639776ec91": {
     "model_module": "@jupyter-widgets/controls",
     "model_module_version": "1.5.0",
     "model_name": "HTMLModel",
     "state": {
      "_dom_classes": [],
      "_model_module": "@jupyter-widgets/controls",
      "_model_module_version": "1.5.0",
      "_model_name": "HTMLModel",
      "_view_count": null,
      "_view_module": "@jupyter-widgets/controls",
      "_view_module_version": "1.5.0",
      "_view_name": "HTMLView",
      "description": "",
      "description_tooltip": null,
      "layout": "IPY_MODEL_dfc971fc398a4ad0b7859f7e04591ac4",
      "placeholder": "​",
      "style": "IPY_MODEL_1587e1a1949e46d5b5be3c47b40c167c",
      "value": " 29515/29515 [00:00&lt;00:00, 145152.47it/s]"
     }
    },
    "c21194ef9ea248f98199c7237ad45c6a": {
     "model_module": "@jupyter-widgets/base",
     "model_module_version": "1.2.0",
     "model_name": "LayoutModel",
     "state": {
      "_model_module": "@jupyter-widgets/base",
      "_model_module_version": "1.2.0",
      "_model_name": "LayoutModel",
      "_view_count": null,
      "_view_module": "@jupyter-widgets/base",
      "_view_module_version": "1.2.0",
      "_view_name": "LayoutView",
      "align_content": null,
      "align_items": null,
      "align_self": null,
      "border": null,
      "bottom": null,
      "display": null,
      "flex": null,
      "flex_flow": null,
      "grid_area": null,
      "grid_auto_columns": null,
      "grid_auto_flow": null,
      "grid_auto_rows": null,
      "grid_column": null,
      "grid_gap": null,
      "grid_row": null,
      "grid_template_areas": null,
      "grid_template_columns": null,
      "grid_template_rows": null,
      "height": null,
      "justify_content": null,
      "justify_items": null,
      "left": null,
      "margin": null,
      "max_height": null,
      "max_width": null,
      "min_height": null,
      "min_width": null,
      "object_fit": null,
      "object_position": null,
      "order": null,
      "overflow": null,
      "overflow_x": null,
      "overflow_y": null,
      "padding": null,
      "right": null,
      "top": null,
      "visibility": null,
      "width": null
     }
    },
    "c34b5b5baa9a4d869c3a91e4a8194e3a": {
     "model_module": "@jupyter-widgets/controls",
     "model_module_version": "1.5.0",
     "model_name": "HTMLModel",
     "state": {
      "_dom_classes": [],
      "_model_module": "@jupyter-widgets/controls",
      "_model_module_version": "1.5.0",
      "_model_name": "HTMLModel",
      "_view_count": null,
      "_view_module": "@jupyter-widgets/controls",
      "_view_module_version": "1.5.0",
      "_view_name": "HTMLView",
      "description": "",
      "description_tooltip": null,
      "layout": "IPY_MODEL_f010fd6d87dc463dae937245537c7fd1",
      "placeholder": "​",
      "style": "IPY_MODEL_f2e3f112474d4408bd9bee22e0194e35",
      "value": "100%"
     }
    },
    "c91cb921f1044d7293fc44e53b3e9161": {
     "model_module": "@jupyter-widgets/controls",
     "model_module_version": "1.5.0",
     "model_name": "ProgressStyleModel",
     "state": {
      "_model_module": "@jupyter-widgets/controls",
      "_model_module_version": "1.5.0",
      "_model_name": "ProgressStyleModel",
      "_view_count": null,
      "_view_module": "@jupyter-widgets/base",
      "_view_module_version": "1.2.0",
      "_view_name": "StyleView",
      "bar_color": null,
      "description_width": ""
     }
    },
    "d34c530cc8ed4854b420823311b49d07": {
     "model_module": "@jupyter-widgets/controls",
     "model_module_version": "1.5.0",
     "model_name": "FloatProgressModel",
     "state": {
      "_dom_classes": [],
      "_model_module": "@jupyter-widgets/controls",
      "_model_module_version": "1.5.0",
      "_model_name": "FloatProgressModel",
      "_view_count": null,
      "_view_module": "@jupyter-widgets/controls",
      "_view_module_version": "1.5.0",
      "_view_name": "ProgressView",
      "bar_style": "success",
      "description": "",
      "description_tooltip": null,
      "layout": "IPY_MODEL_80cedd676bdd417c8ec5d2fb433b0d61",
      "max": 4422102,
      "min": 0,
      "orientation": "horizontal",
      "style": "IPY_MODEL_c91cb921f1044d7293fc44e53b3e9161",
      "value": 4422102
     }
    },
    "dca0cab98cce468ea7505f4def376198": {
     "model_module": "@jupyter-widgets/base",
     "model_module_version": "1.2.0",
     "model_name": "LayoutModel",
     "state": {
      "_model_module": "@jupyter-widgets/base",
      "_model_module_version": "1.2.0",
      "_model_name": "LayoutModel",
      "_view_count": null,
      "_view_module": "@jupyter-widgets/base",
      "_view_module_version": "1.2.0",
      "_view_name": "LayoutView",
      "align_content": null,
      "align_items": null,
      "align_self": null,
      "border": null,
      "bottom": null,
      "display": null,
      "flex": null,
      "flex_flow": null,
      "grid_area": null,
      "grid_auto_columns": null,
      "grid_auto_flow": null,
      "grid_auto_rows": null,
      "grid_column": null,
      "grid_gap": null,
      "grid_row": null,
      "grid_template_areas": null,
      "grid_template_columns": null,
      "grid_template_rows": null,
      "height": null,
      "justify_content": null,
      "justify_items": null,
      "left": null,
      "margin": null,
      "max_height": null,
      "max_width": null,
      "min_height": null,
      "min_width": null,
      "object_fit": null,
      "object_position": null,
      "order": null,
      "overflow": null,
      "overflow_x": null,
      "overflow_y": null,
      "padding": null,
      "right": null,
      "top": null,
      "visibility": null,
      "width": null
     }
    },
    "dd3366b9163f497ba0ff7adb7a89a9f1": {
     "model_module": "@jupyter-widgets/base",
     "model_module_version": "1.2.0",
     "model_name": "LayoutModel",
     "state": {
      "_model_module": "@jupyter-widgets/base",
      "_model_module_version": "1.2.0",
      "_model_name": "LayoutModel",
      "_view_count": null,
      "_view_module": "@jupyter-widgets/base",
      "_view_module_version": "1.2.0",
      "_view_name": "LayoutView",
      "align_content": null,
      "align_items": null,
      "align_self": null,
      "border": null,
      "bottom": null,
      "display": null,
      "flex": null,
      "flex_flow": null,
      "grid_area": null,
      "grid_auto_columns": null,
      "grid_auto_flow": null,
      "grid_auto_rows": null,
      "grid_column": null,
      "grid_gap": null,
      "grid_row": null,
      "grid_template_areas": null,
      "grid_template_columns": null,
      "grid_template_rows": null,
      "height": null,
      "justify_content": null,
      "justify_items": null,
      "left": null,
      "margin": null,
      "max_height": null,
      "max_width": null,
      "min_height": null,
      "min_width": null,
      "object_fit": null,
      "object_position": null,
      "order": null,
      "overflow": null,
      "overflow_x": null,
      "overflow_y": null,
      "padding": null,
      "right": null,
      "top": null,
      "visibility": null,
      "width": null
     }
    },
    "dfc971fc398a4ad0b7859f7e04591ac4": {
     "model_module": "@jupyter-widgets/base",
     "model_module_version": "1.2.0",
     "model_name": "LayoutModel",
     "state": {
      "_model_module": "@jupyter-widgets/base",
      "_model_module_version": "1.2.0",
      "_model_name": "LayoutModel",
      "_view_count": null,
      "_view_module": "@jupyter-widgets/base",
      "_view_module_version": "1.2.0",
      "_view_name": "LayoutView",
      "align_content": null,
      "align_items": null,
      "align_self": null,
      "border": null,
      "bottom": null,
      "display": null,
      "flex": null,
      "flex_flow": null,
      "grid_area": null,
      "grid_auto_columns": null,
      "grid_auto_flow": null,
      "grid_auto_rows": null,
      "grid_column": null,
      "grid_gap": null,
      "grid_row": null,
      "grid_template_areas": null,
      "grid_template_columns": null,
      "grid_template_rows": null,
      "height": null,
      "justify_content": null,
      "justify_items": null,
      "left": null,
      "margin": null,
      "max_height": null,
      "max_width": null,
      "min_height": null,
      "min_width": null,
      "object_fit": null,
      "object_position": null,
      "order": null,
      "overflow": null,
      "overflow_x": null,
      "overflow_y": null,
      "padding": null,
      "right": null,
      "top": null,
      "visibility": null,
      "width": null
     }
    },
    "e7df697bfdd24ddda6a7e46f7077b20f": {
     "model_module": "@jupyter-widgets/base",
     "model_module_version": "1.2.0",
     "model_name": "LayoutModel",
     "state": {
      "_model_module": "@jupyter-widgets/base",
      "_model_module_version": "1.2.0",
      "_model_name": "LayoutModel",
      "_view_count": null,
      "_view_module": "@jupyter-widgets/base",
      "_view_module_version": "1.2.0",
      "_view_name": "LayoutView",
      "align_content": null,
      "align_items": null,
      "align_self": null,
      "border": null,
      "bottom": null,
      "display": null,
      "flex": null,
      "flex_flow": null,
      "grid_area": null,
      "grid_auto_columns": null,
      "grid_auto_flow": null,
      "grid_auto_rows": null,
      "grid_column": null,
      "grid_gap": null,
      "grid_row": null,
      "grid_template_areas": null,
      "grid_template_columns": null,
      "grid_template_rows": null,
      "height": null,
      "justify_content": null,
      "justify_items": null,
      "left": null,
      "margin": null,
      "max_height": null,
      "max_width": null,
      "min_height": null,
      "min_width": null,
      "object_fit": null,
      "object_position": null,
      "order": null,
      "overflow": null,
      "overflow_x": null,
      "overflow_y": null,
      "padding": null,
      "right": null,
      "top": null,
      "visibility": null,
      "width": null
     }
    },
    "e88378f31b844cd09c800d99179d9b0f": {
     "model_module": "@jupyter-widgets/base",
     "model_module_version": "1.2.0",
     "model_name": "LayoutModel",
     "state": {
      "_model_module": "@jupyter-widgets/base",
      "_model_module_version": "1.2.0",
      "_model_name": "LayoutModel",
      "_view_count": null,
      "_view_module": "@jupyter-widgets/base",
      "_view_module_version": "1.2.0",
      "_view_name": "LayoutView",
      "align_content": null,
      "align_items": null,
      "align_self": null,
      "border": null,
      "bottom": null,
      "display": null,
      "flex": null,
      "flex_flow": null,
      "grid_area": null,
      "grid_auto_columns": null,
      "grid_auto_flow": null,
      "grid_auto_rows": null,
      "grid_column": null,
      "grid_gap": null,
      "grid_row": null,
      "grid_template_areas": null,
      "grid_template_columns": null,
      "grid_template_rows": null,
      "height": null,
      "justify_content": null,
      "justify_items": null,
      "left": null,
      "margin": null,
      "max_height": null,
      "max_width": null,
      "min_height": null,
      "min_width": null,
      "object_fit": null,
      "object_position": null,
      "order": null,
      "overflow": null,
      "overflow_x": null,
      "overflow_y": null,
      "padding": null,
      "right": null,
      "top": null,
      "visibility": null,
      "width": null
     }
    },
    "e9b47f7ed16641ecb118014686b5d767": {
     "model_module": "@jupyter-widgets/controls",
     "model_module_version": "1.5.0",
     "model_name": "HBoxModel",
     "state": {
      "_dom_classes": [],
      "_model_module": "@jupyter-widgets/controls",
      "_model_module_version": "1.5.0",
      "_model_name": "HBoxModel",
      "_view_count": null,
      "_view_module": "@jupyter-widgets/controls",
      "_view_module_version": "1.5.0",
      "_view_name": "HBoxView",
      "box_style": "",
      "children": [
       "IPY_MODEL_078ad7c099804a3e9fea03f84b50b0af",
       "IPY_MODEL_26750021bdc543fe8d6fdf0d414eb883",
       "IPY_MODEL_5e38b4179ff542569cc21d812c80ca2b"
      ],
      "layout": "IPY_MODEL_84a25d701dbd41b19b7c697aede841ec"
     }
    },
    "f010fd6d87dc463dae937245537c7fd1": {
     "model_module": "@jupyter-widgets/base",
     "model_module_version": "1.2.0",
     "model_name": "LayoutModel",
     "state": {
      "_model_module": "@jupyter-widgets/base",
      "_model_module_version": "1.2.0",
      "_model_name": "LayoutModel",
      "_view_count": null,
      "_view_module": "@jupyter-widgets/base",
      "_view_module_version": "1.2.0",
      "_view_name": "LayoutView",
      "align_content": null,
      "align_items": null,
      "align_self": null,
      "border": null,
      "bottom": null,
      "display": null,
      "flex": null,
      "flex_flow": null,
      "grid_area": null,
      "grid_auto_columns": null,
      "grid_auto_flow": null,
      "grid_auto_rows": null,
      "grid_column": null,
      "grid_gap": null,
      "grid_row": null,
      "grid_template_areas": null,
      "grid_template_columns": null,
      "grid_template_rows": null,
      "height": null,
      "justify_content": null,
      "justify_items": null,
      "left": null,
      "margin": null,
      "max_height": null,
      "max_width": null,
      "min_height": null,
      "min_width": null,
      "object_fit": null,
      "object_position": null,
      "order": null,
      "overflow": null,
      "overflow_x": null,
      "overflow_y": null,
      "padding": null,
      "right": null,
      "top": null,
      "visibility": null,
      "width": null
     }
    },
    "f26cb385928f46aaa650809c334509cb": {
     "model_module": "@jupyter-widgets/controls",
     "model_module_version": "1.5.0",
     "model_name": "DescriptionStyleModel",
     "state": {
      "_model_module": "@jupyter-widgets/controls",
      "_model_module_version": "1.5.0",
      "_model_name": "DescriptionStyleModel",
      "_view_count": null,
      "_view_module": "@jupyter-widgets/base",
      "_view_module_version": "1.2.0",
      "_view_name": "StyleView",
      "description_width": ""
     }
    },
    "f2e3f112474d4408bd9bee22e0194e35": {
     "model_module": "@jupyter-widgets/controls",
     "model_module_version": "1.5.0",
     "model_name": "DescriptionStyleModel",
     "state": {
      "_model_module": "@jupyter-widgets/controls",
      "_model_module_version": "1.5.0",
      "_model_name": "DescriptionStyleModel",
      "_view_count": null,
      "_view_module": "@jupyter-widgets/base",
      "_view_module_version": "1.2.0",
      "_view_name": "StyleView",
      "description_width": ""
     }
    }
   }
  }
 },
 "nbformat": 4,
 "nbformat_minor": 1
}
