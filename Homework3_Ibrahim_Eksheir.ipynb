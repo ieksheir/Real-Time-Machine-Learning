{
  "cells": [
    {
      "cell_type": "markdown",
      "metadata": {
        "id": "Z0M0n09-HjDY"
      },
      "source": [
        "## Setup"
      ]
    },
    {
      "cell_type": "code",
      "execution_count": 1,
      "metadata": {
        "colab": {
          "base_uri": "https://localhost:8080/"
        },
        "id": "_RHIzeby-qem",
        "outputId": "0c791631-7c7a-463a-e10e-f149baaf9704"
      },
      "outputs": [
        {
          "output_type": "stream",
          "name": "stdout",
          "text": [
            "Looking in indexes: https://pypi.org/simple, https://us-python.pkg.dev/colab-wheels/public/simple/\n",
            "Collecting torchmetrics\n",
            "  Downloading torchmetrics-0.11.3-py3-none-any.whl (518 kB)\n",
            "\u001b[2K     \u001b[90m━━━━━━━━━━━━━━━━━━━━━━━━━━━━━━━━━━━━━━━\u001b[0m \u001b[32m518.6/518.6 KB\u001b[0m \u001b[31m7.4 MB/s\u001b[0m eta \u001b[36m0:00:00\u001b[0m\n",
            "\u001b[?25hRequirement already satisfied: packaging in /usr/local/lib/python3.9/dist-packages (from torchmetrics) (23.0)\n",
            "Requirement already satisfied: torch>=1.8.1 in /usr/local/lib/python3.9/dist-packages (from torchmetrics) (1.13.1+cu116)\n",
            "Requirement already satisfied: numpy>=1.17.2 in /usr/local/lib/python3.9/dist-packages (from torchmetrics) (1.22.4)\n",
            "Requirement already satisfied: typing-extensions in /usr/local/lib/python3.9/dist-packages (from torch>=1.8.1->torchmetrics) (4.5.0)\n",
            "Installing collected packages: torchmetrics\n",
            "Successfully installed torchmetrics-0.11.3\n"
          ]
        }
      ],
      "source": [
        "!pip install torchmetrics"
      ]
    },
    {
      "cell_type": "code",
      "execution_count": 2,
      "metadata": {
        "colab": {
          "base_uri": "https://localhost:8080/"
        },
        "id": "SEDw_oZ4abgp",
        "outputId": "aeca8ff7-d4ec-4eed-f9be-066bdadd3b8d"
      },
      "outputs": [
        {
          "output_type": "stream",
          "name": "stdout",
          "text": [
            "True\n",
            "NVIDIA A100-SXM4-40GB\n",
            "cuda\n"
          ]
        }
      ],
      "source": [
        "import torch\n",
        "import torchvision\n",
        "import torchvision.datasets as datasets\n",
        "from torch.utils.data import DataLoader\n",
        "import torchvision.transforms as transforms\n",
        "import torch.nn as nn\n",
        "import torch.optim as optim\n",
        "import time\n",
        "import torch\n",
        "import torchmetrics\n",
        "import torchvision\n",
        "from torchvision import transforms\n",
        "from torch import nn\n",
        "import torch.optim as optim\n",
        "import torch.nn.functional as F\n",
        "from torch.utils.data import DataLoader, Subset\n",
        "import numpy as np\n",
        "from torch.utils.data import random_split\n",
        "from torch.autograd import Variable\n",
        "from matplotlib import pyplot as plt\n",
        "import pandas as pd\n",
        "#from ptflops import get_model_complexity_info\n",
        "\n",
        "#Make sure we are running on the\n",
        "print(torch.cuda.is_available())\n",
        "# Storing ID of current CUDA device\n",
        "if torch.cuda.is_available():\n",
        "  cuda_id = torch.cuda.current_device()\n",
        "  print(torch.cuda.get_device_name(cuda_id))\n",
        "device = torch.device('cuda' if torch.cuda.is_available() else 'cpu')\n",
        "print(device)"
      ]
    },
    {
      "cell_type": "code",
      "execution_count": 3,
      "metadata": {
        "id": "PUFR1zCsuCRf"
      },
      "outputs": [],
      "source": [
        "#define training fucntion\n",
        "def train(model, train_loader, val_loader, num_epochs, optimizer, criterion):\n",
        "  count = 0\n",
        "  for epoch in range(num_epochs):\n",
        "      for images, labels in train_loader:\n",
        "          model.train()\n",
        "\n",
        "          # Forward pass \n",
        "          outputs = model(images)\n",
        "          labels = torch.eye(10)[labels]\n",
        "          train_loss = criterion(outputs, labels)\n",
        "\n",
        "          # Initializing a gradient as 0 so there is no mixing of gradient among the batches\n",
        "          optimizer.zero_grad()    \n",
        "          # Propagating the error backward\n",
        "          train_loss.backward()\n",
        "          # Optimizing the parameters\n",
        "          optimizer.step()\n",
        "\n",
        "          # calculate the accuracy\n",
        "          accuracy.update(outputs, labels)\n",
        "          \n",
        "      final_accuracy_train = accuracy.compute()         \n",
        "      train_accuracy_list.append(final_accuracy_train)\n",
        "      train_loss_list.append(train_loss)\n",
        "\n",
        "      for images, labels in val_loader:\n",
        "          model.eval()\n",
        "          labels = torch.eye(10)[labels]\n",
        "          # Forward pass \n",
        "          with torch.no_grad():\n",
        "            outputs = model(images)\n",
        "          loss_val = criterion(outputs, labels)\n",
        "\n",
        "          #calculate the accuracy\n",
        "          accuracy.update(outputs, labels)\n",
        "\n",
        "      final_accuracy_val = accuracy.compute()    \n",
        "      val_accuracy_list.append(final_accuracy_val)\n",
        "      val_loss_list.append(loss_val)\n",
        "      print (f'Epoch [{epoch+1}/{num_epochs}], Loss: {train_loss}, Train Acc: {final_accuracy_train}, ValidationLoss: {loss_val}, Validation Acc: {final_accuracy_val}')     \n",
        "      accuracy.reset()"
      ]
    },
    {
      "cell_type": "markdown",
      "metadata": {
        "id": "7qmu_KK_Haj9"
      },
      "source": [
        "## Loading CIFAR10"
      ]
    },
    {
      "cell_type": "code",
      "execution_count": 4,
      "metadata": {
        "colab": {
          "base_uri": "https://localhost:8080/",
          "height": 101,
          "referenced_widgets": [
            "e8c90554b6e049cbb6c8b5a9157adb46",
            "e225e26ff1e14aee90a9e8e367af9741",
            "36dfbdf3dce649d69c8b07fe4d09b068",
            "83bd4a37ee7242e1b6957b768a91b577",
            "e034be4cf7ef45fa8d5ad59f3635c133",
            "52606ffde8fd4079957243279e0ee574",
            "7b8d9e0bc97c416992fe38c4a064521a",
            "5af32eb8caea42978f7e48b7b94691f0",
            "40aba9196b84404ca3417c555f61de08",
            "78f2bcc3cb944f6098af433619fa3368",
            "02dd17abae634757afd3d8cbb675c884"
          ]
        },
        "id": "4GuWdxSJbI8U",
        "outputId": "da1477c3-5b00-44b3-f072-7d6cd1ab9830"
      },
      "outputs": [
        {
          "output_type": "stream",
          "name": "stdout",
          "text": [
            "Downloading https://www.cs.toronto.edu/~kriz/cifar-10-python.tar.gz to ./data/cifar-10-python.tar.gz\n"
          ]
        },
        {
          "output_type": "display_data",
          "data": {
            "text/plain": [
              "  0%|          | 0/170498071 [00:00<?, ?it/s]"
            ],
            "application/vnd.jupyter.widget-view+json": {
              "version_major": 2,
              "version_minor": 0,
              "model_id": "e8c90554b6e049cbb6c8b5a9157adb46"
            }
          },
          "metadata": {}
        },
        {
          "output_type": "stream",
          "name": "stdout",
          "text": [
            "Extracting ./data/cifar-10-python.tar.gz to ./data\n",
            "Files already downloaded and verified\n"
          ]
        }
      ],
      "source": [
        "transform= transforms.Compose([\n",
        "    transforms.Resize(64),\n",
        "    transforms.ToTensor(),\n",
        "    transforms.Normalize((0.5, 0.5, 0.5), (0.5, 0.5, 0.5))\n",
        "])\n",
        "\n",
        "cifar_trainset = datasets.CIFAR10(root='./data', train=True, download=True, transform=transform)\n",
        "cifar_testset = datasets.CIFAR10(root='./data', train=False, download=True, transform=transform)"
      ]
    },
    {
      "cell_type": "code",
      "execution_count": 5,
      "metadata": {
        "id": "VaJWo_tMbIzu"
      },
      "outputs": [],
      "source": [
        "batch_size = 20\n",
        "\n",
        "# Create the data loaders\n",
        "train_loader = DataLoader(cifar_trainset, batch_size=batch_size, shuffle = True)\n",
        "val_loader = DataLoader(cifar_testset, batch_size=batch_size, shuffle = False)"
      ]
    },
    {
      "cell_type": "code",
      "execution_count": 6,
      "metadata": {
        "colab": {
          "base_uri": "https://localhost:8080/",
          "height": 317
        },
        "id": "9fIP4vmhbuRF",
        "outputId": "16d5e42d-ecaf-4486-84d0-5e80a4386cf6"
      },
      "outputs": [
        {
          "output_type": "display_data",
          "data": {
            "text/plain": [
              "<Figure size 360x360 with 9 Axes>"
            ],
            "image/png": "[encoded data removed]"
          },
          "metadata": {
            "needs_background": "light"
          }
        }
      ],
      "source": [
        "#visualize a few images from the data loader\n",
        "import matplotlib.pyplot as plt\n",
        "\n",
        "unnormalize = transforms.Normalize((-1.0, -1.0, -1.0), (2.0, 2.0, 2.0))\n",
        "\n",
        "images, labels = next(iter(train_loader))\n",
        "\n",
        "fig, axs = plt.subplots(3, 3, figsize=(5, 5))\n",
        "for i, ax in enumerate(axs.flat):\n",
        "    # Unnormalize the image\n",
        "    image = unnormalize(images[i])\n",
        "    ax.imshow(image.permute(1, 2, 0))\n",
        "    ax.set_title(labels[i].item(), fontsize=10)\n",
        "    ax.axis('off')\n",
        "\n",
        "plt.show()"
      ]
    },
    {
      "cell_type": "markdown",
      "metadata": {
        "id": "CAaHkhkbHGpp"
      },
      "source": [
        "## Problem 1 - a"
      ]
    },
    {
      "cell_type": "code",
      "execution_count": null,
      "metadata": {
        "id": "g4KjicDZbumH"
      },
      "outputs": [],
      "source": [
        "def vgg_block(num_convs, out_channels):\n",
        "    layers = []\n",
        "    for _ in range(num_convs):\n",
        "        layers.append(nn.LazyConv2d(out_channels, kernel_size=3, padding=1))\n",
        "        layers.append(nn.ReLU())\n",
        "    layers.append(nn.MaxPool2d(kernel_size=2,stride=2))\n",
        "    return nn.Sequential(*layers)"
      ]
    },
    {
      "cell_type": "code",
      "execution_count": null,
      "metadata": {
        "id": "rZ7BzoYNpxpb"
      },
      "outputs": [],
      "source": [
        "class VGG(nn.Module):\n",
        "    def __init__(self, arch, lr=0.1, num_classes=10):\n",
        "        super().__init__()\n",
        "        conv_blks = []\n",
        "        for (num_convs, out_channels) in arch:\n",
        "            conv_blks.append(vgg_block(num_convs, out_channels))\n",
        "        self.net = nn.Sequential(\n",
        "            *conv_blks, nn.Flatten(),\n",
        "            nn.LazyLinear(4096), nn.ReLU(), nn.Dropout(0.5),\n",
        "            nn.LazyLinear(4096), nn.ReLU(), nn.Dropout(0.5),\n",
        "            nn.LazyLinear(num_classes))\n",
        "      \n",
        "    def forward(self, x):\n",
        "      x = self.net(x)\n",
        "      return x"
      ]
    },
    {
      "cell_type": "code",
      "execution_count": null,
      "metadata": {
        "colab": {
          "base_uri": "https://localhost:8080/"
        },
        "id": "AKjLaccGuB6m",
        "outputId": "4e83d93d-e4ce-4bb6-ae4d-1917171f9c96"
      },
      "outputs": [
        {
          "output_type": "stream",
          "name": "stdout",
          "text": [
            "VGG(\n",
            "  (net): Sequential(\n",
            "    (0): Sequential(\n",
            "      (0): LazyConv2d(0, 64, kernel_size=(3, 3), stride=(1, 1), padding=(1, 1))\n",
            "      (1): ReLU()\n",
            "      (2): MaxPool2d(kernel_size=2, stride=2, padding=0, dilation=1, ceil_mode=False)\n",
            "    )\n",
            "    (1): Sequential(\n",
            "      (0): LazyConv2d(0, 128, kernel_size=(3, 3), stride=(1, 1), padding=(1, 1))\n",
            "      (1): ReLU()\n",
            "      (2): MaxPool2d(kernel_size=2, stride=2, padding=0, dilation=1, ceil_mode=False)\n",
            "    )\n",
            "    (2): Sequential(\n",
            "      (0): LazyConv2d(0, 256, kernel_size=(3, 3), stride=(1, 1), padding=(1, 1))\n",
            "      (1): ReLU()\n",
            "      (2): LazyConv2d(0, 256, kernel_size=(3, 3), stride=(1, 1), padding=(1, 1))\n",
            "      (3): ReLU()\n",
            "      (4): MaxPool2d(kernel_size=2, stride=2, padding=0, dilation=1, ceil_mode=False)\n",
            "    )\n",
            "    (3): Sequential(\n",
            "      (0): LazyConv2d(0, 512, kernel_size=(3, 3), stride=(1, 1), padding=(1, 1))\n",
            "      (1): ReLU()\n",
            "      (2): LazyConv2d(0, 512, kernel_size=(3, 3), stride=(1, 1), padding=(1, 1))\n",
            "      (3): ReLU()\n",
            "      (4): MaxPool2d(kernel_size=2, stride=2, padding=0, dilation=1, ceil_mode=False)\n",
            "    )\n",
            "    (4): Sequential(\n",
            "      (0): LazyConv2d(0, 512, kernel_size=(3, 3), stride=(1, 1), padding=(1, 1))\n",
            "      (1): ReLU()\n",
            "      (2): LazyConv2d(0, 512, kernel_size=(3, 3), stride=(1, 1), padding=(1, 1))\n",
            "      (3): ReLU()\n",
            "      (4): MaxPool2d(kernel_size=2, stride=2, padding=0, dilation=1, ceil_mode=False)\n",
            "    )\n",
            "    (5): Flatten(start_dim=1, end_dim=-1)\n",
            "    (6): LazyLinear(in_features=0, out_features=4096, bias=True)\n",
            "    (7): ReLU()\n",
            "    (8): Dropout(p=0.5, inplace=False)\n",
            "    (9): LazyLinear(in_features=0, out_features=4096, bias=True)\n",
            "    (10): ReLU()\n",
            "    (11): Dropout(p=0.5, inplace=False)\n",
            "    (12): LazyLinear(in_features=0, out_features=10, bias=True)\n",
            "  )\n",
            ")\n"
          ]
        },
        {
          "output_type": "stream",
          "name": "stderr",
          "text": [
            "/usr/local/lib/python3.8/dist-packages/torch/nn/modules/lazy.py:180: UserWarning: Lazy modules are a new feature under heavy development so changes to the API or functionality can happen at any moment.\n",
            "  warnings.warn('Lazy modules are a new feature under heavy development '\n"
          ]
        }
      ],
      "source": [
        "model = VGG(arch=((1, 64), (1, 128), (2, 256), (2, 512), (2, 512)))\n",
        "print(model)"
      ]
    },
    {
      "cell_type": "code",
      "execution_count": null,
      "metadata": {
        "id": "WwJVLezzFo4_"
      },
      "outputs": [],
      "source": [
        "#define params\n",
        "num_epochs = 5\n",
        "count = 0\n",
        "\n",
        "#loss\n",
        "criterion = nn.CrossEntropyLoss()\n",
        "optimizer = optim.Adam(model.parameters(), lr = 0.1)\n",
        "# define the accuracy metric\n",
        "accuracy = torchmetrics.Accuracy(task='binary')\n",
        "\n",
        "# Lists for visualization of loss and accuracy \n",
        "train_loss_list = []\n",
        "train_accuracy_list = []\n",
        "val_loss_list = []\n",
        "val_accuracy_list = []"
      ]
    },
    {
      "cell_type": "code",
      "execution_count": null,
      "metadata": {
        "colab": {
          "base_uri": "https://localhost:8080/"
        },
        "id": "_H2wv38Y-9dm",
        "outputId": "c7083382-9707-4cf5-e121-d0d4a5a661e2"
      },
      "outputs": [
        {
          "output_type": "stream",
          "name": "stdout",
          "text": [
            "Epoch [1/5], Loss: 2.3409273624420166, Train Acc: 0.4777899980545044, ValidationLoss: 2.3045811653137207, Validation Acc: 0.5214916467666626\n",
            "Epoch [2/5], Loss: 2.2187721729278564, Train Acc: 0.49532800912857056, ValidationLoss: 2.3420279026031494, Validation Acc: 0.5494400262832642\n",
            "Epoch [3/5], Loss: 3.813683032989502, Train Acc: 0.5817700028419495, ValidationLoss: 2.2689261436462402, Validation Acc: 0.5948083400726318\n",
            "Epoch [4/5], Loss: 2.338909864425659, Train Acc: 0.5330359935760498, ValidationLoss: 2.272956132888794, Validation Acc: 0.4741966724395752\n",
            "Epoch [5/5], Loss: 2.288604974746704, Train Acc: 0.5704560279846191, ValidationLoss: 2.403075695037842, Validation Acc: 0.5853800177574158\n"
          ]
        }
      ],
      "source": [
        "train(model, train_loader, val_loader, num_epochs, optimizer, criterion)"
      ]
    },
    {
      "cell_type": "code",
      "source": [
        "Trainlosses= [loss.detach().numpy() for loss in train_loss_list]\n",
        "vallosses= [ loss.detach().numpy() for loss in val_loss_list]\n",
        "\n",
        "plt.plot(range(num_epochs), Trainlosses, 'r', label='Training Loss')\n",
        "plt.plot(range(num_epochs), vallosses, 'y', label='Validation Loss')\n",
        "plt.plot(range(num_epochs), train_accuracy_list, 'b', label='Training Accuracy')\n",
        "plt.plot(range(num_epochs), val_accuracy_list, 'g', label='Validation Accuracy')\n",
        "\n",
        "plt.title('Training and Validation Loss and Accuracy')\n",
        "plt.xlabel('Epochs')\n",
        "plt.ylabel('Loss/Accuracy')\n",
        "plt.legend()\n",
        "\n",
        "plt.show()"
      ],
      "metadata": {
        "colab": {
          "base_uri": "https://localhost:8080/",
          "height": 295
        },
        "id": "1pGQP6sXlQ7a",
        "outputId": "1093e2ae-56a7-4f98-bda7-914de222d974"
      },
      "execution_count": null,
      "outputs": [
        {
          "output_type": "display_data",
          "data": {
            "text/plain": [
              "<Figure size 432x288 with 1 Axes>"
            ],
            "image/png": "[encoded data removed]"
          },
          "metadata": {
            "needs_background": "light"
          }
        }
      ]
    },
    {
      "cell_type": "markdown",
      "metadata": {
        "id": "AyeeMUYGHpIk"
      },
      "source": [
        "## Problem 1 - b"
      ]
    },
    {
      "cell_type": "code",
      "execution_count": null,
      "metadata": {
        "id": "EKPR0z_7HqOO",
        "colab": {
          "base_uri": "https://localhost:8080/"
        },
        "outputId": "0dcb2e0b-d238-4f41-a7fd-66e2fbaa84ce"
      },
      "outputs": [
        {
          "output_type": "stream",
          "name": "stdout",
          "text": [
            "VGG(\n",
            "  (net): Sequential(\n",
            "    (0): Sequential(\n",
            "      (0): LazyConv2d(0, 64, kernel_size=(3, 3), stride=(1, 1), padding=(1, 1))\n",
            "      (1): ReLU()\n",
            "      (2): LazyConv2d(0, 64, kernel_size=(3, 3), stride=(1, 1), padding=(1, 1))\n",
            "      (3): ReLU()\n",
            "      (4): MaxPool2d(kernel_size=2, stride=2, padding=0, dilation=1, ceil_mode=False)\n",
            "    )\n",
            "    (1): Sequential(\n",
            "      (0): LazyConv2d(0, 128, kernel_size=(3, 3), stride=(1, 1), padding=(1, 1))\n",
            "      (1): ReLU()\n",
            "      (2): LazyConv2d(0, 128, kernel_size=(3, 3), stride=(1, 1), padding=(1, 1))\n",
            "      (3): ReLU()\n",
            "      (4): MaxPool2d(kernel_size=2, stride=2, padding=0, dilation=1, ceil_mode=False)\n",
            "    )\n",
            "    (2): Sequential(\n",
            "      (0): LazyConv2d(0, 256, kernel_size=(3, 3), stride=(1, 1), padding=(1, 1))\n",
            "      (1): ReLU()\n",
            "      (2): LazyConv2d(0, 256, kernel_size=(3, 3), stride=(1, 1), padding=(1, 1))\n",
            "      (3): ReLU()\n",
            "      (4): LazyConv2d(0, 256, kernel_size=(3, 3), stride=(1, 1), padding=(1, 1))\n",
            "      (5): ReLU()\n",
            "      (6): MaxPool2d(kernel_size=2, stride=2, padding=0, dilation=1, ceil_mode=False)\n",
            "    )\n",
            "    (3): Sequential(\n",
            "      (0): LazyConv2d(0, 512, kernel_size=(3, 3), stride=(1, 1), padding=(1, 1))\n",
            "      (1): ReLU()\n",
            "      (2): LazyConv2d(0, 512, kernel_size=(3, 3), stride=(1, 1), padding=(1, 1))\n",
            "      (3): ReLU()\n",
            "      (4): LazyConv2d(0, 512, kernel_size=(3, 3), stride=(1, 1), padding=(1, 1))\n",
            "      (5): ReLU()\n",
            "      (6): MaxPool2d(kernel_size=2, stride=2, padding=0, dilation=1, ceil_mode=False)\n",
            "    )\n",
            "    (4): Sequential(\n",
            "      (0): LazyConv2d(0, 512, kernel_size=(3, 3), stride=(1, 1), padding=(1, 1))\n",
            "      (1): ReLU()\n",
            "      (2): LazyConv2d(0, 512, kernel_size=(3, 3), stride=(1, 1), padding=(1, 1))\n",
            "      (3): ReLU()\n",
            "      (4): LazyConv2d(0, 512, kernel_size=(3, 3), stride=(1, 1), padding=(1, 1))\n",
            "      (5): ReLU()\n",
            "      (6): MaxPool2d(kernel_size=2, stride=2, padding=0, dilation=1, ceil_mode=False)\n",
            "    )\n",
            "    (5): Flatten(start_dim=1, end_dim=-1)\n",
            "    (6): LazyLinear(in_features=0, out_features=4096, bias=True)\n",
            "    (7): ReLU()\n",
            "    (8): Dropout(p=0.5, inplace=False)\n",
            "    (9): LazyLinear(in_features=0, out_features=4096, bias=True)\n",
            "    (10): ReLU()\n",
            "    (11): Dropout(p=0.5, inplace=False)\n",
            "    (12): LazyLinear(in_features=0, out_features=10, bias=True)\n",
            "  )\n",
            ")\n"
          ]
        },
        {
          "output_type": "stream",
          "name": "stderr",
          "text": [
            "/usr/local/lib/python3.8/dist-packages/torch/nn/modules/lazy.py:180: UserWarning: Lazy modules are a new feature under heavy development so changes to the API or functionality can happen at any moment.\n",
            "  warnings.warn('Lazy modules are a new feature under heavy development '\n"
          ]
        }
      ],
      "source": [
        "#build VGG-16\n",
        "model = VGG(arch=((2, 64), (2, 128), (3, 256), (3, 512), (3, 512)))\n",
        "print(model)"
      ]
    },
    {
      "cell_type": "code",
      "execution_count": null,
      "metadata": {
        "id": "eHkmdOwPHzBh"
      },
      "outputs": [],
      "source": [
        "#define params\n",
        "num_epochs = 7\n",
        "count = 0\n",
        "\n",
        "#loss\n",
        "criterion = nn.CrossEntropyLoss()\n",
        "optimizer = optim.Adam(model.parameters(), lr = 0.1)\n",
        "# define the accuracy metric\n",
        "accuracy = torchmetrics.Accuracy(task='binary')\n",
        "\n",
        "# Lists for visualization of loss and accuracy \n",
        "train_loss_list = []\n",
        "train_accuracy_list = []\n",
        "val_loss_list = []\n",
        "val_accuracy_list = []"
      ]
    },
    {
      "cell_type": "code",
      "execution_count": null,
      "metadata": {
        "id": "Mcf0-_m2Hzhq",
        "colab": {
          "base_uri": "https://localhost:8080/",
          "height": 415
        },
        "outputId": "9d8c681d-b03e-446a-d13c-2ea1ef71a466"
      },
      "outputs": [
        {
          "metadata": {
            "tags": null
          },
          "name": "stdout",
          "output_type": "stream",
          "text": [
            "Epoch [1/7], Loss: 2.3111324310302734, Train Acc: 0.23680800199508667, ValidationLoss: 2.3246989250183105, Validation Acc: 0.25400665402412415\n",
            "Epoch [2/7], Loss: 2.297865152359009, Train Acc: 0.23606400191783905, ValidationLoss: 2.3523123264312744, Validation Acc: 0.24005332589149475\n",
            "Epoch [3/7], Loss: 2.351515293121338, Train Acc: 0.22055600583553314, ValidationLoss: 2.2602944374084473, Validation Acc: 0.24046333134174347\n",
            "Epoch [4/7], Loss: 2.2916152477264404, Train Acc: 0.22171999514102936, ValidationLoss: 2.3203768730163574, Validation Acc: 0.2281000018119812\n",
            "Epoch [5/7], Loss: 2.284186601638794, Train Acc: 0.2065960019826889, ValidationLoss: 2.3389947414398193, Validation Acc: 0.18883000314235687\n",
            "Epoch [6/7], Loss: 2.3471591472625732, Train Acc: 0.20472800731658936, ValidationLoss: 2.3274967670440674, Validation Acc: 0.22727333009243011\n"
          ]
        },
        {
          "output_type": "error",
          "ename": "KeyboardInterrupt",
          "evalue": "ignored",
          "traceback": [
            "\u001b[0;31m---------------------------------------------------------------------------\u001b[0m",
            "\u001b[0;31mKeyboardInterrupt\u001b[0m                         Traceback (most recent call last)",
            "\u001b[0;32m<ipython-input-22-69d1ef02c7af>\u001b[0m in \u001b[0;36m<module>\u001b[0;34m\u001b[0m\n\u001b[0;32m----> 1\u001b[0;31m \u001b[0mtrain\u001b[0m\u001b[0;34m(\u001b[0m\u001b[0mmodel\u001b[0m\u001b[0;34m,\u001b[0m \u001b[0mtrain_loader\u001b[0m\u001b[0;34m,\u001b[0m \u001b[0mval_loader\u001b[0m\u001b[0;34m,\u001b[0m \u001b[0mnum_epochs\u001b[0m\u001b[0;34m,\u001b[0m \u001b[0moptimizer\u001b[0m\u001b[0;34m,\u001b[0m \u001b[0mcriterion\u001b[0m\u001b[0;34m)\u001b[0m\u001b[0;34m\u001b[0m\u001b[0;34m\u001b[0m\u001b[0m\n\u001b[0m",
            "\u001b[0;32m<ipython-input-3-a1035e32bdb1>\u001b[0m in \u001b[0;36mtrain\u001b[0;34m(model, train_loader, val_loader, num_epochs, optimizer, criterion)\u001b[0m\n\u001b[1;32m     14\u001b[0m           \u001b[0moptimizer\u001b[0m\u001b[0;34m.\u001b[0m\u001b[0mzero_grad\u001b[0m\u001b[0;34m(\u001b[0m\u001b[0;34m)\u001b[0m\u001b[0;34m\u001b[0m\u001b[0;34m\u001b[0m\u001b[0m\n\u001b[1;32m     15\u001b[0m           \u001b[0;31m# Propagating the error backward\u001b[0m\u001b[0;34m\u001b[0m\u001b[0;34m\u001b[0m\u001b[0;34m\u001b[0m\u001b[0m\n\u001b[0;32m---> 16\u001b[0;31m           \u001b[0mtrain_loss\u001b[0m\u001b[0;34m.\u001b[0m\u001b[0mbackward\u001b[0m\u001b[0;34m(\u001b[0m\u001b[0;34m)\u001b[0m\u001b[0;34m\u001b[0m\u001b[0;34m\u001b[0m\u001b[0m\n\u001b[0m\u001b[1;32m     17\u001b[0m           \u001b[0;31m# Optimizing the parameters\u001b[0m\u001b[0;34m\u001b[0m\u001b[0;34m\u001b[0m\u001b[0;34m\u001b[0m\u001b[0m\n\u001b[1;32m     18\u001b[0m           \u001b[0moptimizer\u001b[0m\u001b[0;34m.\u001b[0m\u001b[0mstep\u001b[0m\u001b[0;34m(\u001b[0m\u001b[0;34m)\u001b[0m\u001b[0;34m\u001b[0m\u001b[0;34m\u001b[0m\u001b[0m\n",
            "\u001b[0;32m/usr/local/lib/python3.8/dist-packages/torch/_tensor.py\u001b[0m in \u001b[0;36mbackward\u001b[0;34m(self, gradient, retain_graph, create_graph, inputs)\u001b[0m\n\u001b[1;32m    486\u001b[0m                 \u001b[0minputs\u001b[0m\u001b[0;34m=\u001b[0m\u001b[0minputs\u001b[0m\u001b[0;34m,\u001b[0m\u001b[0;34m\u001b[0m\u001b[0;34m\u001b[0m\u001b[0m\n\u001b[1;32m    487\u001b[0m             )\n\u001b[0;32m--> 488\u001b[0;31m         torch.autograd.backward(\n\u001b[0m\u001b[1;32m    489\u001b[0m             \u001b[0mself\u001b[0m\u001b[0;34m,\u001b[0m \u001b[0mgradient\u001b[0m\u001b[0;34m,\u001b[0m \u001b[0mretain_graph\u001b[0m\u001b[0;34m,\u001b[0m \u001b[0mcreate_graph\u001b[0m\u001b[0;34m,\u001b[0m \u001b[0minputs\u001b[0m\u001b[0;34m=\u001b[0m\u001b[0minputs\u001b[0m\u001b[0;34m\u001b[0m\u001b[0;34m\u001b[0m\u001b[0m\n\u001b[1;32m    490\u001b[0m         )\n",
            "\u001b[0;32m/usr/local/lib/python3.8/dist-packages/torch/autograd/__init__.py\u001b[0m in \u001b[0;36mbackward\u001b[0;34m(tensors, grad_tensors, retain_graph, create_graph, grad_variables, inputs)\u001b[0m\n\u001b[1;32m    195\u001b[0m     \u001b[0;31m# some Python versions print out the first line of a multi-line function\u001b[0m\u001b[0;34m\u001b[0m\u001b[0;34m\u001b[0m\u001b[0;34m\u001b[0m\u001b[0m\n\u001b[1;32m    196\u001b[0m     \u001b[0;31m# calls in the traceback and some print out the last line\u001b[0m\u001b[0;34m\u001b[0m\u001b[0;34m\u001b[0m\u001b[0;34m\u001b[0m\u001b[0m\n\u001b[0;32m--> 197\u001b[0;31m     Variable._execution_engine.run_backward(  # Calls into the C++ engine to run the backward pass\n\u001b[0m\u001b[1;32m    198\u001b[0m         \u001b[0mtensors\u001b[0m\u001b[0;34m,\u001b[0m \u001b[0mgrad_tensors_\u001b[0m\u001b[0;34m,\u001b[0m \u001b[0mretain_graph\u001b[0m\u001b[0;34m,\u001b[0m \u001b[0mcreate_graph\u001b[0m\u001b[0;34m,\u001b[0m \u001b[0minputs\u001b[0m\u001b[0;34m,\u001b[0m\u001b[0;34m\u001b[0m\u001b[0;34m\u001b[0m\u001b[0m\n\u001b[1;32m    199\u001b[0m         allow_unreachable=True, accumulate_grad=True)  # Calls into the C++ engine to run the backward pass\n",
            "\u001b[0;31mKeyboardInterrupt\u001b[0m: "
          ]
        }
      ],
      "source": [
        "train(model, train_loader, val_loader, num_epochs, optimizer, criterion)"
      ]
    },
    {
      "cell_type": "code",
      "source": [
        "Trainlosses= [loss.detach().numpy() for loss in train_loss_list]\n",
        "vallosses= [ loss.detach().numpy() for loss in val_loss_list]\n",
        "\n",
        "plt.plot(range(num_epochs), Trainlosses, 'r', label='Training Loss')\n",
        "plt.plot(range(num_epochs), vallosses, 'y', label='Validation Loss')\n",
        "plt.plot(range(num_epochs), train_accuracy_list, 'b', label='Training Accuracy')\n",
        "plt.plot(range(num_epochs), val_accuracy_list, 'g', label='Validation Accuracy')\n",
        "\n",
        "plt.title('Training and Validation Loss and Accuracy')\n",
        "plt.xlabel('Epochs')\n",
        "plt.ylabel('Loss/Accuracy')\n",
        "plt.legend()\n",
        "\n",
        "plt.show()"
      ],
      "metadata": {
        "id": "dbWz476WlR9v",
        "colab": {
          "base_uri": "https://localhost:8080/",
          "height": 632
        },
        "outputId": "755a81af-54af-4d39-fc51-f7baaa3a02d9"
      },
      "execution_count": null,
      "outputs": [
        {
          "output_type": "error",
          "ename": "ValueError",
          "evalue": "ignored",
          "traceback": [
            "\u001b[0;31m---------------------------------------------------------------------------\u001b[0m",
            "\u001b[0;31mValueError\u001b[0m                                Traceback (most recent call last)",
            "\u001b[0;32m<ipython-input-25-cbab9a66957b>\u001b[0m in \u001b[0;36m<module>\u001b[0;34m\u001b[0m\n\u001b[1;32m      2\u001b[0m \u001b[0mvallosses\u001b[0m\u001b[0;34m=\u001b[0m \u001b[0;34m[\u001b[0m \u001b[0mloss\u001b[0m\u001b[0;34m.\u001b[0m\u001b[0mdetach\u001b[0m\u001b[0;34m(\u001b[0m\u001b[0;34m)\u001b[0m\u001b[0;34m.\u001b[0m\u001b[0mnumpy\u001b[0m\u001b[0;34m(\u001b[0m\u001b[0;34m)\u001b[0m \u001b[0;32mfor\u001b[0m \u001b[0mloss\u001b[0m \u001b[0;32min\u001b[0m \u001b[0mval_loss_list\u001b[0m\u001b[0;34m]\u001b[0m\u001b[0;34m\u001b[0m\u001b[0;34m\u001b[0m\u001b[0m\n\u001b[1;32m      3\u001b[0m \u001b[0;34m\u001b[0m\u001b[0m\n\u001b[0;32m----> 4\u001b[0;31m \u001b[0mplt\u001b[0m\u001b[0;34m.\u001b[0m\u001b[0mplot\u001b[0m\u001b[0;34m(\u001b[0m\u001b[0mrange\u001b[0m\u001b[0;34m(\u001b[0m\u001b[0mnum_epochs\u001b[0m\u001b[0;34m)\u001b[0m\u001b[0;34m,\u001b[0m \u001b[0mTrainlosses\u001b[0m\u001b[0;34m,\u001b[0m \u001b[0;34m'r'\u001b[0m\u001b[0;34m,\u001b[0m \u001b[0mlabel\u001b[0m\u001b[0;34m=\u001b[0m\u001b[0;34m'Training Loss'\u001b[0m\u001b[0;34m)\u001b[0m\u001b[0;34m\u001b[0m\u001b[0;34m\u001b[0m\u001b[0m\n\u001b[0m\u001b[1;32m      5\u001b[0m \u001b[0mplt\u001b[0m\u001b[0;34m.\u001b[0m\u001b[0mplot\u001b[0m\u001b[0;34m(\u001b[0m\u001b[0mrange\u001b[0m\u001b[0;34m(\u001b[0m\u001b[0mnum_epochs\u001b[0m\u001b[0;34m)\u001b[0m\u001b[0;34m,\u001b[0m \u001b[0mvallosses\u001b[0m\u001b[0;34m,\u001b[0m \u001b[0;34m'y'\u001b[0m\u001b[0;34m,\u001b[0m \u001b[0mlabel\u001b[0m\u001b[0;34m=\u001b[0m\u001b[0;34m'Validation Loss'\u001b[0m\u001b[0;34m)\u001b[0m\u001b[0;34m\u001b[0m\u001b[0;34m\u001b[0m\u001b[0m\n\u001b[1;32m      6\u001b[0m \u001b[0mplt\u001b[0m\u001b[0;34m.\u001b[0m\u001b[0mplot\u001b[0m\u001b[0;34m(\u001b[0m\u001b[0mrange\u001b[0m\u001b[0;34m(\u001b[0m\u001b[0mnum_epochs\u001b[0m\u001b[0;34m)\u001b[0m\u001b[0;34m,\u001b[0m \u001b[0mtrain_accuracy_list\u001b[0m\u001b[0;34m,\u001b[0m \u001b[0;34m'b'\u001b[0m\u001b[0;34m,\u001b[0m \u001b[0mlabel\u001b[0m\u001b[0;34m=\u001b[0m\u001b[0;34m'Training Accuracy'\u001b[0m\u001b[0;34m)\u001b[0m\u001b[0;34m\u001b[0m\u001b[0;34m\u001b[0m\u001b[0m\n",
            "\u001b[0;32m/usr/local/lib/python3.8/dist-packages/matplotlib/pyplot.py\u001b[0m in \u001b[0;36mplot\u001b[0;34m(scalex, scaley, data, *args, **kwargs)\u001b[0m\n\u001b[1;32m   2765\u001b[0m \u001b[0;34m@\u001b[0m\u001b[0m_copy_docstring_and_deprecators\u001b[0m\u001b[0;34m(\u001b[0m\u001b[0mAxes\u001b[0m\u001b[0;34m.\u001b[0m\u001b[0mplot\u001b[0m\u001b[0;34m)\u001b[0m\u001b[0;34m\u001b[0m\u001b[0;34m\u001b[0m\u001b[0m\n\u001b[1;32m   2766\u001b[0m \u001b[0;32mdef\u001b[0m \u001b[0mplot\u001b[0m\u001b[0;34m(\u001b[0m\u001b[0;34m*\u001b[0m\u001b[0margs\u001b[0m\u001b[0;34m,\u001b[0m \u001b[0mscalex\u001b[0m\u001b[0;34m=\u001b[0m\u001b[0;32mTrue\u001b[0m\u001b[0;34m,\u001b[0m \u001b[0mscaley\u001b[0m\u001b[0;34m=\u001b[0m\u001b[0;32mTrue\u001b[0m\u001b[0;34m,\u001b[0m \u001b[0mdata\u001b[0m\u001b[0;34m=\u001b[0m\u001b[0;32mNone\u001b[0m\u001b[0;34m,\u001b[0m \u001b[0;34m**\u001b[0m\u001b[0mkwargs\u001b[0m\u001b[0;34m)\u001b[0m\u001b[0;34m:\u001b[0m\u001b[0;34m\u001b[0m\u001b[0;34m\u001b[0m\u001b[0m\n\u001b[0;32m-> 2767\u001b[0;31m     return gca().plot(\n\u001b[0m\u001b[1;32m   2768\u001b[0m         \u001b[0;34m*\u001b[0m\u001b[0margs\u001b[0m\u001b[0;34m,\u001b[0m \u001b[0mscalex\u001b[0m\u001b[0;34m=\u001b[0m\u001b[0mscalex\u001b[0m\u001b[0;34m,\u001b[0m \u001b[0mscaley\u001b[0m\u001b[0;34m=\u001b[0m\u001b[0mscaley\u001b[0m\u001b[0;34m,\u001b[0m\u001b[0;34m\u001b[0m\u001b[0;34m\u001b[0m\u001b[0m\n\u001b[1;32m   2769\u001b[0m         **({\"data\": data} if data is not None else {}), **kwargs)\n",
            "\u001b[0;32m/usr/local/lib/python3.8/dist-packages/matplotlib/axes/_axes.py\u001b[0m in \u001b[0;36mplot\u001b[0;34m(self, scalex, scaley, data, *args, **kwargs)\u001b[0m\n\u001b[1;32m   1633\u001b[0m         \"\"\"\n\u001b[1;32m   1634\u001b[0m         \u001b[0mkwargs\u001b[0m \u001b[0;34m=\u001b[0m \u001b[0mcbook\u001b[0m\u001b[0;34m.\u001b[0m\u001b[0mnormalize_kwargs\u001b[0m\u001b[0;34m(\u001b[0m\u001b[0mkwargs\u001b[0m\u001b[0;34m,\u001b[0m \u001b[0mmlines\u001b[0m\u001b[0;34m.\u001b[0m\u001b[0mLine2D\u001b[0m\u001b[0;34m)\u001b[0m\u001b[0;34m\u001b[0m\u001b[0;34m\u001b[0m\u001b[0m\n\u001b[0;32m-> 1635\u001b[0;31m         \u001b[0mlines\u001b[0m \u001b[0;34m=\u001b[0m \u001b[0;34m[\u001b[0m\u001b[0;34m*\u001b[0m\u001b[0mself\u001b[0m\u001b[0;34m.\u001b[0m\u001b[0m_get_lines\u001b[0m\u001b[0;34m(\u001b[0m\u001b[0;34m*\u001b[0m\u001b[0margs\u001b[0m\u001b[0;34m,\u001b[0m \u001b[0mdata\u001b[0m\u001b[0;34m=\u001b[0m\u001b[0mdata\u001b[0m\u001b[0;34m,\u001b[0m \u001b[0;34m**\u001b[0m\u001b[0mkwargs\u001b[0m\u001b[0;34m)\u001b[0m\u001b[0;34m]\u001b[0m\u001b[0;34m\u001b[0m\u001b[0;34m\u001b[0m\u001b[0m\n\u001b[0m\u001b[1;32m   1636\u001b[0m         \u001b[0;32mfor\u001b[0m \u001b[0mline\u001b[0m \u001b[0;32min\u001b[0m \u001b[0mlines\u001b[0m\u001b[0;34m:\u001b[0m\u001b[0;34m\u001b[0m\u001b[0;34m\u001b[0m\u001b[0m\n\u001b[1;32m   1637\u001b[0m             \u001b[0mself\u001b[0m\u001b[0;34m.\u001b[0m\u001b[0madd_line\u001b[0m\u001b[0;34m(\u001b[0m\u001b[0mline\u001b[0m\u001b[0;34m)\u001b[0m\u001b[0;34m\u001b[0m\u001b[0;34m\u001b[0m\u001b[0m\n",
            "\u001b[0;32m/usr/local/lib/python3.8/dist-packages/matplotlib/axes/_base.py\u001b[0m in \u001b[0;36m__call__\u001b[0;34m(self, data, *args, **kwargs)\u001b[0m\n\u001b[1;32m    310\u001b[0m                 \u001b[0mthis\u001b[0m \u001b[0;34m+=\u001b[0m \u001b[0margs\u001b[0m\u001b[0;34m[\u001b[0m\u001b[0;36m0\u001b[0m\u001b[0;34m]\u001b[0m\u001b[0;34m,\u001b[0m\u001b[0;34m\u001b[0m\u001b[0;34m\u001b[0m\u001b[0m\n\u001b[1;32m    311\u001b[0m                 \u001b[0margs\u001b[0m \u001b[0;34m=\u001b[0m \u001b[0margs\u001b[0m\u001b[0;34m[\u001b[0m\u001b[0;36m1\u001b[0m\u001b[0;34m:\u001b[0m\u001b[0;34m]\u001b[0m\u001b[0;34m\u001b[0m\u001b[0;34m\u001b[0m\u001b[0m\n\u001b[0;32m--> 312\u001b[0;31m             \u001b[0;32myield\u001b[0m \u001b[0;32mfrom\u001b[0m \u001b[0mself\u001b[0m\u001b[0;34m.\u001b[0m\u001b[0m_plot_args\u001b[0m\u001b[0;34m(\u001b[0m\u001b[0mthis\u001b[0m\u001b[0;34m,\u001b[0m \u001b[0mkwargs\u001b[0m\u001b[0;34m)\u001b[0m\u001b[0;34m\u001b[0m\u001b[0;34m\u001b[0m\u001b[0m\n\u001b[0m\u001b[1;32m    313\u001b[0m \u001b[0;34m\u001b[0m\u001b[0m\n\u001b[1;32m    314\u001b[0m     \u001b[0;32mdef\u001b[0m \u001b[0mget_next_color\u001b[0m\u001b[0;34m(\u001b[0m\u001b[0mself\u001b[0m\u001b[0;34m)\u001b[0m\u001b[0;34m:\u001b[0m\u001b[0;34m\u001b[0m\u001b[0;34m\u001b[0m\u001b[0m\n",
            "\u001b[0;32m/usr/local/lib/python3.8/dist-packages/matplotlib/axes/_base.py\u001b[0m in \u001b[0;36m_plot_args\u001b[0;34m(self, tup, kwargs, return_kwargs)\u001b[0m\n\u001b[1;32m    496\u001b[0m \u001b[0;34m\u001b[0m\u001b[0m\n\u001b[1;32m    497\u001b[0m         \u001b[0;32mif\u001b[0m \u001b[0mx\u001b[0m\u001b[0;34m.\u001b[0m\u001b[0mshape\u001b[0m\u001b[0;34m[\u001b[0m\u001b[0;36m0\u001b[0m\u001b[0;34m]\u001b[0m \u001b[0;34m!=\u001b[0m \u001b[0my\u001b[0m\u001b[0;34m.\u001b[0m\u001b[0mshape\u001b[0m\u001b[0;34m[\u001b[0m\u001b[0;36m0\u001b[0m\u001b[0;34m]\u001b[0m\u001b[0;34m:\u001b[0m\u001b[0;34m\u001b[0m\u001b[0;34m\u001b[0m\u001b[0m\n\u001b[0;32m--> 498\u001b[0;31m             raise ValueError(f\"x and y must have same first dimension, but \"\n\u001b[0m\u001b[1;32m    499\u001b[0m                              f\"have shapes {x.shape} and {y.shape}\")\n\u001b[1;32m    500\u001b[0m         \u001b[0;32mif\u001b[0m \u001b[0mx\u001b[0m\u001b[0;34m.\u001b[0m\u001b[0mndim\u001b[0m \u001b[0;34m>\u001b[0m \u001b[0;36m2\u001b[0m \u001b[0;32mor\u001b[0m \u001b[0my\u001b[0m\u001b[0;34m.\u001b[0m\u001b[0mndim\u001b[0m \u001b[0;34m>\u001b[0m \u001b[0;36m2\u001b[0m\u001b[0;34m:\u001b[0m\u001b[0;34m\u001b[0m\u001b[0;34m\u001b[0m\u001b[0m\n",
            "\u001b[0;31mValueError\u001b[0m: x and y must have same first dimension, but have shapes (7,) and (6,)"
          ]
        },
        {
          "output_type": "display_data",
          "data": {
            "text/plain": [
              "<Figure size 432x288 with 1 Axes>"
            ],
            "image/png": "[encoded data removed]"
          },
          "metadata": {
            "needs_background": "light"
          }
        }
      ]
    },
    {
      "cell_type": "code",
      "execution_count": null,
      "metadata": {
        "id": "8Ef_JupHH5Ld",
        "colab": {
          "base_uri": "https://localhost:8080/"
        },
        "outputId": "24d1b454-a8ca-4619-e236-ea9f01b1e767"
      },
      "outputs": [
        {
          "output_type": "stream",
          "name": "stdout",
          "text": [
            "VGG(\n",
            "  (net): Sequential(\n",
            "    (0): Sequential(\n",
            "      (0): LazyConv2d(0, 64, kernel_size=(3, 3), stride=(1, 1), padding=(1, 1))\n",
            "      (1): ReLU()\n",
            "      (2): LazyConv2d(0, 64, kernel_size=(3, 3), stride=(1, 1), padding=(1, 1))\n",
            "      (3): ReLU()\n",
            "      (4): MaxPool2d(kernel_size=2, stride=2, padding=0, dilation=1, ceil_mode=False)\n",
            "    )\n",
            "    (1): Sequential(\n",
            "      (0): LazyConv2d(0, 128, kernel_size=(3, 3), stride=(1, 1), padding=(1, 1))\n",
            "      (1): ReLU()\n",
            "      (2): LazyConv2d(0, 128, kernel_size=(3, 3), stride=(1, 1), padding=(1, 1))\n",
            "      (3): ReLU()\n",
            "      (4): MaxPool2d(kernel_size=2, stride=2, padding=0, dilation=1, ceil_mode=False)\n",
            "    )\n",
            "    (2): Sequential(\n",
            "      (0): LazyConv2d(0, 256, kernel_size=(3, 3), stride=(1, 1), padding=(1, 1))\n",
            "      (1): ReLU()\n",
            "      (2): LazyConv2d(0, 256, kernel_size=(3, 3), stride=(1, 1), padding=(1, 1))\n",
            "      (3): ReLU()\n",
            "      (4): LazyConv2d(0, 256, kernel_size=(3, 3), stride=(1, 1), padding=(1, 1))\n",
            "      (5): ReLU()\n",
            "      (6): LazyConv2d(0, 256, kernel_size=(3, 3), stride=(1, 1), padding=(1, 1))\n",
            "      (7): ReLU()\n",
            "      (8): MaxPool2d(kernel_size=2, stride=2, padding=0, dilation=1, ceil_mode=False)\n",
            "    )\n",
            "    (3): Sequential(\n",
            "      (0): LazyConv2d(0, 512, kernel_size=(3, 3), stride=(1, 1), padding=(1, 1))\n",
            "      (1): ReLU()\n",
            "      (2): LazyConv2d(0, 512, kernel_size=(3, 3), stride=(1, 1), padding=(1, 1))\n",
            "      (3): ReLU()\n",
            "      (4): LazyConv2d(0, 512, kernel_size=(3, 3), stride=(1, 1), padding=(1, 1))\n",
            "      (5): ReLU()\n",
            "      (6): LazyConv2d(0, 512, kernel_size=(3, 3), stride=(1, 1), padding=(1, 1))\n",
            "      (7): ReLU()\n",
            "      (8): MaxPool2d(kernel_size=2, stride=2, padding=0, dilation=1, ceil_mode=False)\n",
            "    )\n",
            "    (4): Sequential(\n",
            "      (0): LazyConv2d(0, 512, kernel_size=(3, 3), stride=(1, 1), padding=(1, 1))\n",
            "      (1): ReLU()\n",
            "      (2): LazyConv2d(0, 512, kernel_size=(3, 3), stride=(1, 1), padding=(1, 1))\n",
            "      (3): ReLU()\n",
            "      (4): LazyConv2d(0, 512, kernel_size=(3, 3), stride=(1, 1), padding=(1, 1))\n",
            "      (5): ReLU()\n",
            "      (6): LazyConv2d(0, 512, kernel_size=(3, 3), stride=(1, 1), padding=(1, 1))\n",
            "      (7): ReLU()\n",
            "      (8): MaxPool2d(kernel_size=2, stride=2, padding=0, dilation=1, ceil_mode=False)\n",
            "    )\n",
            "    (5): Flatten(start_dim=1, end_dim=-1)\n",
            "    (6): LazyLinear(in_features=0, out_features=4096, bias=True)\n",
            "    (7): ReLU()\n",
            "    (8): Dropout(p=0.5, inplace=False)\n",
            "    (9): LazyLinear(in_features=0, out_features=4096, bias=True)\n",
            "    (10): ReLU()\n",
            "    (11): Dropout(p=0.5, inplace=False)\n",
            "    (12): LazyLinear(in_features=0, out_features=10, bias=True)\n",
            "  )\n",
            ")\n"
          ]
        },
        {
          "output_type": "stream",
          "name": "stderr",
          "text": [
            "/usr/local/lib/python3.9/dist-packages/torch/nn/modules/lazy.py:180: UserWarning: Lazy modules are a new feature under heavy development so changes to the API or functionality can happen at any moment.\n",
            "  warnings.warn('Lazy modules are a new feature under heavy development '\n"
          ]
        }
      ],
      "source": [
        "#build VGG-19\n",
        "model = VGG(arch=((2, 64), (2, 128), (4, 256), (4, 512), (4, 512)))\n",
        "print(model)"
      ]
    },
    {
      "cell_type": "code",
      "execution_count": null,
      "metadata": {
        "id": "Z47xiT6qH_BY"
      },
      "outputs": [],
      "source": [
        "#define params\n",
        "num_epochs = 5\n",
        "count = 0\n",
        "\n",
        "#loss\n",
        "criterion = nn.CrossEntropyLoss()\n",
        "optimizer = optim.Adam(model.parameters(), lr = 0.1)\n",
        "# define the accuracy metric\n",
        "accuracy = torchmetrics.Accuracy(task='binary')\n",
        "\n",
        "# Lists for visualization of loss and accuracy \n",
        "train_loss_list = []\n",
        "train_accuracy_list = []\n",
        "val_loss_list = []\n",
        "val_accuracy_list = []"
      ]
    },
    {
      "cell_type": "code",
      "execution_count": null,
      "metadata": {
        "id": "2067p1E9IA48",
        "colab": {
          "base_uri": "https://localhost:8080/"
        },
        "outputId": "49ddb7ab-82d9-4ab1-eafe-0fcaebdb820f"
      },
      "outputs": [
        {
          "output_type": "stream",
          "name": "stdout",
          "text": [
            "Epoch [1/5], Loss: 2.2287254333496094, Train Acc: 0.4943920075893402, ValidationLoss: 2.3879077434539795, Validation Acc: 0.4553266763687134\n",
            "Epoch [2/5], Loss: 2.309577465057373, Train Acc: 0.48956000804901123, ValidationLoss: 2.2798752784729004, Validation Acc: 0.5579666495323181\n",
            "Epoch [3/5], Loss: 2.2975974082946777, Train Acc: 0.49856799840927124, ValidationLoss: 2.286705255508423, Validation Acc: 0.4454733431339264\n",
            "Epoch [4/5], Loss: 2.3282620906829834, Train Acc: 0.4534839987754822, ValidationLoss: 2.325613260269165, Validation Acc: 0.4079033434391022\n",
            "Epoch [5/5], Loss: 2.316659450531006, Train Acc: 0.5083680152893066, ValidationLoss: 2.4171550273895264, Validation Acc: 0.45364001393318176\n"
          ]
        }
      ],
      "source": [
        "train(model, train_loader, val_loader, num_epochs, optimizer, criterion)"
      ]
    },
    {
      "cell_type": "code",
      "source": [
        "Trainlosses= [loss.detach().numpy() for loss in train_loss_list]\n",
        "vallosses= [ loss.detach().numpy() for loss in val_loss_list]\n",
        "\n",
        "plt.plot(range(num_epochs), Trainlosses, 'r', label='Training Loss')\n",
        "plt.plot(range(num_epochs), vallosses, 'y', label='Validation Loss')\n",
        "plt.plot(range(num_epochs), train_accuracy_list, 'b', label='Training Accuracy')\n",
        "plt.plot(range(num_epochs), val_accuracy_list, 'g', label='Validation Accuracy')\n",
        "\n",
        "plt.title('Training and Validation Loss and Accuracy')\n",
        "plt.xlabel('Epochs')\n",
        "plt.ylabel('Loss/Accuracy')\n",
        "plt.legend()\n",
        "\n",
        "plt.show()"
      ],
      "metadata": {
        "id": "1FQL8OyllS12",
        "colab": {
          "base_uri": "https://localhost:8080/",
          "height": 295
        },
        "outputId": "f3a70df4-afab-48f6-d099-1c07fe4e088a"
      },
      "execution_count": null,
      "outputs": [
        {
          "output_type": "display_data",
          "data": {
            "text/plain": [
              "<Figure size 432x288 with 1 Axes>"
            ],
            "image/png": "[encoded data removed]"
          },
          "metadata": {
            "needs_background": "light"
          }
        }
      ]
    },
    {
      "cell_type": "markdown",
      "metadata": {
        "id": "ddBKKakOKl_r"
      },
      "source": [
        "## Problem 2 - a"
      ]
    },
    {
      "cell_type": "code",
      "execution_count": 7,
      "metadata": {
        "id": "qvLpokEIKyUL"
      },
      "outputs": [],
      "source": [
        "class Inception(nn.Module):\n",
        "    # c1--c4 are the number of output channels for each branch\n",
        "    def __init__(self, c1, c2, c3, c4, **kwargs):\n",
        "        super(Inception, self).__init__(**kwargs)\n",
        "        # Branch 1\n",
        "        self.b1_1 = nn.LazyConv2d(c1, kernel_size=1)\n",
        "        # Branch 2\n",
        "        self.b2_1 = nn.LazyConv2d(c2[0], kernel_size=1)\n",
        "        self.b2_2 = nn.LazyConv2d(c2[1], kernel_size=3, padding=1)\n",
        "        # Branch 3\n",
        "        self.b3_1 = nn.LazyConv2d(c3[0], kernel_size=1)\n",
        "        self.b3_2 = nn.LazyConv2d(c3[1], kernel_size=5, padding=2)\n",
        "        # Branch 4\n",
        "        self.b4_1 = nn.MaxPool2d(kernel_size=3, stride=1, padding=1)\n",
        "        self.b4_2 = nn.LazyConv2d(c4, kernel_size=1)\n",
        "\n",
        "    def forward(self, x):\n",
        "        b1 = F.relu(self.b1_1(x))\n",
        "        b2 = F.relu(self.b2_2(F.relu(self.b2_1(x))))\n",
        "        b3 = F.relu(self.b3_2(F.relu(self.b3_1(x))))\n",
        "        b4 = F.relu(self.b4_2(self.b4_1(x)))\n",
        "        return torch.cat((b1, b2, b3, b4), dim=1)"
      ]
    },
    {
      "cell_type": "code",
      "execution_count": 8,
      "metadata": {
        "id": "caqcsDfXLMtW"
      },
      "outputs": [],
      "source": [
        "class GoogleNet(nn.Module):\n",
        "    def b1(self):\n",
        "        return nn.Sequential(\n",
        "            nn.LazyConv2d(64, kernel_size=7, stride=2, padding=3),\n",
        "            nn.ReLU(), nn.MaxPool2d(kernel_size=3, stride=2, padding=1))\n",
        "        \n",
        "    def b2(self):\n",
        "      return nn.Sequential(\n",
        "          nn.LazyConv2d(64, kernel_size=1), nn.ReLU(),\n",
        "          nn.LazyConv2d(192, kernel_size=3, padding=1), nn.ReLU(),\n",
        "          nn.MaxPool2d(kernel_size=3, stride=2, padding=1))\n",
        "    \n",
        "    def b3(self):\n",
        "      return nn.Sequential(Inception(64, (96, 128), (16, 32), 32),\n",
        "                          Inception(128, (128, 192), (32, 96), 64),\n",
        "                          nn.MaxPool2d(kernel_size=3, stride=2, padding=1))\n",
        "    \n",
        "    def b4(self):\n",
        "      return nn.Sequential(Inception(192, (96, 208), (16, 48), 64),\n",
        "                          Inception(160, (112, 224), (24, 64), 64),\n",
        "                          Inception(128, (128, 256), (24, 64), 64),\n",
        "                          Inception(112, (144, 288), (32, 64), 64),\n",
        "                          Inception(256, (160, 320), (32, 128), 128),\n",
        "                          nn.MaxPool2d(kernel_size=3, stride=2, padding=1))\n",
        "    \n",
        "    def b5(self):\n",
        "      return nn.Sequential(Inception(256, (160, 320), (32, 128), 128),\n",
        "                          Inception(384, (192, 384), (48, 128), 128),\n",
        "                          nn.AdaptiveAvgPool2d((1,1)), nn.Flatten())\n",
        "    \n",
        "    def __init__(self, lr=0.1, num_classes=10):\n",
        "      super(GoogleNet, self).__init__()\n",
        "      self.net = nn.Sequential(self.b1(), self.b2(), self.b3(), self.b4(), self.b5(), nn.LazyLinear(num_classes))\n",
        "\n",
        "    def forward(self, x):\n",
        "        x = self.net(x)\n",
        "        return x"
      ]
    },
    {
      "cell_type": "code",
      "execution_count": 9,
      "metadata": {
        "id": "S8jZbj7aNwio",
        "colab": {
          "base_uri": "https://localhost:8080/"
        },
        "outputId": "30f773e9-891b-4829-ec04-ce598b5b3e00"
      },
      "outputs": [
        {
          "output_type": "stream",
          "name": "stdout",
          "text": [
            "GoogleNet(\n",
            "  (net): Sequential(\n",
            "    (0): Sequential(\n",
            "      (0): LazyConv2d(0, 64, kernel_size=(7, 7), stride=(2, 2), padding=(3, 3))\n",
            "      (1): ReLU()\n",
            "      (2): MaxPool2d(kernel_size=3, stride=2, padding=1, dilation=1, ceil_mode=False)\n",
            "    )\n",
            "    (1): Sequential(\n",
            "      (0): LazyConv2d(0, 64, kernel_size=(1, 1), stride=(1, 1))\n",
            "      (1): ReLU()\n",
            "      (2): LazyConv2d(0, 192, kernel_size=(3, 3), stride=(1, 1), padding=(1, 1))\n",
            "      (3): ReLU()\n",
            "      (4): MaxPool2d(kernel_size=3, stride=2, padding=1, dilation=1, ceil_mode=False)\n",
            "    )\n",
            "    (2): Sequential(\n",
            "      (0): Inception(\n",
            "        (b1_1): LazyConv2d(0, 64, kernel_size=(1, 1), stride=(1, 1))\n",
            "        (b2_1): LazyConv2d(0, 96, kernel_size=(1, 1), stride=(1, 1))\n",
            "        (b2_2): LazyConv2d(0, 128, kernel_size=(3, 3), stride=(1, 1), padding=(1, 1))\n",
            "        (b3_1): LazyConv2d(0, 16, kernel_size=(1, 1), stride=(1, 1))\n",
            "        (b3_2): LazyConv2d(0, 32, kernel_size=(5, 5), stride=(1, 1), padding=(2, 2))\n",
            "        (b4_1): MaxPool2d(kernel_size=3, stride=1, padding=1, dilation=1, ceil_mode=False)\n",
            "        (b4_2): LazyConv2d(0, 32, kernel_size=(1, 1), stride=(1, 1))\n",
            "      )\n",
            "      (1): Inception(\n",
            "        (b1_1): LazyConv2d(0, 128, kernel_size=(1, 1), stride=(1, 1))\n",
            "        (b2_1): LazyConv2d(0, 128, kernel_size=(1, 1), stride=(1, 1))\n",
            "        (b2_2): LazyConv2d(0, 192, kernel_size=(3, 3), stride=(1, 1), padding=(1, 1))\n",
            "        (b3_1): LazyConv2d(0, 32, kernel_size=(1, 1), stride=(1, 1))\n",
            "        (b3_2): LazyConv2d(0, 96, kernel_size=(5, 5), stride=(1, 1), padding=(2, 2))\n",
            "        (b4_1): MaxPool2d(kernel_size=3, stride=1, padding=1, dilation=1, ceil_mode=False)\n",
            "        (b4_2): LazyConv2d(0, 64, kernel_size=(1, 1), stride=(1, 1))\n",
            "      )\n",
            "      (2): MaxPool2d(kernel_size=3, stride=2, padding=1, dilation=1, ceil_mode=False)\n",
            "    )\n",
            "    (3): Sequential(\n",
            "      (0): Inception(\n",
            "        (b1_1): LazyConv2d(0, 192, kernel_size=(1, 1), stride=(1, 1))\n",
            "        (b2_1): LazyConv2d(0, 96, kernel_size=(1, 1), stride=(1, 1))\n",
            "        (b2_2): LazyConv2d(0, 208, kernel_size=(3, 3), stride=(1, 1), padding=(1, 1))\n",
            "        (b3_1): LazyConv2d(0, 16, kernel_size=(1, 1), stride=(1, 1))\n",
            "        (b3_2): LazyConv2d(0, 48, kernel_size=(5, 5), stride=(1, 1), padding=(2, 2))\n",
            "        (b4_1): MaxPool2d(kernel_size=3, stride=1, padding=1, dilation=1, ceil_mode=False)\n",
            "        (b4_2): LazyConv2d(0, 64, kernel_size=(1, 1), stride=(1, 1))\n",
            "      )\n",
            "      (1): Inception(\n",
            "        (b1_1): LazyConv2d(0, 160, kernel_size=(1, 1), stride=(1, 1))\n",
            "        (b2_1): LazyConv2d(0, 112, kernel_size=(1, 1), stride=(1, 1))\n",
            "        (b2_2): LazyConv2d(0, 224, kernel_size=(3, 3), stride=(1, 1), padding=(1, 1))\n",
            "        (b3_1): LazyConv2d(0, 24, kernel_size=(1, 1), stride=(1, 1))\n",
            "        (b3_2): LazyConv2d(0, 64, kernel_size=(5, 5), stride=(1, 1), padding=(2, 2))\n",
            "        (b4_1): MaxPool2d(kernel_size=3, stride=1, padding=1, dilation=1, ceil_mode=False)\n",
            "        (b4_2): LazyConv2d(0, 64, kernel_size=(1, 1), stride=(1, 1))\n",
            "      )\n",
            "      (2): Inception(\n",
            "        (b1_1): LazyConv2d(0, 128, kernel_size=(1, 1), stride=(1, 1))\n",
            "        (b2_1): LazyConv2d(0, 128, kernel_size=(1, 1), stride=(1, 1))\n",
            "        (b2_2): LazyConv2d(0, 256, kernel_size=(3, 3), stride=(1, 1), padding=(1, 1))\n",
            "        (b3_1): LazyConv2d(0, 24, kernel_size=(1, 1), stride=(1, 1))\n",
            "        (b3_2): LazyConv2d(0, 64, kernel_size=(5, 5), stride=(1, 1), padding=(2, 2))\n",
            "        (b4_1): MaxPool2d(kernel_size=3, stride=1, padding=1, dilation=1, ceil_mode=False)\n",
            "        (b4_2): LazyConv2d(0, 64, kernel_size=(1, 1), stride=(1, 1))\n",
            "      )\n",
            "      (3): Inception(\n",
            "        (b1_1): LazyConv2d(0, 112, kernel_size=(1, 1), stride=(1, 1))\n",
            "        (b2_1): LazyConv2d(0, 144, kernel_size=(1, 1), stride=(1, 1))\n",
            "        (b2_2): LazyConv2d(0, 288, kernel_size=(3, 3), stride=(1, 1), padding=(1, 1))\n",
            "        (b3_1): LazyConv2d(0, 32, kernel_size=(1, 1), stride=(1, 1))\n",
            "        (b3_2): LazyConv2d(0, 64, kernel_size=(5, 5), stride=(1, 1), padding=(2, 2))\n",
            "        (b4_1): MaxPool2d(kernel_size=3, stride=1, padding=1, dilation=1, ceil_mode=False)\n",
            "        (b4_2): LazyConv2d(0, 64, kernel_size=(1, 1), stride=(1, 1))\n",
            "      )\n",
            "      (4): Inception(\n",
            "        (b1_1): LazyConv2d(0, 256, kernel_size=(1, 1), stride=(1, 1))\n",
            "        (b2_1): LazyConv2d(0, 160, kernel_size=(1, 1), stride=(1, 1))\n",
            "        (b2_2): LazyConv2d(0, 320, kernel_size=(3, 3), stride=(1, 1), padding=(1, 1))\n",
            "        (b3_1): LazyConv2d(0, 32, kernel_size=(1, 1), stride=(1, 1))\n",
            "        (b3_2): LazyConv2d(0, 128, kernel_size=(5, 5), stride=(1, 1), padding=(2, 2))\n",
            "        (b4_1): MaxPool2d(kernel_size=3, stride=1, padding=1, dilation=1, ceil_mode=False)\n",
            "        (b4_2): LazyConv2d(0, 128, kernel_size=(1, 1), stride=(1, 1))\n",
            "      )\n",
            "      (5): MaxPool2d(kernel_size=3, stride=2, padding=1, dilation=1, ceil_mode=False)\n",
            "    )\n",
            "    (4): Sequential(\n",
            "      (0): Inception(\n",
            "        (b1_1): LazyConv2d(0, 256, kernel_size=(1, 1), stride=(1, 1))\n",
            "        (b2_1): LazyConv2d(0, 160, kernel_size=(1, 1), stride=(1, 1))\n",
            "        (b2_2): LazyConv2d(0, 320, kernel_size=(3, 3), stride=(1, 1), padding=(1, 1))\n",
            "        (b3_1): LazyConv2d(0, 32, kernel_size=(1, 1), stride=(1, 1))\n",
            "        (b3_2): LazyConv2d(0, 128, kernel_size=(5, 5), stride=(1, 1), padding=(2, 2))\n",
            "        (b4_1): MaxPool2d(kernel_size=3, stride=1, padding=1, dilation=1, ceil_mode=False)\n",
            "        (b4_2): LazyConv2d(0, 128, kernel_size=(1, 1), stride=(1, 1))\n",
            "      )\n",
            "      (1): Inception(\n",
            "        (b1_1): LazyConv2d(0, 384, kernel_size=(1, 1), stride=(1, 1))\n",
            "        (b2_1): LazyConv2d(0, 192, kernel_size=(1, 1), stride=(1, 1))\n",
            "        (b2_2): LazyConv2d(0, 384, kernel_size=(3, 3), stride=(1, 1), padding=(1, 1))\n",
            "        (b3_1): LazyConv2d(0, 48, kernel_size=(1, 1), stride=(1, 1))\n",
            "        (b3_2): LazyConv2d(0, 128, kernel_size=(5, 5), stride=(1, 1), padding=(2, 2))\n",
            "        (b4_1): MaxPool2d(kernel_size=3, stride=1, padding=1, dilation=1, ceil_mode=False)\n",
            "        (b4_2): LazyConv2d(0, 128, kernel_size=(1, 1), stride=(1, 1))\n",
            "      )\n",
            "      (2): AdaptiveAvgPool2d(output_size=(1, 1))\n",
            "      (3): Flatten(start_dim=1, end_dim=-1)\n",
            "    )\n",
            "    (5): LazyLinear(in_features=0, out_features=10, bias=True)\n",
            "  )\n",
            ")\n"
          ]
        },
        {
          "output_type": "stream",
          "name": "stderr",
          "text": [
            "/usr/local/lib/python3.9/dist-packages/torch/nn/modules/lazy.py:180: UserWarning: Lazy modules are a new feature under heavy development so changes to the API or functionality can happen at any moment.\n",
            "  warnings.warn('Lazy modules are a new feature under heavy development '\n"
          ]
        }
      ],
      "source": [
        "model = GoogleNet()\n",
        "print(model)"
      ]
    },
    {
      "cell_type": "code",
      "execution_count": 12,
      "metadata": {
        "id": "Zsb9i4uLNy9q"
      },
      "outputs": [],
      "source": [
        "#define params\n",
        "num_epochs =5\n",
        "count = 0\n",
        "\n",
        "#loss\n",
        "criterion = nn.CrossEntropyLoss()\n",
        "optimizer = optim.Adam(model.parameters(), lr = 0.1)\n",
        "# define the accuracy metric\n",
        "accuracy = torchmetrics.Accuracy(task='binary')\n",
        "\n",
        "# Lists for visualization of loss and accuracy \n",
        "train_loss_list = []\n",
        "train_accuracy_list = []\n",
        "val_loss_list = []\n",
        "val_accuracy_list = []"
      ]
    },
    {
      "cell_type": "code",
      "execution_count": 13,
      "metadata": {
        "id": "AS5_cMjuN3Nd",
        "colab": {
          "base_uri": "https://localhost:8080/"
        },
        "outputId": "f57dcd99-6ef5-4fcc-c93b-e76db34ba5d4"
      },
      "outputs": [
        {
          "output_type": "stream",
          "name": "stdout",
          "text": [
            "Epoch [1/5], Loss: 2.292693614959717, Train Acc: 0.5439519882202148, ValidationLoss: 2.280888319015503, Validation Acc: 0.5632933378219604\n",
            "Epoch [2/5], Loss: 2.2835991382598877, Train Acc: 0.5374600291252136, ValidationLoss: 2.267658233642578, Validation Acc: 0.5445500016212463\n",
            "Epoch [3/5], Loss: 2.293254852294922, Train Acc: 0.5539720058441162, ValidationLoss: 2.329414129257202, Validation Acc: 0.5449766516685486\n",
            "Epoch [4/5], Loss: 2.2659993171691895, Train Acc: 0.5307040214538574, ValidationLoss: 2.3690216541290283, Validation Acc: 0.5255866646766663\n",
            "Epoch [5/5], Loss: 2.3036444187164307, Train Acc: 0.5190079808235168, ValidationLoss: 2.3252012729644775, Validation Acc: 0.5158399939537048\n"
          ]
        }
      ],
      "source": [
        "train(model, train_loader, val_loader, num_epochs, optimizer, criterion)"
      ]
    },
    {
      "cell_type": "code",
      "source": [
        "Trainlosses= [loss.detach().numpy() for loss in train_loss_list]\n",
        "vallosses= [ loss.detach().numpy() for loss in val_loss_list]\n",
        "\n",
        "plt.plot(range(num_epochs), Trainlosses, 'r', label='Training Loss')\n",
        "plt.plot(range(num_epochs), vallosses, 'y', label='Validation Loss')\n",
        "plt.plot(range(num_epochs), train_accuracy_list, 'b', label='Training Accuracy')\n",
        "plt.plot(range(num_epochs), val_accuracy_list, 'g', label='Validation Accuracy')\n",
        "\n",
        "plt.title('Training and Validation Loss and Accuracy')\n",
        "plt.xlabel('Epochs')\n",
        "plt.ylabel('Loss/Accuracy')\n",
        "plt.legend()\n",
        "\n",
        "plt.show()"
      ],
      "metadata": {
        "id": "sf11oM1Wlr-s",
        "colab": {
          "base_uri": "https://localhost:8080/",
          "height": 295
        },
        "outputId": "0865610d-781b-4d0e-e0fb-70e78b6e6319"
      },
      "execution_count": 14,
      "outputs": [
        {
          "output_type": "display_data",
          "data": {
            "text/plain": [
              "<Figure size 432x288 with 1 Axes>"
            ],
            "image/png": "[encoded data removed]"
          },
          "metadata": {
            "needs_background": "light"
          }
        }
      ]
    },
    {
      "cell_type": "markdown",
      "metadata": {
        "id": "CE3yCNqyOinL"
      },
      "source": [
        "## Problem 2 - b"
      ]
    },
    {
      "cell_type": "code",
      "execution_count": 19,
      "metadata": {
        "id": "Z99ZX0kjOk7L"
      },
      "outputs": [],
      "source": [
        "class BNLeNet(nn.Module):\n",
        "    def __init__(self, lr=0.1, num_classes=10):\n",
        "        super().__init__()\n",
        "        self.net = nn.Sequential(\n",
        "            nn.LazyConv2d(6, kernel_size=5), nn.LazyBatchNorm2d(),\n",
        "            nn.Sigmoid(), nn.AvgPool2d(kernel_size=2, stride=2),\n",
        "            nn.LazyConv2d(16, kernel_size=5), nn.LazyBatchNorm2d(),\n",
        "            nn.Sigmoid(), nn.AvgPool2d(kernel_size=2, stride=2),\n",
        "            nn.Flatten(), nn.LazyLinear(120), nn.LazyBatchNorm1d(),\n",
        "            nn.Sigmoid(), nn.LazyLinear(84), nn.LazyBatchNorm1d(),\n",
        "            nn.Sigmoid(), nn.LazyLinear(num_classes))\n",
        "        \n",
        "    def forward(self, x):\n",
        "        x = self.net(x)\n",
        "        return x"
      ]
    },
    {
      "cell_type": "code",
      "source": [
        "model = BNLeNet()\n",
        "print(model)"
      ],
      "metadata": {
        "id": "u0uC77dFscNf",
        "colab": {
          "base_uri": "https://localhost:8080/"
        },
        "outputId": "3d394a5e-171a-4238-e3a2-a78f5bca928d"
      },
      "execution_count": 20,
      "outputs": [
        {
          "output_type": "stream",
          "name": "stdout",
          "text": [
            "BNLeNet(\n",
            "  (net): Sequential(\n",
            "    (0): LazyConv2d(0, 6, kernel_size=(5, 5), stride=(1, 1))\n",
            "    (1): LazyBatchNorm2d(0, eps=1e-05, momentum=0.1, affine=True, track_running_stats=True)\n",
            "    (2): Sigmoid()\n",
            "    (3): AvgPool2d(kernel_size=2, stride=2, padding=0)\n",
            "    (4): LazyConv2d(0, 16, kernel_size=(5, 5), stride=(1, 1))\n",
            "    (5): LazyBatchNorm2d(0, eps=1e-05, momentum=0.1, affine=True, track_running_stats=True)\n",
            "    (6): Sigmoid()\n",
            "    (7): AvgPool2d(kernel_size=2, stride=2, padding=0)\n",
            "    (8): Flatten(start_dim=1, end_dim=-1)\n",
            "    (9): LazyLinear(in_features=0, out_features=120, bias=True)\n",
            "    (10): LazyBatchNorm1d(0, eps=1e-05, momentum=0.1, affine=True, track_running_stats=True)\n",
            "    (11): Sigmoid()\n",
            "    (12): LazyLinear(in_features=0, out_features=84, bias=True)\n",
            "    (13): LazyBatchNorm1d(0, eps=1e-05, momentum=0.1, affine=True, track_running_stats=True)\n",
            "    (14): Sigmoid()\n",
            "    (15): LazyLinear(in_features=0, out_features=10, bias=True)\n",
            "  )\n",
            ")\n"
          ]
        }
      ]
    },
    {
      "cell_type": "code",
      "source": [
        "#define params\n",
        "num_epochs = 5\n",
        "count = 0\n",
        "\n",
        "#loss\n",
        "criterion = nn.CrossEntropyLoss()\n",
        "optimizer = optim.Adam(model.parameters(), lr = 0.1)\n",
        "# define the accuracy metric\n",
        "accuracy = torchmetrics.Accuracy(task='binary')\n",
        "\n",
        "# Lists for visualization of loss and accuracy \n",
        "train_loss_list = []\n",
        "train_accuracy_list = []\n",
        "val_loss_list = []\n",
        "val_accuracy_list = []"
      ],
      "metadata": {
        "id": "839CW-oiscvA"
      },
      "execution_count": 21,
      "outputs": []
    },
    {
      "cell_type": "code",
      "source": [
        "train(model, train_loader, val_loader, num_epochs, optimizer, criterion)"
      ],
      "metadata": {
        "id": "HZmr7IphsiPJ",
        "colab": {
          "base_uri": "https://localhost:8080/"
        },
        "outputId": "983d0b08-c365-4e7b-9aee-fcfd8b3b4f21"
      },
      "execution_count": 22,
      "outputs": [
        {
          "output_type": "stream",
          "name": "stdout",
          "text": [
            "Epoch [1/5], Loss: 1.4429683685302734, Train Acc: 0.6142299771308899, ValidationLoss: 1.4317682981491089, Validation Acc: 0.6260583400726318\n",
            "Epoch [2/5], Loss: 1.2442660331726074, Train Acc: 0.6947439908981323, ValidationLoss: 1.400903582572937, Validation Acc: 0.7002000212669373\n",
            "Epoch [3/5], Loss: 1.468349814414978, Train Acc: 0.7316740155220032, ValidationLoss: 1.064528465270996, Validation Acc: 0.7332883477210999\n",
            "Epoch [4/5], Loss: 1.693575143814087, Train Acc: 0.7538660168647766, ValidationLoss: 1.0532071590423584, Validation Acc: 0.7571616768836975\n",
            "Epoch [5/5], Loss: 1.168652057647705, Train Acc: 0.7724940180778503, ValidationLoss: 1.2739067077636719, Validation Acc: 0.7750599980354309\n"
          ]
        }
      ]
    },
    {
      "cell_type": "code",
      "source": [
        "Trainlosses= [loss.detach().numpy() for loss in train_loss_list]\n",
        "vallosses= [ loss.detach().numpy() for loss in val_loss_list]\n",
        "\n",
        "plt.plot(range(num_epochs), Trainlosses, 'r', label='Training Loss')\n",
        "plt.plot(range(num_epochs), vallosses, 'y', label='Validation Loss')\n",
        "plt.plot(range(num_epochs), train_accuracy_list, 'b', label='Training Accuracy')\n",
        "plt.plot(range(num_epochs), val_accuracy_list, 'g', label='Validation Accuracy')\n",
        "\n",
        "plt.title('Training and Validation Loss and Accuracy')\n",
        "plt.xlabel('Epochs')\n",
        "plt.ylabel('Loss/Accuracy')\n",
        "plt.legend()\n",
        "\n",
        "plt.show()"
      ],
      "metadata": {
        "id": "NKUlzyViskrE",
        "colab": {
          "base_uri": "https://localhost:8080/",
          "height": 295
        },
        "outputId": "2208045a-b4b7-4ea2-c94d-2fab37167ba3"
      },
      "execution_count": 23,
      "outputs": [
        {
          "output_type": "display_data",
          "data": {
            "text/plain": [
              "<Figure size 432x288 with 1 Axes>"
            ],
            "image/png": "[encoded data removed]"
          },
          "metadata": {
            "needs_background": "light"
          }
        }
      ]
    },
    {
      "cell_type": "markdown",
      "source": [
        "## Problem 3 - a"
      ],
      "metadata": {
        "id": "8sC63xJ2uyLw"
      }
    },
    {
      "cell_type": "code",
      "source": [
        "class Residual(nn.Module):\n",
        "    \"\"\"The Residual block of ResNet models.\"\"\"\n",
        "    def __init__(self, num_channels, use_1x1conv=False, strides=1):\n",
        "        super().__init__()\n",
        "        self.conv1 = nn.LazyConv2d(num_channels, kernel_size=3, padding=1,\n",
        "                                   stride=strides)\n",
        "        self.conv2 = nn.LazyConv2d(num_channels, kernel_size=3, padding=1)\n",
        "        if use_1x1conv:\n",
        "            self.conv3 = nn.LazyConv2d(num_channels, kernel_size=1,\n",
        "                                       stride=strides)\n",
        "        else:\n",
        "            self.conv3 = None\n",
        "        self.bn1 = nn.LazyBatchNorm2d()\n",
        "        self.bn2 = nn.LazyBatchNorm2d()\n",
        "\n",
        "    def forward(self, X):\n",
        "        Y = F.relu(self.bn1(self.conv1(X)))\n",
        "        Y = self.bn2(self.conv2(Y))\n",
        "        if self.conv3:\n",
        "            X = self.conv3(X)\n",
        "        Y += X\n",
        "        return F.relu(Y)"
      ],
      "metadata": {
        "id": "jntcGVjixvTT"
      },
      "execution_count": 24,
      "outputs": []
    },
    {
      "cell_type": "code",
      "source": [
        "class ResNet(nn.Module):\n",
        "    def b1(self):\n",
        "        return nn.Sequential(\n",
        "            nn.LazyConv2d(64, kernel_size=7, stride=2, padding=3),\n",
        "            nn.LazyBatchNorm2d(), nn.ReLU(),\n",
        "            nn.MaxPool2d(kernel_size=3, stride=2, padding=1))\n",
        "        \n",
        "    def block(self, num_residuals, num_channels, first_block=False):\n",
        "        blk = []\n",
        "        for i in range(num_residuals):\n",
        "            if i == 0 and not first_block:\n",
        "                blk.append(Residual(num_channels, use_1x1conv=True, strides=2))\n",
        "            else:\n",
        "                blk.append(Residual(num_channels))\n",
        "        return nn.Sequential(*blk)\n",
        "\n",
        "    def __init__(self, arch, lr=0.1, num_classes=10):\n",
        "        super(ResNet, self).__init__()\n",
        "        self.net = nn.Sequential(self.b1())\n",
        "        for i, b in enumerate(arch):\n",
        "            self.net.add_module(f'b{i+2}', self.block(*b, first_block=(i==0)))\n",
        "        self.net.add_module('last', nn.Sequential(\n",
        "            nn.AdaptiveAvgPool2d((1, 1)), nn.Flatten(),\n",
        "            nn.LazyLinear(num_classes)))\n",
        "        \n",
        "    def forward(self, x):\n",
        "        x = self.net(x)\n",
        "        return x"
      ],
      "metadata": {
        "id": "0svnGf7ru04-"
      },
      "execution_count": 34,
      "outputs": []
    },
    {
      "cell_type": "code",
      "source": [
        "class ResNet18(ResNet):\n",
        "    def __init__(self, lr=0.1, num_classes=10):\n",
        "        super().__init__(((2, 64), (2, 128), (2, 256), (2, 512)), lr, num_classes)"
      ],
      "metadata": {
        "id": "_B4u7JdVxk2o"
      },
      "execution_count": 35,
      "outputs": []
    },
    {
      "cell_type": "code",
      "source": [
        "model = ResNet18()\n",
        "print(model)"
      ],
      "metadata": {
        "id": "ifaVbHLEyCqM",
        "colab": {
          "base_uri": "https://localhost:8080/"
        },
        "outputId": "732ed30c-25a2-4731-f89a-f2480c5c2de2"
      },
      "execution_count": 36,
      "outputs": [
        {
          "output_type": "stream",
          "name": "stdout",
          "text": [
            "ResNet18(\n",
            "  (net): Sequential(\n",
            "    (0): Sequential(\n",
            "      (0): LazyConv2d(0, 64, kernel_size=(7, 7), stride=(2, 2), padding=(3, 3))\n",
            "      (1): LazyBatchNorm2d(0, eps=1e-05, momentum=0.1, affine=True, track_running_stats=True)\n",
            "      (2): ReLU()\n",
            "      (3): MaxPool2d(kernel_size=3, stride=2, padding=1, dilation=1, ceil_mode=False)\n",
            "    )\n",
            "    (b2): Sequential(\n",
            "      (0): Residual(\n",
            "        (conv1): LazyConv2d(0, 64, kernel_size=(3, 3), stride=(1, 1), padding=(1, 1))\n",
            "        (conv2): LazyConv2d(0, 64, kernel_size=(3, 3), stride=(1, 1), padding=(1, 1))\n",
            "        (bn1): LazyBatchNorm2d(0, eps=1e-05, momentum=0.1, affine=True, track_running_stats=True)\n",
            "        (bn2): LazyBatchNorm2d(0, eps=1e-05, momentum=0.1, affine=True, track_running_stats=True)\n",
            "      )\n",
            "      (1): Residual(\n",
            "        (conv1): LazyConv2d(0, 64, kernel_size=(3, 3), stride=(1, 1), padding=(1, 1))\n",
            "        (conv2): LazyConv2d(0, 64, kernel_size=(3, 3), stride=(1, 1), padding=(1, 1))\n",
            "        (bn1): LazyBatchNorm2d(0, eps=1e-05, momentum=0.1, affine=True, track_running_stats=True)\n",
            "        (bn2): LazyBatchNorm2d(0, eps=1e-05, momentum=0.1, affine=True, track_running_stats=True)\n",
            "      )\n",
            "    )\n",
            "    (b3): Sequential(\n",
            "      (0): Residual(\n",
            "        (conv1): LazyConv2d(0, 128, kernel_size=(3, 3), stride=(2, 2), padding=(1, 1))\n",
            "        (conv2): LazyConv2d(0, 128, kernel_size=(3, 3), stride=(1, 1), padding=(1, 1))\n",
            "        (conv3): LazyConv2d(0, 128, kernel_size=(1, 1), stride=(2, 2))\n",
            "        (bn1): LazyBatchNorm2d(0, eps=1e-05, momentum=0.1, affine=True, track_running_stats=True)\n",
            "        (bn2): LazyBatchNorm2d(0, eps=1e-05, momentum=0.1, affine=True, track_running_stats=True)\n",
            "      )\n",
            "      (1): Residual(\n",
            "        (conv1): LazyConv2d(0, 128, kernel_size=(3, 3), stride=(1, 1), padding=(1, 1))\n",
            "        (conv2): LazyConv2d(0, 128, kernel_size=(3, 3), stride=(1, 1), padding=(1, 1))\n",
            "        (bn1): LazyBatchNorm2d(0, eps=1e-05, momentum=0.1, affine=True, track_running_stats=True)\n",
            "        (bn2): LazyBatchNorm2d(0, eps=1e-05, momentum=0.1, affine=True, track_running_stats=True)\n",
            "      )\n",
            "    )\n",
            "    (b4): Sequential(\n",
            "      (0): Residual(\n",
            "        (conv1): LazyConv2d(0, 256, kernel_size=(3, 3), stride=(2, 2), padding=(1, 1))\n",
            "        (conv2): LazyConv2d(0, 256, kernel_size=(3, 3), stride=(1, 1), padding=(1, 1))\n",
            "        (conv3): LazyConv2d(0, 256, kernel_size=(1, 1), stride=(2, 2))\n",
            "        (bn1): LazyBatchNorm2d(0, eps=1e-05, momentum=0.1, affine=True, track_running_stats=True)\n",
            "        (bn2): LazyBatchNorm2d(0, eps=1e-05, momentum=0.1, affine=True, track_running_stats=True)\n",
            "      )\n",
            "      (1): Residual(\n",
            "        (conv1): LazyConv2d(0, 256, kernel_size=(3, 3), stride=(1, 1), padding=(1, 1))\n",
            "        (conv2): LazyConv2d(0, 256, kernel_size=(3, 3), stride=(1, 1), padding=(1, 1))\n",
            "        (bn1): LazyBatchNorm2d(0, eps=1e-05, momentum=0.1, affine=True, track_running_stats=True)\n",
            "        (bn2): LazyBatchNorm2d(0, eps=1e-05, momentum=0.1, affine=True, track_running_stats=True)\n",
            "      )\n",
            "    )\n",
            "    (b5): Sequential(\n",
            "      (0): Residual(\n",
            "        (conv1): LazyConv2d(0, 512, kernel_size=(3, 3), stride=(2, 2), padding=(1, 1))\n",
            "        (conv2): LazyConv2d(0, 512, kernel_size=(3, 3), stride=(1, 1), padding=(1, 1))\n",
            "        (conv3): LazyConv2d(0, 512, kernel_size=(1, 1), stride=(2, 2))\n",
            "        (bn1): LazyBatchNorm2d(0, eps=1e-05, momentum=0.1, affine=True, track_running_stats=True)\n",
            "        (bn2): LazyBatchNorm2d(0, eps=1e-05, momentum=0.1, affine=True, track_running_stats=True)\n",
            "      )\n",
            "      (1): Residual(\n",
            "        (conv1): LazyConv2d(0, 512, kernel_size=(3, 3), stride=(1, 1), padding=(1, 1))\n",
            "        (conv2): LazyConv2d(0, 512, kernel_size=(3, 3), stride=(1, 1), padding=(1, 1))\n",
            "        (bn1): LazyBatchNorm2d(0, eps=1e-05, momentum=0.1, affine=True, track_running_stats=True)\n",
            "        (bn2): LazyBatchNorm2d(0, eps=1e-05, momentum=0.1, affine=True, track_running_stats=True)\n",
            "      )\n",
            "    )\n",
            "    (last): Sequential(\n",
            "      (0): AdaptiveAvgPool2d(output_size=(1, 1))\n",
            "      (1): Flatten(start_dim=1, end_dim=-1)\n",
            "      (2): LazyLinear(in_features=0, out_features=10, bias=True)\n",
            "    )\n",
            "  )\n",
            ")\n"
          ]
        }
      ]
    },
    {
      "cell_type": "code",
      "source": [
        "#define params\n",
        "num_epochs = 5\n",
        "count = 0\n",
        "\n",
        "#loss\n",
        "criterion = nn.CrossEntropyLoss()\n",
        "optimizer = optim.Adam(model.parameters(), lr = 0.1)\n",
        "# define the accuracy metric\n",
        "accuracy = torchmetrics.Accuracy(task='binary')\n",
        "\n",
        "# Lists for visualization of loss and accuracy \n",
        "train_loss_list = []\n",
        "train_accuracy_list = []\n",
        "val_loss_list = []\n",
        "val_accuracy_list = []"
      ],
      "metadata": {
        "id": "XVmisJXoyGF-"
      },
      "execution_count": 37,
      "outputs": []
    },
    {
      "cell_type": "code",
      "source": [
        "train(model, train_loader, val_loader, num_epochs, optimizer, criterion)"
      ],
      "metadata": {
        "id": "frdHAqYByI1-",
        "colab": {
          "base_uri": "https://localhost:8080/"
        },
        "outputId": "4bc5f2bc-90c7-45d7-f724-4ec5d21f140d"
      },
      "execution_count": 38,
      "outputs": [
        {
          "output_type": "stream",
          "name": "stdout",
          "text": [
            "Epoch [1/5], Loss: 2.305701494216919, Train Acc: 0.348798006772995, ValidationLoss: 2.274069309234619, Validation Acc: 0.3606649935245514\n",
            "Epoch [2/5], Loss: 2.2878284454345703, Train Acc: 0.35121598839759827, ValidationLoss: 2.304396152496338, Validation Acc: 0.34934666752815247\n",
            "Epoch [3/5], Loss: 2.291713237762451, Train Acc: 0.33535999059677124, ValidationLoss: 2.2923240661621094, Validation Acc: 0.33613333106040955\n",
            "Epoch [4/5], Loss: 2.349691390991211, Train Acc: 0.33990800380706787, ValidationLoss: 2.349512815475464, Validation Acc: 0.33992332220077515\n",
            "Epoch [5/5], Loss: 2.3336193561553955, Train Acc: 0.3191800117492676, ValidationLoss: 2.3756167888641357, Validation Acc: 0.3359833359718323\n"
          ]
        }
      ]
    },
    {
      "cell_type": "code",
      "source": [
        "Trainlosses= [loss.detach().numpy() for loss in train_loss_list]\n",
        "vallosses= [ loss.detach().numpy() for loss in val_loss_list]\n",
        "\n",
        "plt.plot(range(num_epochs), Trainlosses, 'r', label='Training Loss')\n",
        "plt.plot(range(num_epochs), vallosses, 'y', label='Validation Loss')\n",
        "plt.plot(range(num_epochs), train_accuracy_list, 'b', label='Training Accuracy')\n",
        "plt.plot(range(num_epochs), val_accuracy_list, 'g', label='Validation Accuracy')\n",
        "\n",
        "plt.title('Training and Validation Loss and Accuracy')\n",
        "plt.xlabel('Epochs')\n",
        "plt.ylabel('Loss/Accuracy')\n",
        "plt.legend()\n",
        "\n",
        "plt.show()"
      ],
      "metadata": {
        "id": "hqA4Z-UwyLnN",
        "colab": {
          "base_uri": "https://localhost:8080/",
          "height": 295
        },
        "outputId": "1a3e9a66-c85f-4e50-c7e8-7d8647365ddb"
      },
      "execution_count": 39,
      "outputs": [
        {
          "output_type": "display_data",
          "data": {
            "text/plain": [
              "<Figure size 432x288 with 1 Axes>"
            ],
            "image/png": "[encoded data removed]"
          },
          "metadata": {
            "needs_background": "light"
          }
        }
      ]
    },
    {
      "cell_type": "markdown",
      "source": [
        "## Problem 3 - b"
      ],
      "metadata": {
        "id": "dM6-YNyfz94c"
      }
    },
    {
      "cell_type": "code",
      "source": [
        "class ResNet26(ResNet):\n",
        "    def __init__(self, lr=0.1, num_classes=10):\n",
        "        super().__init__((), lr, num_classes)"
      ],
      "metadata": {
        "id": "G2xmdQuAz_3d"
      },
      "execution_count": null,
      "outputs": []
    },
    {
      "cell_type": "code",
      "source": [
        "model = ResNet26()\n",
        "print(model)"
      ],
      "metadata": {
        "id": "3Au9t9RH0-W8"
      },
      "execution_count": null,
      "outputs": []
    },
    {
      "cell_type": "code",
      "source": [
        "#define params\n",
        "num_epochs = 5\n",
        "count = 0\n",
        "\n",
        "#loss\n",
        "criterion = nn.CrossEntropyLoss()\n",
        "optimizer = optim.Adam(model.parameters(), lr = 0.1)\n",
        "# define the accuracy metric\n",
        "accuracy = torchmetrics.Accuracy(task='binary')\n",
        "\n",
        "# Lists for visualization of loss and accuracy \n",
        "train_loss_list = []\n",
        "train_accuracy_list = []\n",
        "val_loss_list = []\n",
        "val_accuracy_list = []"
      ],
      "metadata": {
        "id": "UTelg4JF1C2F"
      },
      "execution_count": null,
      "outputs": []
    },
    {
      "cell_type": "code",
      "source": [
        "train(model, train_loader, val_loader, num_epochs, optimizer, criterion)"
      ],
      "metadata": {
        "id": "BlEWSLEy1Dir"
      },
      "execution_count": null,
      "outputs": []
    },
    {
      "cell_type": "code",
      "source": [
        "Trainlosses= [loss.detach().numpy() for loss in train_loss_list]\n",
        "vallosses= [ loss.detach().numpy() for loss in val_loss_list]\n",
        "\n",
        "plt.plot(range(num_epochs), Trainlosses, 'r', label='Training Loss')\n",
        "plt.plot(range(num_epochs), vallosses, 'y', label='Validation Loss')\n",
        "plt.plot(range(num_epochs), train_accuracy_list, 'b', label='Training Accuracy')\n",
        "plt.plot(range(num_epochs), val_accuracy_list, 'g', label='Validation Accuracy')\n",
        "\n",
        "plt.title('Training and Validation Loss and Accuracy')\n",
        "plt.xlabel('Epochs')\n",
        "plt.ylabel('Loss/Accuracy')\n",
        "plt.legend()\n",
        "\n",
        "plt.show()"
      ],
      "metadata": {
        "id": "snubvP7g1FR2"
      },
      "execution_count": null,
      "outputs": []
    },
    {
      "cell_type": "code",
      "source": [
        "class ResNet32(ResNet):\n",
        "    def __init__(self, lr=0.1, num_classes=10):\n",
        "        super().__init__((), lr, num_classes)"
      ],
      "metadata": {
        "id": "85lhYZA01IJb"
      },
      "execution_count": null,
      "outputs": []
    },
    {
      "cell_type": "code",
      "source": [
        "model = ResNet32()\n",
        "print(model)"
      ],
      "metadata": {
        "id": "Js4Ki-en1MYz"
      },
      "execution_count": null,
      "outputs": []
    },
    {
      "cell_type": "code",
      "source": [
        "#define params\n",
        "num_epochs = 5\n",
        "count = 0\n",
        "\n",
        "#loss\n",
        "criterion = nn.CrossEntropyLoss()\n",
        "optimizer = optim.Adam(model.parameters(), lr = 0.1)\n",
        "# define the accuracy metric\n",
        "accuracy = torchmetrics.Accuracy(task='binary')\n",
        "\n",
        "# Lists for visualization of loss and accuracy \n",
        "train_loss_list = []\n",
        "train_accuracy_list = []\n",
        "val_loss_list = []\n",
        "val_accuracy_list = []"
      ],
      "metadata": {
        "id": "hmuFvoBh1Q6e"
      },
      "execution_count": null,
      "outputs": []
    },
    {
      "cell_type": "code",
      "source": [
        "train(model, train_loader, val_loader, num_epochs, optimizer, criterion)"
      ],
      "metadata": {
        "id": "zzR1zFVH1RYQ"
      },
      "execution_count": null,
      "outputs": []
    },
    {
      "cell_type": "code",
      "source": [
        "Trainlosses= [loss.detach().numpy() for loss in train_loss_list]\n",
        "vallosses= [ loss.detach().numpy() for loss in val_loss_list]\n",
        "\n",
        "plt.plot(range(num_epochs), Trainlosses, 'r', label='Training Loss')\n",
        "plt.plot(range(num_epochs), vallosses, 'y', label='Validation Loss')\n",
        "plt.plot(range(num_epochs), train_accuracy_list, 'b', label='Training Accuracy')\n",
        "plt.plot(range(num_epochs), val_accuracy_list, 'g', label='Validation Accuracy')\n",
        "\n",
        "plt.title('Training and Validation Loss and Accuracy')\n",
        "plt.xlabel('Epochs')\n",
        "plt.ylabel('Loss/Accuracy')\n",
        "plt.legend()\n",
        "\n",
        "plt.show()"
      ],
      "metadata": {
        "id": "GfJezoOZ1Usq"
      },
      "execution_count": null,
      "outputs": []
    }
  ],
  "metadata": {
    "accelerator": "GPU",
    "colab": {
      "provenance": []
    },
    "gpuClass": "premium",
    "kernelspec": {
      "display_name": "Python 3",
      "name": "python3"
    },
    "language_info": {
      "name": "python"
    },
    "widgets": {
      "application/vnd.jupyter.widget-state+json": {
        "e8c90554b6e049cbb6c8b5a9157adb46": {
          "model_module": "@jupyter-widgets/controls",
          "model_name": "HBoxModel",
          "model_module_version": "1.5.0",
          "state": {
            "_dom_classes": [],
            "_model_module": "@jupyter-widgets/controls",
            "_model_module_version": "1.5.0",
            "_model_name": "HBoxModel",
            "_view_count": null,
            "_view_module": "@jupyter-widgets/controls",
            "_view_module_version": "1.5.0",
            "_view_name": "HBoxView",
            "box_style": "",
            "children": [
              "IPY_MODEL_e225e26ff1e14aee90a9e8e367af9741",
              "IPY_MODEL_36dfbdf3dce649d69c8b07fe4d09b068",
              "IPY_MODEL_83bd4a37ee7242e1b6957b768a91b577"
            ],
            "layout": "IPY_MODEL_e034be4cf7ef45fa8d5ad59f3635c133"
          }
        },
        "e225e26ff1e14aee90a9e8e367af9741": {
          "model_module": "@jupyter-widgets/controls",
          "model_name": "HTMLModel",
          "model_module_version": "1.5.0",
          "state": {
            "_dom_classes": [],
            "_model_module": "@jupyter-widgets/controls",
            "_model_module_version": "1.5.0",
            "_model_name": "HTMLModel",
            "_view_count": null,
            "_view_module": "@jupyter-widgets/controls",
            "_view_module_version": "1.5.0",
            "_view_name": "HTMLView",
            "description": "",
            "description_tooltip": null,
            "layout": "IPY_MODEL_52606ffde8fd4079957243279e0ee574",
            "placeholder": "​",
            "style": "IPY_MODEL_7b8d9e0bc97c416992fe38c4a064521a",
            "value": "100%"
          }
        },
        "36dfbdf3dce649d69c8b07fe4d09b068": {
          "model_module": "@jupyter-widgets/controls",
          "model_name": "FloatProgressModel",
          "model_module_version": "1.5.0",
          "state": {
            "_dom_classes": [],
            "_model_module": "@jupyter-widgets/controls",
            "_model_module_version": "1.5.0",
            "_model_name": "FloatProgressModel",
            "_view_count": null,
            "_view_module": "@jupyter-widgets/controls",
            "_view_module_version": "1.5.0",
            "_view_name": "ProgressView",
            "bar_style": "success",
            "description": "",
            "description_tooltip": null,
            "layout": "IPY_MODEL_5af32eb8caea42978f7e48b7b94691f0",
            "max": 170498071,
            "min": 0,
            "orientation": "horizontal",
            "style": "IPY_MODEL_40aba9196b84404ca3417c555f61de08",
            "value": 170498071
          }
        },
        "83bd4a37ee7242e1b6957b768a91b577": {
          "model_module": "@jupyter-widgets/controls",
          "model_name": "HTMLModel",
          "model_module_version": "1.5.0",
          "state": {
            "_dom_classes": [],
            "_model_module": "@jupyter-widgets/controls",
            "_model_module_version": "1.5.0",
            "_model_name": "HTMLModel",
            "_view_count": null,
            "_view_module": "@jupyter-widgets/controls",
            "_view_module_version": "1.5.0",
            "_view_name": "HTMLView",
            "description": "",
            "description_tooltip": null,
            "layout": "IPY_MODEL_78f2bcc3cb944f6098af433619fa3368",
            "placeholder": "​",
            "style": "IPY_MODEL_02dd17abae634757afd3d8cbb675c884",
            "value": " 170498071/170498071 [00:02&lt;00:00, 70174199.61it/s]"
          }
        },
        "e034be4cf7ef45fa8d5ad59f3635c133": {
          "model_module": "@jupyter-widgets/base",
          "model_name": "LayoutModel",
          "model_module_version": "1.2.0",
          "state": {
            "_model_module": "@jupyter-widgets/base",
            "_model_module_version": "1.2.0",
            "_model_name": "LayoutModel",
            "_view_count": null,
            "_view_module": "@jupyter-widgets/base",
            "_view_module_version": "1.2.0",
            "_view_name": "LayoutView",
            "align_content": null,
            "align_items": null,
            "align_self": null,
            "border": null,
            "bottom": null,
            "display": null,
            "flex": null,
            "flex_flow": null,
            "grid_area": null,
            "grid_auto_columns": null,
            "grid_auto_flow": null,
            "grid_auto_rows": null,
            "grid_column": null,
            "grid_gap": null,
            "grid_row": null,
            "grid_template_areas": null,
            "grid_template_columns": null,
            "grid_template_rows": null,
            "height": null,
            "justify_content": null,
            "justify_items": null,
            "left": null,
            "margin": null,
            "max_height": null,
            "max_width": null,
            "min_height": null,
            "min_width": null,
            "object_fit": null,
            "object_position": null,
            "order": null,
            "overflow": null,
            "overflow_x": null,
            "overflow_y": null,
            "padding": null,
            "right": null,
            "top": null,
            "visibility": null,
            "width": null
          }
        },
        "52606ffde8fd4079957243279e0ee574": {
          "model_module": "@jupyter-widgets/base",
          "model_name": "LayoutModel",
          "model_module_version": "1.2.0",
          "state": {
            "_model_module": "@jupyter-widgets/base",
            "_model_module_version": "1.2.0",
            "_model_name": "LayoutModel",
            "_view_count": null,
            "_view_module": "@jupyter-widgets/base",
            "_view_module_version": "1.2.0",
            "_view_name": "LayoutView",
            "align_content": null,
            "align_items": null,
            "align_self": null,
            "border": null,
            "bottom": null,
            "display": null,
            "flex": null,
            "flex_flow": null,
            "grid_area": null,
            "grid_auto_columns": null,
            "grid_auto_flow": null,
            "grid_auto_rows": null,
            "grid_column": null,
            "grid_gap": null,
            "grid_row": null,
            "grid_template_areas": null,
            "grid_template_columns": null,
            "grid_template_rows": null,
            "height": null,
            "justify_content": null,
            "justify_items": null,
            "left": null,
            "margin": null,
            "max_height": null,
            "max_width": null,
            "min_height": null,
            "min_width": null,
            "object_fit": null,
            "object_position": null,
            "order": null,
            "overflow": null,
            "overflow_x": null,
            "overflow_y": null,
            "padding": null,
            "right": null,
            "top": null,
            "visibility": null,
            "width": null
          }
        },
        "7b8d9e0bc97c416992fe38c4a064521a": {
          "model_module": "@jupyter-widgets/controls",
          "model_name": "DescriptionStyleModel",
          "model_module_version": "1.5.0",
          "state": {
            "_model_module": "@jupyter-widgets/controls",
            "_model_module_version": "1.5.0",
            "_model_name": "DescriptionStyleModel",
            "_view_count": null,
            "_view_module": "@jupyter-widgets/base",
            "_view_module_version": "1.2.0",
            "_view_name": "StyleView",
            "description_width": ""
          }
        },
        "5af32eb8caea42978f7e48b7b94691f0": {
          "model_module": "@jupyter-widgets/base",
          "model_name": "LayoutModel",
          "model_module_version": "1.2.0",
          "state": {
            "_model_module": "@jupyter-widgets/base",
            "_model_module_version": "1.2.0",
            "_model_name": "LayoutModel",
            "_view_count": null,
            "_view_module": "@jupyter-widgets/base",
            "_view_module_version": "1.2.0",
            "_view_name": "LayoutView",
            "align_content": null,
            "align_items": null,
            "align_self": null,
            "border": null,
            "bottom": null,
            "display": null,
            "flex": null,
            "flex_flow": null,
            "grid_area": null,
            "grid_auto_columns": null,
            "grid_auto_flow": null,
            "grid_auto_rows": null,
            "grid_column": null,
            "grid_gap": null,
            "grid_row": null,
            "grid_template_areas": null,
            "grid_template_columns": null,
            "grid_template_rows": null,
            "height": null,
            "justify_content": null,
            "justify_items": null,
            "left": null,
            "margin": null,
            "max_height": null,
            "max_width": null,
            "min_height": null,
            "min_width": null,
            "object_fit": null,
            "object_position": null,
            "order": null,
            "overflow": null,
            "overflow_x": null,
            "overflow_y": null,
            "padding": null,
            "right": null,
            "top": null,
            "visibility": null,
            "width": null
          }
        },
        "40aba9196b84404ca3417c555f61de08": {
          "model_module": "@jupyter-widgets/controls",
          "model_name": "ProgressStyleModel",
          "model_module_version": "1.5.0",
          "state": {
            "_model_module": "@jupyter-widgets/controls",
            "_model_module_version": "1.5.0",
            "_model_name": "ProgressStyleModel",
            "_view_count": null,
            "_view_module": "@jupyter-widgets/base",
            "_view_module_version": "1.2.0",
            "_view_name": "StyleView",
            "bar_color": null,
            "description_width": ""
          }
        },
        "78f2bcc3cb944f6098af433619fa3368": {
          "model_module": "@jupyter-widgets/base",
          "model_name": "LayoutModel",
          "model_module_version": "1.2.0",
          "state": {
            "_model_module": "@jupyter-widgets/base",
            "_model_module_version": "1.2.0",
            "_model_name": "LayoutModel",
            "_view_count": null,
            "_view_module": "@jupyter-widgets/base",
            "_view_module_version": "1.2.0",
            "_view_name": "LayoutView",
            "align_content": null,
            "align_items": null,
            "align_self": null,
            "border": null,
            "bottom": null,
            "display": null,
            "flex": null,
            "flex_flow": null,
            "grid_area": null,
            "grid_auto_columns": null,
            "grid_auto_flow": null,
            "grid_auto_rows": null,
            "grid_column": null,
            "grid_gap": null,
            "grid_row": null,
            "grid_template_areas": null,
            "grid_template_columns": null,
            "grid_template_rows": null,
            "height": null,
            "justify_content": null,
            "justify_items": null,
            "left": null,
            "margin": null,
            "max_height": null,
            "max_width": null,
            "min_height": null,
            "min_width": null,
            "object_fit": null,
            "object_position": null,
            "order": null,
            "overflow": null,
            "overflow_x": null,
            "overflow_y": null,
            "padding": null,
            "right": null,
            "top": null,
            "visibility": null,
            "width": null
          }
        },
        "02dd17abae634757afd3d8cbb675c884": {
          "model_module": "@jupyter-widgets/controls",
          "model_name": "DescriptionStyleModel",
          "model_module_version": "1.5.0",
          "state": {
            "_model_module": "@jupyter-widgets/controls",
            "_model_module_version": "1.5.0",
            "_model_name": "DescriptionStyleModel",
            "_view_count": null,
            "_view_module": "@jupyter-widgets/base",
            "_view_module_version": "1.2.0",
            "_view_name": "StyleView",
            "description_width": ""
          }
        }
      }
    }
  },
  "nbformat": 4,
  "nbformat_minor": 0
}