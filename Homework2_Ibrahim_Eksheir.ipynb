{
  "nbformat": 4,
  "nbformat_minor": 0,
  "metadata": {
    "colab": {
      "provenance": [],
      "collapsed_sections": [
        "HvZaLATdE2cl",
        "kdITlj1rjUwa",
        "SXpTOqdIyqS5",
        "R1on-z1TyyA6",
        "ZnwUnRzCzHtJ"
      ]
    },
    "kernelspec": {
      "name": "python3",
      "display_name": "Python 3"
    },
    "language_info": {
      "name": "python"
    },
    "widgets": {
      "application/vnd.jupyter.widget-state+json": {
        "64b3e3494aa744c29815cdc415269d0b": {
          "model_module": "@jupyter-widgets/controls",
          "model_name": "HBoxModel",
          "model_module_version": "1.5.0",
          "state": {
            "_dom_classes": [],
            "_model_module": "@jupyter-widgets/controls",
            "_model_module_version": "1.5.0",
            "_model_name": "HBoxModel",
            "_view_count": null,
            "_view_module": "@jupyter-widgets/controls",
            "_view_module_version": "1.5.0",
            "_view_name": "HBoxView",
            "box_style": "",
            "children": [
              "IPY_MODEL_fb4cbba73ee044c5a8ead0e4312e5093",
              "IPY_MODEL_dc6379109d854b17b11900c7fbb68d37",
              "IPY_MODEL_7cc38c4f9cff4528a8de6780ce64924d"
            ],
            "layout": "IPY_MODEL_9dc176d8375340abbf09e6cece3bcd63"
          }
        },
        "fb4cbba73ee044c5a8ead0e4312e5093": {
          "model_module": "@jupyter-widgets/controls",
          "model_name": "HTMLModel",
          "model_module_version": "1.5.0",
          "state": {
            "_dom_classes": [],
            "_model_module": "@jupyter-widgets/controls",
            "_model_module_version": "1.5.0",
            "_model_name": "HTMLModel",
            "_view_count": null,
            "_view_module": "@jupyter-widgets/controls",
            "_view_module_version": "1.5.0",
            "_view_name": "HTMLView",
            "description": "",
            "description_tooltip": null,
            "layout": "IPY_MODEL_5a558832a87f438c8d090f79bf0bcd0e",
            "placeholder": "​",
            "style": "IPY_MODEL_bfbcdfa3c24c42d1b2fb86b75c280d07",
            "value": "100%"
          }
        },
        "dc6379109d854b17b11900c7fbb68d37": {
          "model_module": "@jupyter-widgets/controls",
          "model_name": "FloatProgressModel",
          "model_module_version": "1.5.0",
          "state": {
            "_dom_classes": [],
            "_model_module": "@jupyter-widgets/controls",
            "_model_module_version": "1.5.0",
            "_model_name": "FloatProgressModel",
            "_view_count": null,
            "_view_module": "@jupyter-widgets/controls",
            "_view_module_version": "1.5.0",
            "_view_name": "ProgressView",
            "bar_style": "success",
            "description": "",
            "description_tooltip": null,
            "layout": "IPY_MODEL_f49c3c720dd74f54a23c73b36aecba5f",
            "max": 26421880,
            "min": 0,
            "orientation": "horizontal",
            "style": "IPY_MODEL_9dfe9b66260540ff996526f572fb0799",
            "value": 26421880
          }
        },
        "7cc38c4f9cff4528a8de6780ce64924d": {
          "model_module": "@jupyter-widgets/controls",
          "model_name": "HTMLModel",
          "model_module_version": "1.5.0",
          "state": {
            "_dom_classes": [],
            "_model_module": "@jupyter-widgets/controls",
            "_model_module_version": "1.5.0",
            "_model_name": "HTMLModel",
            "_view_count": null,
            "_view_module": "@jupyter-widgets/controls",
            "_view_module_version": "1.5.0",
            "_view_name": "HTMLView",
            "description": "",
            "description_tooltip": null,
            "layout": "IPY_MODEL_f56a1dfbaf2a4e6ea6307d489d32826c",
            "placeholder": "​",
            "style": "IPY_MODEL_3ed3199e95424d7ca959cd6c9d4ac3fb",
            "value": " 26421880/26421880 [00:01&lt;00:00, 25873988.92it/s]"
          }
        },
        "9dc176d8375340abbf09e6cece3bcd63": {
          "model_module": "@jupyter-widgets/base",
          "model_name": "LayoutModel",
          "model_module_version": "1.2.0",
          "state": {
            "_model_module": "@jupyter-widgets/base",
            "_model_module_version": "1.2.0",
            "_model_name": "LayoutModel",
            "_view_count": null,
            "_view_module": "@jupyter-widgets/base",
            "_view_module_version": "1.2.0",
            "_view_name": "LayoutView",
            "align_content": null,
            "align_items": null,
            "align_self": null,
            "border": null,
            "bottom": null,
            "display": null,
            "flex": null,
            "flex_flow": null,
            "grid_area": null,
            "grid_auto_columns": null,
            "grid_auto_flow": null,
            "grid_auto_rows": null,
            "grid_column": null,
            "grid_gap": null,
            "grid_row": null,
            "grid_template_areas": null,
            "grid_template_columns": null,
            "grid_template_rows": null,
            "height": null,
            "justify_content": null,
            "justify_items": null,
            "left": null,
            "margin": null,
            "max_height": null,
            "max_width": null,
            "min_height": null,
            "min_width": null,
            "object_fit": null,
            "object_position": null,
            "order": null,
            "overflow": null,
            "overflow_x": null,
            "overflow_y": null,
            "padding": null,
            "right": null,
            "top": null,
            "visibility": null,
            "width": null
          }
        },
        "5a558832a87f438c8d090f79bf0bcd0e": {
          "model_module": "@jupyter-widgets/base",
          "model_name": "LayoutModel",
          "model_module_version": "1.2.0",
          "state": {
            "_model_module": "@jupyter-widgets/base",
            "_model_module_version": "1.2.0",
            "_model_name": "LayoutModel",
            "_view_count": null,
            "_view_module": "@jupyter-widgets/base",
            "_view_module_version": "1.2.0",
            "_view_name": "LayoutView",
            "align_content": null,
            "align_items": null,
            "align_self": null,
            "border": null,
            "bottom": null,
            "display": null,
            "flex": null,
            "flex_flow": null,
            "grid_area": null,
            "grid_auto_columns": null,
            "grid_auto_flow": null,
            "grid_auto_rows": null,
            "grid_column": null,
            "grid_gap": null,
            "grid_row": null,
            "grid_template_areas": null,
            "grid_template_columns": null,
            "grid_template_rows": null,
            "height": null,
            "justify_content": null,
            "justify_items": null,
            "left": null,
            "margin": null,
            "max_height": null,
            "max_width": null,
            "min_height": null,
            "min_width": null,
            "object_fit": null,
            "object_position": null,
            "order": null,
            "overflow": null,
            "overflow_x": null,
            "overflow_y": null,
            "padding": null,
            "right": null,
            "top": null,
            "visibility": null,
            "width": null
          }
        },
        "bfbcdfa3c24c42d1b2fb86b75c280d07": {
          "model_module": "@jupyter-widgets/controls",
          "model_name": "DescriptionStyleModel",
          "model_module_version": "1.5.0",
          "state": {
            "_model_module": "@jupyter-widgets/controls",
            "_model_module_version": "1.5.0",
            "_model_name": "DescriptionStyleModel",
            "_view_count": null,
            "_view_module": "@jupyter-widgets/base",
            "_view_module_version": "1.2.0",
            "_view_name": "StyleView",
            "description_width": ""
          }
        },
        "f49c3c720dd74f54a23c73b36aecba5f": {
          "model_module": "@jupyter-widgets/base",
          "model_name": "LayoutModel",
          "model_module_version": "1.2.0",
          "state": {
            "_model_module": "@jupyter-widgets/base",
            "_model_module_version": "1.2.0",
            "_model_name": "LayoutModel",
            "_view_count": null,
            "_view_module": "@jupyter-widgets/base",
            "_view_module_version": "1.2.0",
            "_view_name": "LayoutView",
            "align_content": null,
            "align_items": null,
            "align_self": null,
            "border": null,
            "bottom": null,
            "display": null,
            "flex": null,
            "flex_flow": null,
            "grid_area": null,
            "grid_auto_columns": null,
            "grid_auto_flow": null,
            "grid_auto_rows": null,
            "grid_column": null,
            "grid_gap": null,
            "grid_row": null,
            "grid_template_areas": null,
            "grid_template_columns": null,
            "grid_template_rows": null,
            "height": null,
            "justify_content": null,
            "justify_items": null,
            "left": null,
            "margin": null,
            "max_height": null,
            "max_width": null,
            "min_height": null,
            "min_width": null,
            "object_fit": null,
            "object_position": null,
            "order": null,
            "overflow": null,
            "overflow_x": null,
            "overflow_y": null,
            "padding": null,
            "right": null,
            "top": null,
            "visibility": null,
            "width": null
          }
        },
        "9dfe9b66260540ff996526f572fb0799": {
          "model_module": "@jupyter-widgets/controls",
          "model_name": "ProgressStyleModel",
          "model_module_version": "1.5.0",
          "state": {
            "_model_module": "@jupyter-widgets/controls",
            "_model_module_version": "1.5.0",
            "_model_name": "ProgressStyleModel",
            "_view_count": null,
            "_view_module": "@jupyter-widgets/base",
            "_view_module_version": "1.2.0",
            "_view_name": "StyleView",
            "bar_color": null,
            "description_width": ""
          }
        },
        "f56a1dfbaf2a4e6ea6307d489d32826c": {
          "model_module": "@jupyter-widgets/base",
          "model_name": "LayoutModel",
          "model_module_version": "1.2.0",
          "state": {
            "_model_module": "@jupyter-widgets/base",
            "_model_module_version": "1.2.0",
            "_model_name": "LayoutModel",
            "_view_count": null,
            "_view_module": "@jupyter-widgets/base",
            "_view_module_version": "1.2.0",
            "_view_name": "LayoutView",
            "align_content": null,
            "align_items": null,
            "align_self": null,
            "border": null,
            "bottom": null,
            "display": null,
            "flex": null,
            "flex_flow": null,
            "grid_area": null,
            "grid_auto_columns": null,
            "grid_auto_flow": null,
            "grid_auto_rows": null,
            "grid_column": null,
            "grid_gap": null,
            "grid_row": null,
            "grid_template_areas": null,
            "grid_template_columns": null,
            "grid_template_rows": null,
            "height": null,
            "justify_content": null,
            "justify_items": null,
            "left": null,
            "margin": null,
            "max_height": null,
            "max_width": null,
            "min_height": null,
            "min_width": null,
            "object_fit": null,
            "object_position": null,
            "order": null,
            "overflow": null,
            "overflow_x": null,
            "overflow_y": null,
            "padding": null,
            "right": null,
            "top": null,
            "visibility": null,
            "width": null
          }
        },
        "3ed3199e95424d7ca959cd6c9d4ac3fb": {
          "model_module": "@jupyter-widgets/controls",
          "model_name": "DescriptionStyleModel",
          "model_module_version": "1.5.0",
          "state": {
            "_model_module": "@jupyter-widgets/controls",
            "_model_module_version": "1.5.0",
            "_model_name": "DescriptionStyleModel",
            "_view_count": null,
            "_view_module": "@jupyter-widgets/base",
            "_view_module_version": "1.2.0",
            "_view_name": "StyleView",
            "description_width": ""
          }
        },
        "f553bf9418b04e29ad8182f773010032": {
          "model_module": "@jupyter-widgets/controls",
          "model_name": "HBoxModel",
          "model_module_version": "1.5.0",
          "state": {
            "_dom_classes": [],
            "_model_module": "@jupyter-widgets/controls",
            "_model_module_version": "1.5.0",
            "_model_name": "HBoxModel",
            "_view_count": null,
            "_view_module": "@jupyter-widgets/controls",
            "_view_module_version": "1.5.0",
            "_view_name": "HBoxView",
            "box_style": "",
            "children": [
              "IPY_MODEL_415c50a2a8f04decac181013891ef21c",
              "IPY_MODEL_103855be607f4852b7ba4e897fb4de8e",
              "IPY_MODEL_b8b033dace9743588109aa142c7d48e1"
            ],
            "layout": "IPY_MODEL_f4684ec53c6244a6904726fa3e3e943b"
          }
        },
        "415c50a2a8f04decac181013891ef21c": {
          "model_module": "@jupyter-widgets/controls",
          "model_name": "HTMLModel",
          "model_module_version": "1.5.0",
          "state": {
            "_dom_classes": [],
            "_model_module": "@jupyter-widgets/controls",
            "_model_module_version": "1.5.0",
            "_model_name": "HTMLModel",
            "_view_count": null,
            "_view_module": "@jupyter-widgets/controls",
            "_view_module_version": "1.5.0",
            "_view_name": "HTMLView",
            "description": "",
            "description_tooltip": null,
            "layout": "IPY_MODEL_8167a4498d0247db9e04fdbb1f677461",
            "placeholder": "​",
            "style": "IPY_MODEL_0662aae540ab4bb886771068da5fa12e",
            "value": "100%"
          }
        },
        "103855be607f4852b7ba4e897fb4de8e": {
          "model_module": "@jupyter-widgets/controls",
          "model_name": "FloatProgressModel",
          "model_module_version": "1.5.0",
          "state": {
            "_dom_classes": [],
            "_model_module": "@jupyter-widgets/controls",
            "_model_module_version": "1.5.0",
            "_model_name": "FloatProgressModel",
            "_view_count": null,
            "_view_module": "@jupyter-widgets/controls",
            "_view_module_version": "1.5.0",
            "_view_name": "ProgressView",
            "bar_style": "success",
            "description": "",
            "description_tooltip": null,
            "layout": "IPY_MODEL_dcdd9925e7864db4b3fa0ddfe3ba210c",
            "max": 29515,
            "min": 0,
            "orientation": "horizontal",
            "style": "IPY_MODEL_c9343510f74e42d1b6ce7dbaa2217b8c",
            "value": 29515
          }
        },
        "b8b033dace9743588109aa142c7d48e1": {
          "model_module": "@jupyter-widgets/controls",
          "model_name": "HTMLModel",
          "model_module_version": "1.5.0",
          "state": {
            "_dom_classes": [],
            "_model_module": "@jupyter-widgets/controls",
            "_model_module_version": "1.5.0",
            "_model_name": "HTMLModel",
            "_view_count": null,
            "_view_module": "@jupyter-widgets/controls",
            "_view_module_version": "1.5.0",
            "_view_name": "HTMLView",
            "description": "",
            "description_tooltip": null,
            "layout": "IPY_MODEL_522692b7bd2d4cad96bf09ed2fd2f00e",
            "placeholder": "​",
            "style": "IPY_MODEL_01469fc522cc4c5bb2fd674d91f6a7a6",
            "value": " 29515/29515 [00:00&lt;00:00, 270214.27it/s]"
          }
        },
        "f4684ec53c6244a6904726fa3e3e943b": {
          "model_module": "@jupyter-widgets/base",
          "model_name": "LayoutModel",
          "model_module_version": "1.2.0",
          "state": {
            "_model_module": "@jupyter-widgets/base",
            "_model_module_version": "1.2.0",
            "_model_name": "LayoutModel",
            "_view_count": null,
            "_view_module": "@jupyter-widgets/base",
            "_view_module_version": "1.2.0",
            "_view_name": "LayoutView",
            "align_content": null,
            "align_items": null,
            "align_self": null,
            "border": null,
            "bottom": null,
            "display": null,
            "flex": null,
            "flex_flow": null,
            "grid_area": null,
            "grid_auto_columns": null,
            "grid_auto_flow": null,
            "grid_auto_rows": null,
            "grid_column": null,
            "grid_gap": null,
            "grid_row": null,
            "grid_template_areas": null,
            "grid_template_columns": null,
            "grid_template_rows": null,
            "height": null,
            "justify_content": null,
            "justify_items": null,
            "left": null,
            "margin": null,
            "max_height": null,
            "max_width": null,
            "min_height": null,
            "min_width": null,
            "object_fit": null,
            "object_position": null,
            "order": null,
            "overflow": null,
            "overflow_x": null,
            "overflow_y": null,
            "padding": null,
            "right": null,
            "top": null,
            "visibility": null,
            "width": null
          }
        },
        "8167a4498d0247db9e04fdbb1f677461": {
          "model_module": "@jupyter-widgets/base",
          "model_name": "LayoutModel",
          "model_module_version": "1.2.0",
          "state": {
            "_model_module": "@jupyter-widgets/base",
            "_model_module_version": "1.2.0",
            "_model_name": "LayoutModel",
            "_view_count": null,
            "_view_module": "@jupyter-widgets/base",
            "_view_module_version": "1.2.0",
            "_view_name": "LayoutView",
            "align_content": null,
            "align_items": null,
            "align_self": null,
            "border": null,
            "bottom": null,
            "display": null,
            "flex": null,
            "flex_flow": null,
            "grid_area": null,
            "grid_auto_columns": null,
            "grid_auto_flow": null,
            "grid_auto_rows": null,
            "grid_column": null,
            "grid_gap": null,
            "grid_row": null,
            "grid_template_areas": null,
            "grid_template_columns": null,
            "grid_template_rows": null,
            "height": null,
            "justify_content": null,
            "justify_items": null,
            "left": null,
            "margin": null,
            "max_height": null,
            "max_width": null,
            "min_height": null,
            "min_width": null,
            "object_fit": null,
            "object_position": null,
            "order": null,
            "overflow": null,
            "overflow_x": null,
            "overflow_y": null,
            "padding": null,
            "right": null,
            "top": null,
            "visibility": null,
            "width": null
          }
        },
        "0662aae540ab4bb886771068da5fa12e": {
          "model_module": "@jupyter-widgets/controls",
          "model_name": "DescriptionStyleModel",
          "model_module_version": "1.5.0",
          "state": {
            "_model_module": "@jupyter-widgets/controls",
            "_model_module_version": "1.5.0",
            "_model_name": "DescriptionStyleModel",
            "_view_count": null,
            "_view_module": "@jupyter-widgets/base",
            "_view_module_version": "1.2.0",
            "_view_name": "StyleView",
            "description_width": ""
          }
        },
        "dcdd9925e7864db4b3fa0ddfe3ba210c": {
          "model_module": "@jupyter-widgets/base",
          "model_name": "LayoutModel",
          "model_module_version": "1.2.0",
          "state": {
            "_model_module": "@jupyter-widgets/base",
            "_model_module_version": "1.2.0",
            "_model_name": "LayoutModel",
            "_view_count": null,
            "_view_module": "@jupyter-widgets/base",
            "_view_module_version": "1.2.0",
            "_view_name": "LayoutView",
            "align_content": null,
            "align_items": null,
            "align_self": null,
            "border": null,
            "bottom": null,
            "display": null,
            "flex": null,
            "flex_flow": null,
            "grid_area": null,
            "grid_auto_columns": null,
            "grid_auto_flow": null,
            "grid_auto_rows": null,
            "grid_column": null,
            "grid_gap": null,
            "grid_row": null,
            "grid_template_areas": null,
            "grid_template_columns": null,
            "grid_template_rows": null,
            "height": null,
            "justify_content": null,
            "justify_items": null,
            "left": null,
            "margin": null,
            "max_height": null,
            "max_width": null,
            "min_height": null,
            "min_width": null,
            "object_fit": null,
            "object_position": null,
            "order": null,
            "overflow": null,
            "overflow_x": null,
            "overflow_y": null,
            "padding": null,
            "right": null,
            "top": null,
            "visibility": null,
            "width": null
          }
        },
        "c9343510f74e42d1b6ce7dbaa2217b8c": {
          "model_module": "@jupyter-widgets/controls",
          "model_name": "ProgressStyleModel",
          "model_module_version": "1.5.0",
          "state": {
            "_model_module": "@jupyter-widgets/controls",
            "_model_module_version": "1.5.0",
            "_model_name": "ProgressStyleModel",
            "_view_count": null,
            "_view_module": "@jupyter-widgets/base",
            "_view_module_version": "1.2.0",
            "_view_name": "StyleView",
            "bar_color": null,
            "description_width": ""
          }
        },
        "522692b7bd2d4cad96bf09ed2fd2f00e": {
          "model_module": "@jupyter-widgets/base",
          "model_name": "LayoutModel",
          "model_module_version": "1.2.0",
          "state": {
            "_model_module": "@jupyter-widgets/base",
            "_model_module_version": "1.2.0",
            "_model_name": "LayoutModel",
            "_view_count": null,
            "_view_module": "@jupyter-widgets/base",
            "_view_module_version": "1.2.0",
            "_view_name": "LayoutView",
            "align_content": null,
            "align_items": null,
            "align_self": null,
            "border": null,
            "bottom": null,
            "display": null,
            "flex": null,
            "flex_flow": null,
            "grid_area": null,
            "grid_auto_columns": null,
            "grid_auto_flow": null,
            "grid_auto_rows": null,
            "grid_column": null,
            "grid_gap": null,
            "grid_row": null,
            "grid_template_areas": null,
            "grid_template_columns": null,
            "grid_template_rows": null,
            "height": null,
            "justify_content": null,
            "justify_items": null,
            "left": null,
            "margin": null,
            "max_height": null,
            "max_width": null,
            "min_height": null,
            "min_width": null,
            "object_fit": null,
            "object_position": null,
            "order": null,
            "overflow": null,
            "overflow_x": null,
            "overflow_y": null,
            "padding": null,
            "right": null,
            "top": null,
            "visibility": null,
            "width": null
          }
        },
        "01469fc522cc4c5bb2fd674d91f6a7a6": {
          "model_module": "@jupyter-widgets/controls",
          "model_name": "DescriptionStyleModel",
          "model_module_version": "1.5.0",
          "state": {
            "_model_module": "@jupyter-widgets/controls",
            "_model_module_version": "1.5.0",
            "_model_name": "DescriptionStyleModel",
            "_view_count": null,
            "_view_module": "@jupyter-widgets/base",
            "_view_module_version": "1.2.0",
            "_view_name": "StyleView",
            "description_width": ""
          }
        },
        "278b5a03f50a4da1ae21efebd3e71d86": {
          "model_module": "@jupyter-widgets/controls",
          "model_name": "HBoxModel",
          "model_module_version": "1.5.0",
          "state": {
            "_dom_classes": [],
            "_model_module": "@jupyter-widgets/controls",
            "_model_module_version": "1.5.0",
            "_model_name": "HBoxModel",
            "_view_count": null,
            "_view_module": "@jupyter-widgets/controls",
            "_view_module_version": "1.5.0",
            "_view_name": "HBoxView",
            "box_style": "",
            "children": [
              "IPY_MODEL_4593d4ba89d04cceb39747da2a429732",
              "IPY_MODEL_f1272f30773445cdb4fbe63904ad6f1d",
              "IPY_MODEL_026cac9a31b946b682cfea3b5431a855"
            ],
            "layout": "IPY_MODEL_c9461a57dbfb41e4aa117855d247f67f"
          }
        },
        "4593d4ba89d04cceb39747da2a429732": {
          "model_module": "@jupyter-widgets/controls",
          "model_name": "HTMLModel",
          "model_module_version": "1.5.0",
          "state": {
            "_dom_classes": [],
            "_model_module": "@jupyter-widgets/controls",
            "_model_module_version": "1.5.0",
            "_model_name": "HTMLModel",
            "_view_count": null,
            "_view_module": "@jupyter-widgets/controls",
            "_view_module_version": "1.5.0",
            "_view_name": "HTMLView",
            "description": "",
            "description_tooltip": null,
            "layout": "IPY_MODEL_55a85c1c5b2d47cd81990eb3a8ca7aea",
            "placeholder": "​",
            "style": "IPY_MODEL_eabe393740de4e06849dd97a0d4057a0",
            "value": "100%"
          }
        },
        "f1272f30773445cdb4fbe63904ad6f1d": {
          "model_module": "@jupyter-widgets/controls",
          "model_name": "FloatProgressModel",
          "model_module_version": "1.5.0",
          "state": {
            "_dom_classes": [],
            "_model_module": "@jupyter-widgets/controls",
            "_model_module_version": "1.5.0",
            "_model_name": "FloatProgressModel",
            "_view_count": null,
            "_view_module": "@jupyter-widgets/controls",
            "_view_module_version": "1.5.0",
            "_view_name": "ProgressView",
            "bar_style": "success",
            "description": "",
            "description_tooltip": null,
            "layout": "IPY_MODEL_2eb3560cc65c4131809385a48840cc71",
            "max": 4422102,
            "min": 0,
            "orientation": "horizontal",
            "style": "IPY_MODEL_a4d0655b26834ae68b6bee3e3ef0feef",
            "value": 4422102
          }
        },
        "026cac9a31b946b682cfea3b5431a855": {
          "model_module": "@jupyter-widgets/controls",
          "model_name": "HTMLModel",
          "model_module_version": "1.5.0",
          "state": {
            "_dom_classes": [],
            "_model_module": "@jupyter-widgets/controls",
            "_model_module_version": "1.5.0",
            "_model_name": "HTMLModel",
            "_view_count": null,
            "_view_module": "@jupyter-widgets/controls",
            "_view_module_version": "1.5.0",
            "_view_name": "HTMLView",
            "description": "",
            "description_tooltip": null,
            "layout": "IPY_MODEL_334803998bad496ba97f3efe0987a216",
            "placeholder": "​",
            "style": "IPY_MODEL_da12cc5c37ab415892cbbd286657da3a",
            "value": " 4422102/4422102 [00:00&lt;00:00, 8418727.79it/s]"
          }
        },
        "c9461a57dbfb41e4aa117855d247f67f": {
          "model_module": "@jupyter-widgets/base",
          "model_name": "LayoutModel",
          "model_module_version": "1.2.0",
          "state": {
            "_model_module": "@jupyter-widgets/base",
            "_model_module_version": "1.2.0",
            "_model_name": "LayoutModel",
            "_view_count": null,
            "_view_module": "@jupyter-widgets/base",
            "_view_module_version": "1.2.0",
            "_view_name": "LayoutView",
            "align_content": null,
            "align_items": null,
            "align_self": null,
            "border": null,
            "bottom": null,
            "display": null,
            "flex": null,
            "flex_flow": null,
            "grid_area": null,
            "grid_auto_columns": null,
            "grid_auto_flow": null,
            "grid_auto_rows": null,
            "grid_column": null,
            "grid_gap": null,
            "grid_row": null,
            "grid_template_areas": null,
            "grid_template_columns": null,
            "grid_template_rows": null,
            "height": null,
            "justify_content": null,
            "justify_items": null,
            "left": null,
            "margin": null,
            "max_height": null,
            "max_width": null,
            "min_height": null,
            "min_width": null,
            "object_fit": null,
            "object_position": null,
            "order": null,
            "overflow": null,
            "overflow_x": null,
            "overflow_y": null,
            "padding": null,
            "right": null,
            "top": null,
            "visibility": null,
            "width": null
          }
        },
        "55a85c1c5b2d47cd81990eb3a8ca7aea": {
          "model_module": "@jupyter-widgets/base",
          "model_name": "LayoutModel",
          "model_module_version": "1.2.0",
          "state": {
            "_model_module": "@jupyter-widgets/base",
            "_model_module_version": "1.2.0",
            "_model_name": "LayoutModel",
            "_view_count": null,
            "_view_module": "@jupyter-widgets/base",
            "_view_module_version": "1.2.0",
            "_view_name": "LayoutView",
            "align_content": null,
            "align_items": null,
            "align_self": null,
            "border": null,
            "bottom": null,
            "display": null,
            "flex": null,
            "flex_flow": null,
            "grid_area": null,
            "grid_auto_columns": null,
            "grid_auto_flow": null,
            "grid_auto_rows": null,
            "grid_column": null,
            "grid_gap": null,
            "grid_row": null,
            "grid_template_areas": null,
            "grid_template_columns": null,
            "grid_template_rows": null,
            "height": null,
            "justify_content": null,
            "justify_items": null,
            "left": null,
            "margin": null,
            "max_height": null,
            "max_width": null,
            "min_height": null,
            "min_width": null,
            "object_fit": null,
            "object_position": null,
            "order": null,
            "overflow": null,
            "overflow_x": null,
            "overflow_y": null,
            "padding": null,
            "right": null,
            "top": null,
            "visibility": null,
            "width": null
          }
        },
        "eabe393740de4e06849dd97a0d4057a0": {
          "model_module": "@jupyter-widgets/controls",
          "model_name": "DescriptionStyleModel",
          "model_module_version": "1.5.0",
          "state": {
            "_model_module": "@jupyter-widgets/controls",
            "_model_module_version": "1.5.0",
            "_model_name": "DescriptionStyleModel",
            "_view_count": null,
            "_view_module": "@jupyter-widgets/base",
            "_view_module_version": "1.2.0",
            "_view_name": "StyleView",
            "description_width": ""
          }
        },
        "2eb3560cc65c4131809385a48840cc71": {
          "model_module": "@jupyter-widgets/base",
          "model_name": "LayoutModel",
          "model_module_version": "1.2.0",
          "state": {
            "_model_module": "@jupyter-widgets/base",
            "_model_module_version": "1.2.0",
            "_model_name": "LayoutModel",
            "_view_count": null,
            "_view_module": "@jupyter-widgets/base",
            "_view_module_version": "1.2.0",
            "_view_name": "LayoutView",
            "align_content": null,
            "align_items": null,
            "align_self": null,
            "border": null,
            "bottom": null,
            "display": null,
            "flex": null,
            "flex_flow": null,
            "grid_area": null,
            "grid_auto_columns": null,
            "grid_auto_flow": null,
            "grid_auto_rows": null,
            "grid_column": null,
            "grid_gap": null,
            "grid_row": null,
            "grid_template_areas": null,
            "grid_template_columns": null,
            "grid_template_rows": null,
            "height": null,
            "justify_content": null,
            "justify_items": null,
            "left": null,
            "margin": null,
            "max_height": null,
            "max_width": null,
            "min_height": null,
            "min_width": null,
            "object_fit": null,
            "object_position": null,
            "order": null,
            "overflow": null,
            "overflow_x": null,
            "overflow_y": null,
            "padding": null,
            "right": null,
            "top": null,
            "visibility": null,
            "width": null
          }
        },
        "a4d0655b26834ae68b6bee3e3ef0feef": {
          "model_module": "@jupyter-widgets/controls",
          "model_name": "ProgressStyleModel",
          "model_module_version": "1.5.0",
          "state": {
            "_model_module": "@jupyter-widgets/controls",
            "_model_module_version": "1.5.0",
            "_model_name": "ProgressStyleModel",
            "_view_count": null,
            "_view_module": "@jupyter-widgets/base",
            "_view_module_version": "1.2.0",
            "_view_name": "StyleView",
            "bar_color": null,
            "description_width": ""
          }
        },
        "334803998bad496ba97f3efe0987a216": {
          "model_module": "@jupyter-widgets/base",
          "model_name": "LayoutModel",
          "model_module_version": "1.2.0",
          "state": {
            "_model_module": "@jupyter-widgets/base",
            "_model_module_version": "1.2.0",
            "_model_name": "LayoutModel",
            "_view_count": null,
            "_view_module": "@jupyter-widgets/base",
            "_view_module_version": "1.2.0",
            "_view_name": "LayoutView",
            "align_content": null,
            "align_items": null,
            "align_self": null,
            "border": null,
            "bottom": null,
            "display": null,
            "flex": null,
            "flex_flow": null,
            "grid_area": null,
            "grid_auto_columns": null,
            "grid_auto_flow": null,
            "grid_auto_rows": null,
            "grid_column": null,
            "grid_gap": null,
            "grid_row": null,
            "grid_template_areas": null,
            "grid_template_columns": null,
            "grid_template_rows": null,
            "height": null,
            "justify_content": null,
            "justify_items": null,
            "left": null,
            "margin": null,
            "max_height": null,
            "max_width": null,
            "min_height": null,
            "min_width": null,
            "object_fit": null,
            "object_position": null,
            "order": null,
            "overflow": null,
            "overflow_x": null,
            "overflow_y": null,
            "padding": null,
            "right": null,
            "top": null,
            "visibility": null,
            "width": null
          }
        },
        "da12cc5c37ab415892cbbd286657da3a": {
          "model_module": "@jupyter-widgets/controls",
          "model_name": "DescriptionStyleModel",
          "model_module_version": "1.5.0",
          "state": {
            "_model_module": "@jupyter-widgets/controls",
            "_model_module_version": "1.5.0",
            "_model_name": "DescriptionStyleModel",
            "_view_count": null,
            "_view_module": "@jupyter-widgets/base",
            "_view_module_version": "1.2.0",
            "_view_name": "StyleView",
            "description_width": ""
          }
        },
        "697b4231017d4c0b9e78cdad642fc94f": {
          "model_module": "@jupyter-widgets/controls",
          "model_name": "HBoxModel",
          "model_module_version": "1.5.0",
          "state": {
            "_dom_classes": [],
            "_model_module": "@jupyter-widgets/controls",
            "_model_module_version": "1.5.0",
            "_model_name": "HBoxModel",
            "_view_count": null,
            "_view_module": "@jupyter-widgets/controls",
            "_view_module_version": "1.5.0",
            "_view_name": "HBoxView",
            "box_style": "",
            "children": [
              "IPY_MODEL_90669e8d6ee0462e8cfda99426e13f08",
              "IPY_MODEL_fb10efc73c05471ba45029e27c4555d8",
              "IPY_MODEL_302ebc97a7584817a815cccd054bc956"
            ],
            "layout": "IPY_MODEL_01a81d416da546998de85279b71d7567"
          }
        },
        "90669e8d6ee0462e8cfda99426e13f08": {
          "model_module": "@jupyter-widgets/controls",
          "model_name": "HTMLModel",
          "model_module_version": "1.5.0",
          "state": {
            "_dom_classes": [],
            "_model_module": "@jupyter-widgets/controls",
            "_model_module_version": "1.5.0",
            "_model_name": "HTMLModel",
            "_view_count": null,
            "_view_module": "@jupyter-widgets/controls",
            "_view_module_version": "1.5.0",
            "_view_name": "HTMLView",
            "description": "",
            "description_tooltip": null,
            "layout": "IPY_MODEL_075a36204b04453ea180cef95bff275a",
            "placeholder": "​",
            "style": "IPY_MODEL_dfe1f5f2ecec4e1aa7c263a792e3a310",
            "value": "100%"
          }
        },
        "fb10efc73c05471ba45029e27c4555d8": {
          "model_module": "@jupyter-widgets/controls",
          "model_name": "FloatProgressModel",
          "model_module_version": "1.5.0",
          "state": {
            "_dom_classes": [],
            "_model_module": "@jupyter-widgets/controls",
            "_model_module_version": "1.5.0",
            "_model_name": "FloatProgressModel",
            "_view_count": null,
            "_view_module": "@jupyter-widgets/controls",
            "_view_module_version": "1.5.0",
            "_view_name": "ProgressView",
            "bar_style": "success",
            "description": "",
            "description_tooltip": null,
            "layout": "IPY_MODEL_c3d471716fd84b1985b149d9624a27cd",
            "max": 5148,
            "min": 0,
            "orientation": "horizontal",
            "style": "IPY_MODEL_dc8761948aad4d53a29bec6df24f45ff",
            "value": 5148
          }
        },
        "302ebc97a7584817a815cccd054bc956": {
          "model_module": "@jupyter-widgets/controls",
          "model_name": "HTMLModel",
          "model_module_version": "1.5.0",
          "state": {
            "_dom_classes": [],
            "_model_module": "@jupyter-widgets/controls",
            "_model_module_version": "1.5.0",
            "_model_name": "HTMLModel",
            "_view_count": null,
            "_view_module": "@jupyter-widgets/controls",
            "_view_module_version": "1.5.0",
            "_view_name": "HTMLView",
            "description": "",
            "description_tooltip": null,
            "layout": "IPY_MODEL_a2509f7a06e54218861a706e723ffc1e",
            "placeholder": "​",
            "style": "IPY_MODEL_3320a5c6e10e4e3c8e35810f2bdc415f",
            "value": " 5148/5148 [00:00&lt;00:00, 241222.15it/s]"
          }
        },
        "01a81d416da546998de85279b71d7567": {
          "model_module": "@jupyter-widgets/base",
          "model_name": "LayoutModel",
          "model_module_version": "1.2.0",
          "state": {
            "_model_module": "@jupyter-widgets/base",
            "_model_module_version": "1.2.0",
            "_model_name": "LayoutModel",
            "_view_count": null,
            "_view_module": "@jupyter-widgets/base",
            "_view_module_version": "1.2.0",
            "_view_name": "LayoutView",
            "align_content": null,
            "align_items": null,
            "align_self": null,
            "border": null,
            "bottom": null,
            "display": null,
            "flex": null,
            "flex_flow": null,
            "grid_area": null,
            "grid_auto_columns": null,
            "grid_auto_flow": null,
            "grid_auto_rows": null,
            "grid_column": null,
            "grid_gap": null,
            "grid_row": null,
            "grid_template_areas": null,
            "grid_template_columns": null,
            "grid_template_rows": null,
            "height": null,
            "justify_content": null,
            "justify_items": null,
            "left": null,
            "margin": null,
            "max_height": null,
            "max_width": null,
            "min_height": null,
            "min_width": null,
            "object_fit": null,
            "object_position": null,
            "order": null,
            "overflow": null,
            "overflow_x": null,
            "overflow_y": null,
            "padding": null,
            "right": null,
            "top": null,
            "visibility": null,
            "width": null
          }
        },
        "075a36204b04453ea180cef95bff275a": {
          "model_module": "@jupyter-widgets/base",
          "model_name": "LayoutModel",
          "model_module_version": "1.2.0",
          "state": {
            "_model_module": "@jupyter-widgets/base",
            "_model_module_version": "1.2.0",
            "_model_name": "LayoutModel",
            "_view_count": null,
            "_view_module": "@jupyter-widgets/base",
            "_view_module_version": "1.2.0",
            "_view_name": "LayoutView",
            "align_content": null,
            "align_items": null,
            "align_self": null,
            "border": null,
            "bottom": null,
            "display": null,
            "flex": null,
            "flex_flow": null,
            "grid_area": null,
            "grid_auto_columns": null,
            "grid_auto_flow": null,
            "grid_auto_rows": null,
            "grid_column": null,
            "grid_gap": null,
            "grid_row": null,
            "grid_template_areas": null,
            "grid_template_columns": null,
            "grid_template_rows": null,
            "height": null,
            "justify_content": null,
            "justify_items": null,
            "left": null,
            "margin": null,
            "max_height": null,
            "max_width": null,
            "min_height": null,
            "min_width": null,
            "object_fit": null,
            "object_position": null,
            "order": null,
            "overflow": null,
            "overflow_x": null,
            "overflow_y": null,
            "padding": null,
            "right": null,
            "top": null,
            "visibility": null,
            "width": null
          }
        },
        "dfe1f5f2ecec4e1aa7c263a792e3a310": {
          "model_module": "@jupyter-widgets/controls",
          "model_name": "DescriptionStyleModel",
          "model_module_version": "1.5.0",
          "state": {
            "_model_module": "@jupyter-widgets/controls",
            "_model_module_version": "1.5.0",
            "_model_name": "DescriptionStyleModel",
            "_view_count": null,
            "_view_module": "@jupyter-widgets/base",
            "_view_module_version": "1.2.0",
            "_view_name": "StyleView",
            "description_width": ""
          }
        },
        "c3d471716fd84b1985b149d9624a27cd": {
          "model_module": "@jupyter-widgets/base",
          "model_name": "LayoutModel",
          "model_module_version": "1.2.0",
          "state": {
            "_model_module": "@jupyter-widgets/base",
            "_model_module_version": "1.2.0",
            "_model_name": "LayoutModel",
            "_view_count": null,
            "_view_module": "@jupyter-widgets/base",
            "_view_module_version": "1.2.0",
            "_view_name": "LayoutView",
            "align_content": null,
            "align_items": null,
            "align_self": null,
            "border": null,
            "bottom": null,
            "display": null,
            "flex": null,
            "flex_flow": null,
            "grid_area": null,
            "grid_auto_columns": null,
            "grid_auto_flow": null,
            "grid_auto_rows": null,
            "grid_column": null,
            "grid_gap": null,
            "grid_row": null,
            "grid_template_areas": null,
            "grid_template_columns": null,
            "grid_template_rows": null,
            "height": null,
            "justify_content": null,
            "justify_items": null,
            "left": null,
            "margin": null,
            "max_height": null,
            "max_width": null,
            "min_height": null,
            "min_width": null,
            "object_fit": null,
            "object_position": null,
            "order": null,
            "overflow": null,
            "overflow_x": null,
            "overflow_y": null,
            "padding": null,
            "right": null,
            "top": null,
            "visibility": null,
            "width": null
          }
        },
        "dc8761948aad4d53a29bec6df24f45ff": {
          "model_module": "@jupyter-widgets/controls",
          "model_name": "ProgressStyleModel",
          "model_module_version": "1.5.0",
          "state": {
            "_model_module": "@jupyter-widgets/controls",
            "_model_module_version": "1.5.0",
            "_model_name": "ProgressStyleModel",
            "_view_count": null,
            "_view_module": "@jupyter-widgets/base",
            "_view_module_version": "1.2.0",
            "_view_name": "StyleView",
            "bar_color": null,
            "description_width": ""
          }
        },
        "a2509f7a06e54218861a706e723ffc1e": {
          "model_module": "@jupyter-widgets/base",
          "model_name": "LayoutModel",
          "model_module_version": "1.2.0",
          "state": {
            "_model_module": "@jupyter-widgets/base",
            "_model_module_version": "1.2.0",
            "_model_name": "LayoutModel",
            "_view_count": null,
            "_view_module": "@jupyter-widgets/base",
            "_view_module_version": "1.2.0",
            "_view_name": "LayoutView",
            "align_content": null,
            "align_items": null,
            "align_self": null,
            "border": null,
            "bottom": null,
            "display": null,
            "flex": null,
            "flex_flow": null,
            "grid_area": null,
            "grid_auto_columns": null,
            "grid_auto_flow": null,
            "grid_auto_rows": null,
            "grid_column": null,
            "grid_gap": null,
            "grid_row": null,
            "grid_template_areas": null,
            "grid_template_columns": null,
            "grid_template_rows": null,
            "height": null,
            "justify_content": null,
            "justify_items": null,
            "left": null,
            "margin": null,
            "max_height": null,
            "max_width": null,
            "min_height": null,
            "min_width": null,
            "object_fit": null,
            "object_position": null,
            "order": null,
            "overflow": null,
            "overflow_x": null,
            "overflow_y": null,
            "padding": null,
            "right": null,
            "top": null,
            "visibility": null,
            "width": null
          }
        },
        "3320a5c6e10e4e3c8e35810f2bdc415f": {
          "model_module": "@jupyter-widgets/controls",
          "model_name": "DescriptionStyleModel",
          "model_module_version": "1.5.0",
          "state": {
            "_model_module": "@jupyter-widgets/controls",
            "_model_module_version": "1.5.0",
            "_model_name": "DescriptionStyleModel",
            "_view_count": null,
            "_view_module": "@jupyter-widgets/base",
            "_view_module_version": "1.2.0",
            "_view_name": "StyleView",
            "description_width": ""
          }
        }
      }
    },
    "accelerator": "GPU",
    "gpuClass": "standard"
  },
  "cells": [
    {
      "cell_type": "code",
      "source": [
        "!pip install torchmetrics"
      ],
      "metadata": {
        "colab": {
          "base_uri": "https://localhost:8080/"
        },
        "id": "zdL5vcmEiIdC",
        "outputId": "76dc8887-fe4f-4c31-9191-80af1d21a1b5"
      },
      "execution_count": null,
      "outputs": [
        {
          "output_type": "stream",
          "name": "stdout",
          "text": [
            "Looking in indexes: https://pypi.org/simple, https://us-python.pkg.dev/colab-wheels/public/simple/\n",
            "Collecting torchmetrics\n",
            "  Downloading torchmetrics-0.11.1-py3-none-any.whl (517 kB)\n",
            "\u001b[2K     \u001b[90m━━━━━━━━━━━━━━━━━━━━━━━━━━━━━━━━━━━━━━\u001b[0m \u001b[32m517.2/517.2 KB\u001b[0m \u001b[31m10.3 MB/s\u001b[0m eta \u001b[36m0:00:00\u001b[0m\n",
            "\u001b[?25hRequirement already satisfied: torch>=1.8.1 in /usr/local/lib/python3.8/dist-packages (from torchmetrics) (1.13.1+cu116)\n",
            "Requirement already satisfied: numpy>=1.17.2 in /usr/local/lib/python3.8/dist-packages (from torchmetrics) (1.21.6)\n",
            "Requirement already satisfied: packaging in /usr/local/lib/python3.8/dist-packages (from torchmetrics) (23.0)\n",
            "Requirement already satisfied: typing-extensions in /usr/local/lib/python3.8/dist-packages (from torchmetrics) (4.5.0)\n",
            "Installing collected packages: torchmetrics\n",
            "Successfully installed torchmetrics-0.11.1\n"
          ]
        }
      ]
    },
    {
      "cell_type": "code",
      "source": [
        "!pip install ptflops"
      ],
      "metadata": {
        "colab": {
          "base_uri": "https://localhost:8080/"
        },
        "id": "WsqHRlJCtKbe",
        "outputId": "fed31cd1-d825-4f16-a45b-1f5a2d7dce36"
      },
      "execution_count": null,
      "outputs": [
        {
          "output_type": "stream",
          "name": "stdout",
          "text": [
            "Looking in indexes: https://pypi.org/simple, https://us-python.pkg.dev/colab-wheels/public/simple/\n",
            "Collecting ptflops\n",
            "  Downloading ptflops-0.6.9.tar.gz (12 kB)\n",
            "  Preparing metadata (setup.py) ... \u001b[?25l\u001b[?25hdone\n",
            "Requirement already satisfied: torch in /usr/local/lib/python3.8/dist-packages (from ptflops) (1.13.1+cu116)\n",
            "Requirement already satisfied: typing-extensions in /usr/local/lib/python3.8/dist-packages (from torch->ptflops) (4.5.0)\n",
            "Building wheels for collected packages: ptflops\n",
            "  Building wheel for ptflops (setup.py) ... \u001b[?25l\u001b[?25hdone\n",
            "  Created wheel for ptflops: filename=ptflops-0.6.9-py3-none-any.whl size=11712 sha256=a1ba9d0c337ecf5e7b0c555d8256b58a80bc52ef38e4436da041ef275b9f9b30\n",
            "  Stored in directory: /root/.cache/pip/wheels/b6/86/d5/cf62a3571b005f91cd9accefc5e10f40214538be997198afad\n",
            "Successfully built ptflops\n",
            "Installing collected packages: ptflops\n",
            "Successfully installed ptflops-0.6.9\n"
          ]
        }
      ]
    },
    {
      "cell_type": "code",
      "execution_count": null,
      "metadata": {
        "id": "TPJ_mnnzzfl5",
        "colab": {
          "base_uri": "https://localhost:8080/"
        },
        "outputId": "b6f1ffc6-50bc-4f0a-959e-eb7ef28ecb2e"
      },
      "outputs": [
        {
          "output_type": "stream",
          "name": "stdout",
          "text": [
            "True\n",
            "Tesla T4\n",
            "cuda\n"
          ]
        }
      ],
      "source": [
        "import time\n",
        "import torch\n",
        "import torchmetrics\n",
        "import torchvision\n",
        "from torchvision import transforms\n",
        "from torch import nn\n",
        "import torch.optim as optim\n",
        "import torch.nn.functional as F\n",
        "from torch.utils.data import DataLoader, Subset\n",
        "import numpy as np\n",
        "from torch.utils.data import random_split\n",
        "from torch.autograd import Variable\n",
        "from matplotlib import pyplot as plt\n",
        "import pandas as pd\n",
        "from ptflops import get_model_complexity_info\n",
        "\n",
        "\n",
        "\n",
        "#Make sure we are running on the\n",
        "print(torch.cuda.is_available())\n",
        "# Storing ID of current CUDA device\n",
        "if torch.cuda.is_available():\n",
        "  cuda_id = torch.cuda.current_device()\n",
        "  print(torch.cuda.get_device_name(cuda_id))\n",
        "device = torch.device('cuda' if torch.cuda.is_available() else 'cpu')\n",
        "print(device)"
      ]
    },
    {
      "cell_type": "markdown",
      "source": [
        "## Import Data"
      ],
      "metadata": {
        "id": "UxJxQsjX4ksg"
      }
    },
    {
      "cell_type": "code",
      "source": [
        "#import Fashion MNIST dataset\n",
        "trainset = torchvision.datasets.FashionMNIST(root='./data', train=True, download=True, transform= torchvision.transforms.ToTensor())\n",
        "testset = torchvision.datasets.FashionMNIST(root='./data', train=False, download=True, transform= torchvision.transforms.ToTensor())"
      ],
      "metadata": {
        "id": "rHqCkA_n15df",
        "colab": {
          "base_uri": "https://localhost:8080/",
          "height": 423,
          "referenced_widgets": [
            "64b3e3494aa744c29815cdc415269d0b",
            "fb4cbba73ee044c5a8ead0e4312e5093",
            "dc6379109d854b17b11900c7fbb68d37",
            "7cc38c4f9cff4528a8de6780ce64924d",
            "9dc176d8375340abbf09e6cece3bcd63",
            "5a558832a87f438c8d090f79bf0bcd0e",
            "bfbcdfa3c24c42d1b2fb86b75c280d07",
            "f49c3c720dd74f54a23c73b36aecba5f",
            "9dfe9b66260540ff996526f572fb0799",
            "f56a1dfbaf2a4e6ea6307d489d32826c",
            "3ed3199e95424d7ca959cd6c9d4ac3fb",
            "f553bf9418b04e29ad8182f773010032",
            "415c50a2a8f04decac181013891ef21c",
            "103855be607f4852b7ba4e897fb4de8e",
            "b8b033dace9743588109aa142c7d48e1",
            "f4684ec53c6244a6904726fa3e3e943b",
            "8167a4498d0247db9e04fdbb1f677461",
            "0662aae540ab4bb886771068da5fa12e",
            "dcdd9925e7864db4b3fa0ddfe3ba210c",
            "c9343510f74e42d1b6ce7dbaa2217b8c",
            "522692b7bd2d4cad96bf09ed2fd2f00e",
            "01469fc522cc4c5bb2fd674d91f6a7a6",
            "278b5a03f50a4da1ae21efebd3e71d86",
            "4593d4ba89d04cceb39747da2a429732",
            "f1272f30773445cdb4fbe63904ad6f1d",
            "026cac9a31b946b682cfea3b5431a855",
            "c9461a57dbfb41e4aa117855d247f67f",
            "55a85c1c5b2d47cd81990eb3a8ca7aea",
            "eabe393740de4e06849dd97a0d4057a0",
            "2eb3560cc65c4131809385a48840cc71",
            "a4d0655b26834ae68b6bee3e3ef0feef",
            "334803998bad496ba97f3efe0987a216",
            "da12cc5c37ab415892cbbd286657da3a",
            "697b4231017d4c0b9e78cdad642fc94f",
            "90669e8d6ee0462e8cfda99426e13f08",
            "fb10efc73c05471ba45029e27c4555d8",
            "302ebc97a7584817a815cccd054bc956",
            "01a81d416da546998de85279b71d7567",
            "075a36204b04453ea180cef95bff275a",
            "dfe1f5f2ecec4e1aa7c263a792e3a310",
            "c3d471716fd84b1985b149d9624a27cd",
            "dc8761948aad4d53a29bec6df24f45ff",
            "a2509f7a06e54218861a706e723ffc1e",
            "3320a5c6e10e4e3c8e35810f2bdc415f"
          ]
        },
        "outputId": "38cb6ff1-0c3f-4525-ca98-457e8b673f56"
      },
      "execution_count": null,
      "outputs": [
        {
          "output_type": "stream",
          "name": "stdout",
          "text": [
            "Downloading http://fashion-mnist.s3-website.eu-central-1.amazonaws.com/train-images-idx3-ubyte.gz\n",
            "Downloading http://fashion-mnist.s3-website.eu-central-1.amazonaws.com/train-images-idx3-ubyte.gz to ./data/FashionMNIST/raw/train-images-idx3-ubyte.gz\n"
          ]
        },
        {
          "output_type": "display_data",
          "data": {
            "text/plain": [
              "  0%|          | 0/26421880 [00:00<?, ?it/s]"
            ],
            "application/vnd.jupyter.widget-view+json": {
              "version_major": 2,
              "version_minor": 0,
              "model_id": "64b3e3494aa744c29815cdc415269d0b"
            }
          },
          "metadata": {}
        },
        {
          "output_type": "stream",
          "name": "stdout",
          "text": [
            "Extracting ./data/FashionMNIST/raw/train-images-idx3-ubyte.gz to ./data/FashionMNIST/raw\n",
            "\n",
            "Downloading http://fashion-mnist.s3-website.eu-central-1.amazonaws.com/train-labels-idx1-ubyte.gz\n",
            "Downloading http://fashion-mnist.s3-website.eu-central-1.amazonaws.com/train-labels-idx1-ubyte.gz to ./data/FashionMNIST/raw/train-labels-idx1-ubyte.gz\n"
          ]
        },
        {
          "output_type": "display_data",
          "data": {
            "text/plain": [
              "  0%|          | 0/29515 [00:00<?, ?it/s]"
            ],
            "application/vnd.jupyter.widget-view+json": {
              "version_major": 2,
              "version_minor": 0,
              "model_id": "f553bf9418b04e29ad8182f773010032"
            }
          },
          "metadata": {}
        },
        {
          "output_type": "stream",
          "name": "stdout",
          "text": [
            "Extracting ./data/FashionMNIST/raw/train-labels-idx1-ubyte.gz to ./data/FashionMNIST/raw\n",
            "\n",
            "Downloading http://fashion-mnist.s3-website.eu-central-1.amazonaws.com/t10k-images-idx3-ubyte.gz\n",
            "Downloading http://fashion-mnist.s3-website.eu-central-1.amazonaws.com/t10k-images-idx3-ubyte.gz to ./data/FashionMNIST/raw/t10k-images-idx3-ubyte.gz\n"
          ]
        },
        {
          "output_type": "display_data",
          "data": {
            "text/plain": [
              "  0%|          | 0/4422102 [00:00<?, ?it/s]"
            ],
            "application/vnd.jupyter.widget-view+json": {
              "version_major": 2,
              "version_minor": 0,
              "model_id": "278b5a03f50a4da1ae21efebd3e71d86"
            }
          },
          "metadata": {}
        },
        {
          "output_type": "stream",
          "name": "stdout",
          "text": [
            "Extracting ./data/FashionMNIST/raw/t10k-images-idx3-ubyte.gz to ./data/FashionMNIST/raw\n",
            "\n",
            "Downloading http://fashion-mnist.s3-website.eu-central-1.amazonaws.com/t10k-labels-idx1-ubyte.gz\n",
            "Downloading http://fashion-mnist.s3-website.eu-central-1.amazonaws.com/t10k-labels-idx1-ubyte.gz to ./data/FashionMNIST/raw/t10k-labels-idx1-ubyte.gz\n"
          ]
        },
        {
          "output_type": "display_data",
          "data": {
            "text/plain": [
              "  0%|          | 0/5148 [00:00<?, ?it/s]"
            ],
            "application/vnd.jupyter.widget-view+json": {
              "version_major": 2,
              "version_minor": 0,
              "model_id": "697b4231017d4c0b9e78cdad642fc94f"
            }
          },
          "metadata": {}
        },
        {
          "output_type": "stream",
          "name": "stdout",
          "text": [
            "Extracting ./data/FashionMNIST/raw/t10k-labels-idx1-ubyte.gz to ./data/FashionMNIST/raw\n",
            "\n"
          ]
        }
      ]
    },
    {
      "cell_type": "code",
      "source": [
        "batch_size = 64\n",
        "\n",
        "# Create the data loaders\n",
        "train_loader = DataLoader(trainset, batch_size=batch_size, shuffle = True)\n",
        "val_loader = DataLoader(testset, batch_size=batch_size, shuffle = False)\n",
        "#val_loader = DataLoader(trainset, batch_size=batch_size, shuffle = True)\n",
        "#test_loader = DataLoader(testset, batch_size=batch_size, shuffle = False)"
      ],
      "metadata": {
        "id": "L4H7QdRI1-QH"
      },
      "execution_count": null,
      "outputs": []
    },
    {
      "cell_type": "code",
      "source": [
        "#visualize a few images from the data loader\n",
        "import matplotlib.pyplot as plt\n",
        "\n",
        "images, labels = next(iter(train_loader))\n",
        "\n",
        "fig, axs = plt.subplots(3, 3, figsize=(5, 5))\n",
        "for i, ax in enumerate(axs.flat):\n",
        "    ax.imshow(images[i][0])\n",
        "    ax.set_title(labels[i].item(), fontsize=10)\n",
        "    ax.axis('off')\n",
        "\n",
        "plt.show()"
      ],
      "metadata": {
        "id": "sMRcH7QT2BYR",
        "colab": {
          "base_uri": "https://localhost:8080/",
          "height": 317
        },
        "outputId": "2be7a25c-2e09-46d2-d454-90478fd6f4ad"
      },
      "execution_count": null,
      "outputs": [
        {
          "output_type": "display_data",
          "data": {
            "text/plain": [
              "<Figure size 360x360 with 9 Axes>"
            ],
            "image/png": "[encoded data removed]"
          },
          "metadata": {
            "needs_background": "light"
          }
        }
      ]
    },
    {
      "cell_type": "markdown",
      "source": [
        "## Define Training Loop and Original Model"
      ],
      "metadata": {
        "id": "fFmNI9i74n7o"
      }
    },
    {
      "cell_type": "code",
      "source": [
        "#define training fucntion\n",
        "def train(model, train_loader, val_loader, num_epochs, optimizer, criterion):\n",
        "  count = 0\n",
        "  for epoch in range(num_epochs):\n",
        "      for images, labels in train_loader:\n",
        "          model.train()\n",
        "\n",
        "          # Forward pass \n",
        "          outputs = model(images)\n",
        "          labels = torch.eye(10)[labels]\n",
        "          train_loss = criterion(outputs, labels)\n",
        "\n",
        "          # Initializing a gradient as 0 so there is no mixing of gradient among the batches\n",
        "          optimizer.zero_grad()    \n",
        "          # Propagating the error backward\n",
        "          train_loss.backward()\n",
        "          # Optimizing the parameters\n",
        "          optimizer.step()\n",
        "\n",
        "          # calculate the accuracy\n",
        "          accuracy.update(outputs, labels)\n",
        "          \n",
        "      final_accuracy_train = accuracy.compute()         \n",
        "      train_accuracy_list.append(final_accuracy_train)\n",
        "      train_loss_list.append(train_loss)\n",
        "\n",
        "      for images, labels in val_loader:\n",
        "          model.eval()\n",
        "          labels = torch.eye(10)[labels]\n",
        "          # Forward pass \n",
        "          with torch.no_grad():\n",
        "            outputs = model(images)\n",
        "          loss_val = criterion(outputs, labels)\n",
        "\n",
        "          #calculate the accuracy\n",
        "          accuracy.update(outputs, labels)\n",
        "\n",
        "      final_accuracy_val = accuracy.compute()    \n",
        "      val_accuracy_list.append(final_accuracy_val)\n",
        "      val_loss_list.append(loss_val)\n",
        "      print (f'Epoch [{epoch+1}/{num_epochs}], Loss: {train_loss}, Train Acc: {final_accuracy_train}, ValidationLoss: {loss_val}, Validation Acc: {final_accuracy_val}')     \n",
        "      accuracy.reset()"
      ],
      "metadata": {
        "id": "w8naeAGs4s7W"
      },
      "execution_count": null,
      "outputs": []
    },
    {
      "cell_type": "code",
      "source": [
        "#define Lenet class that has the textbooks \n",
        "class LeNet(nn.Module):\n",
        "  def __init__(self, num_classes=10):\n",
        "    super().__init__()\n",
        "    self.net = nn.Sequential(\n",
        "              nn.Conv2d(1, 6, kernel_size=5, padding=2), \n",
        "              nn.Sigmoid(),\n",
        "              nn.AvgPool2d(kernel_size=2, stride=2),\n",
        "              nn.Conv2d(6, 16, kernel_size=5), \n",
        "              nn.Sigmoid(),\n",
        "              nn.AvgPool2d(kernel_size=2, stride=2),\n",
        "              nn.Flatten(),\n",
        "              nn.Linear(16 * 5 * 5, 120), \n",
        "              nn.Sigmoid(),\n",
        "              nn.Linear(120, 84), \n",
        "              nn.Sigmoid(),\n",
        "              nn.Linear(84, num_classes))\n",
        "    \n",
        "  def forward(self, x):\n",
        "      x = self.net(x)\n",
        "      return x"
      ],
      "metadata": {
        "id": "tRXiH9OrASer"
      },
      "execution_count": null,
      "outputs": []
    },
    {
      "cell_type": "markdown",
      "source": [
        "## Problem 1\n",
        "The base model from the textbook was updated where average pooling layers were replaced with max pooling layers as well as all sigmoid activation fucntions replaced with ReLU functions.\n",
        "The Final training accuracy seen after 20 epcohs is 61.5% which also happens to be the validation accuracy. The training loss was 0.51 after 20 epochs as well. \n",
        "Compared to the baseline model from the textbook this model performed worst in some ways. The first is the flunctuation in the training loss. The final accuracies in the textbook also seemed ot be better but not significatly, perhaps 70% (based on graph in textbook)."
      ],
      "metadata": {
        "id": "HvZaLATdE2cl"
      }
    },
    {
      "cell_type": "code",
      "source": [
        "#build model off of base model, replacing  average pooling \n",
        "#with max-pooling and softmax layer with ReLU\n",
        "model = LeNet()\n",
        "\n",
        "#replace avg pooling with max pooling\n",
        "model.net[2] = nn.MaxPool2d(kernel_size=2, stride=2)\n",
        "model.net[5] = nn.MaxPool2d(kernel_size=2, stride=2)\n",
        "\n",
        "#replace softmax with relu\n",
        "model.net[1] = nn.ReLU()\n",
        "model.net[4] = nn.ReLU()\n",
        "model.net[8] = nn.ReLU()\n",
        "model.net[10] = nn.ReLU()\n",
        "\n",
        "print(model)\n",
        "macs, params = get_model_complexity_info(model, (1, 28, 28), as_strings=True, print_per_layer_stat=False, verbose=True)\n",
        "print('{:<30}  {:<8}'.format('Computational complexity: ', macs))\n",
        "print('{:<30}  {:<8}'.format('Number of parameters: ', params))"
      ],
      "metadata": {
        "id": "0McHi-yl2nDG",
        "colab": {
          "base_uri": "https://localhost:8080/"
        },
        "outputId": "88c93f5b-aa99-4588-f5c6-c1a5d1b107d7"
      },
      "execution_count": null,
      "outputs": [
        {
          "output_type": "stream",
          "name": "stdout",
          "text": [
            "LeNet(\n",
            "  (net): Sequential(\n",
            "    (0): Conv2d(1, 6, kernel_size=(5, 5), stride=(1, 1), padding=(2, 2))\n",
            "    (1): ReLU()\n",
            "    (2): MaxPool2d(kernel_size=2, stride=2, padding=0, dilation=1, ceil_mode=False)\n",
            "    (3): Conv2d(6, 16, kernel_size=(5, 5), stride=(1, 1))\n",
            "    (4): ReLU()\n",
            "    (5): MaxPool2d(kernel_size=2, stride=2, padding=0, dilation=1, ceil_mode=False)\n",
            "    (6): Flatten(start_dim=1, end_dim=-1)\n",
            "    (7): Linear(in_features=400, out_features=120, bias=True)\n",
            "    (8): ReLU()\n",
            "    (9): Linear(in_features=120, out_features=84, bias=True)\n",
            "    (10): ReLU()\n",
            "    (11): Linear(in_features=84, out_features=10, bias=True)\n",
            "  )\n",
            ")\n",
            "Warning: module Flatten is treated as a zero-op.\n",
            "Warning: module LeNet is treated as a zero-op.\n",
            "Computational complexity:       435.85 KMac\n",
            "Number of parameters:           61.71 k \n"
          ]
        }
      ]
    },
    {
      "cell_type": "code",
      "source": [
        "#define params\n",
        "num_epochs = 20\n",
        "count = 0\n",
        "\n",
        "#loss\n",
        "criterion = nn.CrossEntropyLoss()\n",
        "optimizer = optim.Adam(model.parameters(), lr = 0.00001)\n",
        "# define the accuracy metric\n",
        "accuracy = torchmetrics.Accuracy(task='binary')\n",
        "\n",
        "# Lists for visualization of loss and accuracy \n",
        "train_loss_list = []\n",
        "train_accuracy_list = []\n",
        "val_loss_list = []\n",
        "val_accuracy_list = []"
      ],
      "metadata": {
        "id": "ltuBApTbP1Mt"
      },
      "execution_count": null,
      "outputs": []
    },
    {
      "cell_type": "code",
      "source": [
        "train(model, train_loader, val_loader, num_epochs, optimizer, criterion)"
      ],
      "metadata": {
        "colab": {
          "base_uri": "https://localhost:8080/"
        },
        "id": "objdmEOJjKZZ",
        "outputId": "6fbc7261-24ac-4aaf-94d6-8e743cfb4211"
      },
      "execution_count": null,
      "outputs": [
        {
          "output_type": "stream",
          "name": "stdout",
          "text": [
            "Epoch [1/20], Loss: 1.847108006477356, Train Acc: 0.6879783272743225, ValidationLoss: 1.8805023431777954, Validation Acc: 0.6766871213912964\n",
            "Epoch [2/20], Loss: 1.2071459293365479, Train Acc: 0.6225600242614746, ValidationLoss: 1.0682454109191895, Validation Acc: 0.6235271692276001\n",
            "Epoch [3/20], Loss: 0.9769051671028137, Train Acc: 0.6314799785614014, ValidationLoss: 0.8186323642730713, Validation Acc: 0.631428599357605\n",
            "Epoch [4/20], Loss: 0.8107662200927734, Train Acc: 0.6321349740028381, ValidationLoss: 0.6885690689086914, Validation Acc: 0.6317800283432007\n",
            "Epoch [5/20], Loss: 1.3333003520965576, Train Acc: 0.6285250186920166, ValidationLoss: 0.635277509689331, Validation Acc: 0.628257155418396\n",
            "Epoch [6/20], Loss: 0.7304664254188538, Train Acc: 0.624501645565033, ValidationLoss: 0.5933657884597778, Validation Acc: 0.6241557002067566\n",
            "Epoch [7/20], Loss: 0.6945375204086304, Train Acc: 0.6215783357620239, ValidationLoss: 0.579192578792572, Validation Acc: 0.6213928461074829\n",
            "Epoch [8/20], Loss: 0.7560053467750549, Train Acc: 0.6191116571426392, ValidationLoss: 0.567298948764801, Validation Acc: 0.6188442707061768\n",
            "Epoch [9/20], Loss: 0.7686980366706848, Train Acc: 0.6169416904449463, ValidationLoss: 0.5493350625038147, Validation Acc: 0.616797149181366\n",
            "Epoch [10/20], Loss: 1.0414975881576538, Train Acc: 0.6155816912651062, ValidationLoss: 0.5342865586280823, Validation Acc: 0.6150928735733032\n",
            "Epoch [11/20], Loss: 0.9279358983039856, Train Acc: 0.6137800216674805, ValidationLoss: 0.5130919218063354, Validation Acc: 0.6136999726295471\n",
            "Epoch [12/20], Loss: 0.48835331201553345, Train Acc: 0.6138783097267151, ValidationLoss: 0.5095100402832031, Validation Acc: 0.6135485768318176\n",
            "Epoch [13/20], Loss: 0.3917067050933838, Train Acc: 0.6128050088882446, ValidationLoss: 0.49996790289878845, Validation Acc: 0.6127243041992188\n",
            "Epoch [14/20], Loss: 0.5246893763542175, Train Acc: 0.6133483052253723, ValidationLoss: 0.4765894114971161, Validation Acc: 0.6129957437515259\n",
            "Epoch [15/20], Loss: 0.6741482615470886, Train Acc: 0.6138116717338562, ValidationLoss: 0.4753202795982361, Validation Acc: 0.6132385730743408\n",
            "Epoch [16/20], Loss: 0.8631898760795593, Train Acc: 0.6130033135414124, ValidationLoss: 0.4602397382259369, Validation Acc: 0.6131014227867126\n",
            "Epoch [17/20], Loss: 0.5245956778526306, Train Acc: 0.6139600276947021, ValidationLoss: 0.4521719813346863, Validation Acc: 0.6137471199035645\n",
            "Epoch [18/20], Loss: 1.0346852540969849, Train Acc: 0.6140416860580444, ValidationLoss: 0.44928792119026184, Validation Acc: 0.6141557097434998\n",
            "Epoch [19/20], Loss: 0.423125296831131, Train Acc: 0.6147599816322327, ValidationLoss: 0.44683322310447693, Validation Acc: 0.6146028637886047\n",
            "Epoch [20/20], Loss: 0.5066825151443481, Train Acc: 0.6150833368301392, ValidationLoss: 0.42802613973617554, Validation Acc: 0.6153028607368469\n"
          ]
        }
      ]
    },
    {
      "cell_type": "code",
      "source": [
        "Trainlosses= [ loss.detach().numpy() for loss in train_loss_list]\n",
        "vallosses= [ loss.detach().numpy() for loss in val_loss_list]\n",
        "\n",
        "plt.plot(range(num_epochs), Trainlosses, 'r', label='Training Loss')\n",
        "plt.plot(range(num_epochs), vallosses, 'y', label='Validation Loss')\n",
        "plt.plot(range(num_epochs), train_accuracy_list, 'b', label='Training Accuracy')\n",
        "plt.plot(range(num_epochs), val_accuracy_list, 'g', label='Validation Accuracy')\n",
        "\n",
        "plt.title('Training and Validation Loss and Accuracy')\n",
        "plt.xlabel('Epochs')\n",
        "plt.ylabel('Loss/Accuracy')\n",
        "plt.legend()\n",
        "\n",
        "plt.show()"
      ],
      "metadata": {
        "colab": {
          "base_uri": "https://localhost:8080/",
          "height": 295
        },
        "id": "7TXNlCrzm2fs",
        "outputId": "ec035d31-9494-4117-8e3a-d46b7a37230e"
      },
      "execution_count": null,
      "outputs": [
        {
          "output_type": "display_data",
          "data": {
            "text/plain": [
              "<Figure size 432x288 with 1 Axes>"
            ],
            "image/png": "[encoded data removed]"
          },
          "metadata": {
            "needs_background": "light"
          }
        }
      ]
    },
    {
      "cell_type": "markdown",
      "source": [
        "## Problem 2_1 - Adjust the convolution window size.\n",
        "The model from problem one is used as a base model, and the window size is adjusted to to be 3,3 instead of 2,2. The Final training accuracy seen after 20 epcohs is 63% which also happens to be the validation accuracy. The training loss was 0.45 after 20 epochs as well. Compared to the baseline model from the textbook this model also performed worst in some ways. The flunctuation in the training loss is still present and the final accuracies are lower than that the textbook's. Compared to problem one, this model performed almost the same except that it was able to achieve a relatively smaller trainign loss with the same number of epochs. The Computational complexity for this model is 372.06 KMac and the Number of parameters is 44.43 k."
      ],
      "metadata": {
        "id": "kdITlj1rjUwa"
      }
    },
    {
      "cell_type": "code",
      "source": [
        "#build model off of base model, replacing  average pooling \n",
        "#with max-pooling and softmax layer with ReLU\n",
        "model = LeNet()\n",
        "\n",
        "#replace avg pooling with max pooling\n",
        "#adjust window size to 3\n",
        "model.net[2] = nn.MaxPool2d(kernel_size=3, stride=2)\n",
        "model.net[5] = nn.MaxPool2d(kernel_size=3, stride=2)\n",
        "\n",
        "#replace softmax with relu\n",
        "model.net[1] = nn.ReLU()\n",
        "model.net[4] = nn.ReLU()\n",
        "model.net[8] = nn.ReLU()\n",
        "model.net[10] = nn.ReLU()\n",
        "\n",
        "#update model accordingly (dense layers inputs/outputs)\n",
        "model.net[7] = nn.Linear(256, 120)\n",
        "model.net[9] = nn.Linear(120, 84)\n",
        "model.net[11] = nn.Linear(84, 10)\n",
        "\n",
        "print(model)\n",
        "\n",
        "macs, params = get_model_complexity_info(model, (1, 28, 28), as_strings=True, print_per_layer_stat=False, verbose=True)\n",
        "print('{:<30}  {:<8}'.format('Computational complexity: ', macs))\n",
        "print('{:<30}  {:<8}'.format('Number of parameters: ', params))"
      ],
      "metadata": {
        "colab": {
          "base_uri": "https://localhost:8080/"
        },
        "id": "RR0xnFQUjTuE",
        "outputId": "afafbcb3-c423-47bf-f550-505c99b02e5c"
      },
      "execution_count": null,
      "outputs": [
        {
          "output_type": "stream",
          "name": "stdout",
          "text": [
            "LeNet(\n",
            "  (net): Sequential(\n",
            "    (0): Conv2d(1, 6, kernel_size=(5, 5), stride=(1, 1), padding=(2, 2))\n",
            "    (1): ReLU()\n",
            "    (2): MaxPool2d(kernel_size=3, stride=2, padding=0, dilation=1, ceil_mode=False)\n",
            "    (3): Conv2d(6, 16, kernel_size=(5, 5), stride=(1, 1))\n",
            "    (4): ReLU()\n",
            "    (5): MaxPool2d(kernel_size=3, stride=2, padding=0, dilation=1, ceil_mode=False)\n",
            "    (6): Flatten(start_dim=1, end_dim=-1)\n",
            "    (7): Linear(in_features=256, out_features=120, bias=True)\n",
            "    (8): ReLU()\n",
            "    (9): Linear(in_features=120, out_features=84, bias=True)\n",
            "    (10): ReLU()\n",
            "    (11): Linear(in_features=84, out_features=10, bias=True)\n",
            "  )\n",
            ")\n",
            "Warning: module Flatten is treated as a zero-op.\n",
            "Warning: module LeNet is treated as a zero-op.\n",
            "Computational complexity:       372.06 KMac\n",
            "Number of parameters:           44.43 k \n"
          ]
        }
      ]
    },
    {
      "cell_type": "code",
      "source": [
        "#define params\n",
        "num_epochs = 20\n",
        "count = 0\n",
        "\n",
        "#loss\n",
        "criterion = nn.CrossEntropyLoss()\n",
        "optimizer = optim.Adam(model.parameters(), lr = 0.00001)\n",
        "# define the accuracy metric\n",
        "accuracy = torchmetrics.Accuracy(task='binary')\n",
        "\n",
        "# Lists for visualization of loss and accuracy \n",
        "train_loss_list = []\n",
        "train_accuracy_list = []\n",
        "val_loss_list = []\n",
        "val_accuracy_list = []"
      ],
      "metadata": {
        "id": "GDKeZmUFpFRM"
      },
      "execution_count": null,
      "outputs": []
    },
    {
      "cell_type": "code",
      "source": [
        "#reset model\n",
        "# Reset the model's weights\n",
        "def reset_weights(m):\n",
        "    if isinstance(m, torch.nn.Linear):\n",
        "        m.reset_parameters()\n",
        "\n",
        "model.apply(reset_weights)"
      ],
      "metadata": {
        "colab": {
          "base_uri": "https://localhost:8080/"
        },
        "id": "Wd21t38kpgSw",
        "outputId": "921ea755-862c-4ed2-c382-4b45bbbde84a"
      },
      "execution_count": null,
      "outputs": [
        {
          "output_type": "execute_result",
          "data": {
            "text/plain": [
              "LeNet(\n",
              "  (net): Sequential(\n",
              "    (0): Conv2d(1, 6, kernel_size=(5, 5), stride=(1, 1), padding=(2, 2))\n",
              "    (1): ReLU()\n",
              "    (2): MaxPool2d(kernel_size=3, stride=2, padding=0, dilation=1, ceil_mode=False)\n",
              "    (3): Conv2d(6, 16, kernel_size=(5, 5), stride=(1, 1))\n",
              "    (4): ReLU()\n",
              "    (5): MaxPool2d(kernel_size=3, stride=2, padding=0, dilation=1, ceil_mode=False)\n",
              "    (6): Flatten(start_dim=1, end_dim=-1)\n",
              "    (7): Linear(in_features=256, out_features=120, bias=True)\n",
              "    (8): ReLU()\n",
              "    (9): Linear(in_features=120, out_features=84, bias=True)\n",
              "    (10): ReLU()\n",
              "    (11): Linear(in_features=84, out_features=10, bias=True)\n",
              "  )\n",
              ")"
            ]
          },
          "metadata": {},
          "execution_count": 45
        }
      ]
    },
    {
      "cell_type": "code",
      "source": [
        "train(model, train_loader, val_loader, num_epochs, optimizer, criterion)"
      ],
      "metadata": {
        "colab": {
          "base_uri": "https://localhost:8080/"
        },
        "id": "K8q_jXpnpIfe",
        "outputId": "04f60e58-1f00-481c-af8c-a1ec9d1b5e78"
      },
      "execution_count": null,
      "outputs": [
        {
          "output_type": "stream",
          "name": "stdout",
          "text": [
            "Epoch [1/20], Loss: 2.1845760345458984, Train Acc: 0.5800483226776123, ValidationLoss: 2.2271831035614014, Validation Acc: 0.5828657150268555\n",
            "Epoch [2/20], Loss: 1.488295078277588, Train Acc: 0.625956654548645, ValidationLoss: 1.524613380432129, Validation Acc: 0.6241271495819092\n",
            "Epoch [3/20], Loss: 1.2054834365844727, Train Acc: 0.6110316514968872, ValidationLoss: 1.0132173299789429, Validation Acc: 0.611299991607666\n",
            "Epoch [4/20], Loss: 0.9547830820083618, Train Acc: 0.6155149936676025, ValidationLoss: 0.8080229163169861, Validation Acc: 0.615817129611969\n",
            "Epoch [5/20], Loss: 0.7493317723274231, Train Acc: 0.6183016896247864, ValidationLoss: 0.6810458898544312, Validation Acc: 0.618455708026886\n",
            "Epoch [6/20], Loss: 0.8180349469184875, Train Acc: 0.6198816895484924, ValidationLoss: 0.599785566329956, Validation Acc: 0.6200171709060669\n",
            "Epoch [7/20], Loss: 0.9587066173553467, Train Acc: 0.620764970779419, ValidationLoss: 0.5489935278892517, Validation Acc: 0.620851457118988\n",
            "Epoch [8/20], Loss: 0.6418614983558655, Train Acc: 0.6213616728782654, ValidationLoss: 0.5270792841911316, Validation Acc: 0.6213600039482117\n",
            "Epoch [9/20], Loss: 0.6935826539993286, Train Acc: 0.6222566962242126, ValidationLoss: 0.5042480230331421, Validation Acc: 0.6223343014717102\n",
            "Epoch [10/20], Loss: 0.6574274301528931, Train Acc: 0.6228733062744141, ValidationLoss: 0.4890555739402771, Validation Acc: 0.6229185461997986\n",
            "Epoch [11/20], Loss: 0.5091657042503357, Train Acc: 0.6241933107376099, ValidationLoss: 0.4744049310684204, Validation Acc: 0.6241714358329773\n",
            "Epoch [12/20], Loss: 0.6671293377876282, Train Acc: 0.6246683597564697, ValidationLoss: 0.46085184812545776, Validation Acc: 0.6246528625488281\n",
            "Epoch [13/20], Loss: 0.7473962306976318, Train Acc: 0.6252049803733826, ValidationLoss: 0.46147429943084717, Validation Acc: 0.6253271698951721\n",
            "Epoch [14/20], Loss: 0.8110544681549072, Train Acc: 0.626146674156189, ValidationLoss: 0.45799824595451355, Validation Acc: 0.6261785626411438\n",
            "Epoch [15/20], Loss: 0.7728047966957092, Train Acc: 0.6264650225639343, ValidationLoss: 0.4469626843929291, Validation Acc: 0.6265599727630615\n",
            "Epoch [16/20], Loss: 0.43296316266059875, Train Acc: 0.6270466446876526, ValidationLoss: 0.4463486671447754, Validation Acc: 0.6268685460090637\n",
            "Epoch [17/20], Loss: 0.7124865055084229, Train Acc: 0.6267799735069275, ValidationLoss: 0.43867579102516174, Validation Acc: 0.6268699765205383\n",
            "Epoch [18/20], Loss: 0.7120223641395569, Train Acc: 0.6273400187492371, ValidationLoss: 0.43086373805999756, Validation Acc: 0.6273357272148132\n",
            "Epoch [19/20], Loss: 0.45926377177238464, Train Acc: 0.6273516416549683, ValidationLoss: 0.43167757987976074, Validation Acc: 0.6275399923324585\n",
            "Epoch [20/20], Loss: 0.45404598116874695, Train Acc: 0.6275516748428345, ValidationLoss: 0.4208517372608185, Validation Acc: 0.6277671456336975\n"
          ]
        }
      ]
    },
    {
      "cell_type": "code",
      "source": [
        "Trainlosses= [loss.detach().numpy() for loss in train_loss_list]\n",
        "\n",
        "plt.plot(range(num_epochs), Trainlosses, 'r', label='Training Loss')\n",
        "plt.plot(range(num_epochs), vallosses, 'y', label='Validation Loss')\n",
        "plt.plot(range(num_epochs), train_accuracy_list, 'b', label='Training Accuracy')\n",
        "plt.plot(range(num_epochs), val_accuracy_list, 'g', label='Validation Accuracy')\n",
        "\n",
        "plt.title('Training and Validation Loss and Accuracy')\n",
        "plt.xlabel('Epochs')\n",
        "plt.ylabel('Loss/Accuracy')\n",
        "plt.legend()\n",
        "\n",
        "plt.show()"
      ],
      "metadata": {
        "colab": {
          "base_uri": "https://localhost:8080/",
          "height": 295
        },
        "id": "1XtdIpbEpI-t",
        "outputId": "db9da94b-27b5-4fea-f4e2-c08cc25c563a"
      },
      "execution_count": null,
      "outputs": [
        {
          "output_type": "display_data",
          "data": {
            "text/plain": [
              "<Figure size 432x288 with 1 Axes>"
            ],
            "image/png": "[encoded data removed]"
          },
          "metadata": {
            "needs_background": "light"
          }
        }
      ]
    },
    {
      "cell_type": "markdown",
      "source": [
        "## Probelm 2_2 - Adjust the number of output channels\n",
        "The model from problem one is used as a base model, and the output channel for the conv layers was increased to 12 and 20. The Final training accuracy seen after 20 epcohs is 59.3% which also happens to be the validation accuracy. The training loss was 0.66 after 20 epochs as well. Compared to the baseline model from the textbook this model also performed worst in some ways. The flunctuation in the training loss is still present and the final accuracies are lower than that the textbook's. Compared to problem one, this model performed almost the same except that it was able to achieve a relatively smaller trainign loss with the same number of epochs. The Computational complexity for this model is 618.55 KMac and the Number of parameters is 61.7 k. As compard to problem 2_1, the complexity of the model has increased as both the paramters and the computational power have increased. The model also perfomred much worse than problem 2_1 where the accuracies are lower and the loss is higher."
      ],
      "metadata": {
        "id": "SXpTOqdIyqS5"
      }
    },
    {
      "cell_type": "code",
      "source": [
        "#build model off of base model, replacing  average pooling \n",
        "#with max-pooling and softmax layer with ReLU\n",
        "model = LeNet()\n",
        "\n",
        "#replace avg pooling with max pooling\n",
        "model.net[2] = nn.MaxPool2d(kernel_size=2, stride=2)\n",
        "model.net[5] = nn.MaxPool2d(kernel_size=2, stride=2)\n",
        "\n",
        "#replace softmax with relu\n",
        "model.net[1] = nn.ReLU()\n",
        "model.net[4] = nn.ReLU()\n",
        "model.net[8] = nn.ReLU()\n",
        "model.net[10] = nn.ReLU()\n",
        "\n",
        "#Adjust the number of output channels to \n",
        "model.net[0].out_channels = 12\n",
        "model.net[3].out_channels = 20\n",
        "\n",
        "print(model)\n",
        "\n",
        "macs, params = get_model_complexity_info(model, (1, 28, 28), as_strings=True, print_per_layer_stat=False, verbose=True)\n",
        "print('{:<30}  {:<8}'.format('Computational complexity: ', macs))\n",
        "print('{:<30}  {:<8}'.format('Number of parameters: ', params))"
      ],
      "metadata": {
        "id": "pK06X-jMys4Y",
        "colab": {
          "base_uri": "https://localhost:8080/"
        },
        "outputId": "07c0f8a3-8ad9-438e-b905-6f79e3b3f1d4"
      },
      "execution_count": null,
      "outputs": [
        {
          "output_type": "stream",
          "name": "stdout",
          "text": [
            "LeNet(\n",
            "  (net): Sequential(\n",
            "    (0): Conv2d(1, 12, kernel_size=(5, 5), stride=(1, 1), padding=(2, 2))\n",
            "    (1): ReLU()\n",
            "    (2): MaxPool2d(kernel_size=2, stride=2, padding=0, dilation=1, ceil_mode=False)\n",
            "    (3): Conv2d(6, 20, kernel_size=(5, 5), stride=(1, 1))\n",
            "    (4): ReLU()\n",
            "    (5): MaxPool2d(kernel_size=2, stride=2, padding=0, dilation=1, ceil_mode=False)\n",
            "    (6): Flatten(start_dim=1, end_dim=-1)\n",
            "    (7): Linear(in_features=400, out_features=120, bias=True)\n",
            "    (8): ReLU()\n",
            "    (9): Linear(in_features=120, out_features=84, bias=True)\n",
            "    (10): ReLU()\n",
            "    (11): Linear(in_features=84, out_features=10, bias=True)\n",
            "  )\n",
            ")\n",
            "Warning: module Flatten is treated as a zero-op.\n",
            "Warning: module LeNet is treated as a zero-op.\n",
            "Computational complexity:       618.55 KMac\n",
            "Number of parameters:           61.71 k \n"
          ]
        }
      ]
    },
    {
      "cell_type": "code",
      "source": [
        "#define params\n",
        "num_epochs = 20\n",
        "count = 0\n",
        "\n",
        "#loss\n",
        "criterion = nn.CrossEntropyLoss()\n",
        "optimizer = optim.Adam(model.parameters(), lr = 0.00001)\n",
        "# define the accuracy metric\n",
        "accuracy = torchmetrics.Accuracy(task='binary')\n",
        "\n",
        "# Lists for visualization of loss and accuracy \n",
        "train_loss_list = []\n",
        "train_accuracy_list = []\n",
        "val_loss_list = []\n",
        "val_accuracy_list = []"
      ],
      "metadata": {
        "id": "_-uaaPqi0Esu"
      },
      "execution_count": null,
      "outputs": []
    },
    {
      "cell_type": "code",
      "source": [
        "#reset model\n",
        "# Reset the model's weights\n",
        "def reset_weights(m):\n",
        "    if isinstance(m, torch.nn.Linear):\n",
        "        m.reset_parameters()\n",
        "\n",
        "model.apply(reset_weights)"
      ],
      "metadata": {
        "id": "natvsXPo9tcz",
        "colab": {
          "base_uri": "https://localhost:8080/"
        },
        "outputId": "7ccffa83-025a-4854-be86-3643de0a8659"
      },
      "execution_count": null,
      "outputs": [
        {
          "output_type": "execute_result",
          "data": {
            "text/plain": [
              "LeNet(\n",
              "  (net): Sequential(\n",
              "    (0): Conv2d(1, 12, kernel_size=(5, 5), stride=(1, 1), padding=(2, 2))\n",
              "    (1): ReLU()\n",
              "    (2): MaxPool2d(kernel_size=2, stride=2, padding=0, dilation=1, ceil_mode=False)\n",
              "    (3): Conv2d(6, 20, kernel_size=(5, 5), stride=(1, 1))\n",
              "    (4): ReLU()\n",
              "    (5): MaxPool2d(kernel_size=2, stride=2, padding=0, dilation=1, ceil_mode=False)\n",
              "    (6): Flatten(start_dim=1, end_dim=-1)\n",
              "    (7): Linear(in_features=400, out_features=120, bias=True)\n",
              "    (8): ReLU()\n",
              "    (9): Linear(in_features=120, out_features=84, bias=True)\n",
              "    (10): ReLU()\n",
              "    (11): Linear(in_features=84, out_features=10, bias=True)\n",
              "  )\n",
              ")"
            ]
          },
          "metadata": {},
          "execution_count": 52
        }
      ]
    },
    {
      "cell_type": "code",
      "source": [
        "train(model, train_loader, val_loader, num_epochs, optimizer, criterion)"
      ],
      "metadata": {
        "id": "YQm4-mQl9uHB",
        "colab": {
          "base_uri": "https://localhost:8080/"
        },
        "outputId": "00c8f0aa-e98a-4819-ef82-e65997a0b632"
      },
      "execution_count": null,
      "outputs": [
        {
          "output_type": "stream",
          "name": "stdout",
          "text": [
            "Epoch [1/20], Loss: 1.847216248512268, Train Acc: 0.43627333641052246, ValidationLoss: 1.7487367391586304, Validation Acc: 0.4576157033443451\n",
            "Epoch [2/20], Loss: 1.16075599193573, Train Acc: 0.5955183506011963, ValidationLoss: 0.9238853454589844, Validation Acc: 0.5967214107513428\n",
            "Epoch [3/20], Loss: 0.8726529479026794, Train Acc: 0.60944002866745, ValidationLoss: 0.718035101890564, Validation Acc: 0.6096385717391968\n",
            "Epoch [4/20], Loss: 0.7266287803649902, Train Acc: 0.6117550134658813, ValidationLoss: 0.613913893699646, Validation Acc: 0.6113899946212769\n",
            "Epoch [5/20], Loss: 0.7625823020935059, Train Acc: 0.6087466478347778, ValidationLoss: 0.5717435479164124, Validation Acc: 0.6083442568778992\n",
            "Epoch [6/20], Loss: 0.6725558042526245, Train Acc: 0.6048449873924255, ValidationLoss: 0.5404298305511475, Validation Acc: 0.6047871708869934\n",
            "Epoch [7/20], Loss: 0.5430535674095154, Train Acc: 0.6016666889190674, ValidationLoss: 0.5414854884147644, Validation Acc: 0.6013885736465454\n",
            "Epoch [8/20], Loss: 0.8263684511184692, Train Acc: 0.5988983511924744, ValidationLoss: 0.5256584882736206, Validation Acc: 0.5984471440315247\n",
            "Epoch [9/20], Loss: 0.7797946333885193, Train Acc: 0.5959733128547668, ValidationLoss: 0.5171695351600647, Validation Acc: 0.5959457159042358\n",
            "Epoch [10/20], Loss: 0.7598328590393066, Train Acc: 0.5940300226211548, ValidationLoss: 0.5018742084503174, Validation Acc: 0.5939357280731201\n",
            "Epoch [11/20], Loss: 0.34838229417800903, Train Acc: 0.591825008392334, ValidationLoss: 0.4988376796245575, Validation Acc: 0.5918142795562744\n",
            "Epoch [12/20], Loss: 0.787859320640564, Train Acc: 0.590303361415863, ValidationLoss: 0.48423054814338684, Validation Acc: 0.5902471542358398\n",
            "Epoch [13/20], Loss: 0.3892274498939514, Train Acc: 0.5888683199882507, ValidationLoss: 0.47008582949638367, Validation Acc: 0.5887685418128967\n",
            "Epoch [14/20], Loss: 0.827613353729248, Train Acc: 0.5878850221633911, ValidationLoss: 0.4664590656757355, Validation Acc: 0.5874228477478027\n",
            "Epoch [15/20], Loss: 0.7651613354682922, Train Acc: 0.5858266949653625, ValidationLoss: 0.4661431312561035, Validation Acc: 0.5858142971992493\n",
            "Epoch [16/20], Loss: 0.911328911781311, Train Acc: 0.5848583579063416, ValidationLoss: 0.45732581615448, Validation Acc: 0.5850357413291931\n",
            "Epoch [17/20], Loss: 0.9420624375343323, Train Acc: 0.5847766399383545, ValidationLoss: 0.44063258171081543, Validation Acc: 0.5846514105796814\n",
            "Epoch [18/20], Loss: 0.5564922094345093, Train Acc: 0.5842599868774414, ValidationLoss: 0.44195130467414856, Validation Acc: 0.5837228298187256\n",
            "Epoch [19/20], Loss: 0.6458545923233032, Train Acc: 0.582871675491333, ValidationLoss: 0.45145735144615173, Validation Acc: 0.5829785466194153\n",
            "Epoch [20/20], Loss: 0.6624695062637329, Train Acc: 0.5826483368873596, ValidationLoss: 0.42753005027770996, Validation Acc: 0.5828871130943298\n"
          ]
        }
      ]
    },
    {
      "cell_type": "code",
      "source": [
        "Trainlosses= [loss.detach().numpy() for loss in train_loss_list]\n",
        "\n",
        "plt.plot(range(num_epochs), Trainlosses, 'r', label='Training Loss')\n",
        "plt.plot(range(num_epochs), vallosses, 'y', label='Validation Loss')\n",
        "plt.plot(range(num_epochs), train_accuracy_list, 'b', label='Training Accuracy')\n",
        "plt.plot(range(num_epochs), val_accuracy_list, 'g', label='Validation Accuracy')\n",
        "\n",
        "plt.title('Training and Validation Loss and Accuracy')\n",
        "plt.xlabel('Epochs')\n",
        "plt.ylabel('Loss/Accuracy')\n",
        "plt.legend()\n",
        "\n",
        "plt.show()"
      ],
      "metadata": {
        "id": "sW0ejVju90F-",
        "colab": {
          "base_uri": "https://localhost:8080/",
          "height": 295
        },
        "outputId": "70aa40b8-1d47-4022-e710-599f8643ca57"
      },
      "execution_count": null,
      "outputs": [
        {
          "output_type": "display_data",
          "data": {
            "text/plain": [
              "<Figure size 432x288 with 1 Axes>"
            ],
            "image/png": "[encoded data removed]"
          },
          "metadata": {
            "needs_background": "light"
          }
        }
      ]
    },
    {
      "cell_type": "markdown",
      "source": [
        "## Problem 2_3 - Adjust the number of convolution layers\n",
        "The model from problem one is used as a base model, and two convolutional layers were added. The Final training accuracy seen after 20 epcohs is 62% which also happens to be the validation accuracy. The training loss was 0.55 after 20 epochs as well. Compared to the baseline model from the textbook this model also performed worst in some ways. The flunctuation in the training loss is still present and the final accuracies are lower than that the textbook's. Compared to problem one, this model performed almost the same except that it was able to achieve a relatively smaller trainign loss with the same number of epochs. The Computational complexity for this model is 2.45 MMac and the Number of parameters is 1.51 M. As compard to problem 2_1, the complexity of the model has increased as both the paramters and the computational power have increased. The model also perfomred almost the same as problem 2_1. As compard to problem 2_1, the complexity of the model has increased as both the paramters and the computational power have increased drastically, which makes sense with the number of convolutional layers increasing. As compared to Problem 2_2, the model performed a little better with slightly higher accuracies and a slightly lower loss. The complxity is still drastically higher than any previous models."
      ],
      "metadata": {
        "id": "R1on-z1TyyA6"
      }
    },
    {
      "cell_type": "code",
      "source": [
        "#build model off of base model, replacing  average pooling \n",
        "#with max-pooling and softmax layer with ReLU\n",
        "model = LeNet()\n",
        "\n",
        "#replace avg pooling with max pooling\n",
        "model.net[2] = nn.MaxPool2d(kernel_size=2, stride=2)\n",
        "model.net[5] = nn.MaxPool2d(kernel_size=2, stride=2)\n",
        "\n",
        "#replace softmax with relu\n",
        "model.net[1] = nn.ReLU()\n",
        "model.net[4] = nn.ReLU()\n",
        "model.net[8] = nn.ReLU()\n",
        "model.net[10] = nn.ReLU()\n",
        "\n",
        "# create the two convolutional layers\n",
        "conv1 = nn.Conv2d(16, 32, kernel_size=3, padding=1)\n",
        "relu1 = nn.ReLU()\n",
        "conv2 = nn.Conv2d(32, 64, kernel_size=3, padding=1)\n",
        "relu2 = nn.ReLU()\n",
        "# insert the new layers after layer [5]\n",
        "model.net = nn.Sequential(*list(model.net.children())[:6] + [conv1, relu1, conv2, relu2] + list(model.net.children())[6:])\n",
        "\n",
        "#update model accordingly (dense layers inputs/outputs)\n",
        "model.net[11] = nn.Linear(1600, 800)\n",
        "model.net[13] = nn.Linear(800, 256)\n",
        "model.net[15] = nn.Linear(256, 10)\n",
        "\n",
        "print(model)\n",
        "\n",
        "macs, params = get_model_complexity_info(model, (1, 28, 28), as_strings=True, print_per_layer_stat=False, verbose=True)\n",
        "print('{:<30}  {:<8}'.format('Computational complexity: ', macs))\n",
        "print('{:<30}  {:<8}'.format('Number of parameters: ', params))"
      ],
      "metadata": {
        "id": "5VPbzcQIyx4I",
        "colab": {
          "base_uri": "https://localhost:8080/"
        },
        "outputId": "6283693e-e037-44bb-8d35-ba72004d2031"
      },
      "execution_count": null,
      "outputs": [
        {
          "output_type": "stream",
          "name": "stdout",
          "text": [
            "LeNet(\n",
            "  (net): Sequential(\n",
            "    (0): Conv2d(1, 6, kernel_size=(5, 5), stride=(1, 1), padding=(2, 2))\n",
            "    (1): ReLU()\n",
            "    (2): MaxPool2d(kernel_size=2, stride=2, padding=0, dilation=1, ceil_mode=False)\n",
            "    (3): Conv2d(6, 16, kernel_size=(5, 5), stride=(1, 1))\n",
            "    (4): ReLU()\n",
            "    (5): MaxPool2d(kernel_size=2, stride=2, padding=0, dilation=1, ceil_mode=False)\n",
            "    (6): Conv2d(16, 32, kernel_size=(3, 3), stride=(1, 1), padding=(1, 1))\n",
            "    (7): ReLU()\n",
            "    (8): Conv2d(32, 64, kernel_size=(3, 3), stride=(1, 1), padding=(1, 1))\n",
            "    (9): ReLU()\n",
            "    (10): Flatten(start_dim=1, end_dim=-1)\n",
            "    (11): Linear(in_features=1600, out_features=800, bias=True)\n",
            "    (12): ReLU()\n",
            "    (13): Linear(in_features=800, out_features=256, bias=True)\n",
            "    (14): ReLU()\n",
            "    (15): Linear(in_features=256, out_features=10, bias=True)\n",
            "  )\n",
            ")\n",
            "Warning: module Flatten is treated as a zero-op.\n",
            "Warning: module LeNet is treated as a zero-op.\n",
            "Computational complexity:       2.45 MMac\n",
            "Number of parameters:           1.51 M  \n"
          ]
        }
      ]
    },
    {
      "cell_type": "code",
      "source": [
        "#define params\n",
        "num_epochs = 20\n",
        "count = 0\n",
        "\n",
        "#loss\n",
        "criterion = nn.CrossEntropyLoss()\n",
        "optimizer = optim.Adam(model.parameters(), lr = 0.00001)\n",
        "# define the accuracy metric\n",
        "accuracy = torchmetrics.Accuracy(task='binary')\n",
        "\n",
        "# Lists for visualization of loss and accuracy \n",
        "train_loss_list = []\n",
        "train_accuracy_list = []\n",
        "val_loss_list = []\n",
        "val_accuracy_list = []"
      ],
      "metadata": {
        "id": "kznLUC5Z_Wy4"
      },
      "execution_count": null,
      "outputs": []
    },
    {
      "cell_type": "code",
      "source": [
        "#reset model\n",
        "# Reset the model's weights\n",
        "def reset_weights(m):\n",
        "    if isinstance(m, torch.nn.Linear):\n",
        "        m.reset_parameters()\n",
        "\n",
        "model.apply(reset_weights)"
      ],
      "metadata": {
        "id": "4LBsn65R_Za0",
        "colab": {
          "base_uri": "https://localhost:8080/"
        },
        "outputId": "18ecb8fc-4133-4332-a0fc-196b0ec6769f"
      },
      "execution_count": null,
      "outputs": [
        {
          "output_type": "execute_result",
          "data": {
            "text/plain": [
              "LeNet(\n",
              "  (net): Sequential(\n",
              "    (0): Conv2d(1, 6, kernel_size=(5, 5), stride=(1, 1), padding=(2, 2))\n",
              "    (1): ReLU()\n",
              "    (2): MaxPool2d(kernel_size=2, stride=2, padding=0, dilation=1, ceil_mode=False)\n",
              "    (3): Conv2d(6, 16, kernel_size=(5, 5), stride=(1, 1))\n",
              "    (4): ReLU()\n",
              "    (5): MaxPool2d(kernel_size=2, stride=2, padding=0, dilation=1, ceil_mode=False)\n",
              "    (6): Conv2d(16, 32, kernel_size=(3, 3), stride=(1, 1), padding=(1, 1))\n",
              "    (7): ReLU()\n",
              "    (8): Conv2d(32, 64, kernel_size=(3, 3), stride=(1, 1), padding=(1, 1))\n",
              "    (9): ReLU()\n",
              "    (10): Flatten(start_dim=1, end_dim=-1)\n",
              "    (11): Linear(in_features=1600, out_features=800, bias=True)\n",
              "    (12): ReLU()\n",
              "    (13): Linear(in_features=800, out_features=256, bias=True)\n",
              "    (14): ReLU()\n",
              "    (15): Linear(in_features=256, out_features=10, bias=True)\n",
              "  )\n",
              ")"
            ]
          },
          "metadata": {},
          "execution_count": 88
        }
      ]
    },
    {
      "cell_type": "code",
      "source": [
        "train(model, train_loader, val_loader, num_epochs, optimizer, criterion)"
      ],
      "metadata": {
        "id": "zCskKxBW_Z8g",
        "colab": {
          "base_uri": "https://localhost:8080/"
        },
        "outputId": "556257ea-d52d-468c-fce0-a57303269ef4"
      },
      "execution_count": null,
      "outputs": [
        {
          "output_type": "stream",
          "name": "stdout",
          "text": [
            "Epoch [1/20], Loss: 1.3388166427612305, Train Acc: 0.5912816524505615, ValidationLoss: 0.8658483624458313, Validation Acc: 0.593812882900238\n",
            "Epoch [2/20], Loss: 0.7628452777862549, Train Acc: 0.6072083115577698, ValidationLoss: 0.6659678816795349, Validation Acc: 0.6063228845596313\n",
            "Epoch [3/20], Loss: 0.8065341711044312, Train Acc: 0.6028516888618469, ValidationLoss: 0.6178520321846008, Validation Acc: 0.6028043031692505\n",
            "Epoch [4/20], Loss: 0.8368239402770996, Train Acc: 0.6016333103179932, ValidationLoss: 0.6094036102294922, Validation Acc: 0.6015042662620544\n",
            "Epoch [5/20], Loss: 0.9228541851043701, Train Acc: 0.6018266677856445, ValidationLoss: 0.6003102660179138, Validation Acc: 0.601445734500885\n",
            "Epoch [6/20], Loss: 0.6463724970817566, Train Acc: 0.6028800010681152, ValidationLoss: 0.5996378660202026, Validation Acc: 0.6029585599899292\n",
            "Epoch [7/20], Loss: 0.6583418250083923, Train Acc: 0.6041600108146667, ValidationLoss: 0.6091460585594177, Validation Acc: 0.6043242812156677\n",
            "Epoch [8/20], Loss: 0.6365413665771484, Train Acc: 0.6047216653823853, ValidationLoss: 0.572396993637085, Validation Acc: 0.604897141456604\n",
            "Epoch [9/20], Loss: 0.9813348650932312, Train Acc: 0.6051466464996338, ValidationLoss: 0.5412523150444031, Validation Acc: 0.6051099896430969\n",
            "Epoch [10/20], Loss: 0.5298336148262024, Train Acc: 0.6059183478355408, ValidationLoss: 0.5390249490737915, Validation Acc: 0.6056357026100159\n",
            "Epoch [11/20], Loss: 0.904608428478241, Train Acc: 0.6063833236694336, ValidationLoss: 0.5068756937980652, Validation Acc: 0.6066757440567017\n",
            "Epoch [12/20], Loss: 0.7276307344436646, Train Acc: 0.609624981880188, ValidationLoss: 0.5084165930747986, Validation Acc: 0.6100357174873352\n",
            "Epoch [13/20], Loss: 0.5219513177871704, Train Acc: 0.6118749976158142, ValidationLoss: 0.46920648217201233, Validation Acc: 0.6122999787330627\n",
            "Epoch [14/20], Loss: 0.3433009088039398, Train Acc: 0.6147983074188232, ValidationLoss: 0.46227678656578064, Validation Acc: 0.6139928698539734\n",
            "Epoch [15/20], Loss: 0.6559611558914185, Train Acc: 0.6159383058547974, ValidationLoss: 0.4580226540565491, Validation Acc: 0.6156114339828491\n",
            "Epoch [16/20], Loss: 0.6685808897018433, Train Acc: 0.6185299754142761, ValidationLoss: 0.4524560570716858, Validation Acc: 0.6184771656990051\n",
            "Epoch [17/20], Loss: 0.43493691086769104, Train Acc: 0.6189200282096863, ValidationLoss: 0.4558340013027191, Validation Acc: 0.6186285614967346\n",
            "Epoch [18/20], Loss: 0.4072614908218384, Train Acc: 0.6194483041763306, ValidationLoss: 0.4271620213985443, Validation Acc: 0.6192399859428406\n",
            "Epoch [19/20], Loss: 0.6334877014160156, Train Acc: 0.6190033555030823, ValidationLoss: 0.42242535948753357, Validation Acc: 0.6189213991165161\n",
            "Epoch [20/20], Loss: 0.5460502505302429, Train Acc: 0.6197233200073242, ValidationLoss: 0.4300565719604492, Validation Acc: 0.6191357374191284\n"
          ]
        }
      ]
    },
    {
      "cell_type": "code",
      "source": [
        "Trainlosses= [loss.detach().numpy() for loss in train_loss_list]\n",
        "\n",
        "plt.plot(range(num_epochs), Trainlosses, 'r', label='Training Loss')\n",
        "plt.plot(range(num_epochs), vallosses, 'y', label='Validation Loss')\n",
        "plt.plot(range(num_epochs), train_accuracy_list, 'b', label='Training Accuracy')\n",
        "plt.plot(range(num_epochs), val_accuracy_list, 'g', label='Validation Accuracy')\n",
        "\n",
        "plt.title('Training and Validation Loss and Accuracy')\n",
        "plt.xlabel('Epochs')\n",
        "plt.ylabel('Loss/Accuracy')\n",
        "plt.legend()\n",
        "\n",
        "plt.show()"
      ],
      "metadata": {
        "id": "Rw5bLcmp_cUe",
        "colab": {
          "base_uri": "https://localhost:8080/",
          "height": 295
        },
        "outputId": "53b0dfc8-ba43-45b4-e59f-a9d8067091d7"
      },
      "execution_count": null,
      "outputs": [
        {
          "output_type": "display_data",
          "data": {
            "text/plain": [
              "<Figure size 432x288 with 1 Axes>"
            ],
            "image/png": "[encoded data removed]"
          },
          "metadata": {
            "needs_background": "light"
          }
        }
      ]
    },
    {
      "cell_type": "markdown",
      "source": [
        "## Problem 2_4 - Adjust the number of fully connected layers\n",
        "The model from problem one is used as a base model, and two cfully connected layers were added a the end of the model's structure. The Final training accuracy seen after 20 epcohs is 96% which also happens to be the validation accuracy. The training loss was 0.15 after 20 epochs as well. Compared to the baseline model from the textbook this model also performed much better. The flunctuation in the training loss is still present but final accuracies are drastically higher. Compared to problem one, this model performed much better. The Computational complexity for this model is 592.85 kMac and the Number of parameters is 218.2 kM. As compard to all previous models, the complexity of the model is relitevley average, its not the lowest but the numbers are not crazy for for such high accuracy it is worth it. The model also perfomred much better than problem 2_1. As compared to Problem 2_2, the model performed much better as well."
      ],
      "metadata": {
        "id": "HeH00ciiy-yv"
      }
    },
    {
      "cell_type": "code",
      "source": [
        "#build model off of base model, replacing  average pooling \n",
        "#with max-pooling and softmax layer with ReLU\n",
        "model = LeNet()\n",
        "\n",
        "#replace avg pooling with max pooling\n",
        "model.net[2] = nn.MaxPool2d(kernel_size=2, stride=2)\n",
        "model.net[5] = nn.MaxPool2d(kernel_size=2, stride=2)\n",
        "\n",
        "#replace softmax with relu\n",
        "model.net[1] = nn.ReLU()\n",
        "model.net[4] = nn.ReLU()\n",
        "model.net[8] = nn.ReLU()\n",
        "model.net[10] = nn.ReLU()\n",
        "\n",
        "# create the two convolutional layers\n",
        "fc1 = nn.Linear(400, 300)\n",
        "relu1 = nn.ReLU()\n",
        "fc2 = nn.Linear(300, 200)\n",
        "relu2 = nn.ReLU()\n",
        "\n",
        "# insert the new layers after layer [5]\n",
        "model.net = nn.Sequential(*list(model.net.children())[:7] + [fc1, relu1, fc2, relu2] + list(model.net.children())[7:])\n",
        "\n",
        "#update model accordingly (dense layers inputs/outputs)\n",
        "model.net[11] = nn.Linear(200, 120)\n",
        "model.net[13] = nn.Linear(120, 84)\n",
        "model.net[15] = nn.Linear(84, 10)\n",
        "\n",
        "print(model)\n",
        "\n",
        "macs, params = get_model_complexity_info(model, (1, 28, 28), as_strings=True, print_per_layer_stat=False, verbose=True)\n",
        "print('{:<30}  {:<8}'.format('Computational complexity: ', macs))\n",
        "print('{:<30}  {:<8}'.format('Number of parameters: ', params))"
      ],
      "metadata": {
        "id": "7MatNCHOzBaB",
        "colab": {
          "base_uri": "https://localhost:8080/"
        },
        "outputId": "8aa5d024-ec69-46ea-e930-0c68e2275519"
      },
      "execution_count": null,
      "outputs": [
        {
          "output_type": "stream",
          "name": "stdout",
          "text": [
            "LeNet(\n",
            "  (net): Sequential(\n",
            "    (0): Conv2d(1, 6, kernel_size=(5, 5), stride=(1, 1), padding=(2, 2))\n",
            "    (1): ReLU()\n",
            "    (2): MaxPool2d(kernel_size=2, stride=2, padding=0, dilation=1, ceil_mode=False)\n",
            "    (3): Conv2d(6, 16, kernel_size=(5, 5), stride=(1, 1))\n",
            "    (4): ReLU()\n",
            "    (5): MaxPool2d(kernel_size=2, stride=2, padding=0, dilation=1, ceil_mode=False)\n",
            "    (6): Flatten(start_dim=1, end_dim=-1)\n",
            "    (7): Linear(in_features=400, out_features=300, bias=True)\n",
            "    (8): ReLU()\n",
            "    (9): Linear(in_features=300, out_features=200, bias=True)\n",
            "    (10): ReLU()\n",
            "    (11): Linear(in_features=200, out_features=120, bias=True)\n",
            "    (12): ReLU()\n",
            "    (13): Linear(in_features=120, out_features=84, bias=True)\n",
            "    (14): ReLU()\n",
            "    (15): Linear(in_features=84, out_features=10, bias=True)\n",
            "  )\n",
            ")\n",
            "Warning: module Flatten is treated as a zero-op.\n",
            "Warning: module LeNet is treated as a zero-op.\n",
            "Computational complexity:       592.85 KMac\n",
            "Number of parameters:           218.21 k\n"
          ]
        }
      ]
    },
    {
      "cell_type": "code",
      "source": [
        "#define params\n",
        "num_epochs = 20\n",
        "count = 0\n",
        "\n",
        "#loss\n",
        "criterion = nn.CrossEntropyLoss()\n",
        "optimizer = optim.Adam(model.parameters(), lr = 0.00001)\n",
        "# define the accuracy metric\n",
        "accuracy = torchmetrics.Accuracy(task='binary')\n",
        "\n",
        "# Lists for visualization of loss and accuracy \n",
        "train_loss_list = []\n",
        "train_accuracy_list = []\n",
        "val_loss_list = []\n",
        "val_accuracy_list = []"
      ],
      "metadata": {
        "id": "G1NliJEdCU1l"
      },
      "execution_count": null,
      "outputs": []
    },
    {
      "cell_type": "code",
      "source": [
        "#reset model\n",
        "# Reset the model's weights\n",
        "def reset_weights(m):\n",
        "    if isinstance(m, torch.nn.Linear):\n",
        "        m.reset_parameters()\n",
        "\n",
        "model.apply(reset_weights)"
      ],
      "metadata": {
        "id": "dxNY7HvSCcPE",
        "colab": {
          "base_uri": "https://localhost:8080/"
        },
        "outputId": "c96ac3c8-ebe2-4caf-df43-a0b3fd1ba50d"
      },
      "execution_count": null,
      "outputs": [
        {
          "output_type": "execute_result",
          "data": {
            "text/plain": [
              "LeNet(\n",
              "  (net): Sequential(\n",
              "    (0): Conv2d(1, 6, kernel_size=(5, 5), stride=(1, 1), padding=(2, 2))\n",
              "    (1): ReLU()\n",
              "    (2): MaxPool2d(kernel_size=2, stride=2, padding=0, dilation=1, ceil_mode=False)\n",
              "    (3): Conv2d(6, 16, kernel_size=(5, 5), stride=(1, 1))\n",
              "    (4): ReLU()\n",
              "    (5): MaxPool2d(kernel_size=2, stride=2, padding=0, dilation=1, ceil_mode=False)\n",
              "    (6): Flatten(start_dim=1, end_dim=-1)\n",
              "    (7): Linear(in_features=400, out_features=300, bias=True)\n",
              "    (8): ReLU()\n",
              "    (9): Linear(in_features=300, out_features=200, bias=True)\n",
              "    (10): ReLU()\n",
              "    (11): Linear(in_features=200, out_features=120, bias=True)\n",
              "    (12): ReLU()\n",
              "    (13): Linear(in_features=120, out_features=84, bias=True)\n",
              "    (14): ReLU()\n",
              "    (15): Linear(in_features=84, out_features=10, bias=True)\n",
              "  )\n",
              ")"
            ]
          },
          "metadata": {},
          "execution_count": 98
        }
      ]
    },
    {
      "cell_type": "code",
      "source": [
        "train(model, train_loader, val_loader, num_epochs, optimizer, criterion)"
      ],
      "metadata": {
        "id": "cjoA0bAhCfri",
        "colab": {
          "base_uri": "https://localhost:8080/"
        },
        "outputId": "40b0acc4-ba22-42ea-a8c5-b833aab400e6"
      },
      "execution_count": null,
      "outputs": [
        {
          "output_type": "stream",
          "name": "stdout",
          "text": [
            "Epoch [1/20], Loss: 0.8514065146446228, Train Acc: 0.7179533243179321, ValidationLoss: 0.3504648804664612, Validation Acc: 0.7258242964744568\n",
            "Epoch [2/20], Loss: 0.31407463550567627, Train Acc: 0.7955833077430725, ValidationLoss: 0.5249112844467163, Validation Acc: 0.8008000254631042\n",
            "Epoch [3/20], Loss: 0.10541705042123795, Train Acc: 0.8387816548347473, ValidationLoss: 0.1983019858598709, Validation Acc: 0.840157151222229\n",
            "Epoch [4/20], Loss: 0.12694475054740906, Train Acc: 0.8580399751663208, ValidationLoss: 0.31437647342681885, Validation Acc: 0.8613614439964294\n",
            "Epoch [5/20], Loss: 0.33392709493637085, Train Acc: 0.8767833113670349, ValidationLoss: 0.2970002293586731, Validation Acc: 0.8769599795341492\n",
            "Epoch [6/20], Loss: 0.24592521786689758, Train Acc: 0.8896833062171936, ValidationLoss: 0.2086239606142044, Validation Acc: 0.8892056941986084\n",
            "Epoch [7/20], Loss: 0.20238298177719116, Train Acc: 0.8952249884605408, ValidationLoss: 0.40312403440475464, Validation Acc: 0.8961743116378784\n",
            "Epoch [8/20], Loss: 0.32697954773902893, Train Acc: 0.9036449790000916, ValidationLoss: 0.3414388597011566, Validation Acc: 0.9050642848014832\n",
            "Epoch [9/20], Loss: 0.3091878294944763, Train Acc: 0.9151949882507324, ValidationLoss: 0.39550286531448364, Validation Acc: 0.9161985516548157\n",
            "Epoch [10/20], Loss: 0.2177998572587967, Train Acc: 0.9178599715232849, ValidationLoss: 0.3020637035369873, Validation Acc: 0.9179400205612183\n",
            "Epoch [11/20], Loss: 0.10180459916591644, Train Acc: 0.9251350164413452, ValidationLoss: 0.4777817130088806, Validation Acc: 0.9267600178718567\n",
            "Epoch [12/20], Loss: 0.15956439077854156, Train Acc: 0.9310833215713501, ValidationLoss: 0.14266817271709442, Validation Acc: 0.9308257102966309\n",
            "Epoch [13/20], Loss: 0.18377919495105743, Train Acc: 0.9368833303451538, ValidationLoss: 0.4098549485206604, Validation Acc: 0.9361828565597534\n",
            "Epoch [14/20], Loss: 0.10684984922409058, Train Acc: 0.9384016394615173, ValidationLoss: 0.13736315071582794, Validation Acc: 0.9371799826622009\n",
            "Epoch [15/20], Loss: 0.17248070240020752, Train Acc: 0.940738320350647, ValidationLoss: 0.30886489152908325, Validation Acc: 0.9405914545059204\n",
            "Epoch [16/20], Loss: 0.054884493350982666, Train Acc: 0.9471983313560486, ValidationLoss: 0.3486008644104004, Validation Acc: 0.9470428824424744\n",
            "Epoch [17/20], Loss: 0.15452197194099426, Train Acc: 0.9521499872207642, ValidationLoss: 0.0691399797797203, Validation Acc: 0.9512628316879272\n",
            "Epoch [18/20], Loss: 0.07125923782587051, Train Acc: 0.9523533582687378, ValidationLoss: 0.05832589417695999, Validation Acc: 0.9510242938995361\n",
            "Epoch [19/20], Loss: 0.04164433479309082, Train Acc: 0.9552366733551025, ValidationLoss: 0.14382454752922058, Validation Acc: 0.9539214372634888\n",
            "Epoch [20/20], Loss: 0.1579178124666214, Train Acc: 0.9562566876411438, ValidationLoss: 0.16762535274028778, Validation Acc: 0.9557414054870605\n"
          ]
        }
      ]
    },
    {
      "cell_type": "code",
      "source": [
        "Trainlosses= [loss.detach().numpy() for loss in train_loss_list]\n",
        "\n",
        "plt.plot(range(num_epochs), Trainlosses, 'r', label='Training Loss')\n",
        "plt.plot(range(num_epochs), vallosses, 'y', label='Validation Loss')\n",
        "plt.plot(range(num_epochs), train_accuracy_list, 'b', label='Training Accuracy')\n",
        "plt.plot(range(num_epochs), val_accuracy_list, 'g', label='Validation Accuracy')\n",
        "\n",
        "plt.title('Training and Validation Loss and Accuracy')\n",
        "plt.xlabel('Epochs')\n",
        "plt.ylabel('Loss/Accuracy')\n",
        "plt.legend()\n",
        "\n",
        "plt.show()"
      ],
      "metadata": {
        "id": "g4cUc3-ZCjij",
        "colab": {
          "base_uri": "https://localhost:8080/",
          "height": 295
        },
        "outputId": "f8bdead8-334f-4ecd-bed5-349bd88ffb89"
      },
      "execution_count": null,
      "outputs": [
        {
          "output_type": "display_data",
          "data": {
            "text/plain": [
              "<Figure size 432x288 with 1 Axes>"
            ],
            "image/png": "[encoded data removed]"
          },
          "metadata": {
            "needs_background": "light"
          }
        }
      ]
    },
    {
      "cell_type": "markdown",
      "source": [
        "## Problem 2_5 - Explore the learning rates\n",
        "The model from problem one is used as a base model, and various learning rated were tested. a learning rate of .001 achieved the best reulst with the Final training accuracy seen after 20 epcohs is 93% which also happens to be the validation accuracy. The training loss was 0.34 after 20 epochs as well. Compared to the baseline model from the textbook this model also performed much better. The flunctuation in the training loss is still present and can even be considered stronger. Compared to problem one, this model performed much better. The model also perfomred much better than problem 2_1 and 2_2."
      ],
      "metadata": {
        "id": "ZnwUnRzCzHtJ"
      }
    },
    {
      "cell_type": "code",
      "source": [
        "#build model off of base model, replacing  average pooling \n",
        "#with max-pooling and softmax layer with ReLU\n",
        "model = LeNet()\n",
        "\n",
        "#replace avg pooling with max pooling\n",
        "model.net[2] = nn.MaxPool2d(kernel_size=2, stride=2)\n",
        "model.net[5] = nn.MaxPool2d(kernel_size=2, stride=2)\n",
        "\n",
        "#replace softmax with relu\n",
        "model.net[1] = nn.ReLU()\n",
        "model.net[4] = nn.ReLU()\n",
        "model.net[8] = nn.ReLU()\n",
        "model.net[10] = nn.ReLU()\n",
        "\n",
        "print(model)"
      ],
      "metadata": {
        "id": "SKo88fP1zB-z",
        "colab": {
          "base_uri": "https://localhost:8080/"
        },
        "outputId": "8d11bfbc-0394-46a1-80ba-5db1980e3515"
      },
      "execution_count": null,
      "outputs": [
        {
          "output_type": "stream",
          "name": "stdout",
          "text": [
            "LeNet(\n",
            "  (net): Sequential(\n",
            "    (0): Conv2d(1, 6, kernel_size=(5, 5), stride=(1, 1), padding=(2, 2))\n",
            "    (1): ReLU()\n",
            "    (2): MaxPool2d(kernel_size=2, stride=2, padding=0, dilation=1, ceil_mode=False)\n",
            "    (3): Conv2d(6, 16, kernel_size=(5, 5), stride=(1, 1))\n",
            "    (4): ReLU()\n",
            "    (5): MaxPool2d(kernel_size=2, stride=2, padding=0, dilation=1, ceil_mode=False)\n",
            "    (6): Flatten(start_dim=1, end_dim=-1)\n",
            "    (7): Linear(in_features=400, out_features=120, bias=True)\n",
            "    (8): ReLU()\n",
            "    (9): Linear(in_features=120, out_features=84, bias=True)\n",
            "    (10): ReLU()\n",
            "    (11): Linear(in_features=84, out_features=10, bias=True)\n",
            "  )\n",
            ")\n"
          ]
        }
      ]
    },
    {
      "cell_type": "markdown",
      "source": [
        "Test1: lr = 1e-4"
      ],
      "metadata": {
        "id": "ZJCMqt92fUdi"
      }
    },
    {
      "cell_type": "code",
      "source": [
        "#define params\n",
        "num_epochs = 20\n",
        "count = 0\n",
        "\n",
        "#loss\n",
        "criterion = nn.CrossEntropyLoss()\n",
        "optimizer = optim.Adam(model.parameters(), lr = 1e-4)\n",
        "# define the accuracy metric\n",
        "accuracy = torchmetrics.Accuracy(task='binary')\n",
        "\n",
        "# Lists for visualization of loss and accuracy \n",
        "train_loss_list = []\n",
        "train_accuracy_list = []\n",
        "val_loss_list = []\n",
        "val_accuracy_list = []"
      ],
      "metadata": {
        "id": "JLOk83MSCmns"
      },
      "execution_count": null,
      "outputs": []
    },
    {
      "cell_type": "code",
      "source": [
        "#reset model\n",
        "# Reset the model's weights\n",
        "def reset_weights(m):\n",
        "    if isinstance(m, torch.nn.Linear):\n",
        "        m.reset_parameters()\n",
        "\n",
        "model.apply(reset_weights)"
      ],
      "metadata": {
        "id": "b0qhU9QQCnKm",
        "colab": {
          "base_uri": "https://localhost:8080/"
        },
        "outputId": "45eb5dad-6354-4fa2-e125-88a4b7a8f2c4"
      },
      "execution_count": null,
      "outputs": [
        {
          "output_type": "execute_result",
          "data": {
            "text/plain": [
              "LeNet(\n",
              "  (net): Sequential(\n",
              "    (0): Conv2d(1, 6, kernel_size=(5, 5), stride=(1, 1), padding=(2, 2))\n",
              "    (1): ReLU()\n",
              "    (2): MaxPool2d(kernel_size=2, stride=2, padding=0, dilation=1, ceil_mode=False)\n",
              "    (3): Conv2d(6, 16, kernel_size=(5, 5), stride=(1, 1))\n",
              "    (4): ReLU()\n",
              "    (5): MaxPool2d(kernel_size=2, stride=2, padding=0, dilation=1, ceil_mode=False)\n",
              "    (6): Flatten(start_dim=1, end_dim=-1)\n",
              "    (7): Linear(in_features=400, out_features=120, bias=True)\n",
              "    (8): ReLU()\n",
              "    (9): Linear(in_features=120, out_features=84, bias=True)\n",
              "    (10): ReLU()\n",
              "    (11): Linear(in_features=84, out_features=10, bias=True)\n",
              "  )\n",
              ")"
            ]
          },
          "metadata": {},
          "execution_count": 104
        }
      ]
    },
    {
      "cell_type": "code",
      "source": [
        "train(model, train_loader, val_loader, num_epochs, optimizer, criterion)"
      ],
      "metadata": {
        "id": "hoCmGvIYCpnP",
        "colab": {
          "base_uri": "https://localhost:8080/"
        },
        "outputId": "0171473c-02ce-4937-a8c2-04564fdf6d95"
      },
      "execution_count": null,
      "outputs": [
        {
          "output_type": "stream",
          "name": "stdout",
          "text": [
            "Epoch [1/20], Loss: 0.8661123514175415, Train Acc: 0.617651641368866, ValidationLoss: 0.4292999505996704, Validation Acc: 0.6204185485839844\n",
            "Epoch [2/20], Loss: 0.730864942073822, Train Acc: 0.6431716680526733, ValidationLoss: 0.3655313551425934, Validation Acc: 0.644681453704834\n",
            "Epoch [3/20], Loss: 0.45305731892585754, Train Acc: 0.6600533127784729, ValidationLoss: 0.37754255533218384, Validation Acc: 0.659850001335144\n",
            "Epoch [4/20], Loss: 0.48092299699783325, Train Acc: 0.6808266639709473, ValidationLoss: 0.3361852169036865, Validation Acc: 0.6815528273582458\n",
            "Epoch [5/20], Loss: 0.5946682095527649, Train Acc: 0.6941050291061401, ValidationLoss: 0.3639536201953888, Validation Acc: 0.6936557292938232\n",
            "Epoch [6/20], Loss: 0.6283444762229919, Train Acc: 0.7044433355331421, ValidationLoss: 0.31553953886032104, Validation Acc: 0.7041771411895752\n",
            "Epoch [7/20], Loss: 0.36523330211639404, Train Acc: 0.7100849747657776, ValidationLoss: 0.2828063666820526, Validation Acc: 0.710528552532196\n",
            "Epoch [8/20], Loss: 0.5721193552017212, Train Acc: 0.7171966433525085, ValidationLoss: 0.248881995677948, Validation Acc: 0.7178357243537903\n",
            "Epoch [9/20], Loss: 0.6019262075424194, Train Acc: 0.7230200171470642, ValidationLoss: 0.21059732139110565, Validation Acc: 0.7231428623199463\n",
            "Epoch [10/20], Loss: 0.2712615430355072, Train Acc: 0.728421688079834, ValidationLoss: 0.2052551656961441, Validation Acc: 0.7285156846046448\n",
            "Epoch [11/20], Loss: 0.4885656237602234, Train Acc: 0.7343000173568726, ValidationLoss: 0.167129784822464, Validation Acc: 0.7338371276855469\n",
            "Epoch [12/20], Loss: 0.35397979617118835, Train Acc: 0.7377783060073853, ValidationLoss: 0.15792882442474365, Validation Acc: 0.7386114001274109\n",
            "Epoch [13/20], Loss: 0.4199669063091278, Train Acc: 0.7399550080299377, ValidationLoss: 0.1814926266670227, Validation Acc: 0.7397599816322327\n",
            "Epoch [14/20], Loss: 0.2598929703235626, Train Acc: 0.7446666955947876, ValidationLoss: 0.1352604180574417, Validation Acc: 0.7437456846237183\n",
            "Epoch [15/20], Loss: 0.4005574584007263, Train Acc: 0.7480700016021729, ValidationLoss: 0.13707877695560455, Validation Acc: 0.7501271367073059\n",
            "Epoch [16/20], Loss: 0.6092118620872498, Train Acc: 0.7525516748428345, ValidationLoss: 0.12742052972316742, Validation Acc: 0.7507071495056152\n",
            "Epoch [17/20], Loss: 0.3413195013999939, Train Acc: 0.7567816376686096, ValidationLoss: 0.10492130368947983, Validation Acc: 0.7564414143562317\n",
            "Epoch [18/20], Loss: 0.2560686767101288, Train Acc: 0.7599233388900757, ValidationLoss: 0.10676761716604233, Validation Acc: 0.7610185742378235\n",
            "Epoch [19/20], Loss: 0.17059016227722168, Train Acc: 0.7638433575630188, ValidationLoss: 0.12100648880004883, Validation Acc: 0.7643942832946777\n",
            "Epoch [20/20], Loss: 0.2828506529331207, Train Acc: 0.7672916650772095, ValidationLoss: 0.09082983434200287, Validation Acc: 0.7662285566329956\n"
          ]
        }
      ]
    },
    {
      "cell_type": "code",
      "source": [
        "Trainlosses= [loss.detach().numpy() for loss in train_loss_list]\n",
        "\n",
        "plt.plot(range(num_epochs), Trainlosses, 'r', label='Training Loss')\n",
        "plt.plot(range(num_epochs), vallosses, 'y', label='Validation Loss')\n",
        "plt.plot(range(num_epochs), train_accuracy_list, 'b', label='Training Accuracy')\n",
        "plt.plot(range(num_epochs), val_accuracy_list, 'g', label='Validation Accuracy')\n",
        "\n",
        "plt.title('Training and Validation Loss and Accuracy')\n",
        "plt.xlabel('Epochs')\n",
        "plt.ylabel('Loss/Accuracy')\n",
        "plt.legend()\n",
        "\n",
        "plt.show()"
      ],
      "metadata": {
        "id": "GcXYaeZMCrvL",
        "colab": {
          "base_uri": "https://localhost:8080/",
          "height": 295
        },
        "outputId": "26d6e284-0f5f-4e25-f49d-ef66d83dc597"
      },
      "execution_count": null,
      "outputs": [
        {
          "output_type": "display_data",
          "data": {
            "text/plain": [
              "<Figure size 432x288 with 1 Axes>"
            ],
            "image/png": "[encoded data removed]"
          },
          "metadata": {
            "needs_background": "light"
          }
        }
      ]
    },
    {
      "cell_type": "markdown",
      "source": [
        "Test2: lr = 1e-3"
      ],
      "metadata": {
        "id": "eUrqxOx6gMXG"
      }
    },
    {
      "cell_type": "code",
      "source": [
        "#define params\n",
        "num_epochs = 20\n",
        "count = 0\n",
        "\n",
        "#loss\n",
        "criterion = nn.CrossEntropyLoss()\n",
        "optimizer = optim.Adam(model.parameters(), lr = 1e-3)\n",
        "# define the accuracy metric\n",
        "accuracy = torchmetrics.Accuracy(task='binary')\n",
        "\n",
        "# Lists for visualization of loss and accuracy \n",
        "train_loss_list = []\n",
        "train_accuracy_list = []\n",
        "val_loss_list = []\n",
        "val_accuracy_list = []"
      ],
      "metadata": {
        "id": "Q0dBNDXDiL8f"
      },
      "execution_count": null,
      "outputs": []
    },
    {
      "cell_type": "code",
      "source": [
        "#reset model\n",
        "# Reset the model's weights\n",
        "def reset_weights(m):\n",
        "    if isinstance(m, torch.nn.Linear):\n",
        "        m.reset_parameters()\n",
        "\n",
        "model.apply(reset_weights)"
      ],
      "metadata": {
        "colab": {
          "base_uri": "https://localhost:8080/"
        },
        "outputId": "960182e7-a3fe-4b96-e0b4-8cc0243922b8",
        "id": "mm0DqWnLiRth"
      },
      "execution_count": null,
      "outputs": [
        {
          "output_type": "execute_result",
          "data": {
            "text/plain": [
              "LeNet(\n",
              "  (net): Sequential(\n",
              "    (0): Conv2d(1, 6, kernel_size=(5, 5), stride=(1, 1), padding=(2, 2))\n",
              "    (1): ReLU()\n",
              "    (2): MaxPool2d(kernel_size=2, stride=2, padding=0, dilation=1, ceil_mode=False)\n",
              "    (3): Conv2d(6, 16, kernel_size=(5, 5), stride=(1, 1))\n",
              "    (4): ReLU()\n",
              "    (5): MaxPool2d(kernel_size=2, stride=2, padding=0, dilation=1, ceil_mode=False)\n",
              "    (6): Flatten(start_dim=1, end_dim=-1)\n",
              "    (7): Linear(in_features=400, out_features=120, bias=True)\n",
              "    (8): ReLU()\n",
              "    (9): Linear(in_features=120, out_features=84, bias=True)\n",
              "    (10): ReLU()\n",
              "    (11): Linear(in_features=84, out_features=10, bias=True)\n",
              "  )\n",
              ")"
            ]
          },
          "metadata": {},
          "execution_count": 108
        }
      ]
    },
    {
      "cell_type": "code",
      "source": [
        "train(model, train_loader, val_loader, num_epochs, optimizer, criterion)"
      ],
      "metadata": {
        "colab": {
          "base_uri": "https://localhost:8080/"
        },
        "outputId": "c88dcb22-d059-4331-a495-f9ae1cc08768",
        "id": "Wi1PMpCuiUhr"
      },
      "execution_count": null,
      "outputs": [
        {
          "output_type": "stream",
          "name": "stdout",
          "text": [
            "Epoch [1/20], Loss: 0.14159177243709564, Train Acc: 0.712565004825592, ValidationLoss: 0.2886272966861725, Validation Acc: 0.7210842967033386\n",
            "Epoch [2/20], Loss: 0.3326442241668701, Train Acc: 0.8065733313560486, ValidationLoss: 0.1496623158454895, Validation Acc: 0.8078057169914246\n",
            "Epoch [3/20], Loss: 0.20513086020946503, Train Acc: 0.8316649794578552, ValidationLoss: 0.36160746216773987, Validation Acc: 0.8342499732971191\n",
            "Epoch [4/20], Loss: 0.137930765748024, Train Acc: 0.8423966765403748, ValidationLoss: 0.14605695009231567, Validation Acc: 0.8432071208953857\n",
            "Epoch [5/20], Loss: 0.20441117882728577, Train Acc: 0.8544466495513916, ValidationLoss: 0.2093639075756073, Validation Acc: 0.8520357012748718\n",
            "Epoch [6/20], Loss: 0.21647925674915314, Train Acc: 0.8644683361053467, ValidationLoss: 0.20816780626773834, Validation Acc: 0.8644371628761292\n",
            "Epoch [7/20], Loss: 0.10542398691177368, Train Acc: 0.8741066455841064, ValidationLoss: 0.28228822350502014, Validation Acc: 0.8733371496200562\n",
            "Epoch [8/20], Loss: 0.18635959923267365, Train Acc: 0.8818449974060059, ValidationLoss: 0.4198703169822693, Validation Acc: 0.8822771310806274\n",
            "Epoch [9/20], Loss: 0.20644508302211761, Train Acc: 0.888408362865448, ValidationLoss: 0.2863549292087555, Validation Acc: 0.8888000249862671\n",
            "Epoch [10/20], Loss: 0.24563299119472504, Train Acc: 0.8936766386032104, ValidationLoss: 0.4491729140281677, Validation Acc: 0.892009973526001\n",
            "Epoch [11/20], Loss: 0.07310546189546585, Train Acc: 0.8964516520500183, ValidationLoss: 0.342120498418808, Validation Acc: 0.8967857360839844\n",
            "Epoch [12/20], Loss: 0.23945216834545135, Train Acc: 0.902233362197876, ValidationLoss: 0.4239821434020996, Validation Acc: 0.901419997215271\n",
            "Epoch [13/20], Loss: 0.1302531361579895, Train Acc: 0.9069883227348328, ValidationLoss: 0.4700533151626587, Validation Acc: 0.9065300226211548\n",
            "Epoch [14/20], Loss: 0.18210601806640625, Train Acc: 0.9105833172798157, ValidationLoss: 0.4355202913284302, Validation Acc: 0.9104899764060974\n",
            "Epoch [15/20], Loss: 0.12839461863040924, Train Acc: 0.913836658000946, ValidationLoss: 0.8242495656013489, Validation Acc: 0.914110004901886\n",
            "Epoch [16/20], Loss: 0.15557657182216644, Train Acc: 0.9177200198173523, ValidationLoss: 0.86449134349823, Validation Acc: 0.9173685908317566\n",
            "Epoch [17/20], Loss: 0.10202556848526001, Train Acc: 0.9173499941825867, ValidationLoss: 0.9054104089736938, Validation Acc: 0.9173085689544678\n",
            "Epoch [18/20], Loss: 0.260431706905365, Train Acc: 0.9229216575622559, ValidationLoss: 0.6278232336044312, Validation Acc: 0.9219300150871277\n",
            "Epoch [19/20], Loss: 0.13398781418800354, Train Acc: 0.9270616769790649, ValidationLoss: 1.3848896026611328, Validation Acc: 0.9266357421875\n",
            "Epoch [20/20], Loss: 0.3388690650463104, Train Acc: 0.9291750192642212, ValidationLoss: 1.576762318611145, Validation Acc: 0.9284914135932922\n"
          ]
        }
      ]
    },
    {
      "cell_type": "code",
      "source": [
        "Trainlosses= [loss.detach().numpy() for loss in train_loss_list]\n",
        "\n",
        "plt.plot(range(num_epochs), Trainlosses, 'r', label='Training Loss')\n",
        "plt.plot(range(num_epochs), vallosses, 'y', label='Validation Loss')\n",
        "plt.plot(range(num_epochs), train_accuracy_list, 'b', label='Training Accuracy')\n",
        "plt.plot(range(num_epochs), val_accuracy_list, 'g', label='Validation Accuracy')\n",
        "\n",
        "plt.title('Training and Validation Loss and Accuracy')\n",
        "plt.xlabel('Epochs')\n",
        "plt.ylabel('Loss/Accuracy')\n",
        "plt.legend()\n",
        "\n",
        "plt.show()"
      ],
      "metadata": {
        "colab": {
          "base_uri": "https://localhost:8080/",
          "height": 295
        },
        "outputId": "3cce217f-64a7-4abe-fa3b-bc313cd96a61",
        "id": "BgtqeAdciXgm"
      },
      "execution_count": null,
      "outputs": [
        {
          "output_type": "display_data",
          "data": {
            "text/plain": [
              "<Figure size 432x288 with 1 Axes>"
            ],
            "image/png": "[encoded data removed]"
          },
          "metadata": {
            "needs_background": "light"
          }
        }
      ]
    },
    {
      "cell_type": "markdown",
      "source": [
        "Test2: lr = 1e-4"
      ],
      "metadata": {
        "id": "5H63U6xJkoG2"
      }
    },
    {
      "cell_type": "code",
      "source": [
        "#define params\n",
        "num_epochs = 20\n",
        "count = 0\n",
        "\n",
        "#loss\n",
        "criterion = nn.CrossEntropyLoss()\n",
        "optimizer = optim.Adam(model.parameters(), lr = 1e-4)\n",
        "# define the accuracy metric\n",
        "accuracy = torchmetrics.Accuracy(task='binary')\n",
        "\n",
        "# Lists for visualization of loss and accuracy \n",
        "train_loss_list = []\n",
        "train_accuracy_list = []\n",
        "val_loss_list = []\n",
        "val_accuracy_list = []"
      ],
      "metadata": {
        "id": "BC0Pgm9DktjR"
      },
      "execution_count": null,
      "outputs": []
    },
    {
      "cell_type": "code",
      "source": [
        "#reset model\n",
        "# Reset the model's weights\n",
        "def reset_weights(m):\n",
        "    if isinstance(m, torch.nn.Linear):\n",
        "        m.reset_parameters()\n",
        "\n",
        "model.apply(reset_weights)"
      ],
      "metadata": {
        "colab": {
          "base_uri": "https://localhost:8080/"
        },
        "outputId": "56263154-bfbe-4f96-c57d-bb788602691a",
        "id": "RVfNriPQkwxe"
      },
      "execution_count": null,
      "outputs": [
        {
          "output_type": "execute_result",
          "data": {
            "text/plain": [
              "LeNet(\n",
              "  (net): Sequential(\n",
              "    (0): Conv2d(1, 6, kernel_size=(5, 5), stride=(1, 1), padding=(2, 2))\n",
              "    (1): ReLU()\n",
              "    (2): MaxPool2d(kernel_size=2, stride=2, padding=0, dilation=1, ceil_mode=False)\n",
              "    (3): Conv2d(6, 16, kernel_size=(5, 5), stride=(1, 1))\n",
              "    (4): ReLU()\n",
              "    (5): MaxPool2d(kernel_size=2, stride=2, padding=0, dilation=1, ceil_mode=False)\n",
              "    (6): Flatten(start_dim=1, end_dim=-1)\n",
              "    (7): Linear(in_features=400, out_features=120, bias=True)\n",
              "    (8): ReLU()\n",
              "    (9): Linear(in_features=120, out_features=84, bias=True)\n",
              "    (10): ReLU()\n",
              "    (11): Linear(in_features=84, out_features=10, bias=True)\n",
              "  )\n",
              ")"
            ]
          },
          "metadata": {},
          "execution_count": 112
        }
      ]
    },
    {
      "cell_type": "code",
      "source": [
        "train(model, train_loader, val_loader, num_epochs, optimizer, criterion)"
      ],
      "metadata": {
        "colab": {
          "base_uri": "https://localhost:8080/"
        },
        "outputId": "62b0b524-5f31-4b4b-a522-6a54232cd394",
        "id": "y91QCnE2k0BV"
      },
      "execution_count": null,
      "outputs": [
        {
          "output_type": "stream",
          "name": "stdout",
          "text": [
            "Epoch [1/20], Loss: 0.2727639675140381, Train Acc: 0.725380003452301, ValidationLoss: 0.27173537015914917, Validation Acc: 0.7302471399307251\n",
            "Epoch [2/20], Loss: 0.5125077962875366, Train Acc: 0.766136646270752, ValidationLoss: 0.1919025331735611, Validation Acc: 0.76606285572052\n",
            "Epoch [3/20], Loss: 0.3489581048488617, Train Acc: 0.7748783230781555, ValidationLoss: 0.21255742013454437, Validation Acc: 0.7745614051818848\n",
            "Epoch [4/20], Loss: 0.33608412742614746, Train Acc: 0.7811149954795837, ValidationLoss: 0.18819449841976166, Validation Acc: 0.7813614010810852\n",
            "Epoch [5/20], Loss: 0.16385051608085632, Train Acc: 0.7858200073242188, ValidationLoss: 0.16378438472747803, Validation Acc: 0.7864114046096802\n",
            "Epoch [6/20], Loss: 0.24569740891456604, Train Acc: 0.7930616736412048, ValidationLoss: 0.23320183157920837, Validation Acc: 0.7927971482276917\n",
            "Epoch [7/20], Loss: 0.33827751874923706, Train Acc: 0.7974433302879333, ValidationLoss: 0.2201114296913147, Validation Acc: 0.7975000143051147\n",
            "Epoch [8/20], Loss: 0.36224564909935, Train Acc: 0.8032916784286499, ValidationLoss: 0.22427619993686676, Validation Acc: 0.8028457164764404\n",
            "Epoch [9/20], Loss: 0.25012871623039246, Train Acc: 0.80499666929245, ValidationLoss: 0.26309341192245483, Validation Acc: 0.8055700063705444\n",
            "Epoch [10/20], Loss: 0.07992130517959595, Train Acc: 0.8100299835205078, ValidationLoss: 0.2513498365879059, Validation Acc: 0.8105771541595459\n",
            "Epoch [11/20], Loss: 0.2480037659406662, Train Acc: 0.8172749876976013, ValidationLoss: 0.28608086705207825, Validation Acc: 0.8167871236801147\n",
            "Epoch [12/20], Loss: 0.21260757744312286, Train Acc: 0.8184016942977905, ValidationLoss: 0.3175642192363739, Validation Acc: 0.8192571401596069\n",
            "Epoch [13/20], Loss: 0.143839031457901, Train Acc: 0.8207499980926514, ValidationLoss: 0.2790440022945404, Validation Acc: 0.8213685750961304\n",
            "Epoch [14/20], Loss: 0.2528981864452362, Train Acc: 0.8257949948310852, ValidationLoss: 0.28981921076774597, Validation Acc: 0.8261314034461975\n",
            "Epoch [15/20], Loss: 0.20688298344612122, Train Acc: 0.8282399773597717, ValidationLoss: 0.32140830159187317, Validation Acc: 0.8281099796295166\n",
            "Epoch [16/20], Loss: 0.227028027176857, Train Acc: 0.8308883309364319, ValidationLoss: 0.31912046670913696, Validation Acc: 0.8303385972976685\n",
            "Epoch [17/20], Loss: 0.1581433266401291, Train Acc: 0.8322883248329163, ValidationLoss: 0.3379911482334137, Validation Acc: 0.8325814008712769\n",
            "Epoch [18/20], Loss: 0.38439446687698364, Train Acc: 0.8340700268745422, ValidationLoss: 0.3369169235229492, Validation Acc: 0.8346685767173767\n",
            "Epoch [19/20], Loss: 0.37025073170661926, Train Acc: 0.8372399806976318, ValidationLoss: 0.38641852140426636, Validation Acc: 0.8378357291221619\n",
            "Epoch [20/20], Loss: 0.3231256306171417, Train Acc: 0.8403433561325073, ValidationLoss: 0.33063805103302, Validation Acc: 0.8401442766189575\n"
          ]
        }
      ]
    },
    {
      "cell_type": "code",
      "source": [
        "Trainlosses= [loss.detach().numpy() for loss in train_loss_list]\n",
        "\n",
        "plt.plot(range(num_epochs), Trainlosses, 'r', label='Training Loss')\n",
        "plt.plot(range(num_epochs), vallosses, 'y', label='Validation Loss')\n",
        "plt.plot(range(num_epochs), train_accuracy_list, 'b', label='Training Accuracy')\n",
        "plt.plot(range(num_epochs), val_accuracy_list, 'g', label='Validation Accuracy')\n",
        "\n",
        "plt.title('Training and Validation Loss and Accuracy')\n",
        "plt.xlabel('Epochs')\n",
        "plt.ylabel('Loss/Accuracy')\n",
        "plt.legend()\n",
        "\n",
        "plt.show()"
      ],
      "metadata": {
        "colab": {
          "base_uri": "https://localhost:8080/",
          "height": 295
        },
        "outputId": "1d4b21df-4f3d-413e-b0b2-d375bcb6ea75",
        "id": "jsGgLNhPk3Td"
      },
      "execution_count": null,
      "outputs": [
        {
          "output_type": "display_data",
          "data": {
            "text/plain": [
              "<Figure size 432x288 with 1 Axes>"
            ],
            "image/png": "[encoded data removed]"
          },
          "metadata": {
            "needs_background": "light"
          }
        }
      ]
    },
    {
      "cell_type": "markdown",
      "source": [
        "# Problem 3 - Add dropout layers to best model from problem two \n",
        "The model from problem 2_4 (with added dense layers) had produced the best results with the highest accuracies and lowest losses. Thus this model is chosen as the base for this problem and dropout layers are added. Teh dropout layers did not imporve the results, but rather made the accuracies a little lower (83%) and the loss stayed pretty low, 0.15. Although dropout layers would normally help in geenralization, they perhaps did not have an affect here due to the unnecassry added complecity for a simple dataset such as the Fashion Mnist. "
      ],
      "metadata": {
        "id": "7WL1i8GardUO"
      }
    },
    {
      "cell_type": "code",
      "source": [
        "#build model off of base model, replacing  average pooling \n",
        "#with max-pooling and softmax layer with ReLU\n",
        "model = LeNet()\n",
        "\n",
        "#replace avg pooling with max pooling\n",
        "model.net[2] = nn.MaxPool2d(kernel_size=2, stride=2)\n",
        "model.net[5] = nn.MaxPool2d(kernel_size=2, stride=2)\n",
        "\n",
        "#replace softmax with relu\n",
        "model.net[1] = nn.ReLU()\n",
        "model.net[4] = nn.ReLU()\n",
        "model.net[8] = nn.ReLU()\n",
        "model.net[10] = nn.ReLU()\n",
        "\n",
        "# create the two convolutional layers\n",
        "fc1 = nn.Linear(400, 300)\n",
        "relu1 = nn.ReLU()\n",
        "drop1 = nn.Dropout(0.3)\n",
        "fc2 = nn.Linear(300, 200)\n",
        "relu2 = nn.ReLU()\n",
        "drop2 = nn.Dropout(0.3)\n",
        "\n",
        "# insert the new layers after layer [5]\n",
        "model.net = nn.Sequential(*list(model.net.children())[:7] + [fc1, relu1, drop1, fc2, relu2, drop2] + list(model.net.children())[7:])\n",
        "\n",
        "#update model accordingly (dense layers inputs/outputs)\n",
        "model.net[13] = nn.Linear(200, 120)\n",
        "model.net[15] = nn.Linear(120, 84)\n",
        "model.net[17] = nn.Linear(84, 10)\n",
        "\n",
        "print(model)\n",
        "\n",
        "macs, params = get_model_complexity_info(model, (1, 28, 28), as_strings=True, print_per_layer_stat=False, verbose=True)\n",
        "print('{:<30}  {:<8}'.format('Computational complexity: ', macs))\n",
        "print('{:<30}  {:<8}'.format('Number of parameters: ', params))"
      ],
      "metadata": {
        "colab": {
          "base_uri": "https://localhost:8080/"
        },
        "id": "47vaf7CMrfTn",
        "outputId": "c7069083-a6cd-4985-cdea-10189f39b345"
      },
      "execution_count": null,
      "outputs": [
        {
          "output_type": "stream",
          "name": "stdout",
          "text": [
            "LeNet(\n",
            "  (net): Sequential(\n",
            "    (0): Conv2d(1, 6, kernel_size=(5, 5), stride=(1, 1), padding=(2, 2))\n",
            "    (1): ReLU()\n",
            "    (2): MaxPool2d(kernel_size=2, stride=2, padding=0, dilation=1, ceil_mode=False)\n",
            "    (3): Conv2d(6, 16, kernel_size=(5, 5), stride=(1, 1))\n",
            "    (4): ReLU()\n",
            "    (5): MaxPool2d(kernel_size=2, stride=2, padding=0, dilation=1, ceil_mode=False)\n",
            "    (6): Flatten(start_dim=1, end_dim=-1)\n",
            "    (7): Linear(in_features=400, out_features=300, bias=True)\n",
            "    (8): ReLU()\n",
            "    (9): Dropout(p=0.3, inplace=False)\n",
            "    (10): Linear(in_features=300, out_features=200, bias=True)\n",
            "    (11): ReLU()\n",
            "    (12): Dropout(p=0.3, inplace=False)\n",
            "    (13): Linear(in_features=200, out_features=120, bias=True)\n",
            "    (14): ReLU()\n",
            "    (15): Linear(in_features=120, out_features=84, bias=True)\n",
            "    (16): ReLU()\n",
            "    (17): Linear(in_features=84, out_features=10, bias=True)\n",
            "  )\n",
            ")\n",
            "Warning: module Flatten is treated as a zero-op.\n",
            "Warning: module Dropout is treated as a zero-op.\n",
            "Warning: module LeNet is treated as a zero-op.\n",
            "Computational complexity:       592.85 KMac\n",
            "Number of parameters:           218.21 k\n"
          ]
        }
      ]
    },
    {
      "cell_type": "code",
      "source": [
        "#define params\n",
        "num_epochs = 20\n",
        "count = 0\n",
        "\n",
        "#loss\n",
        "criterion = nn.CrossEntropyLoss()\n",
        "optimizer = optim.Adam(model.parameters(), lr = 0.0001)\n",
        "# define the accuracy metric\n",
        "accuracy = torchmetrics.Accuracy(task='binary')\n",
        "\n",
        "# Lists for visualization of loss and accuracy \n",
        "train_loss_list = []\n",
        "train_accuracy_list = []\n",
        "val_loss_list = []\n",
        "val_accuracy_list = []"
      ],
      "metadata": {
        "id": "JAZdahzqvkqV"
      },
      "execution_count": null,
      "outputs": []
    },
    {
      "cell_type": "code",
      "source": [
        "#reset model\n",
        "# Reset the model's weights\n",
        "def reset_weights(m):\n",
        "    if isinstance(m, torch.nn.Linear):\n",
        "        m.reset_parameters()\n",
        "\n",
        "model.apply(reset_weights)"
      ],
      "metadata": {
        "colab": {
          "base_uri": "https://localhost:8080/"
        },
        "id": "d9CiC0qmvyan",
        "outputId": "a518e388-6f3f-4230-c6fa-beca0aba9e51"
      },
      "execution_count": null,
      "outputs": [
        {
          "output_type": "execute_result",
          "data": {
            "text/plain": [
              "LeNet(\n",
              "  (net): Sequential(\n",
              "    (0): Conv2d(1, 6, kernel_size=(5, 5), stride=(1, 1), padding=(2, 2))\n",
              "    (1): ReLU()\n",
              "    (2): MaxPool2d(kernel_size=2, stride=2, padding=0, dilation=1, ceil_mode=False)\n",
              "    (3): Conv2d(6, 16, kernel_size=(5, 5), stride=(1, 1))\n",
              "    (4): ReLU()\n",
              "    (5): MaxPool2d(kernel_size=2, stride=2, padding=0, dilation=1, ceil_mode=False)\n",
              "    (6): Flatten(start_dim=1, end_dim=-1)\n",
              "    (7): Linear(in_features=400, out_features=300, bias=True)\n",
              "    (8): ReLU()\n",
              "    (9): Dropout(p=0.3, inplace=False)\n",
              "    (10): Linear(in_features=300, out_features=200, bias=True)\n",
              "    (11): ReLU()\n",
              "    (12): Dropout(p=0.3, inplace=False)\n",
              "    (13): Linear(in_features=200, out_features=120, bias=True)\n",
              "    (14): ReLU()\n",
              "    (15): Linear(in_features=120, out_features=84, bias=True)\n",
              "    (16): ReLU()\n",
              "    (17): Linear(in_features=84, out_features=10, bias=True)\n",
              "  )\n",
              ")"
            ]
          },
          "metadata": {},
          "execution_count": 121
        }
      ]
    },
    {
      "cell_type": "code",
      "source": [
        "train(model, train_loader, val_loader, num_epochs, optimizer, criterion)"
      ],
      "metadata": {
        "colab": {
          "base_uri": "https://localhost:8080/"
        },
        "id": "pBxFp2zIvy4E",
        "outputId": "0c28aa4b-acbe-47ed-ae24-8821f3dcab88"
      },
      "execution_count": null,
      "outputs": [
        {
          "output_type": "stream",
          "name": "stdout",
          "text": [
            "Epoch [1/20], Loss: 0.7356351017951965, Train Acc: 0.5832633376121521, ValidationLoss: 0.6378448605537415, Validation Acc: 0.5872942805290222\n",
            "Epoch [2/20], Loss: 0.8630450367927551, Train Acc: 0.6284616589546204, ValidationLoss: 0.46897873282432556, Validation Acc: 0.6310657262802124\n",
            "Epoch [3/20], Loss: 0.5202993750572205, Train Acc: 0.6626183390617371, ValidationLoss: 0.3532811105251312, Validation Acc: 0.6649057269096375\n",
            "Epoch [4/20], Loss: 0.6295534372329712, Train Acc: 0.6875249743461609, ValidationLoss: 0.3674776554107666, Validation Acc: 0.6885671615600586\n",
            "Epoch [5/20], Loss: 0.7069615125656128, Train Acc: 0.7143700122833252, ValidationLoss: 0.28237345814704895, Validation Acc: 0.7160571217536926\n",
            "Epoch [6/20], Loss: 0.3049742877483368, Train Acc: 0.7320500016212463, ValidationLoss: 0.28079456090927124, Validation Acc: 0.7334514260292053\n",
            "Epoch [7/20], Loss: 0.5238062143325806, Train Acc: 0.7510283589363098, ValidationLoss: 0.267362117767334, Validation Acc: 0.7523114085197449\n",
            "Epoch [8/20], Loss: 0.4497414827346802, Train Acc: 0.7634733319282532, ValidationLoss: 0.19890518486499786, Validation Acc: 0.764397144317627\n",
            "Epoch [9/20], Loss: 0.4448069632053375, Train Acc: 0.7747983336448669, ValidationLoss: 0.21423134207725525, Validation Acc: 0.776904284954071\n",
            "Epoch [10/20], Loss: 0.3732893168926239, Train Acc: 0.783466637134552, ValidationLoss: 0.20432640612125397, Validation Acc: 0.7867728471755981\n",
            "Epoch [11/20], Loss: 0.6087688207626343, Train Acc: 0.7928833365440369, ValidationLoss: 0.174056738615036, Validation Acc: 0.7925371527671814\n",
            "Epoch [12/20], Loss: 0.5015591382980347, Train Acc: 0.8013233542442322, ValidationLoss: 0.1936579793691635, Validation Acc: 0.8018771409988403\n",
            "Epoch [13/20], Loss: 0.3601504862308502, Train Acc: 0.8068466782569885, ValidationLoss: 0.17951112985610962, Validation Acc: 0.8082042932510376\n",
            "Epoch [14/20], Loss: 0.37561944127082825, Train Acc: 0.8136500120162964, ValidationLoss: 0.2014600783586502, Validation Acc: 0.8143143057823181\n",
            "Epoch [15/20], Loss: 0.21360988914966583, Train Acc: 0.8163449764251709, ValidationLoss: 0.20602992177009583, Validation Acc: 0.8176543116569519\n",
            "Epoch [16/20], Loss: 0.3141610324382782, Train Acc: 0.8215299844741821, ValidationLoss: 0.18538235127925873, Validation Acc: 0.8225157260894775\n",
            "Epoch [17/20], Loss: 0.23856182396411896, Train Acc: 0.8259333372116089, ValidationLoss: 0.16989697515964508, Validation Acc: 0.8253200054168701\n",
            "Epoch [18/20], Loss: 0.32363617420196533, Train Acc: 0.8277766704559326, ValidationLoss: 0.21387553215026855, Validation Acc: 0.8280328512191772\n",
            "Epoch [19/20], Loss: 0.378802627325058, Train Acc: 0.830685019493103, ValidationLoss: 0.20926377177238464, Validation Acc: 0.8312285542488098\n",
            "Epoch [20/20], Loss: 0.1646464616060257, Train Acc: 0.8341050148010254, ValidationLoss: 0.2018674612045288, Validation Acc: 0.8341285586357117\n"
          ]
        }
      ]
    },
    {
      "cell_type": "code",
      "source": [
        "Trainlosses= [loss.detach().numpy() for loss in train_loss_list]\n",
        "\n",
        "plt.plot(range(num_epochs), Trainlosses, 'r', label='Training Loss')\n",
        "plt.plot(range(num_epochs), vallosses, 'y', label='Validation Loss')\n",
        "plt.plot(range(num_epochs), train_accuracy_list, 'b', label='Training Accuracy')\n",
        "plt.plot(range(num_epochs), val_accuracy_list, 'g', label='Validation Accuracy')\n",
        "\n",
        "plt.title('Training and Validation Loss and Accuracy')\n",
        "plt.xlabel('Epochs')\n",
        "plt.ylabel('Loss/Accuracy')\n",
        "plt.legend()\n",
        "\n",
        "plt.show()"
      ],
      "metadata": {
        "id": "xMca-Nvdv2Od"
      },
      "execution_count": null,
      "outputs": []
    },
    {
      "cell_type": "markdown",
      "source": [
        "# Problem 4 - Simplified AlexNet\n"
      ],
      "metadata": {
        "id": "HjX4cZAOxIyI"
      }
    },
    {
      "cell_type": "code",
      "source": [
        "#define Lenet class that has the textbooks \n",
        "class AlexNet(nn.Module):\n",
        "  def __init__(self, num_classes=10):\n",
        "    super().__init__()\n",
        "    self.net = nn.Sequential(\n",
        "        nn.Conv2d(1, 96, kernel_size=11, stride=4, padding=1),\n",
        "        nn.ReLU(), \n",
        "        nn.MaxPool2d(kernel_size=3, stride=2),\n",
        "        nn.Conv2d(96, 256, kernel_size=5, padding=2), \n",
        "        nn.ReLU(),\n",
        "        nn.MaxPool2d(kernel_size=3, stride=2),\n",
        "        nn.Conv2d(256, 384, kernel_size=3, padding=1), \n",
        "        nn.ReLU(),\n",
        "        nn.Conv2d(384, 384, kernel_size=3, padding=1), \n",
        "        nn.ReLU(),\n",
        "        nn.Conv2d(384, 256, kernel_size=3, padding=1), \n",
        "        nn.ReLU(),\n",
        "        nn.MaxPool2d(kernel_size=3, stride=2), \n",
        "        nn.Flatten(),\n",
        "        nn.Linear(256*6*6, 4096), \n",
        "        nn.ReLU(), \n",
        "        nn.Dropout(p=0.5),\n",
        "        nn.Linear(4096, 4096), \n",
        "        nn.ReLU(),\n",
        "        nn.Dropout(p=0.5),\n",
        "        nn.Linear(4096, num_classes))\n",
        "    \n",
        "  def forward(self, x):\n",
        "      x = self.net(x)\n",
        "      return x"
      ],
      "metadata": {
        "id": "AAVK6cuRxK0N"
      },
      "execution_count": null,
      "outputs": []
    },
    {
      "cell_type": "code",
      "source": [
        "baseAlex = AlexNet()\n",
        "print(baseAlex)"
      ],
      "metadata": {
        "colab": {
          "base_uri": "https://localhost:8080/"
        },
        "id": "7xdLZuCryqhW",
        "outputId": "ee01dbfc-a1a3-4d6d-ae5a-db1de54e045c"
      },
      "execution_count": null,
      "outputs": [
        {
          "output_type": "stream",
          "name": "stdout",
          "text": [
            "AlexNet(\n",
            "  (net): Sequential(\n",
            "    (0): Conv2d(1, 96, kernel_size=(11, 11), stride=(4, 4), padding=(1, 1))\n",
            "    (1): ReLU()\n",
            "    (2): MaxPool2d(kernel_size=3, stride=2, padding=0, dilation=1, ceil_mode=False)\n",
            "    (3): Conv2d(96, 256, kernel_size=(5, 5), stride=(1, 1), padding=(2, 2))\n",
            "    (4): ReLU()\n",
            "    (5): MaxPool2d(kernel_size=3, stride=2, padding=0, dilation=1, ceil_mode=False)\n",
            "    (6): Conv2d(256, 384, kernel_size=(3, 3), stride=(1, 1), padding=(1, 1))\n",
            "    (7): ReLU()\n",
            "    (8): Conv2d(384, 384, kernel_size=(3, 3), stride=(1, 1), padding=(1, 1))\n",
            "    (9): ReLU()\n",
            "    (10): Conv2d(384, 256, kernel_size=(3, 3), stride=(1, 1), padding=(1, 1))\n",
            "    (11): ReLU()\n",
            "    (12): MaxPool2d(kernel_size=3, stride=2, padding=0, dilation=1, ceil_mode=False)\n",
            "    (13): Flatten(start_dim=1, end_dim=-1)\n",
            "    (14): Linear(in_features=9216, out_features=4096, bias=True)\n",
            "    (15): ReLU()\n",
            "    (16): Dropout(p=0.5, inplace=False)\n",
            "    (17): Linear(in_features=4096, out_features=4096, bias=True)\n",
            "    (18): ReLU()\n",
            "    (19): Dropout(p=0.5, inplace=False)\n",
            "    (20): Linear(in_features=4096, out_features=10, bias=True)\n",
            "  )\n",
            ")\n"
          ]
        }
      ]
    },
    {
      "cell_type": "code",
      "source": [
        "#reduce complexity to accomadate for low resolution\n",
        "\n",
        "baseAlex.net[0] = nn.Conv2d(1, 6, kernel_size=5, padding=2)\n",
        "baseAlex.net[3] = nn.Conv2d(6, 16, kernel_size=5, padding=2)\n",
        "baseAlex.net[6] = nn.Conv2d(16, 32, kernel_size=2, padding=2)\n",
        "del baseAlex.net[8]\n",
        "del baseAlex.net[8]\n",
        "del baseAlex.net[8]\n",
        "del baseAlex.net[8]\n",
        "del baseAlex.net[8]\n",
        "del baseAlex.net[5]\n",
        "del baseAlex.net[5]\n",
        "del baseAlex.net[5]\n",
        "baseAlex.net[2] = nn.MaxPool2d(kernel_size=2, stride=1, padding=1)\n",
        "baseAlex.net[6] = nn.Linear(in_features=13456, out_features=600)\n",
        "baseAlex.net[9] = nn.Linear(in_features=600, out_features=200)\n",
        "baseAlex.net[12] = nn.Linear(in_features=200, out_features=10)\n",
        "\n",
        "print(baseAlex)\n",
        "\n",
        "macs, params = get_model_complexity_info(baseAlex, (1, 28, 28), as_strings=True, print_per_layer_stat=False, verbose=True)\n",
        "print('{:<30}  {:<8}'.format('Computational complexity: ', macs))\n",
        "print('{:<30}  {:<8}'.format('Number of parameters: ', params))"
      ],
      "metadata": {
        "colab": {
          "base_uri": "https://localhost:8080/"
        },
        "id": "IF8uFWGWyyKK",
        "outputId": "5aaad74f-f64b-4b58-ac32-09dbe9a732ec"
      },
      "execution_count": null,
      "outputs": [
        {
          "output_type": "stream",
          "name": "stdout",
          "text": [
            "AlexNet(\n",
            "  (net): Sequential(\n",
            "    (0): Conv2d(1, 6, kernel_size=(5, 5), stride=(1, 1), padding=(2, 2))\n",
            "    (1): ReLU()\n",
            "    (2): MaxPool2d(kernel_size=2, stride=1, padding=1, dilation=1, ceil_mode=False)\n",
            "    (3): Conv2d(6, 16, kernel_size=(5, 5), stride=(1, 1), padding=(2, 2))\n",
            "    (4): ReLU()\n",
            "    (5): Flatten(start_dim=1, end_dim=-1)\n",
            "    (6): Linear(in_features=13456, out_features=600, bias=True)\n",
            "    (7): ReLU()\n",
            "    (8): Dropout(p=0.5, inplace=False)\n",
            "    (9): Linear(in_features=600, out_features=200, bias=True)\n",
            "    (10): ReLU()\n",
            "    (11): Dropout(p=0.5, inplace=False)\n",
            "    (12): Linear(in_features=200, out_features=10, bias=True)\n",
            "  )\n",
            ")\n",
            "Warning: module Flatten is treated as a zero-op.\n",
            "Warning: module Dropout is treated as a zero-op.\n",
            "Warning: module AlexNet is treated as a zero-op.\n",
            "Computational complexity:       10.37 MMac\n",
            "Number of parameters:           8.2 M   \n"
          ]
        }
      ]
    },
    {
      "cell_type": "code",
      "source": [
        "#define params\n",
        "num_epochs = 20\n",
        "count = 0\n",
        "\n",
        "#loss\n",
        "criterion = nn.CrossEntropyLoss()\n",
        "optimizer = optim.Adam(baseAlex.parameters(), lr = 0.0001)\n",
        "# define the accuracy metric\n",
        "accuracy = torchmetrics.Accuracy(task='binary')\n",
        "\n",
        "# Lists for visualization of loss and accuracy \n",
        "train_loss_list = []\n",
        "train_accuracy_list = []\n",
        "val_loss_list = []\n",
        "val_accuracy_list = []"
      ],
      "metadata": {
        "id": "PMxpaWUR6R7X"
      },
      "execution_count": null,
      "outputs": []
    },
    {
      "cell_type": "code",
      "source": [
        "#reset model\n",
        "# Reset the model's weights\n",
        "def reset_weights(m):\n",
        "    if isinstance(m, torch.nn.Linear):\n",
        "        m.reset_parameters()\n",
        "\n",
        "baseAlex.apply(reset_weights)"
      ],
      "metadata": {
        "colab": {
          "base_uri": "https://localhost:8080/"
        },
        "id": "_6hg8d_H7K6P",
        "outputId": "7a1665b0-348b-47b8-93f7-b01288a5090f"
      },
      "execution_count": null,
      "outputs": [
        {
          "output_type": "execute_result",
          "data": {
            "text/plain": [
              "AlexNet(\n",
              "  (net): Sequential(\n",
              "    (0): Conv2d(1, 6, kernel_size=(5, 5), stride=(1, 1), padding=(2, 2))\n",
              "    (1): ReLU()\n",
              "    (2): MaxPool2d(kernel_size=2, stride=1, padding=1, dilation=1, ceil_mode=False)\n",
              "    (3): Conv2d(6, 16, kernel_size=(5, 5), stride=(1, 1), padding=(2, 2))\n",
              "    (4): ReLU()\n",
              "    (5): Flatten(start_dim=1, end_dim=-1)\n",
              "    (6): Linear(in_features=13456, out_features=600, bias=True)\n",
              "    (7): ReLU()\n",
              "    (8): Dropout(p=0.5, inplace=False)\n",
              "    (9): Linear(in_features=600, out_features=200, bias=True)\n",
              "    (10): ReLU()\n",
              "    (11): Dropout(p=0.5, inplace=False)\n",
              "    (12): Linear(in_features=200, out_features=10, bias=True)\n",
              "  )\n",
              ")"
            ]
          },
          "metadata": {},
          "execution_count": 10
        }
      ]
    },
    {
      "cell_type": "code",
      "source": [
        "train(baseAlex, train_loader, val_loader, num_epochs, optimizer, criterion)"
      ],
      "metadata": {
        "colab": {
          "base_uri": "https://localhost:8080/"
        },
        "id": "oy0hh1RSwQ1b",
        "outputId": "d501b6f0-f48d-42f8-e6bd-c68c9fc91552"
      },
      "execution_count": null,
      "outputs": [
        {
          "output_type": "stream",
          "name": "stdout",
          "text": [
            "Epoch [1/20], Loss: 0.6205823421478271, Train Acc: 0.7173033356666565, ValidationLoss: 0.2984977960586548, Validation Acc: 0.7247999906539917\n",
            "Epoch [2/20], Loss: 0.3969118893146515, Train Acc: 0.7680749893188477, ValidationLoss: 0.21457447111606598, Validation Acc: 0.7707328796386719\n",
            "Epoch [3/20], Loss: 0.2711108326911926, Train Acc: 0.7852150201797485, ValidationLoss: 0.23393963277339935, Validation Acc: 0.7866614460945129\n",
            "Epoch [4/20], Loss: 0.44960716366767883, Train Acc: 0.7976300120353699, ValidationLoss: 0.20935815572738647, Validation Acc: 0.8000699877738953\n",
            "Epoch [5/20], Loss: 0.1599985808134079, Train Acc: 0.8084783554077148, ValidationLoss: 0.19799132645130157, Validation Acc: 0.8103271722793579\n",
            "Epoch [6/20], Loss: 0.21421396732330322, Train Acc: 0.8174816370010376, ValidationLoss: 0.17756344377994537, Validation Acc: 0.8192899823188782\n",
            "Epoch [7/20], Loss: 0.2590206563472748, Train Acc: 0.8231750130653381, ValidationLoss: 0.17686839401721954, Validation Acc: 0.8247042894363403\n",
            "Epoch [8/20], Loss: 0.33515357971191406, Train Acc: 0.8279650211334229, ValidationLoss: 0.16764459013938904, Validation Acc: 0.8296386003494263\n",
            "Epoch [9/20], Loss: 0.2607162594795227, Train Acc: 0.8333383202552795, ValidationLoss: 0.13547903299331665, Validation Acc: 0.8352057337760925\n",
            "Epoch [10/20], Loss: 0.32732775807380676, Train Acc: 0.840233325958252, ValidationLoss: 0.12955762445926666, Validation Acc: 0.8410671353340149\n",
            "Epoch [11/20], Loss: 0.4009670615196228, Train Acc: 0.8449649810791016, ValidationLoss: 0.11379629373550415, Validation Acc: 0.846802830696106\n",
            "Epoch [12/20], Loss: 0.17961642146110535, Train Acc: 0.8489800095558167, ValidationLoss: 0.1362481713294983, Validation Acc: 0.8497099876403809\n",
            "Epoch [13/20], Loss: 0.46075439453125, Train Acc: 0.8532283306121826, ValidationLoss: 0.12832818925380707, Validation Acc: 0.8549771308898926\n",
            "Epoch [14/20], Loss: 0.07501491159200668, Train Acc: 0.8593816757202148, ValidationLoss: 0.09779410064220428, Validation Acc: 0.8613342642784119\n",
            "Epoch [15/20], Loss: 0.6335686445236206, Train Acc: 0.8623033165931702, ValidationLoss: 0.09659270197153091, Validation Acc: 0.8634600043296814\n",
            "Epoch [16/20], Loss: 0.07383117824792862, Train Acc: 0.8660550117492676, ValidationLoss: 0.11794959753751755, Validation Acc: 0.8679943084716797\n",
            "Epoch [17/20], Loss: 0.270967572927475, Train Acc: 0.8695433139801025, ValidationLoss: 0.11094783991575241, Validation Acc: 0.8709657192230225\n",
            "Epoch [18/20], Loss: 0.11914049088954926, Train Acc: 0.8735633492469788, ValidationLoss: 0.1306740790605545, Validation Acc: 0.8749471306800842\n",
            "Epoch [19/20], Loss: 0.24289919435977936, Train Acc: 0.8777083158493042, ValidationLoss: 0.11917690187692642, Validation Acc: 0.8794514536857605\n",
            "Epoch [20/20], Loss: 0.2787100076675415, Train Acc: 0.8830766677856445, ValidationLoss: 0.07687333226203918, Validation Acc: 0.8849743008613586\n"
          ]
        }
      ]
    },
    {
      "cell_type": "code",
      "source": [
        "Trainlosses= [loss.detach().numpy() for loss in train_loss_list]\n",
        "\n",
        "plt.plot(range(num_epochs), Trainlosses, 'r', label='Training Loss')\n",
        "plt.plot(range(num_epochs), train_accuracy_list, 'b', label='Training Accuracy')\n",
        "plt.plot(range(num_epochs), val_accuracy_list, 'g', label='Validation Accuracy')\n",
        "\n",
        "plt.title('Training and Validation Loss and Accuracy')\n",
        "plt.xlabel('Epochs')\n",
        "plt.ylabel('Loss/Accuracy')\n",
        "plt.legend()\n",
        "\n",
        "plt.show()"
      ],
      "metadata": {
        "colab": {
          "base_uri": "https://localhost:8080/",
          "height": 295
        },
        "id": "o774zh2RxBht",
        "outputId": "89554f34-3530-434d-ecab-c841eaee48a0"
      },
      "execution_count": null,
      "outputs": [
        {
          "output_type": "display_data",
          "data": {
            "text/plain": [
              "<Figure size 432x288 with 1 Axes>"
            ],
            "image/png": "[encoded data removed]"
          },
          "metadata": {
            "needs_background": "light"
          }
        }
      ]
    },
    {
      "cell_type": "code",
      "source": [],
      "metadata": {
        "id": "JIQXpqxfLN2n"
      },
      "execution_count": null,
      "outputs": []
    }
  ]
}